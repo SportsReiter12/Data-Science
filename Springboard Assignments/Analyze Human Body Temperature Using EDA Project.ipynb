{
 "cells": [
  {
   "cell_type": "markdown",
   "metadata": {},
   "source": [
    "# What is the True Normal Human Body Temperature? \n",
    "\n",
    "#### Background\n",
    "\n",
    "The mean normal body temperature was held to be 37$^{\\circ}$C or 98.6$^{\\circ}$F for more than 120 years since it was first conceptualized and reported by Carl Wunderlich in a famous 1868 book. But, is this value statistically correct?"
   ]
  },
  {
   "cell_type": "markdown",
   "metadata": {},
   "source": [
    "<h3>Exercises</h3>\n",
    "\n",
    "<p>In this exercise, you will analyze a dataset of human body temperatures and employ the concepts of hypothesis testing, confidence intervals, and statistical significance.</p>\n",
    "\n",
    "<p>Answer the following questions <b>in this notebook below and submit to your Github account</b>.</p> \n",
    "\n",
    "<ol>\n",
    "<li>  Is the distribution of body temperatures normal? \n",
    "    <ul>\n",
    "    <li> Although this is not a requirement for the Central Limit Theorem to hold (read the introduction on Wikipedia's page about the CLT carefully: https://en.wikipedia.org/wiki/Central_limit_theorem), it gives us some peace of mind that the population may also be normally distributed if we assume that this sample is representative of the population.\n",
    "    <li> Think about the way you're going to check for the normality of the distribution. Graphical methods are usually used first, but there are also other ways: https://en.wikipedia.org/wiki/Normality_test\n",
    "    </ul>\n",
    "<li>  Is the sample size large? Are the observations independent?\n",
    "    <ul>\n",
    "    <li> Remember that this is a condition for the Central Limit Theorem, and hence the statistical tests we are using, to apply.\n",
    "    </ul>\n",
    "<li>  Is the true population mean really 98.6 degrees F?\n",
    "    <ul>\n",
    "    <li> First, try a bootstrap hypothesis test.\n",
    "    <li> Now, let's try frequentist statistical testing. Would you use a one-sample or two-sample test? Why?\n",
    "    <li> In this situation, is it appropriate to use the $t$ or $z$ statistic? \n",
    "    <li> Now try using the other test. How is the result be different? Why?\n",
    "    </ul>\n",
    "<li>  Draw a small sample of size 10 from the data and repeat both frequentist tests. \n",
    "    <ul>\n",
    "    <li> Which one is the correct one to use? \n",
    "    <li> What do you notice? What does this tell you about the difference in application of the $t$ and $z$ statistic?\n",
    "    </ul>\n",
    "<li>  At what temperature should we consider someone's temperature to be \"abnormal\"?\n",
    "    <ul>\n",
    "    <li> As in the previous example, try calculating everything using the boostrap approach, as well as the frequentist approach.\n",
    "    <li> Start by computing the margin of error and confidence interval. When calculating the confidence interval, keep in mind that you should use the appropriate formula for one draw, and not N draws.\n",
    "    </ul>\n",
    "<li>  Is there a significant difference between males and females in normal temperature?\n",
    "    <ul>\n",
    "    <li> What testing approach did you use and why?\n",
    "    <li> Write a story with your conclusion in the context of the original problem.\n",
    "    </ul>\n",
    "</ol>\n",
    "\n",
    "You can include written notes in notebook cells using Markdown: \n",
    "   - In the control panel at the top, choose Cell > Cell Type > Markdown\n",
    "   - Markdown syntax: http://nestacms.com/docs/creating-content/markdown-cheat-sheet\n",
    "\n",
    "#### Resources\n",
    "\n",
    "+ Information and data sources: http://www.amstat.org/publications/jse/datasets/normtemp.txt, http://www.amstat.org/publications/jse/jse_data_archive.htm\n",
    "+ Markdown syntax: http://nestacms.com/docs/creating-content/markdown-cheat-sheet\n",
    "\n",
    "****"
   ]
  },
  {
   "cell_type": "code",
   "execution_count": 1,
   "metadata": {
    "collapsed": false
   },
   "outputs": [
    {
     "data": {
      "text/html": [
       "<div>\n",
       "<table border=\"1\" class=\"dataframe\">\n",
       "  <thead>\n",
       "    <tr style=\"text-align: right;\">\n",
       "      <th></th>\n",
       "      <th>temperature</th>\n",
       "      <th>gender</th>\n",
       "      <th>heart_rate</th>\n",
       "    </tr>\n",
       "  </thead>\n",
       "  <tbody>\n",
       "    <tr>\n",
       "      <th>0</th>\n",
       "      <td>99.3</td>\n",
       "      <td>F</td>\n",
       "      <td>68</td>\n",
       "    </tr>\n",
       "    <tr>\n",
       "      <th>1</th>\n",
       "      <td>98.4</td>\n",
       "      <td>F</td>\n",
       "      <td>81</td>\n",
       "    </tr>\n",
       "    <tr>\n",
       "      <th>2</th>\n",
       "      <td>97.8</td>\n",
       "      <td>M</td>\n",
       "      <td>73</td>\n",
       "    </tr>\n",
       "    <tr>\n",
       "      <th>3</th>\n",
       "      <td>99.2</td>\n",
       "      <td>F</td>\n",
       "      <td>66</td>\n",
       "    </tr>\n",
       "    <tr>\n",
       "      <th>4</th>\n",
       "      <td>98.0</td>\n",
       "      <td>F</td>\n",
       "      <td>73</td>\n",
       "    </tr>\n",
       "  </tbody>\n",
       "</table>\n",
       "</div>"
      ],
      "text/plain": [
       "   temperature gender  heart_rate\n",
       "0         99.3      F          68\n",
       "1         98.4      F          81\n",
       "2         97.8      M          73\n",
       "3         99.2      F          66\n",
       "4         98.0      F          73"
      ]
     },
     "execution_count": 1,
     "metadata": {},
     "output_type": "execute_result"
    }
   ],
   "source": [
    "# Importing necessary packages\n",
    "%matplotlib inline\n",
    "import pandas as pd\n",
    "import numpy as np\n",
    "import matplotlib.pyplot as plt\n",
    "\n",
    "# Making the CSV a DataFrame\n",
    "df = pd.read_csv('/Users/dwreiter/Desktop/Work/Springboard/EDA_human_temperature/data/human_body_temperature.csv')\n",
    "df.head()"
   ]
  },
  {
   "cell_type": "code",
   "execution_count": 2,
   "metadata": {
    "collapsed": false
   },
   "outputs": [
    {
     "name": "stdout",
     "output_type": "stream",
     "text": [
      "Length = 130, Mean = 98.2492307692, Standard Deviation = 0.730357778905, Median = 98.3\n"
     ]
    }
   ],
   "source": [
    "# Find out Length, Mean, Standard Deviation and Median of Data\n",
    "n = len(df['temperature'])\n",
    "m = np.mean(df['temperature'])\n",
    "sd = np.std(df['temperature'])\n",
    "med = np.median(df['temperature'])\n",
    "\n",
    "print('Length = ' + str(n) + ', Mean = ' + str(m) + ', Standard Deviation = ' + str(sd) + ', Median = ' + str(med))"
   ]
  },
  {
   "cell_type": "code",
   "execution_count": 3,
   "metadata": {
    "collapsed": false
   },
   "outputs": [
    {
     "data": {
      "image/png": "[encoded data removed]",
      "text/plain": [
       "<matplotlib.figure.Figure at 0x1060d0f10>"
      ]
     },
     "metadata": {},
     "output_type": "display_data"
    }
   ],
   "source": [
    "# Question One:\n",
    "\n",
    "# Checking Normalcy of Data with Histogram\n",
    "_ = plt.hist(df['temperature'], bins=9)\n",
    "_ = plt.xlabel('Temperature (Degrees Fahrenheit)')\n",
    "_ = plt.ylabel('Number of People')\n",
    "plt.show()"
   ]
  },
  {
   "cell_type": "markdown",
   "metadata": {},
   "source": [
    "The data appears fairly normal with the right side tailing off."
   ]
  },
  {
   "cell_type": "markdown",
   "metadata": {},
   "source": [
    "Question Two:\n",
    "\n",
    "In order to meet the normalcy condition for inference on a mean, the sample size must be >= 30. In this case, n == 130 which is >= 30 so the sample size is large enough. Also, the observations appear to be independent as the values do not impact each other. Plus, the population size is certainly less than 10% of the total population of humans."
   ]
  },
  {
   "cell_type": "markdown",
   "metadata": {},
   "source": [
    "Question Three:\n",
    "\n",
    "It would be best to use a One-Sample Test because we are comparing data to a single number.\n",
    "\n",
    "Ho = m == 98.6 Degrees Fahrenheit,\n",
    "Alpha = 0.05"
   ]
  },
  {
   "cell_type": "code",
   "execution_count": 4,
   "metadata": {
    "collapsed": false
   },
   "outputs": [
    {
     "name": "stdout",
     "output_type": "stream",
     "text": [
      "Standard Error: 0.0640566146952\n"
     ]
    }
   ],
   "source": [
    "# Setting the Null Hypothesis value to the expected mean population\n",
    "mu = 98.6\n",
    "\n",
    "# Finding the Standard Error\n",
    "sem = sd / np.sqrt(n)\n",
    "print('Standard Error: ' + str(sem))"
   ]
  },
  {
   "cell_type": "code",
   "execution_count": 5,
   "metadata": {
    "collapsed": false
   },
   "outputs": [
    {
     "name": "stdout",
     "output_type": "stream",
     "text": [
      "p-value: 0\n"
     ]
    }
   ],
   "source": [
    "# Function that creates resampled array\n",
    "def bootstrap_replicate_1d(data, func):\n",
    "    return func(np.random.choice(data, size=len(data)))\n",
    "\n",
    "# Function to draw Bootstrap Replicates\n",
    "def draw_bs_reps(data, func, size=1):\n",
    "    \"\"\"Draw bootstrap replicates.\"\"\"\n",
    "\n",
    "    # Initialize array of replicates: bs_replicates\n",
    "    bs_replicates = np.empty(size)\n",
    "\n",
    "    # Generate replicates\n",
    "    for i in range(size):\n",
    "        bs_replicates[i] = bootstrap_replicate_1d(data, func)\n",
    "\n",
    "    return bs_replicates\n",
    "\n",
    "# Generate random samples, shift mean and use function on data \n",
    "np.random.seed(42)\n",
    "\n",
    "upgraded_temp = df['temperature'] - m + 98.6\n",
    "\n",
    "upgraded_replicates = draw_bs_reps(upgraded_temp, np.mean, size=10000)\n",
    "\n",
    "# Calculating p-value for replicates being less than or equal to Ho\n",
    "p = np.sum(upgraded_replicates <= m) / len(upgraded_replicates)\n",
    "print('p-value: ' + str(p))"
   ]
  },
  {
   "cell_type": "markdown",
   "metadata": {},
   "source": [
    "We can reject the Null Hypothesis because the p-value is less than Alpha so the true population mean != 98.6.\n",
    "\n",
    "Now we will find the t-statistic and z-statistic as well as their p-values."
   ]
  },
  {
   "cell_type": "code",
   "execution_count": 6,
   "metadata": {
    "collapsed": false
   },
   "outputs": [
    {
     "name": "stdout",
     "output_type": "stream",
     "text": [
      "t-statistic: -5.47592520208, p-value: 0\n"
     ]
    }
   ],
   "source": [
    "# Function to find t-statistic\n",
    "def t_stat(data, mu=98.6):\n",
    "    \"\"\"Calculate t-statistic\"\"\"\n",
    "    return (np.mean(data) - mu) / (np.std(data) / np.sqrt(len(data)))\n",
    "\n",
    "# Calculates t-statistic\n",
    "t_statistic = t_stat(df['temperature'], mu)\n",
    "\n",
    "# Find p-value for t_statistic replicates being greater than or equal to population t-statistic\n",
    "t_replicates = draw_bs_reps(upgraded_temp, t_stat, size=10000)\n",
    "t_p = np.sum(np.abs(t_replicates) >= np.abs(t_statistic)) / len(t_replicates)\n",
    "\n",
    "print('t-statistic: '+ str(t_statistic) + ', p-value: ' + str(t_p))"
   ]
  },
  {
   "cell_type": "code",
   "execution_count": 7,
   "metadata": {
    "collapsed": false
   },
   "outputs": [
    {
     "name": "stdout",
     "output_type": "stream",
     "text": [
      "z-statistic: -5.47592520208, p-value: 0\n"
     ]
    }
   ],
   "source": [
    "# Function to find z-statistic\n",
    "def z_stat(data, mu=98.6, sigma=0.7303577789050377):\n",
    "    \"\"\"Calculate z-statistic\"\"\"\n",
    "    return (np.mean(data) - mu) / (sigma / np.sqrt(len(data)))\n",
    "\n",
    "# Calculates z-statistic\n",
    "z_statistic = z_stat(df['temperature'], mu)\n",
    "\n",
    "# Find p-value for z_statistic replicates being greater than or equal to population z-statistic\n",
    "z_replicates = draw_bs_reps(upgraded_temp, z_stat, size=10000)\n",
    "z_p = np.sum(np.abs(z_replicates) >= np.abs(z_statistic)) / len(z_replicates)\n",
    "\n",
    "print('z-statistic: '+ str(z_statistic) + ', p-value: '+ str(z_p))"
   ]
  },
  {
   "cell_type": "markdown",
   "metadata": {},
   "source": [
    "Both the t-statistic and z-statistic are the same because population size > 30 and we do not know the true population standard deviation."
   ]
  },
  {
   "cell_type": "code",
   "execution_count": 8,
   "metadata": {
    "collapsed": false
   },
   "outputs": [
    {
     "data": {
      "text/plain": [
       "array([ 98.4,  97.9,  97.1,  98.7,  98.2,  98.4,  98.2,  98.8,  96.7,  96.4])"
      ]
     },
     "execution_count": 8,
     "metadata": {},
     "output_type": "execute_result"
    }
   ],
   "source": [
    "# Question Four:\n",
    "\n",
    "# Sample Data to a size of 10\n",
    "np.random.seed(15)\n",
    "\n",
    "sample = np.random.choice(df['temperature'], size=10)\n",
    "sample"
   ]
  },
  {
   "cell_type": "code",
   "execution_count": 9,
   "metadata": {
    "collapsed": false
   },
   "outputs": [
    {
     "name": "stdout",
     "output_type": "stream",
     "text": [
      "Length = 10, Mean = 97.88, Standard Deviation = 0.803492377064, Median = 98.2\n"
     ]
    }
   ],
   "source": [
    "# Find out Length, Mean, Standard Deviation and Median of Sampled Data\n",
    "sample_n = len(sample)\n",
    "sample_m = np.mean(sample)\n",
    "sample_sd = np.std(sample)\n",
    "sample_med = np.median(sample)\n",
    "print('Length = ' + str(sample_n) + ', Mean = ' + str(sample_m) + ', Standard Deviation = ' + str(sample_sd) + ', Median = ' + str(sample_med))"
   ]
  },
  {
   "cell_type": "code",
   "execution_count": 10,
   "metadata": {
    "collapsed": false
   },
   "outputs": [
    {
     "name": "stdout",
     "output_type": "stream",
     "text": [
      "Standard Error: 0.254086599411\n"
     ]
    }
   ],
   "source": [
    "# Shifting Mean\n",
    "upgraded_sample = sample - sample_m + mu\n",
    "\n",
    "# Finding the Standard Error of Sampled Data\n",
    "sample_sem = sample_sd / np.sqrt(sample_n)\n",
    "print('Standard Error: ' + str(sample_sem))"
   ]
  },
  {
   "cell_type": "code",
   "execution_count": 11,
   "metadata": {
    "collapsed": false
   },
   "outputs": [
    {
     "name": "stdout",
     "output_type": "stream",
     "text": [
      "t-statistic: -2.83367954733, p-value: 0\n"
     ]
    }
   ],
   "source": [
    "# Calculates t-statistic\n",
    "sample_t_statistic = t_stat(sample, mu)\n",
    "\n",
    "# Find p-value for t_statistic replicates being greater than or equal to population t-statistic\n",
    "sample_t_replicates = draw_bs_reps(upgraded_sample, t_stat, size=10000)\n",
    "sample_t_p = np.sum(np.abs(sample_t_replicates) >= np.abs(sample_t_statistic)) / len(sample_t_replicates)\n",
    "\n",
    "print('t-statistic: '+ str(sample_t_statistic) + ', p-value: ' + str(sample_t_p))"
   ]
  },
  {
   "cell_type": "code",
   "execution_count": 12,
   "metadata": {
    "collapsed": false
   },
   "outputs": [
    {
     "name": "stdout",
     "output_type": "stream",
     "text": [
      "z-statistic: -3.11743091001, p-value: 0\n"
     ]
    }
   ],
   "source": [
    "# Calculates z-statistic\n",
    "sample_z_statistic = z_stat(sample, mu)\n",
    "\n",
    "# Find p-value for z_statistic replicates being greater than or equal to population z-statistic\n",
    "sample_z_replicates = draw_bs_reps(upgraded_sample, z_stat, size=10000)\n",
    "sample_z_p = np.sum(np.abs(sample_z_replicates) >= np.abs(sample_z_statistic)) / len(sample_z_replicates)\n",
    "\n",
    "print('z-statistic: '+ str(sample_z_statistic) + ', p-value: '+ str(sample_z_p))"
   ]
  },
  {
   "cell_type": "markdown",
   "metadata": {},
   "source": [
    "While the p-values are the same, the t-statistic and z-statistic are different because of the smaller sample size. Since the sample size is < 30, the t-statistic is preferable."
   ]
  },
  {
   "cell_type": "markdown",
   "metadata": {
    "collapsed": true
   },
   "source": [
    "Question Five:\n",
    "    \n",
    "In order to find what temperatures would be abnormal, first we will create a 95% Confidence Interval of the Data."
   ]
  },
  {
   "cell_type": "code",
   "execution_count": 13,
   "metadata": {
    "collapsed": false
   },
   "outputs": [
    {
     "name": "stdout",
     "output_type": "stream",
     "text": [
      "95% of the data falls between 96.7225 and 99.4775 degrees Fahrenheit\n"
     ]
    }
   ],
   "source": [
    "# Computing 95% Confidence Interval\n",
    "conf_int = np.percentile(df['temperature'], [2.5, 97.5])\n",
    "print('95% of the data falls between ' + str(conf_int[0]) + ' and ' + str(conf_int[1]) + ' degrees Fahrenheit')"
   ]
  },
  {
   "cell_type": "markdown",
   "metadata": {
    "collapsed": true
   },
   "source": [
    "This means that there is a 95% chance that the true mean lies within 96.7225 and 99.4775 degrees Fahrenheit.\n",
    "\n",
    "Now we will create a 95% Prediction Interval to see what temperatures would be considered abnormal."
   ]
  },
  {
   "cell_type": "code",
   "execution_count": 14,
   "metadata": {
    "collapsed": false
   },
   "outputs": [
    {
     "name": "stdout",
     "output_type": "stream",
     "text": [
      "The Margin of Error is 0.125550964803\n"
     ]
    }
   ],
   "source": [
    "# The z-score for a 95% Confidence Interval\n",
    "z_score = 1.96\n",
    "\n",
    "# Computing the Margin of Error by multiplying the Standard Error and the z-score\n",
    "margin_error = sem * z_score\n",
    "print('The Margin of Error is ' + str(margin_error))"
   ]
  },
  {
   "cell_type": "code",
   "execution_count": 15,
   "metadata": {
    "collapsed": false
   },
   "outputs": [
    {
     "name": "stdout",
     "output_type": "stream",
     "text": [
      "The 95% Prediction Interval is between 96.8177295226 and 99.6807320159 degrees Fahrenheit\n"
     ]
    }
   ],
   "source": [
    "# Formula to find 95% Prediction Interval\n",
    "pred_int = z_score * sd / np.sqrt(1)\n",
    "print('The 95% Prediction Interval is between ' + str(m - pred_int) + ' and ' + str(m + pred_int) + ' degrees Fahrenheit')"
   ]
  },
  {
   "cell_type": "markdown",
   "metadata": {},
   "source": [
    "This means that for a temperature to be abnormal, it would be below around 96.82 degrees Fahrenheit as well as above around 99.68 degrees Fahrenheit."
   ]
  },
  {
   "cell_type": "code",
   "execution_count": 16,
   "metadata": {
    "collapsed": false
   },
   "outputs": [
    {
     "name": "stdout",
     "output_type": "stream",
     "text": [
      "       temperature  heart_rate\n",
      "count    65.000000   65.000000\n",
      "mean     98.104615   73.369231\n",
      "std       0.698756    5.875184\n",
      "min      96.300000   58.000000\n",
      "25%      97.600000   70.000000\n",
      "50%      98.100000   73.000000\n",
      "75%      98.600000   78.000000\n",
      "max      99.500000   86.000000\n",
      "       temperature  heart_rate\n",
      "count    65.000000   65.000000\n",
      "mean     98.393846   74.153846\n",
      "std       0.743488    8.105227\n",
      "min      96.400000   57.000000\n",
      "25%      98.000000   68.000000\n",
      "50%      98.400000   76.000000\n",
      "75%      98.800000   80.000000\n",
      "max     100.800000   89.000000\n"
     ]
    }
   ],
   "source": [
    "# Question Six:\n",
    "\n",
    "# Getting Data by Gender and seeing the info for each\n",
    "males = df[df['gender'] == 'M']\n",
    "females = df[df['gender'] == 'F']\n",
    "\n",
    "print(males.describe())\n",
    "print(females.describe())"
   ]
  },
  {
   "cell_type": "markdown",
   "metadata": {},
   "source": [
    "In order to see if there is a significant difference between the temperatures of males and females, we will use a Two-Sample test because we are comparing two sets of data and I will set my Null Hypothesis to be that there is no significant statistical difference. \n",
    "\n",
    "Ho = No significant statistical difference in temperatures between males and females,\n",
    "Alpha = 0.05"
   ]
  },
  {
   "cell_type": "code",
   "execution_count": 17,
   "metadata": {
    "collapsed": false
   },
   "outputs": [
    {
     "name": "stdout",
     "output_type": "stream",
     "text": [
      "Observed Difference between Genders: 0.289230769231, p-value: 0\n"
     ]
    }
   ],
   "source": [
    "# Finding the Difference of Means between Males and Females.\n",
    "def diff_of_means(data_1, data_2):\n",
    "    \"\"\"Difference in means of two arrays\"\"\"\n",
    "    return np.mean(data_1) - np.mean(data_2)\n",
    "\n",
    "# Computing the Test Statistic. Since Females have a higer mean, they are substracted from.\n",
    "gender_diff = diff_of_means(females['temperature'], males['temperature'])\n",
    "\n",
    "# Creating replicates \n",
    "g_replicates = np.empty(10000)\n",
    "for i in range(len(g_replicates)):\n",
    "    \"\"\"Permuting Data\"\"\"\n",
    "    gender_combined = np.concatenate((females['temperature'], males['temperature']))\n",
    "    gender_perm = np.random.permutation(gender_combined)\n",
    "    f_replicates = gender_perm[:len(females)]\n",
    "    m_replicates = gender_perm[len(females):]\n",
    "    # Drawing Replicates\n",
    "    g_replicates[i] = diff_of_means(f_replicates, m_replicates)\n",
    "\n",
    "# Calculating p-value for replicates being greater than or equal to the Observed Difference\n",
    "    gender_p = np.sum(abs(g_replicates) >= abs(gender_diff)) / len(g_replicates)\n",
    "print('Observed Difference between Genders: ' + str(gender_diff) + ', p-value: ' + str(gender_p))"
   ]
  },
  {
   "cell_type": "markdown",
   "metadata": {},
   "source": [
    "We can reject the Null Hypothesis because the p-value is less than Alpha so that means there is a significant statistical differnece between the temperatures of males and females."
   ]
  },
  {
   "cell_type": "markdown",
   "metadata": {},
   "source": [
    "Conclusion:\n",
    "In 1868, Carl Wunderlich proclaimed that the mean normal body temperature for a human was 98.6 degrees Fahrenheit. Instead, the mean normal body temperature I found was 98.2 +- 1.13 degrees Fahrenheit with a 95% confidence interval that the actual mean falls somehwere between 96.7225 and 99.4775 degrees Fahrenheit. Also, there is a statistically significant difference between the mean normal body temperature of males and females, specifically a difference of about 0.29 degrees Fahrenheit. That means females tend to have warmer normal body temperatures than males."
   ]
  }
 ],
 "metadata": {
  "kernelspec": {
   "display_name": "Python 2",
   "language": "python",
   "name": "python2"
  },
  "language_info": {
   "codemirror_mode": {
    "name": "ipython",
    "version": 2
   },
   "file_extension": ".py",
   "mimetype": "text/x-python",
   "name": "python",
   "nbconvert_exporter": "python",
   "pygments_lexer": "ipython2",
   "version": "2.7.11"
  }
 },
 "nbformat": 4,
 "nbformat_minor": 0
}
