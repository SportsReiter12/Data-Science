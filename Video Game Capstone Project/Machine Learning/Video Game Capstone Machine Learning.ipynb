{
 "cells": [
  {
   "cell_type": "code",
   "execution_count": null,
   "metadata": {
    "collapsed": true
   },
   "outputs": [],
   "source": [
    "# Scores for each model (normal, median):\n",
    "# RF R2: 0.416722914171, 0.446112871477\n",
    "# RF RMSE: 2.74341996991, 2.86137821844"
   ]
  },
  {
   "cell_type": "code",
   "execution_count": 1,
   "metadata": {
    "collapsed": false
   },
   "outputs": [],
   "source": [
    "# Importing necessary packages\n",
    "%matplotlib inline\n",
    "import numpy as np\n",
    "import pandas as pd\n",
    "import matplotlib.pyplot as plt\n",
    "import seaborn as sns\n",
    "sns.set(rc={'figure.figsize':(15,15)})\n",
    "from sklearn.model_selection import train_test_split, GridSearchCV\n",
    "from sklearn.metrics import mean_squared_error\n",
    "from sklearn import metrics\n",
    "from sklearn.ensemble import RandomForestRegressor\n",
    "import itertools"
   ]
  },
  {
   "cell_type": "code",
   "execution_count": 2,
   "metadata": {
    "collapsed": false
   },
   "outputs": [
    {
     "data": {
      "text/html": [
       "<div>\n",
       "<style scoped>\n",
       "    .dataframe tbody tr th:only-of-type {\n",
       "        vertical-align: middle;\n",
       "    }\n",
       "\n",
       "    .dataframe tbody tr th {\n",
       "        vertical-align: top;\n",
       "    }\n",
       "\n",
       "    .dataframe thead th {\n",
       "        text-align: right;\n",
       "    }\n",
       "</style>\n",
       "<table border=\"1\" class=\"dataframe\">\n",
       "  <thead>\n",
       "    <tr style=\"text-align: right;\">\n",
       "      <th></th>\n",
       "      <th>Name</th>\n",
       "      <th>Platform</th>\n",
       "      <th>a</th>\n",
       "      <th>about</th>\n",
       "      <th>absolut</th>\n",
       "      <th>ac</th>\n",
       "      <th>account</th>\n",
       "      <th>across</th>\n",
       "      <th>act</th>\n",
       "      <th>action</th>\n",
       "      <th>...</th>\n",
       "      <th>PlayStation</th>\n",
       "      <th>PlayStation 2</th>\n",
       "      <th>PlayStation 3</th>\n",
       "      <th>PlayStation 4</th>\n",
       "      <th>PlayStation Vita</th>\n",
       "      <th>PSP</th>\n",
       "      <th>Sega Dreamcast</th>\n",
       "      <th>Xbox</th>\n",
       "      <th>Xbox 360</th>\n",
       "      <th>Xbox One</th>\n",
       "    </tr>\n",
       "  </thead>\n",
       "  <tbody>\n",
       "    <tr>\n",
       "      <th>0</th>\n",
       "      <td>2010 FIFA World Cup South Africa</td>\n",
       "      <td>PS3</td>\n",
       "      <td>0.077199</td>\n",
       "      <td>0.000000</td>\n",
       "      <td>0.0</td>\n",
       "      <td>0.0</td>\n",
       "      <td>0.0</td>\n",
       "      <td>0.0</td>\n",
       "      <td>0.0</td>\n",
       "      <td>0.000000</td>\n",
       "      <td>...</td>\n",
       "      <td>0</td>\n",
       "      <td>0</td>\n",
       "      <td>1</td>\n",
       "      <td>0</td>\n",
       "      <td>0</td>\n",
       "      <td>0</td>\n",
       "      <td>0</td>\n",
       "      <td>0</td>\n",
       "      <td>0</td>\n",
       "      <td>0</td>\n",
       "    </tr>\n",
       "    <tr>\n",
       "      <th>1</th>\n",
       "      <td>2010 FIFA World Cup South Africa</td>\n",
       "      <td>X360</td>\n",
       "      <td>0.036675</td>\n",
       "      <td>0.000000</td>\n",
       "      <td>0.0</td>\n",
       "      <td>0.0</td>\n",
       "      <td>0.0</td>\n",
       "      <td>0.0</td>\n",
       "      <td>0.0</td>\n",
       "      <td>0.000000</td>\n",
       "      <td>...</td>\n",
       "      <td>0</td>\n",
       "      <td>0</td>\n",
       "      <td>0</td>\n",
       "      <td>0</td>\n",
       "      <td>0</td>\n",
       "      <td>0</td>\n",
       "      <td>0</td>\n",
       "      <td>0</td>\n",
       "      <td>1</td>\n",
       "      <td>0</td>\n",
       "    </tr>\n",
       "    <tr>\n",
       "      <th>2</th>\n",
       "      <td>ATV Offroad Fury</td>\n",
       "      <td>PS2</td>\n",
       "      <td>0.034426</td>\n",
       "      <td>0.000000</td>\n",
       "      <td>0.0</td>\n",
       "      <td>0.0</td>\n",
       "      <td>0.0</td>\n",
       "      <td>0.0</td>\n",
       "      <td>0.0</td>\n",
       "      <td>0.039822</td>\n",
       "      <td>...</td>\n",
       "      <td>0</td>\n",
       "      <td>1</td>\n",
       "      <td>0</td>\n",
       "      <td>0</td>\n",
       "      <td>0</td>\n",
       "      <td>0</td>\n",
       "      <td>0</td>\n",
       "      <td>0</td>\n",
       "      <td>0</td>\n",
       "      <td>0</td>\n",
       "    </tr>\n",
       "    <tr>\n",
       "      <th>3</th>\n",
       "      <td>ATV Offroad Fury 2</td>\n",
       "      <td>PS2</td>\n",
       "      <td>0.035777</td>\n",
       "      <td>0.000000</td>\n",
       "      <td>0.0</td>\n",
       "      <td>0.0</td>\n",
       "      <td>0.0</td>\n",
       "      <td>0.0</td>\n",
       "      <td>0.0</td>\n",
       "      <td>0.000000</td>\n",
       "      <td>...</td>\n",
       "      <td>0</td>\n",
       "      <td>1</td>\n",
       "      <td>0</td>\n",
       "      <td>0</td>\n",
       "      <td>0</td>\n",
       "      <td>0</td>\n",
       "      <td>0</td>\n",
       "      <td>0</td>\n",
       "      <td>0</td>\n",
       "      <td>0</td>\n",
       "    </tr>\n",
       "    <tr>\n",
       "      <th>4</th>\n",
       "      <td>Ace Combat 04: Shattered Skies</td>\n",
       "      <td>PS2</td>\n",
       "      <td>0.053300</td>\n",
       "      <td>0.001371</td>\n",
       "      <td>0.0</td>\n",
       "      <td>0.0</td>\n",
       "      <td>0.0</td>\n",
       "      <td>0.0</td>\n",
       "      <td>0.0</td>\n",
       "      <td>0.000000</td>\n",
       "      <td>...</td>\n",
       "      <td>0</td>\n",
       "      <td>1</td>\n",
       "      <td>0</td>\n",
       "      <td>0</td>\n",
       "      <td>0</td>\n",
       "      <td>0</td>\n",
       "      <td>0</td>\n",
       "      <td>0</td>\n",
       "      <td>0</td>\n",
       "      <td>0</td>\n",
       "    </tr>\n",
       "  </tbody>\n",
       "</table>\n",
       "<p>5 rows × 1034 columns</p>\n",
       "</div>"
      ],
      "text/plain": [
       "                               Name Platform         a     about  absolut  \\\n",
       "0  2010 FIFA World Cup South Africa      PS3  0.077199  0.000000      0.0   \n",
       "1  2010 FIFA World Cup South Africa     X360  0.036675  0.000000      0.0   \n",
       "2                  ATV Offroad Fury      PS2  0.034426  0.000000      0.0   \n",
       "3                ATV Offroad Fury 2      PS2  0.035777  0.000000      0.0   \n",
       "4    Ace Combat 04: Shattered Skies      PS2  0.053300  0.001371      0.0   \n",
       "\n",
       "    ac  account  across  act    action    ...     PlayStation  PlayStation 2  \\\n",
       "0  0.0      0.0     0.0  0.0  0.000000    ...               0              0   \n",
       "1  0.0      0.0     0.0  0.0  0.000000    ...               0              0   \n",
       "2  0.0      0.0     0.0  0.0  0.039822    ...               0              1   \n",
       "3  0.0      0.0     0.0  0.0  0.000000    ...               0              1   \n",
       "4  0.0      0.0     0.0  0.0  0.000000    ...               0              1   \n",
       "\n",
       "   PlayStation 3  PlayStation 4  PlayStation Vita  PSP  Sega Dreamcast  Xbox  \\\n",
       "0              1              0                 0    0               0     0   \n",
       "1              0              0                 0    0               0     0   \n",
       "2              0              0                 0    0               0     0   \n",
       "3              0              0                 0    0               0     0   \n",
       "4              0              0                 0    0               0     0   \n",
       "\n",
       "   Xbox 360  Xbox One  \n",
       "0         0         0  \n",
       "1         1         0  \n",
       "2         0         0  \n",
       "3         0         0  \n",
       "4         0         0  \n",
       "\n",
       "[5 rows x 1034 columns]"
      ]
     },
     "execution_count": 2,
     "metadata": {},
     "output_type": "execute_result"
    }
   ],
   "source": [
    "# Uploading Dataset and inspecting its contents\n",
    "df = pd.DataFrame()\n",
    "df = pd.read_csv('/Users/dwreiter/Desktop/Work/Springboard/Video Game Capstone Project/Data Wrangling/vg_nlp_df.csv', delimiter='\\t', index_col=0)\n",
    "df.head()"
   ]
  },
  {
   "cell_type": "code",
   "execution_count": 3,
   "metadata": {
    "collapsed": false
   },
   "outputs": [],
   "source": [
    "# Converting Categorical variables into Dummy Variables\n",
    "df = pd.get_dummies(df, columns = ['Publisher', 'Developer', 'Rating'])\n",
    "\n",
    "# Setting X and y for Global Sales\n",
    "GS_X = df.drop(['Name', 'Platform', 'Year_of_Release', 'Genre', 'Global_Sales', 'NA_Sales', 'EU_Sales', 'JP_Sales', 'Other_Sales', 'index'], axis=1)\n",
    "GS_y = df['Global_Sales']"
   ]
  },
  {
   "cell_type": "code",
   "execution_count": 4,
   "metadata": {
    "collapsed": false
   },
   "outputs": [],
   "source": [
    "# Splitting the data into Train and Test\n",
    "GS_X_train, GS_X_test, GS_y_train, GS_y_test = train_test_split(GS_X, GS_y, test_size = 0.2, random_state=42)"
   ]
  },
  {
   "cell_type": "code",
   "execution_count": 17,
   "metadata": {
    "collapsed": false
   },
   "outputs": [
    {
     "name": "stdout",
     "output_type": "stream",
     "text": [
      "R squared: 0.403210249644\n",
      "Root Mean Squared Error: 2.7750161551\n"
     ]
    }
   ],
   "source": [
    "# Trying a Random Forest Regressor\n",
    "# Update c_space, tried [10, 100], [1000, 3000] and [5000, 10000, 1000]. First one is fastest, second is best but takes time\n",
    "# Add some parameters: Max_Depth, Max_Leaf_Nodes had impact. Oob_Score, N_Jobs, Warm_Start, Min_Impurity_Split (both ways), \n",
    "# Verbose had essentially no impact. Min_Samples_Split, Max_Features, Bootstrap, Min_Weight_Fraction_Leaf, Min_Impurity_Decrease made R2 smaller\n",
    "# Min_Samples_Leaf of 3 put R2 over 0.42 and RMSE of 2.72.\n",
    "c_space = [10, 100]\n",
    "GS_PG = {'n_estimators': c_space}\n",
    "\n",
    "GS_rf = RandomForestRegressor(min_samples_leaf=3, random_state=42)\n",
    "\n",
    "# Using GridSearchCV to help avoid overfitting\n",
    "GS_CV = GridSearchCV(GS_rf, GS_PG, cv=5)\n",
    "\n",
    "GS_CV.fit(GS_X_train, GS_y_train)\n",
    "\n",
    "GS_rf_pred = GS_CV.predict(GS_X_test)\n",
    "\n",
    "GS_rf_R2 = GS_CV.score(GS_X_test, GS_y_test)\n",
    "GS_rf_rmse = np.sqrt(mean_squared_error(GS_y_test, GS_rf_pred))\n",
    "\n",
    "print('R squared: ' + str(GS_rf_R2))\n",
    "print('Root Mean Squared Error: ' + str(GS_rf_rmse))"
   ]
  },
  {
   "cell_type": "code",
   "execution_count": 12,
   "metadata": {
    "collapsed": false
   },
   "outputs": [
    {
     "name": "stdout",
     "output_type": "stream",
     "text": [
      "R squared: -0.0352958692423\n",
      "Root Mean Squared Error: 3.65499745196\n"
     ]
    }
   ],
   "source": [
    "# Trying a Random Forest Regressor\n",
    "GS_rf = RandomForestRegressor(n_estimators=1000, random_state=42)\n",
    "\n",
    "GS_rf.fit(GS_X_train, GS_y_train)\n",
    "\n",
    "GS_rf_pred = GS_rf.predict(GS_X_test)\n",
    "\n",
    "GS_rf_R2 = GS_rf.score(GS_X_test, GS_y_test)\n",
    "GS_rf_rmse = np.sqrt(mean_squared_error(GS_y_test, GS_rf_pred))\n",
    "\n",
    "print('R squared: ' + str(GS_rf_R2))\n",
    "print('Root Mean Squared Error: ' + str(GS_rf_rmse))"
   ]
  },
  {
   "cell_type": "code",
   "execution_count": 10,
   "metadata": {
    "collapsed": false
   },
   "outputs": [
    {
     "data": {
      "text/plain": [
       "Developer_Koei/Inis                   0.000000\n",
       "Developer_Core Design Ltd.            0.000000\n",
       "choic                                 0.000000\n",
       "Developer_Croteam                     0.000000\n",
       "experienc                             0.000000\n",
       "Publisher_1C Company                  0.000000\n",
       "Publisher_2D Boy                      0.000000\n",
       "Developer_The Coalition               0.000000\n",
       "industri                              0.000000\n",
       "compar                                0.000000\n",
       "Developer_Ryu ga Gotoku Studios       0.000000\n",
       "Developer_Dimps Corporation           0.000000\n",
       "Publisher_BAM! Entertainment          0.000000\n",
       "Publisher_Blue Byte                   0.000000\n",
       "Publisher_Codemasters Online          0.000000\n",
       "experi                                0.000000\n",
       "incr                                  0.000000\n",
       "Developer_Dreamworks Interactive      0.000000\n",
       "Publisher_Devolver Digital            0.000000\n",
       "Developer_Runic Games                 0.000000\n",
       "Developer_Orbital Media, Inc.         0.000000\n",
       "Publisher_DreamCatcher Interactive    0.000000\n",
       "Publisher_Empire Interactive          0.000000\n",
       "Publisher_Enix Corporation            0.000000\n",
       "Publisher_Focus Home Interactive      0.000000\n",
       "Developer_EA Mythic                   0.000000\n",
       "Publisher_GOA                         0.000000\n",
       "Publisher_Gathering of Developers     0.000000\n",
       "Developer_Vanilla Ware                0.000000\n",
       "Developer_Silicon Studio              0.000000\n",
       "                                        ...   \n",
       "you                                   0.003138\n",
       "Developer_Rockstar North              0.003569\n",
       "PlayStation 2                         0.003704\n",
       "hype                                  0.004270\n",
       "kid                                   0.004409\n",
       "formula                               0.004679\n",
       "fifa                                  0.004753\n",
       "modern                                0.004775\n",
       "cod                                   0.005543\n",
       "star                                  0.005559\n",
       "gta                                   0.005706\n",
       "steam                                 0.007473\n",
       "power                                 0.008047\n",
       "grand                                 0.008475\n",
       "drive                                 0.008580\n",
       "Developer_Polyphony Digital           0.010041\n",
       "fanboy                                0.010105\n",
       "perk                                  0.010862\n",
       "car                                   0.011515\n",
       "a                                     0.013038\n",
       "black                                 0.019602\n",
       "Critic_Count                          0.019955\n",
       "hasnt                                 0.020807\n",
       "engin                                 0.021542\n",
       "PC                                    0.048671\n",
       "mw                                    0.052336\n",
       "User_Count                            0.058352\n",
       "super                                 0.058801\n",
       "Critic_Score                          0.065335\n",
       "mario                                 0.075778\n",
       "Length: 1500, dtype: float64"
      ]
     },
     "execution_count": 10,
     "metadata": {},
     "output_type": "execute_result"
    }
   ],
   "source": [
    "pd.Series(GS_rf.feature_importances_, index=GS_X.columns).sort_values()"
   ]
  },
  {
   "cell_type": "markdown",
   "metadata": {},
   "source": [
    "** Trying same models when Global Sales is higher than the median.**"
   ]
  },
  {
   "cell_type": "code",
   "execution_count": 17,
   "metadata": {
    "collapsed": true
   },
   "outputs": [],
   "source": [
    "# Trying it with Global Sales higher than the Median\n",
    "GS_median = df['Global_Sales'].median()\n",
    "GS_median = df[df['Global_Sales'] >= GS_median]\n",
    "\n",
    "# Setting X and y for Global Sales\n",
    "GS_X = GS_median.drop(['Name', 'Platform', 'Year_of_Release', 'Genre', 'Global_Sales', 'NA_Sales', 'EU_Sales', 'JP_Sales', 'Other_Sales', 'index'], axis=1)\n",
    "GS_y = GS_median['Global_Sales']"
   ]
  },
  {
   "cell_type": "code",
   "execution_count": 18,
   "metadata": {
    "collapsed": true
   },
   "outputs": [],
   "source": [
    "# Splitting the data into Train and Test\n",
    "GS_X_train, GS_X_test, GS_y_train, GS_y_test = train_test_split(GS_X, GS_y, test_size = 0.2, random_state=42)"
   ]
  },
  {
   "cell_type": "code",
   "execution_count": 23,
   "metadata": {
    "collapsed": false
   },
   "outputs": [
    {
     "name": "stdout",
     "output_type": "stream",
     "text": [
      "R squared: 0.446112871477\n",
      "Root Mean Squared Error: 2.86137821844\n"
     ]
    }
   ],
   "source": [
    "# Trying a Random Forest Regressor\n",
    "GS_rf = RandomForestRegressor(n_estimators=1000, random_state=42)\n",
    "\n",
    "GS_rf.fit(GS_X_train, GS_y_train)\n",
    "\n",
    "GS_rf_pred = GS_rf.predict(GS_X_test)\n",
    "\n",
    "GS_rf_R2 = GS_rf.score(GS_X_test, GS_y_test)\n",
    "GS_rf_rmse = np.sqrt(mean_squared_error(GS_y_test, GS_rf_pred))\n",
    "\n",
    "print('R squared: ' + str(GS_rf_R2))\n",
    "print('Root Mean Squared Error: ' + str(GS_rf_rmse))"
   ]
  },
  {
   "cell_type": "code",
   "execution_count": 24,
   "metadata": {
    "collapsed": false
   },
   "outputs": [
    {
     "data": {
      "text/plain": [
       "Developer_Frontier Developments                         0.000000\n",
       "Developer_Nintendo, Headstrong Games                    0.000000\n",
       "Developer_Nippon Ichi Software                          0.000000\n",
       "Developer_1st Playable Productions                      0.000000\n",
       "Developer_Nitro+                                        0.000000\n",
       "Developer_Nixxes Software                               0.000000\n",
       "Developer_1C: Maddox Games                              0.000000\n",
       "Developer_1C, 1C Company                                0.000000\n",
       "Developer_Nordic Games Publishing                       0.000000\n",
       "Publisher_inXile Entertainment                          0.000000\n",
       "Publisher_Zoo Digital Publishing                        0.000000\n",
       "Publisher_Yacht Club Games                              0.000000\n",
       "Developer_Number None Inc., Knockout Games              0.000000\n",
       "Developer_Opus                                          0.000000\n",
       "Developer_Opus, Project Sora                            0.000000\n",
       "Developer_Orbital Media, Inc.                           0.000000\n",
       "sequenc                                                 0.000000\n",
       "Developer_Overworks                                     0.000000\n",
       "Developer_PLAYGROUND, Playground Games                  0.000000\n",
       "Developer_Pam Development                               0.000000\n",
       "Publisher_Wanadoo                                       0.000000\n",
       "Developer_People Can Fly                                0.000000\n",
       "Developer_2D Boy                                        0.000000\n",
       "Developer_Nintendo EAD Tokyo                            0.000000\n",
       "Developer_2K Czech                                      0.000000\n",
       "Developer_Nicalis                                       0.000000\n",
       "Developer_Massive Entertainment                         0.000000\n",
       "Developer_Maxis                                         0.000000\n",
       "Developer_Metanet Software Inc., SilverBirch Studios    0.000000\n",
       "Developer_Arc System Works                              0.000000\n",
       "                                                          ...   \n",
       "street                                                  0.003424\n",
       "and                                                     0.003502\n",
       "black                                                   0.003681\n",
       "fight                                                   0.003755\n",
       "feel                                                    0.003817\n",
       "kid                                                     0.003819\n",
       "second                                                  0.004010\n",
       "day                                                     0.004216\n",
       "san                                                     0.004581\n",
       "power                                                   0.004637\n",
       "drive                                                   0.004866\n",
       "a                                                       0.005249\n",
       "madden                                                  0.005873\n",
       "lead                                                    0.006343\n",
       "fanboy                                                  0.006766\n",
       "modern                                                  0.008357\n",
       "place                                                   0.009062\n",
       "gta                                                     0.009706\n",
       "grand                                                   0.012582\n",
       "cod                                                     0.013946\n",
       "car                                                     0.015751\n",
       "Developer_Polyphony Digital                             0.022986\n",
       "Developer_Rockstar North                                0.028217\n",
       "call                                                    0.028224\n",
       "mw                                                      0.037707\n",
       "mario                                                   0.044861\n",
       "kart                                                    0.045788\n",
       "super                                                   0.050669\n",
       "Critic_Score                                            0.050699\n",
       "User_Count                                              0.080572\n",
       "Length: 1500, dtype: float64"
      ]
     },
     "execution_count": 24,
     "metadata": {},
     "output_type": "execute_result"
    }
   ],
   "source": [
    "pd.Series(GS_rf.feature_importances_, index=GS_X.columns).sort_values()"
   ]
  }
 ],
 "metadata": {
  "kernelspec": {
   "display_name": "Python 2",
   "language": "python",
   "name": "python2"
  },
  "language_info": {
   "codemirror_mode": {
    "name": "ipython",
    "version": 2
   },
   "file_extension": ".py",
   "mimetype": "text/x-python",
   "name": "python",
   "nbconvert_exporter": "python",
   "pygments_lexer": "ipython2",
   "version": "2.7.11"
  }
 },
 "nbformat": 4,
 "nbformat_minor": 0
}
