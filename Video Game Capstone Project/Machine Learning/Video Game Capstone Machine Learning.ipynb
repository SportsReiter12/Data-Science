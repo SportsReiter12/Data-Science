{
 "cells": [
  {
   "cell_type": "code",
   "execution_count": null,
   "metadata": {
    "collapsed": true
   },
   "outputs": [],
   "source": [
    "# Tweak how many features (Avoid substanially more columns than rows)\n",
    "# Extract Features"
   ]
  },
  {
   "cell_type": "code",
   "execution_count": null,
   "metadata": {
    "collapsed": true
   },
   "outputs": [],
   "source": [
    "# Possibly predict a binary, better than x amount of units"
   ]
  },
  {
   "cell_type": "code",
   "execution_count": 2,
   "metadata": {
    "collapsed": false
   },
   "outputs": [],
   "source": [
    "# Importing necessary packages\n",
    "%matplotlib inline\n",
    "import numpy as np\n",
    "import pandas as pd\n",
    "import matplotlib.pyplot as plt\n",
    "import seaborn as sns\n",
    "sns.set(rc={'figure.figsize':(15,15)})\n",
    "from sklearn.model_selection import train_test_split, GridSearchCV\n",
    "from sklearn.linear_model import LinearRegression, Lasso\n",
    "from sklearn.metrics import mean_squared_error, log_loss\n",
    "from sklearn import metrics\n",
    "from sklearn.ensemble import RandomForestRegressor, GradientBoostingRegressor\n",
    "from sklearn.svm import SVR\n",
    "from sklearn.tree import DecisionTreeRegressor\n",
    "import itertools"
   ]
  },
  {
   "cell_type": "code",
   "execution_count": 20,
   "metadata": {
    "collapsed": false
   },
   "outputs": [
    {
     "data": {
      "text/html": [
       "<div>\n",
       "<style scoped>\n",
       "    .dataframe tbody tr th:only-of-type {\n",
       "        vertical-align: middle;\n",
       "    }\n",
       "\n",
       "    .dataframe tbody tr th {\n",
       "        vertical-align: top;\n",
       "    }\n",
       "\n",
       "    .dataframe thead th {\n",
       "        text-align: right;\n",
       "    }\n",
       "</style>\n",
       "<table border=\"1\" class=\"dataframe\">\n",
       "  <thead>\n",
       "    <tr style=\"text-align: right;\">\n",
       "      <th></th>\n",
       "      <th>Name</th>\n",
       "      <th>Platform</th>\n",
       "      <th>a</th>\n",
       "      <th>about</th>\n",
       "      <th>absolut</th>\n",
       "      <th>ac</th>\n",
       "      <th>account</th>\n",
       "      <th>across</th>\n",
       "      <th>act</th>\n",
       "      <th>action</th>\n",
       "      <th>...</th>\n",
       "      <th>PlayStation</th>\n",
       "      <th>PlayStation 2</th>\n",
       "      <th>PlayStation 3</th>\n",
       "      <th>PlayStation 4</th>\n",
       "      <th>PlayStation Vita</th>\n",
       "      <th>PSP</th>\n",
       "      <th>Sega Dreamcast</th>\n",
       "      <th>Xbox</th>\n",
       "      <th>Xbox 360</th>\n",
       "      <th>Xbox One</th>\n",
       "    </tr>\n",
       "  </thead>\n",
       "  <tbody>\n",
       "    <tr>\n",
       "      <th>0</th>\n",
       "      <td>2010 FIFA World Cup South Africa</td>\n",
       "      <td>PS3</td>\n",
       "      <td>0.077199</td>\n",
       "      <td>0.000000</td>\n",
       "      <td>0.0</td>\n",
       "      <td>0.0</td>\n",
       "      <td>0.0</td>\n",
       "      <td>0.0</td>\n",
       "      <td>0.0</td>\n",
       "      <td>0.000000</td>\n",
       "      <td>...</td>\n",
       "      <td>0</td>\n",
       "      <td>0</td>\n",
       "      <td>1</td>\n",
       "      <td>0</td>\n",
       "      <td>0</td>\n",
       "      <td>0</td>\n",
       "      <td>0</td>\n",
       "      <td>0</td>\n",
       "      <td>0</td>\n",
       "      <td>0</td>\n",
       "    </tr>\n",
       "    <tr>\n",
       "      <th>1</th>\n",
       "      <td>2010 FIFA World Cup South Africa</td>\n",
       "      <td>X360</td>\n",
       "      <td>0.036675</td>\n",
       "      <td>0.000000</td>\n",
       "      <td>0.0</td>\n",
       "      <td>0.0</td>\n",
       "      <td>0.0</td>\n",
       "      <td>0.0</td>\n",
       "      <td>0.0</td>\n",
       "      <td>0.000000</td>\n",
       "      <td>...</td>\n",
       "      <td>0</td>\n",
       "      <td>0</td>\n",
       "      <td>0</td>\n",
       "      <td>0</td>\n",
       "      <td>0</td>\n",
       "      <td>0</td>\n",
       "      <td>0</td>\n",
       "      <td>0</td>\n",
       "      <td>1</td>\n",
       "      <td>0</td>\n",
       "    </tr>\n",
       "    <tr>\n",
       "      <th>2</th>\n",
       "      <td>ATV Offroad Fury</td>\n",
       "      <td>PS2</td>\n",
       "      <td>0.034426</td>\n",
       "      <td>0.000000</td>\n",
       "      <td>0.0</td>\n",
       "      <td>0.0</td>\n",
       "      <td>0.0</td>\n",
       "      <td>0.0</td>\n",
       "      <td>0.0</td>\n",
       "      <td>0.039822</td>\n",
       "      <td>...</td>\n",
       "      <td>0</td>\n",
       "      <td>1</td>\n",
       "      <td>0</td>\n",
       "      <td>0</td>\n",
       "      <td>0</td>\n",
       "      <td>0</td>\n",
       "      <td>0</td>\n",
       "      <td>0</td>\n",
       "      <td>0</td>\n",
       "      <td>0</td>\n",
       "    </tr>\n",
       "    <tr>\n",
       "      <th>3</th>\n",
       "      <td>ATV Offroad Fury 2</td>\n",
       "      <td>PS2</td>\n",
       "      <td>0.035777</td>\n",
       "      <td>0.000000</td>\n",
       "      <td>0.0</td>\n",
       "      <td>0.0</td>\n",
       "      <td>0.0</td>\n",
       "      <td>0.0</td>\n",
       "      <td>0.0</td>\n",
       "      <td>0.000000</td>\n",
       "      <td>...</td>\n",
       "      <td>0</td>\n",
       "      <td>1</td>\n",
       "      <td>0</td>\n",
       "      <td>0</td>\n",
       "      <td>0</td>\n",
       "      <td>0</td>\n",
       "      <td>0</td>\n",
       "      <td>0</td>\n",
       "      <td>0</td>\n",
       "      <td>0</td>\n",
       "    </tr>\n",
       "    <tr>\n",
       "      <th>4</th>\n",
       "      <td>Ace Combat 04: Shattered Skies</td>\n",
       "      <td>PS2</td>\n",
       "      <td>0.053300</td>\n",
       "      <td>0.001371</td>\n",
       "      <td>0.0</td>\n",
       "      <td>0.0</td>\n",
       "      <td>0.0</td>\n",
       "      <td>0.0</td>\n",
       "      <td>0.0</td>\n",
       "      <td>0.000000</td>\n",
       "      <td>...</td>\n",
       "      <td>0</td>\n",
       "      <td>1</td>\n",
       "      <td>0</td>\n",
       "      <td>0</td>\n",
       "      <td>0</td>\n",
       "      <td>0</td>\n",
       "      <td>0</td>\n",
       "      <td>0</td>\n",
       "      <td>0</td>\n",
       "      <td>0</td>\n",
       "    </tr>\n",
       "  </tbody>\n",
       "</table>\n",
       "<p>5 rows × 1034 columns</p>\n",
       "</div>"
      ],
      "text/plain": [
       "                               Name Platform         a     about  absolut  \\\n",
       "0  2010 FIFA World Cup South Africa      PS3  0.077199  0.000000      0.0   \n",
       "1  2010 FIFA World Cup South Africa     X360  0.036675  0.000000      0.0   \n",
       "2                  ATV Offroad Fury      PS2  0.034426  0.000000      0.0   \n",
       "3                ATV Offroad Fury 2      PS2  0.035777  0.000000      0.0   \n",
       "4    Ace Combat 04: Shattered Skies      PS2  0.053300  0.001371      0.0   \n",
       "\n",
       "    ac  account  across  act    action    ...     PlayStation  PlayStation 2  \\\n",
       "0  0.0      0.0     0.0  0.0  0.000000    ...               0              0   \n",
       "1  0.0      0.0     0.0  0.0  0.000000    ...               0              0   \n",
       "2  0.0      0.0     0.0  0.0  0.039822    ...               0              1   \n",
       "3  0.0      0.0     0.0  0.0  0.000000    ...               0              1   \n",
       "4  0.0      0.0     0.0  0.0  0.000000    ...               0              1   \n",
       "\n",
       "   PlayStation 3  PlayStation 4  PlayStation Vita  PSP  Sega Dreamcast  Xbox  \\\n",
       "0              1              0                 0    0               0     0   \n",
       "1              0              0                 0    0               0     0   \n",
       "2              0              0                 0    0               0     0   \n",
       "3              0              0                 0    0               0     0   \n",
       "4              0              0                 0    0               0     0   \n",
       "\n",
       "   Xbox 360  Xbox One  \n",
       "0         0         0  \n",
       "1         1         0  \n",
       "2         0         0  \n",
       "3         0         0  \n",
       "4         0         0  \n",
       "\n",
       "[5 rows x 1034 columns]"
      ]
     },
     "execution_count": 20,
     "metadata": {},
     "output_type": "execute_result"
    }
   ],
   "source": [
    "# Uploading Dataset and inspecting its contents\n",
    "df = pd.DataFrame()\n",
    "df = pd.read_csv('/Users/dwreiter/Desktop/Work/Springboard/Video Game Capstone Project/Data Wrangling/vg_nlp_df.csv', delimiter='\\t', index_col=0)\n",
    "df.head()"
   ]
  },
  {
   "cell_type": "code",
   "execution_count": 21,
   "metadata": {
    "collapsed": false
   },
   "outputs": [],
   "source": [
    "# Converting Categorical variables into Dummy Variables\n",
    "df = pd.get_dummies(df, columns = ['Publisher', 'Developer', 'Rating'])\n",
    "\n",
    "# Setting X and y for Global Sales\n",
    "GS_X = df.drop(['Name', 'Platform', 'Year_of_Release', 'Genre', 'Global_Sales', 'NA_Sales', 'EU_Sales', 'JP_Sales', 'Other_Sales', 'index'], axis=1)\n",
    "GS_y = df['Global_Sales']"
   ]
  },
  {
   "cell_type": "code",
   "execution_count": 22,
   "metadata": {
    "collapsed": false
   },
   "outputs": [],
   "source": [
    "# Splitting the data into Train and Test\n",
    "GS_X_train, GS_X_test, GS_y_train, GS_y_test = train_test_split(GS_X, GS_y, test_size = 0.2, random_state=42)"
   ]
  },
  {
   "cell_type": "code",
   "execution_count": 5,
   "metadata": {
    "collapsed": true
   },
   "outputs": [],
   "source": [
    "# Setting up parameter Alpha\n",
    "c_space = np.logspace(-5, 5, 10)\n",
    "GS_PG = {'alpha': c_space}\n",
    "\n",
    "# Setting up Lasso Regression Model\n",
    "GS_L = Lasso(alpha=0.4, normalize=True)\n",
    "\n",
    "# Using GridSearchCV to help avoid overfitting\n",
    "GS_CV = GridSearchCV(GS_L, GS_PG, cv=5)"
   ]
  },
  {
   "cell_type": "code",
   "execution_count": 6,
   "metadata": {
    "collapsed": false
   },
   "outputs": [
    {
     "name": "stderr",
     "output_type": "stream",
     "text": [
      "/Users/dwreiter/miniconda2/envs/tutorial/lib/python2.7/site-packages/sklearn/linear_model/coordinate_descent.py:491: ConvergenceWarning: Objective did not converge. You might want to increase the number of iterations. Fitting data with very small alpha may cause precision problems.\n",
      "  ConvergenceWarning)\n",
      "/Users/dwreiter/miniconda2/envs/tutorial/lib/python2.7/site-packages/sklearn/linear_model/coordinate_descent.py:491: ConvergenceWarning: Objective did not converge. You might want to increase the number of iterations. Fitting data with very small alpha may cause precision problems.\n",
      "  ConvergenceWarning)\n",
      "/Users/dwreiter/miniconda2/envs/tutorial/lib/python2.7/site-packages/sklearn/linear_model/coordinate_descent.py:491: ConvergenceWarning: Objective did not converge. You might want to increase the number of iterations. Fitting data with very small alpha may cause precision problems.\n",
      "  ConvergenceWarning)\n",
      "/Users/dwreiter/miniconda2/envs/tutorial/lib/python2.7/site-packages/sklearn/linear_model/coordinate_descent.py:491: ConvergenceWarning: Objective did not converge. You might want to increase the number of iterations. Fitting data with very small alpha may cause precision problems.\n",
      "  ConvergenceWarning)\n"
     ]
    },
    {
     "name": "stdout",
     "output_type": "stream",
     "text": [
      "Best Parameter for Global Sales Model: {'alpha': 0.021544346900318846}\n",
      "Best Score for Global Sales Model: 0.0253705288564\n"
     ]
    },
    {
     "name": "stderr",
     "output_type": "stream",
     "text": [
      "/Users/dwreiter/miniconda2/envs/tutorial/lib/python2.7/site-packages/sklearn/linear_model/coordinate_descent.py:491: ConvergenceWarning: Objective did not converge. You might want to increase the number of iterations. Fitting data with very small alpha may cause precision problems.\n",
      "  ConvergenceWarning)\n"
     ]
    }
   ],
   "source": [
    "# Fitting Training Data to model and finding best parameter as well as score\n",
    "GS_CV.fit(GS_X_train, GS_y_train)\n",
    "print('Best Parameter for Global Sales Model: ' + str(GS_CV.best_params_))\n",
    "print('Best Score for Global Sales Model: ' + str(GS_CV.best_score_))"
   ]
  },
  {
   "cell_type": "code",
   "execution_count": 7,
   "metadata": {
    "collapsed": false
   },
   "outputs": [
    {
     "name": "stdout",
     "output_type": "stream",
     "text": [
      "R squared: -0.0129887053917\n",
      "Root Mean Squared Error: 3.6154065415\n"
     ]
    }
   ],
   "source": [
    "# Setting up prediction based on testing data for X\n",
    "GS_y_pred = GS_CV.predict(GS_X_test)\n",
    "\n",
    "# Printing R Squared\n",
    "R2_GS = GS_CV.score(GS_X_test, GS_y_test)\n",
    "print('R squared: ' + str(R2_GS))\n",
    "\n",
    "# Computing and printing Root Mean Squared Error\n",
    "GS_rmse = np.sqrt(mean_squared_error(GS_y_test, GS_y_pred))\n",
    "print('Root Mean Squared Error: ' + str(GS_rmse))"
   ]
  },
  {
   "cell_type": "code",
   "execution_count": 8,
   "metadata": {
    "collapsed": false
   },
   "outputs": [
    {
     "data": {
      "text/plain": [
       "a                                 -0.000000\n",
       "Nintendo 3DS                       0.000000\n",
       "Game Boy Advance                  -0.000000\n",
       "Variety                           -0.000000\n",
       "Strategy                          -0.000000\n",
       "Sports                            -0.000000\n",
       "Simulation                        -0.000000\n",
       "Shooter                            0.000000\n",
       "RPG                                0.000000\n",
       "Racing                            -0.000000\n",
       "Puzzler                           -0.000000\n",
       "Platformer                         0.000000\n",
       "Fighter                           -0.000000\n",
       "Adventure                         -0.000000\n",
       "Action                             0.000000\n",
       "User_Count                         0.000000\n",
       "Average_User_Score                -0.000000\n",
       "Critic_Score                       0.000000\n",
       "zombi                              0.000000\n",
       "zero                              -0.000000\n",
       "Nintendo DS                        0.000000\n",
       "zelda                              0.000000\n",
       "Nintendo GameCube                 -0.000000\n",
       "Nintendo Wii U                     0.000000\n",
       "Publisher_Activision Blizzard     -0.000000\n",
       "Publisher_Activision               0.000000\n",
       "Publisher_Acclaim Entertainment   -0.000000\n",
       "Publisher_AQ Interactive          -0.000000\n",
       "Publisher_505 Games               -0.000000\n",
       "Publisher_3DO                     -0.000000\n",
       "                                     ...   \n",
       "last                              -0.000000\n",
       "lame                              -0.000000\n",
       "lag                                0.000000\n",
       "lack                               0.000000\n",
       "line                               0.000000\n",
       "linear                             0.000000\n",
       "list                              -0.000000\n",
       "listen                             0.000000\n",
       "major                              0.000000\n",
       "main                               0.000000\n",
       "magic                              0.000000\n",
       "made                               0.000000\n",
       "madden                             0.000000\n",
       "lower                             -0.000000\n",
       "low                                0.000000\n",
       "love                              -0.000000\n",
       "man                               -0.000000\n",
       "lot                               -0.000000\n",
       "lose                               0.000000\n",
       "lore                              -0.000000\n",
       "loot                              -0.000000\n",
       "look                              -0.000000\n",
       "longer                             0.000000\n",
       "long                              -0.000000\n",
       "load                              -0.000000\n",
       "live                              -0.000000\n",
       "liter                             -0.000000\n",
       "lost                               0.000000\n",
       "Rating_T                          -0.000000\n",
       "Critic_Count                       0.000269\n",
       "Length: 1500, dtype: float64"
      ]
     },
     "execution_count": 8,
     "metadata": {},
     "output_type": "execute_result"
    }
   ],
   "source": [
    "GS_CV.best_estimator_.coef_\n",
    "\n",
    "pd.Series(GS_CV.best_estimator_.coef_, index=GS_X.columns).sort_values()"
   ]
  },
  {
   "cell_type": "code",
   "execution_count": 9,
   "metadata": {
    "collapsed": false
   },
   "outputs": [
    {
     "name": "stdout",
     "output_type": "stream",
     "text": [
      "Score: 0.416722914171\n",
      "Root Mean Squared Error: 2.74341996991\n"
     ]
    }
   ],
   "source": [
    "# Trying a Random Forest Regressor\n",
    "GS_rf = RandomForestRegressor(n_estimators=1000, random_state=42)\n",
    "\n",
    "GS_rf.fit(GS_X_train, GS_y_train)\n",
    "\n",
    "GS_rf_pred = GS_rf.predict(GS_X_test)\n",
    "\n",
    "GS_rf_R2 = GS_rf.score(GS_X_test, GS_y_test)\n",
    "GS_rf_rmse = np.sqrt(mean_squared_error(GS_y_test, GS_rf_pred))\n",
    "\n",
    "print('R squared: ' + str(GS_rf_R2))\n",
    "print('Root Mean Squared Error: ' + str(GS_rf_rmse))"
   ]
  },
  {
   "cell_type": "code",
   "execution_count": 10,
   "metadata": {
    "collapsed": false
   },
   "outputs": [
    {
     "data": {
      "text/plain": [
       "Developer_Koei/Inis                   0.000000\n",
       "Developer_Core Design Ltd.            0.000000\n",
       "choic                                 0.000000\n",
       "Developer_Croteam                     0.000000\n",
       "experienc                             0.000000\n",
       "Publisher_1C Company                  0.000000\n",
       "Publisher_2D Boy                      0.000000\n",
       "Developer_The Coalition               0.000000\n",
       "industri                              0.000000\n",
       "compar                                0.000000\n",
       "Developer_Ryu ga Gotoku Studios       0.000000\n",
       "Developer_Dimps Corporation           0.000000\n",
       "Publisher_BAM! Entertainment          0.000000\n",
       "Publisher_Blue Byte                   0.000000\n",
       "Publisher_Codemasters Online          0.000000\n",
       "experi                                0.000000\n",
       "incr                                  0.000000\n",
       "Developer_Dreamworks Interactive      0.000000\n",
       "Publisher_Devolver Digital            0.000000\n",
       "Developer_Runic Games                 0.000000\n",
       "Developer_Orbital Media, Inc.         0.000000\n",
       "Publisher_DreamCatcher Interactive    0.000000\n",
       "Publisher_Empire Interactive          0.000000\n",
       "Publisher_Enix Corporation            0.000000\n",
       "Publisher_Focus Home Interactive      0.000000\n",
       "Developer_EA Mythic                   0.000000\n",
       "Publisher_GOA                         0.000000\n",
       "Publisher_Gathering of Developers     0.000000\n",
       "Developer_Vanilla Ware                0.000000\n",
       "Developer_Silicon Studio              0.000000\n",
       "                                        ...   \n",
       "you                                   0.003138\n",
       "Developer_Rockstar North              0.003569\n",
       "PlayStation 2                         0.003704\n",
       "hype                                  0.004270\n",
       "kid                                   0.004409\n",
       "formula                               0.004679\n",
       "fifa                                  0.004753\n",
       "modern                                0.004775\n",
       "cod                                   0.005543\n",
       "star                                  0.005559\n",
       "gta                                   0.005706\n",
       "steam                                 0.007473\n",
       "power                                 0.008047\n",
       "grand                                 0.008475\n",
       "drive                                 0.008580\n",
       "Developer_Polyphony Digital           0.010041\n",
       "fanboy                                0.010105\n",
       "perk                                  0.010862\n",
       "car                                   0.011515\n",
       "a                                     0.013038\n",
       "black                                 0.019602\n",
       "Critic_Count                          0.019955\n",
       "hasnt                                 0.020807\n",
       "engin                                 0.021542\n",
       "PC                                    0.048671\n",
       "mw                                    0.052336\n",
       "User_Count                            0.058352\n",
       "super                                 0.058801\n",
       "Critic_Score                          0.065335\n",
       "mario                                 0.075778\n",
       "Length: 1500, dtype: float64"
      ]
     },
     "execution_count": 10,
     "metadata": {},
     "output_type": "execute_result"
    }
   ],
   "source": [
    "pd.Series(GS_rf.feature_importances_, index=GS_X.columns).sort_values()"
   ]
  },
  {
   "cell_type": "code",
   "execution_count": 25,
   "metadata": {
    "collapsed": false
   },
   "outputs": [
    {
     "name": "stdout",
     "output_type": "stream",
     "text": [
      "R squared: -0.0142483514671\n",
      "Root Mean Squared Error: 3.61765371255\n"
     ]
    }
   ],
   "source": [
    "# Trying a Decision Tree\n",
    "c_space = np.logspace(-5, 5, 10)\n",
    "GS_PG = {'max_depth': c_space}\n",
    "\n",
    "GS_DT = DecisionTreeRegressor()\n",
    "\n",
    "# Using GridSearchCV to help avoid overfitting\n",
    "GS_CV_DT = GridSearchCV(GS_DT, GS_PG, cv=5)\n",
    "\n",
    "# Fitting the data\n",
    "GS_CV_DT.fit(GS_X_train, GS_y_train)\n",
    "\n",
    "# Setting up prediction based on testing data for X\n",
    "GS_y_pred = GS_CV_DT.predict(GS_X_test)\n",
    "\n",
    "# Printing R Squared\n",
    "R2_GS_DT = GS_CV_DT.score(GS_X_test, GS_y_test)\n",
    "print('R squared: ' + str(R2_GS_DT))\n",
    "\n",
    "# Computing and printing Root Mean Squared Error\n",
    "GS_rmse_DT = np.sqrt(mean_squared_error(GS_y_test, GS_y_pred))\n",
    "print('Root Mean Squared Error: ' + str(GS_rmse_DT))"
   ]
  },
  {
   "cell_type": "code",
   "execution_count": 28,
   "metadata": {
    "collapsed": false
   },
   "outputs": [
    {
     "data": {
      "text/plain": [
       "Rating_T                           0.0\n",
       "lost                               0.0\n",
       "liter                              0.0\n",
       "live                               0.0\n",
       "load                               0.0\n",
       "long                               0.0\n",
       "longer                             0.0\n",
       "look                               0.0\n",
       "loot                               0.0\n",
       "lore                               0.0\n",
       "lose                               0.0\n",
       "lot                                0.0\n",
       "mani                               0.0\n",
       "love                               0.0\n",
       "low                                0.0\n",
       "lower                              0.0\n",
       "madden                             0.0\n",
       "made                               0.0\n",
       "magic                              0.0\n",
       "main                               0.0\n",
       "major                              0.0\n",
       "make                               0.0\n",
       "listen                             0.0\n",
       "list                               0.0\n",
       "linear                             0.0\n",
       "line                               0.0\n",
       "lack                               0.0\n",
       "lag                                0.0\n",
       "lame                               0.0\n",
       "last                               0.0\n",
       "                                  ... \n",
       "Publisher_3DO                      0.0\n",
       "Publisher_505 Games                0.0\n",
       "Publisher_AQ Interactive           0.0\n",
       "Publisher_Acclaim Entertainment    0.0\n",
       "Publisher_Activision               0.0\n",
       "Publisher_Activision Blizzard      0.0\n",
       "Nintendo Wii U                     0.0\n",
       "Nintendo GameCube                  0.0\n",
       "zero                               0.0\n",
       "Nintendo DS                        0.0\n",
       "zombi                              0.0\n",
       "Critic_Score                       0.0\n",
       "Critic_Count                       0.0\n",
       "Average_User_Score                 0.0\n",
       "User_Count                         0.0\n",
       "Action                             0.0\n",
       "Adventure                          0.0\n",
       "Fighter                            0.0\n",
       "Platformer                         0.0\n",
       "Puzzler                            0.0\n",
       "Racing                             0.0\n",
       "RPG                                0.0\n",
       "Shooter                            0.0\n",
       "Simulation                         0.0\n",
       "Sports                             0.0\n",
       "Strategy                           0.0\n",
       "Variety                            0.0\n",
       "Game Boy Advance                   0.0\n",
       "Nintendo 3DS                       0.0\n",
       "a                                  0.0\n",
       "Length: 1500, dtype: float64"
      ]
     },
     "execution_count": 28,
     "metadata": {},
     "output_type": "execute_result"
    }
   ],
   "source": [
    "pd.Series(GS_CV_DT.best_estimator_.feature_importances_, index=GS_X.columns).sort_values(ascending=False)"
   ]
  },
  {
   "cell_type": "code",
   "execution_count": 23,
   "metadata": {
    "collapsed": false
   },
   "outputs": [
    {
     "name": "stdout",
     "output_type": "stream",
     "text": [
      "R squared: 0.0663719764065\n",
      "Root Mean Squared Error: 3.47089741046\n"
     ]
    }
   ],
   "source": [
    "# Trying SVM\n",
    "c_space = np.logspace(-5, 5, 10)\n",
    "GS_PG = {'gamma': c_space}\n",
    "\n",
    "GS_SVM = SVR()\n",
    "\n",
    "# Using GridSearchCV to help avoid overfitting\n",
    "GS_CV_SVM = GridSearchCV(GS_SVM, GS_PG, cv=5)\n",
    "\n",
    "# Fitting the data\n",
    "GS_CV_SVM.fit(GS_X_train, GS_y_train)\n",
    "\n",
    "# Setting up prediction based on testing data for X\n",
    "GS_y_pred = GS_CV_SVM.predict(GS_X_test)\n",
    "\n",
    "# Printing R Squared\n",
    "R2_GS_SVM = GS_CV_SVM.score(GS_X_test, GS_y_test)\n",
    "print('R squared: ' + str(R2_GS_SVM))\n",
    "\n",
    "# Computing and printing Root Mean Squared Error\n",
    "GS_rmse_SVM = np.sqrt(mean_squared_error(GS_y_test, GS_y_pred))\n",
    "print('Root Mean Squared Error: ' + str(GS_rmse_SVM))"
   ]
  },
  {
   "cell_type": "code",
   "execution_count": 32,
   "metadata": {
    "collapsed": false
   },
   "outputs": [
    {
     "data": {
      "text/plain": [
       "Rating_T                           0.0\n",
       "lost                               0.0\n",
       "liter                              0.0\n",
       "live                               0.0\n",
       "load                               0.0\n",
       "long                               0.0\n",
       "longer                             0.0\n",
       "look                               0.0\n",
       "loot                               0.0\n",
       "lore                               0.0\n",
       "lose                               0.0\n",
       "lot                                0.0\n",
       "mani                               0.0\n",
       "love                               0.0\n",
       "low                                0.0\n",
       "lower                              0.0\n",
       "madden                             0.0\n",
       "made                               0.0\n",
       "magic                              0.0\n",
       "main                               0.0\n",
       "major                              0.0\n",
       "make                               0.0\n",
       "listen                             0.0\n",
       "list                               0.0\n",
       "linear                             0.0\n",
       "line                               0.0\n",
       "lack                               0.0\n",
       "lag                                0.0\n",
       "lame                               0.0\n",
       "last                               0.0\n",
       "                                  ... \n",
       "Publisher_3DO                      0.0\n",
       "Publisher_505 Games                0.0\n",
       "Publisher_AQ Interactive           0.0\n",
       "Publisher_Acclaim Entertainment    0.0\n",
       "Publisher_Activision               0.0\n",
       "Publisher_Activision Blizzard      0.0\n",
       "Nintendo Wii U                     0.0\n",
       "Nintendo GameCube                  0.0\n",
       "zero                               0.0\n",
       "Nintendo DS                        0.0\n",
       "zombi                              0.0\n",
       "Critic_Score                       0.0\n",
       "Critic_Count                       0.0\n",
       "Average_User_Score                 0.0\n",
       "User_Count                         0.0\n",
       "Action                             0.0\n",
       "Adventure                          0.0\n",
       "Fighter                            0.0\n",
       "Platformer                         0.0\n",
       "Puzzler                            0.0\n",
       "Racing                             0.0\n",
       "RPG                                0.0\n",
       "Shooter                            0.0\n",
       "Simulation                         0.0\n",
       "Sports                             0.0\n",
       "Strategy                           0.0\n",
       "Variety                            0.0\n",
       "Game Boy Advance                   0.0\n",
       "Nintendo 3DS                       0.0\n",
       "a                                  0.0\n",
       "Length: 1500, dtype: float64"
      ]
     },
     "execution_count": 32,
     "metadata": {},
     "output_type": "execute_result"
    }
   ],
   "source": [
    "pd.Series(GS_CV_SVM.best_estimator_.coef0, index=GS_X.columns).sort_values(ascending=False)"
   ]
  },
  {
   "cell_type": "code",
   "execution_count": 38,
   "metadata": {
    "collapsed": false
   },
   "outputs": [
    {
     "name": "stdout",
     "output_type": "stream",
     "text": [
      "R squared: 0.4287163693\n",
      "Root Mean Squared Error: 3.47089741046\n"
     ]
    }
   ],
   "source": [
    "# Trying Gradient Boosting Regressor\n",
    "#c_space = np.logspace(-5, 5, 10)\n",
    "#GS_PG = {'gamma': c_space}\n",
    "\n",
    "GS_GBR = GradientBoostingRegressor()\n",
    "\n",
    "# Using GridSearchCV to help avoid overfitting\n",
    "#GS_CV_SVM = GridSearchCV(GS_SVM, GS_PG, cv=5)\n",
    "\n",
    "# Fitting the data\n",
    "GS_GBR.fit(GS_X_train, GS_y_train)\n",
    "\n",
    "# Setting up prediction based on testing data for X\n",
    "GS_y_pred = GS_GBR.predict(GS_X_test)\n",
    "\n",
    "# Printing R Squared\n",
    "R2_GS_GBR = GS_GBR.score(GS_X_test, GS_y_test)\n",
    "print('R squared: ' + str(R2_GS_GBR))\n",
    "\n",
    "# Computing and printing Root Mean Squared Error\n",
    "GS_rmse_GBR = np.sqrt(mean_squared_error(GS_y_test, GS_y_pred))\n",
    "print('Root Mean Squared Error: ' + str(GS_rmse_SVM))"
   ]
  },
  {
   "cell_type": "code",
   "execution_count": 40,
   "metadata": {
    "collapsed": false
   },
   "outputs": [
    {
     "data": {
      "text/plain": [
       "PC                                      0.035417\n",
       "Critic_Score                            0.034390\n",
       "User_Count                              0.029901\n",
       "mario                                   0.026426\n",
       "super                                   0.018627\n",
       "PlayStation                             0.018310\n",
       "fifa                                    0.016960\n",
       "PlayStation 2                           0.014915\n",
       "star                                    0.013042\n",
       "perk                                    0.012920\n",
       "engin                                   0.012679\n",
       "power                                   0.012264\n",
       "a                                       0.011800\n",
       "mw                                      0.011581\n",
       "Critic_Count                            0.011302\n",
       "scale                                   0.010526\n",
       "career                                  0.010409\n",
       "video                                   0.009875\n",
       "formula                                 0.009806\n",
       "you                                     0.009580\n",
       "black                                   0.009506\n",
       "Developer_Polyphony Digital             0.009490\n",
       "style                                   0.009399\n",
       "hasnt                                   0.009070\n",
       "good                                    0.008699\n",
       "an                                      0.008274\n",
       "talk                                    0.008167\n",
       "clear                                   0.008151\n",
       "expand                                  0.007801\n",
       "freedom                                 0.007627\n",
       "                                          ...   \n",
       "Publisher_D3Publisher                   0.000000\n",
       "Publisher_Deep Silver                   0.000000\n",
       "Publisher_Devolver Digital              0.000000\n",
       "Publisher_Disney Interactive Studios    0.000000\n",
       "Publisher_DreamCatcher Interactive      0.000000\n",
       "Publisher_Eidos Interactive             0.000000\n",
       "Publisher_Empire Interactive            0.000000\n",
       "Publisher_Enix Corporation              0.000000\n",
       "Publisher_Aksys Games                   0.000000\n",
       "Publisher_Activision Blizzard           0.000000\n",
       "Publisher_Activision                    0.000000\n",
       "Publisher_Acclaim Entertainment         0.000000\n",
       "Nintendo 3DS                            0.000000\n",
       "Nintendo DS                             0.000000\n",
       "Nintendo GameCube                       0.000000\n",
       "Nintendo Wii                            0.000000\n",
       "Nintendo Wii U                          0.000000\n",
       "PlayStation 3                           0.000000\n",
       "PlayStation 4                           0.000000\n",
       "PlayStation Vita                        0.000000\n",
       "PSP                                     0.000000\n",
       "Sega Dreamcast                          0.000000\n",
       "Xbox                                    0.000000\n",
       "Xbox 360                                0.000000\n",
       "Publisher_1C Company                    0.000000\n",
       "Publisher_2D Boy                        0.000000\n",
       "Publisher_3DO                           0.000000\n",
       "Publisher_505 Games                     0.000000\n",
       "Publisher_AQ Interactive                0.000000\n",
       "shame                                   0.000000\n",
       "Length: 1500, dtype: float64"
      ]
     },
     "execution_count": 40,
     "metadata": {},
     "output_type": "execute_result"
    }
   ],
   "source": [
    "pd.Series(GS_GBR.feature_importances_, index=GS_X.columns).sort_values(ascending=False)"
   ]
  },
  {
   "cell_type": "markdown",
   "metadata": {},
   "source": [
    "** Trying same models when Global Sales is higher than the median.**"
   ]
  },
  {
   "cell_type": "code",
   "execution_count": 6,
   "metadata": {
    "collapsed": true
   },
   "outputs": [],
   "source": [
    "# Trying it with Global Sales higher than the Median\n",
    "GS_median = df['Global_Sales'].median()\n",
    "GS_median = df[df['Global_Sales'] >= GS_median]\n",
    "\n",
    "# Setting X and y for Global Sales\n",
    "GS_X = GS_median.drop(['Name', 'Platform', 'Year_of_Release', 'Genre', 'Global_Sales', 'NA_Sales', 'EU_Sales', 'JP_Sales', 'Other_Sales', 'index'], axis=1)\n",
    "GS_y = GS_median['Global_Sales']"
   ]
  },
  {
   "cell_type": "code",
   "execution_count": 7,
   "metadata": {
    "collapsed": true
   },
   "outputs": [],
   "source": [
    "# Splitting the data into Train and Test\n",
    "GS_X_train, GS_X_test, GS_y_train, GS_y_test = train_test_split(GS_X, GS_y, test_size = 0.2, random_state=42)"
   ]
  },
  {
   "cell_type": "code",
   "execution_count": 8,
   "metadata": {
    "collapsed": true
   },
   "outputs": [],
   "source": [
    "# Setting up parameter Alpha\n",
    "c_space = np.logspace(-5, 5, 10)\n",
    "GS_PG = {'alpha': c_space}\n",
    "\n",
    "# Setting up Lasso Regression Model\n",
    "GS_L = Lasso(alpha=0.4, normalize=True)\n",
    "\n",
    "# Using GridSearchCV to help avoid overfitting\n",
    "GS_CV = GridSearchCV(GS_L, GS_PG, cv=5)"
   ]
  },
  {
   "cell_type": "code",
   "execution_count": 9,
   "metadata": {
    "collapsed": false
   },
   "outputs": [
    {
     "name": "stderr",
     "output_type": "stream",
     "text": [
      "/Users/dwreiter/miniconda2/envs/tutorial/lib/python2.7/site-packages/sklearn/linear_model/coordinate_descent.py:491: ConvergenceWarning: Objective did not converge. You might want to increase the number of iterations. Fitting data with very small alpha may cause precision problems.\n",
      "  ConvergenceWarning)\n",
      "/Users/dwreiter/miniconda2/envs/tutorial/lib/python2.7/site-packages/sklearn/linear_model/coordinate_descent.py:491: ConvergenceWarning: Objective did not converge. You might want to increase the number of iterations. Fitting data with very small alpha may cause precision problems.\n",
      "  ConvergenceWarning)\n",
      "/Users/dwreiter/miniconda2/envs/tutorial/lib/python2.7/site-packages/sklearn/linear_model/coordinate_descent.py:491: ConvergenceWarning: Objective did not converge. You might want to increase the number of iterations. Fitting data with very small alpha may cause precision problems.\n",
      "  ConvergenceWarning)\n",
      "/Users/dwreiter/miniconda2/envs/tutorial/lib/python2.7/site-packages/sklearn/linear_model/coordinate_descent.py:491: ConvergenceWarning: Objective did not converge. You might want to increase the number of iterations. Fitting data with very small alpha may cause precision problems.\n",
      "  ConvergenceWarning)\n",
      "/Users/dwreiter/miniconda2/envs/tutorial/lib/python2.7/site-packages/sklearn/linear_model/coordinate_descent.py:491: ConvergenceWarning: Objective did not converge. You might want to increase the number of iterations. Fitting data with very small alpha may cause precision problems.\n",
      "  ConvergenceWarning)\n",
      "/Users/dwreiter/miniconda2/envs/tutorial/lib/python2.7/site-packages/sklearn/linear_model/coordinate_descent.py:491: ConvergenceWarning: Objective did not converge. You might want to increase the number of iterations. Fitting data with very small alpha may cause precision problems.\n",
      "  ConvergenceWarning)\n",
      "/Users/dwreiter/miniconda2/envs/tutorial/lib/python2.7/site-packages/sklearn/linear_model/coordinate_descent.py:491: ConvergenceWarning: Objective did not converge. You might want to increase the number of iterations. Fitting data with very small alpha may cause precision problems.\n",
      "  ConvergenceWarning)\n",
      "/Users/dwreiter/miniconda2/envs/tutorial/lib/python2.7/site-packages/sklearn/linear_model/coordinate_descent.py:491: ConvergenceWarning: Objective did not converge. You might want to increase the number of iterations. Fitting data with very small alpha may cause precision problems.\n",
      "  ConvergenceWarning)\n",
      "/Users/dwreiter/miniconda2/envs/tutorial/lib/python2.7/site-packages/sklearn/linear_model/coordinate_descent.py:491: ConvergenceWarning: Objective did not converge. You might want to increase the number of iterations. Fitting data with very small alpha may cause precision problems.\n",
      "  ConvergenceWarning)\n",
      "/Users/dwreiter/miniconda2/envs/tutorial/lib/python2.7/site-packages/sklearn/linear_model/coordinate_descent.py:491: ConvergenceWarning: Objective did not converge. You might want to increase the number of iterations. Fitting data with very small alpha may cause precision problems.\n",
      "  ConvergenceWarning)\n"
     ]
    },
    {
     "name": "stdout",
     "output_type": "stream",
     "text": [
      "Best Parameter for Global Sales Model: {'alpha': 0.021544346900318846}\n",
      "Best Score for Global Sales Model: 0.178347550291\n"
     ]
    }
   ],
   "source": [
    "# Fitting Training Data to model and finding best parameter as well as score\n",
    "GS_CV.fit(GS_X_train, GS_y_train)\n",
    "print('Best Parameter for Global Sales Model: ' + str(GS_CV.best_params_))\n",
    "print('Best Score for Global Sales Model: ' + str(GS_CV.best_score_))"
   ]
  },
  {
   "cell_type": "code",
   "execution_count": 10,
   "metadata": {
    "collapsed": false
   },
   "outputs": [
    {
     "name": "stdout",
     "output_type": "stream",
     "text": [
      "R squared: 0.213566808979\n",
      "Root Mean Squared Error: 3.40953809804\n"
     ]
    }
   ],
   "source": [
    "# Setting up prediction based on testing data for X\n",
    "GS_y_pred = GS_CV.predict(GS_X_test)\n",
    "\n",
    "# Printing R Squared\n",
    "R2_GS = GS_CV.score(GS_X_test, GS_y_test)\n",
    "print('R squared: ' + str(R2_GS))\n",
    "\n",
    "# Computing and printing Root Mean Squared Error\n",
    "GS_rmse = np.sqrt(mean_squared_error(GS_y_test, GS_y_pred))\n",
    "print('Root Mean Squared Error: ' + str(GS_rmse))"
   ]
  },
  {
   "cell_type": "code",
   "execution_count": 11,
   "metadata": {
    "collapsed": false
   },
   "outputs": [
    {
     "data": {
      "text/plain": [
       "a                                   0.000000\n",
       "Game Boy Advance                   -0.000000\n",
       "Variety                            -0.000000\n",
       "Strategy                           -0.000000\n",
       "Sports                             -0.000000\n",
       "Simulation                          0.000000\n",
       "Shooter                             0.000000\n",
       "RPG                                -0.000000\n",
       "Racing                              0.000000\n",
       "Puzzler                            -0.000000\n",
       "Platformer                          0.000000\n",
       "Fighter                            -0.000000\n",
       "Adventure                           0.000000\n",
       "Action                              0.000000\n",
       "Average_User_Score                 -0.000000\n",
       "zombi                              -0.000000\n",
       "zero                                0.000000\n",
       "zelda                               0.000000\n",
       "youv                                0.000000\n",
       "your                               -0.000000\n",
       "Nintendo 3DS                        0.000000\n",
       "youll                               0.000000\n",
       "Nintendo DS                         0.000000\n",
       "Nintendo Wii                        0.000000\n",
       "Publisher_Activision                0.000000\n",
       "Publisher_Acclaim Entertainment    -0.000000\n",
       "Publisher_AQ Interactive            0.000000\n",
       "Publisher_505 Games                 0.000000\n",
       "Publisher_3DO                       0.000000\n",
       "Publisher_2D Boy                    0.000000\n",
       "                                     ...    \n",
       "major                               0.000000\n",
       "live                               -0.000000\n",
       "liter                              -0.000000\n",
       "long                               -0.000000\n",
       "magic                               0.000000\n",
       "made                                0.000000\n",
       "madden                             -0.000000\n",
       "lower                               0.000000\n",
       "low                                -0.000000\n",
       "load                               -0.000000\n",
       "lot                                -0.000000\n",
       "love                               -0.000000\n",
       "lose                                0.000000\n",
       "longer                              0.000000\n",
       "lost                                0.000000\n",
       "loot                               -0.000000\n",
       "look                               -0.000000\n",
       "lore                               -0.000000\n",
       "User_Count                          0.000108\n",
       "Critic_Count                        0.000383\n",
       "Critic_Score                        0.045301\n",
       "Developer_Nintendo                  0.067623\n",
       "Developer_Polyphony Digital         0.845378\n",
       "cod                                 1.619931\n",
       "Developer_Rockstar North            2.472711\n",
       "black                               2.616357\n",
       "kart                                3.996504\n",
       "mario                               7.412531\n",
       "grand                               7.788360\n",
       "mw                                 25.110133\n",
       "Length: 1500, dtype: float64"
      ]
     },
     "execution_count": 11,
     "metadata": {},
     "output_type": "execute_result"
    }
   ],
   "source": [
    "GS_CV.best_estimator_.coef_\n",
    "\n",
    "pd.Series(GS_CV.best_estimator_.coef_, index=GS_X.columns).sort_values()"
   ]
  },
  {
   "cell_type": "code",
   "execution_count": 12,
   "metadata": {
    "collapsed": false
   },
   "outputs": [
    {
     "name": "stdout",
     "output_type": "stream",
     "text": [
      "R squared: 0.446112871477\n",
      "Root Mean Squared Error: 2.86137821844\n"
     ]
    }
   ],
   "source": [
    "# Trying a Random Forest Regressor\n",
    "GS_rf = RandomForestRegressor(n_estimators=1000, random_state=42)\n",
    "\n",
    "GS_rf.fit(GS_X_train, GS_y_train)\n",
    "\n",
    "GS_rf_pred = GS_rf.predict(GS_X_test)\n",
    "\n",
    "GS_rf_R2 = GS_rf.score(GS_X_test, GS_y_test)\n",
    "GS_rf_rmse = np.sqrt(mean_squared_error(GS_y_test, GS_rf_pred))\n",
    "\n",
    "print('R squared: ' + str(GS_rf_R2))\n",
    "print('Root Mean Squared Error: ' + str(GS_rf_rmse))"
   ]
  },
  {
   "cell_type": "code",
   "execution_count": 13,
   "metadata": {
    "collapsed": false
   },
   "outputs": [
    {
     "data": {
      "text/plain": [
       "Developer_Frontier Developments                         0.000000\n",
       "Developer_Nintendo, Headstrong Games                    0.000000\n",
       "Developer_Nippon Ichi Software                          0.000000\n",
       "Developer_1st Playable Productions                      0.000000\n",
       "Developer_Nitro+                                        0.000000\n",
       "Developer_Nixxes Software                               0.000000\n",
       "Developer_1C: Maddox Games                              0.000000\n",
       "Developer_1C, 1C Company                                0.000000\n",
       "Developer_Nordic Games Publishing                       0.000000\n",
       "Publisher_inXile Entertainment                          0.000000\n",
       "Publisher_Zoo Digital Publishing                        0.000000\n",
       "Publisher_Yacht Club Games                              0.000000\n",
       "Developer_Number None Inc., Knockout Games              0.000000\n",
       "Developer_Opus                                          0.000000\n",
       "Developer_Opus, Project Sora                            0.000000\n",
       "Developer_Orbital Media, Inc.                           0.000000\n",
       "sequenc                                                 0.000000\n",
       "Developer_Overworks                                     0.000000\n",
       "Developer_PLAYGROUND, Playground Games                  0.000000\n",
       "Developer_Pam Development                               0.000000\n",
       "Publisher_Wanadoo                                       0.000000\n",
       "Developer_People Can Fly                                0.000000\n",
       "Developer_2D Boy                                        0.000000\n",
       "Developer_Nintendo EAD Tokyo                            0.000000\n",
       "Developer_2K Czech                                      0.000000\n",
       "Developer_Nicalis                                       0.000000\n",
       "Developer_Massive Entertainment                         0.000000\n",
       "Developer_Maxis                                         0.000000\n",
       "Developer_Metanet Software Inc., SilverBirch Studios    0.000000\n",
       "Developer_Arc System Works                              0.000000\n",
       "                                                          ...   \n",
       "street                                                  0.003424\n",
       "and                                                     0.003502\n",
       "black                                                   0.003681\n",
       "fight                                                   0.003755\n",
       "feel                                                    0.003817\n",
       "kid                                                     0.003819\n",
       "second                                                  0.004010\n",
       "day                                                     0.004216\n",
       "san                                                     0.004581\n",
       "power                                                   0.004637\n",
       "drive                                                   0.004866\n",
       "a                                                       0.005249\n",
       "madden                                                  0.005873\n",
       "lead                                                    0.006343\n",
       "fanboy                                                  0.006766\n",
       "modern                                                  0.008357\n",
       "place                                                   0.009062\n",
       "gta                                                     0.009706\n",
       "grand                                                   0.012582\n",
       "cod                                                     0.013946\n",
       "car                                                     0.015751\n",
       "Developer_Polyphony Digital                             0.022986\n",
       "Developer_Rockstar North                                0.028217\n",
       "call                                                    0.028224\n",
       "mw                                                      0.037707\n",
       "mario                                                   0.044861\n",
       "kart                                                    0.045788\n",
       "super                                                   0.050669\n",
       "Critic_Score                                            0.050699\n",
       "User_Count                                              0.080572\n",
       "Length: 1500, dtype: float64"
      ]
     },
     "execution_count": 13,
     "metadata": {},
     "output_type": "execute_result"
    }
   ],
   "source": [
    "pd.Series(GS_rf.feature_importances_, index=GS_X.columns).sort_values()"
   ]
  },
  {
   "cell_type": "code",
   "execution_count": 14,
   "metadata": {
    "collapsed": false
   },
   "outputs": [
    {
     "name": "stdout",
     "output_type": "stream",
     "text": [
      "R squared: -0.00808910429681\n",
      "Root Mean Squared Error: 3.86023808185\n"
     ]
    }
   ],
   "source": [
    "# Trying a Decision Tree\n",
    "c_space = np.logspace(-5, 5, 10)\n",
    "GS_PG = {'max_depth': c_space}\n",
    "\n",
    "GS_DT = DecisionTreeRegressor()\n",
    "\n",
    "# Using GridSearchCV to help avoid overfitting\n",
    "GS_CV_DT = GridSearchCV(GS_DT, GS_PG, cv=5)\n",
    "\n",
    "# Fitting the data\n",
    "GS_CV_DT.fit(GS_X_train, GS_y_train)\n",
    "\n",
    "# Setting up prediction based on testing data for X\n",
    "GS_y_pred = GS_CV_DT.predict(GS_X_test)\n",
    "\n",
    "# Printing R Squared\n",
    "R2_GS_DT = GS_CV_DT.score(GS_X_test, GS_y_test)\n",
    "print('R squared: ' + str(R2_GS_DT))\n",
    "\n",
    "# Computing and printing Root Mean Squared Error\n",
    "GS_rmse_DT = np.sqrt(mean_squared_error(GS_y_test, GS_y_pred))\n",
    "print('Root Mean Squared Error: ' + str(GS_rmse_DT))"
   ]
  },
  {
   "cell_type": "code",
   "execution_count": 15,
   "metadata": {
    "collapsed": false
   },
   "outputs": [
    {
     "data": {
      "text/plain": [
       "Rating_T                           0.0\n",
       "lost                               0.0\n",
       "liter                              0.0\n",
       "live                               0.0\n",
       "load                               0.0\n",
       "long                               0.0\n",
       "longer                             0.0\n",
       "look                               0.0\n",
       "loot                               0.0\n",
       "lore                               0.0\n",
       "lose                               0.0\n",
       "lot                                0.0\n",
       "mani                               0.0\n",
       "love                               0.0\n",
       "low                                0.0\n",
       "lower                              0.0\n",
       "madden                             0.0\n",
       "made                               0.0\n",
       "magic                              0.0\n",
       "main                               0.0\n",
       "major                              0.0\n",
       "make                               0.0\n",
       "listen                             0.0\n",
       "list                               0.0\n",
       "linear                             0.0\n",
       "line                               0.0\n",
       "lack                               0.0\n",
       "lag                                0.0\n",
       "lame                               0.0\n",
       "last                               0.0\n",
       "                                  ... \n",
       "Publisher_3DO                      0.0\n",
       "Publisher_505 Games                0.0\n",
       "Publisher_AQ Interactive           0.0\n",
       "Publisher_Acclaim Entertainment    0.0\n",
       "Publisher_Activision               0.0\n",
       "Publisher_Activision Blizzard      0.0\n",
       "Nintendo Wii U                     0.0\n",
       "Nintendo GameCube                  0.0\n",
       "zero                               0.0\n",
       "Nintendo DS                        0.0\n",
       "zombi                              0.0\n",
       "Critic_Score                       0.0\n",
       "Critic_Count                       0.0\n",
       "Average_User_Score                 0.0\n",
       "User_Count                         0.0\n",
       "Action                             0.0\n",
       "Adventure                          0.0\n",
       "Fighter                            0.0\n",
       "Platformer                         0.0\n",
       "Puzzler                            0.0\n",
       "Racing                             0.0\n",
       "RPG                                0.0\n",
       "Shooter                            0.0\n",
       "Simulation                         0.0\n",
       "Sports                             0.0\n",
       "Strategy                           0.0\n",
       "Variety                            0.0\n",
       "Game Boy Advance                   0.0\n",
       "Nintendo 3DS                       0.0\n",
       "a                                  0.0\n",
       "Length: 1500, dtype: float64"
      ]
     },
     "execution_count": 15,
     "metadata": {},
     "output_type": "execute_result"
    }
   ],
   "source": [
    "pd.Series(GS_CV_DT.best_estimator_.feature_importances_, index=GS_X.columns).sort_values(ascending=False)"
   ]
  },
  {
   "cell_type": "code",
   "execution_count": 16,
   "metadata": {
    "collapsed": false
   },
   "outputs": [
    {
     "name": "stdout",
     "output_type": "stream",
     "text": [
      "R squared: 0.0343414112105\n",
      "Root Mean Squared Error: 3.77812597121\n"
     ]
    }
   ],
   "source": [
    "# Trying SVM\n",
    "c_space = np.logspace(-5, 5, 10)\n",
    "GS_PG = {'gamma': c_space}\n",
    "\n",
    "GS_SVM = SVR()\n",
    "\n",
    "# Using GridSearchCV to help avoid overfitting\n",
    "GS_CV_SVM = GridSearchCV(GS_SVM, GS_PG, cv=5)\n",
    "\n",
    "# Fitting the data\n",
    "GS_CV_SVM.fit(GS_X_train, GS_y_train)\n",
    "\n",
    "# Setting up prediction based on testing data for X\n",
    "GS_y_pred = GS_CV_SVM.predict(GS_X_test)\n",
    "\n",
    "# Printing R Squared\n",
    "R2_GS_SVM = GS_CV_SVM.score(GS_X_test, GS_y_test)\n",
    "print('R squared: ' + str(R2_GS_SVM))\n",
    "\n",
    "# Computing and printing Root Mean Squared Error\n",
    "GS_rmse_SVM = np.sqrt(mean_squared_error(GS_y_test, GS_y_pred))\n",
    "print('Root Mean Squared Error: ' + str(GS_rmse_SVM))"
   ]
  },
  {
   "cell_type": "code",
   "execution_count": 17,
   "metadata": {
    "collapsed": false
   },
   "outputs": [
    {
     "data": {
      "text/plain": [
       "Rating_T                           0.0\n",
       "lost                               0.0\n",
       "liter                              0.0\n",
       "live                               0.0\n",
       "load                               0.0\n",
       "long                               0.0\n",
       "longer                             0.0\n",
       "look                               0.0\n",
       "loot                               0.0\n",
       "lore                               0.0\n",
       "lose                               0.0\n",
       "lot                                0.0\n",
       "mani                               0.0\n",
       "love                               0.0\n",
       "low                                0.0\n",
       "lower                              0.0\n",
       "madden                             0.0\n",
       "made                               0.0\n",
       "magic                              0.0\n",
       "main                               0.0\n",
       "major                              0.0\n",
       "make                               0.0\n",
       "listen                             0.0\n",
       "list                               0.0\n",
       "linear                             0.0\n",
       "line                               0.0\n",
       "lack                               0.0\n",
       "lag                                0.0\n",
       "lame                               0.0\n",
       "last                               0.0\n",
       "                                  ... \n",
       "Publisher_3DO                      0.0\n",
       "Publisher_505 Games                0.0\n",
       "Publisher_AQ Interactive           0.0\n",
       "Publisher_Acclaim Entertainment    0.0\n",
       "Publisher_Activision               0.0\n",
       "Publisher_Activision Blizzard      0.0\n",
       "Nintendo Wii U                     0.0\n",
       "Nintendo GameCube                  0.0\n",
       "zero                               0.0\n",
       "Nintendo DS                        0.0\n",
       "zombi                              0.0\n",
       "Critic_Score                       0.0\n",
       "Critic_Count                       0.0\n",
       "Average_User_Score                 0.0\n",
       "User_Count                         0.0\n",
       "Action                             0.0\n",
       "Adventure                          0.0\n",
       "Fighter                            0.0\n",
       "Platformer                         0.0\n",
       "Puzzler                            0.0\n",
       "Racing                             0.0\n",
       "RPG                                0.0\n",
       "Shooter                            0.0\n",
       "Simulation                         0.0\n",
       "Sports                             0.0\n",
       "Strategy                           0.0\n",
       "Variety                            0.0\n",
       "Game Boy Advance                   0.0\n",
       "Nintendo 3DS                       0.0\n",
       "a                                  0.0\n",
       "Length: 1500, dtype: float64"
      ]
     },
     "execution_count": 17,
     "metadata": {},
     "output_type": "execute_result"
    }
   ],
   "source": [
    "pd.Series(GS_CV_SVM.best_estimator_.coef0, index=GS_X.columns).sort_values(ascending=False)"
   ]
  },
  {
   "cell_type": "code",
   "execution_count": 18,
   "metadata": {
    "collapsed": false
   },
   "outputs": [
    {
     "name": "stdout",
     "output_type": "stream",
     "text": [
      "R squared: 0.470182029683\n",
      "Root Mean Squared Error: 3.77812597121\n"
     ]
    }
   ],
   "source": [
    "# Trying Gradient Boosting Regressor\n",
    "#c_space = np.logspace(-5, 5, 10)\n",
    "#GS_PG = {'gamma': c_space}\n",
    "\n",
    "GS_GBR = GradientBoostingRegressor()\n",
    "\n",
    "# Using GridSearchCV to help avoid overfitting\n",
    "#GS_CV_SVM = GridSearchCV(GS_SVM, GS_PG, cv=5)\n",
    "\n",
    "# Fitting the data\n",
    "GS_GBR.fit(GS_X_train, GS_y_train)\n",
    "\n",
    "# Setting up prediction based on testing data for X\n",
    "GS_y_pred = GS_GBR.predict(GS_X_test)\n",
    "\n",
    "# Printing R Squared\n",
    "R2_GS_GBR = GS_GBR.score(GS_X_test, GS_y_test)\n",
    "print('R squared: ' + str(R2_GS_GBR))\n",
    "\n",
    "# Computing and printing Root Mean Squared Error\n",
    "GS_rmse_GBR = np.sqrt(mean_squared_error(GS_y_test, GS_y_pred))\n",
    "print('Root Mean Squared Error: ' + str(GS_rmse_SVM))"
   ]
  },
  {
   "cell_type": "code",
   "execution_count": 19,
   "metadata": {
    "collapsed": false
   },
   "outputs": [
    {
     "data": {
      "text/plain": [
       "kart                             0.035777\n",
       "User_Count                       0.028737\n",
       "Critic_Score                     0.023019\n",
       "mario                            0.020494\n",
       "car                              0.020034\n",
       "PlayStation 2                    0.016205\n",
       "steam                            0.016083\n",
       "grand                            0.015130\n",
       "fifa                             0.013634\n",
       "friend                           0.012409\n",
       "call                             0.012138\n",
       "Nintendo DS                      0.010963\n",
       "place                            0.010375\n",
       "fanboy                           0.010230\n",
       "mw                               0.009603\n",
       "evil                             0.009229\n",
       "port                             0.009055\n",
       "touch                            0.009005\n",
       "super                            0.008938\n",
       "video                            0.008794\n",
       "contain                          0.008782\n",
       "gameplay                         0.008647\n",
       "style                            0.008421\n",
       "Developer_Polyphony Digital      0.008262\n",
       "dark                             0.008178\n",
       "bigger                           0.007948\n",
       "option                           0.007741\n",
       "dull                             0.007650\n",
       "guess                            0.007370\n",
       "well                             0.007296\n",
       "                                   ...   \n",
       "stun                             0.000000\n",
       "stupid                           0.000000\n",
       "Developer_Irrational Games       0.000000\n",
       "success                          0.000000\n",
       "Developer_Ironclad Games         0.000000\n",
       "Developer_Ion Storm              0.000000\n",
       "Developer_Io Interactive         0.000000\n",
       "suit                             0.000000\n",
       "Developer_Inti                   0.000000\n",
       "superb                           0.000000\n",
       "Developer_Intelligent Systems    0.000000\n",
       "straight                         0.000000\n",
       "storylin                         0.000000\n",
       "stori                            0.000000\n",
       "state                            0.000000\n",
       "stage                            0.000000\n",
       "stand                            0.000000\n",
       "standard                         0.000000\n",
       "Developer_KING Art               0.000000\n",
       "start                            0.000000\n",
       "stat                             0.000000\n",
       "stay                             0.000000\n",
       "Developer_Jupiter Corporation    0.000000\n",
       "stealth                          0.000000\n",
       "Developer_KCET                   0.000000\n",
       "step                             0.000000\n",
       "Developer_KCEK                   0.000000\n",
       "Developer_KCEJ                   0.000000\n",
       "stop                             0.000000\n",
       "Rating_T                         0.000000\n",
       "Length: 1500, dtype: float64"
      ]
     },
     "execution_count": 19,
     "metadata": {},
     "output_type": "execute_result"
    }
   ],
   "source": [
    "pd.Series(GS_GBR.feature_importances_, index=GS_X.columns).sort_values(ascending=False)"
   ]
  }
 ],
 "metadata": {
  "kernelspec": {
   "display_name": "Python 2",
   "language": "python",
   "name": "python2"
  },
  "language_info": {
   "codemirror_mode": {
    "name": "ipython",
    "version": 2
   },
   "file_extension": ".py",
   "mimetype": "text/x-python",
   "name": "python",
   "nbconvert_exporter": "python",
   "pygments_lexer": "ipython2",
   "version": "2.7.11"
  }
 },
 "nbformat": 4,
 "nbformat_minor": 0
}
