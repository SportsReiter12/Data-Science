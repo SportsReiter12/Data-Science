{
 "cells": [
  {
   "cell_type": "code",
   "execution_count": 1,
   "metadata": {
    "collapsed": true
   },
   "outputs": [],
   "source": [
    "# Importing necessary packages\n",
    "%matplotlib inline\n",
    "import pandas as pd\n",
    "import numpy as np\n",
    "import matplotlib.pyplot as plt\n",
    "import seaborn as sns\n",
    "sns.set(rc={'figure.figsize':(11.7,8.27)})\n",
    "sns.set_style(\"whitegrid\")\n",
    "sns.set_context(\"poster\")\n",
    "c0=sns.color_palette()[0]\n",
    "c1=sns.color_palette()[1]\n",
    "c2=sns.color_palette()[2]\n",
    "from scipy import stats\n",
    "from scipy.stats import chisquare\n",
    "import matplotlib.pyplot as plt\n",
    "from matplotlib.colors import ListedColormap"
   ]
  },
  {
   "cell_type": "code",
   "execution_count": 2,
   "metadata": {
    "collapsed": false
   },
   "outputs": [
    {
     "data": {
      "text/html": [
       "<div>\n",
       "<style scoped>\n",
       "    .dataframe tbody tr th:only-of-type {\n",
       "        vertical-align: middle;\n",
       "    }\n",
       "\n",
       "    .dataframe tbody tr th {\n",
       "        vertical-align: top;\n",
       "    }\n",
       "\n",
       "    .dataframe thead th {\n",
       "        text-align: right;\n",
       "    }\n",
       "</style>\n",
       "<table border=\"1\" class=\"dataframe\">\n",
       "  <thead>\n",
       "    <tr style=\"text-align: right;\">\n",
       "      <th></th>\n",
       "      <th>Platform</th>\n",
       "      <th>Year_of_Release</th>\n",
       "      <th>Genre</th>\n",
       "      <th>Publisher</th>\n",
       "      <th>NA_Sales</th>\n",
       "      <th>EU_Sales</th>\n",
       "      <th>JP_Sales</th>\n",
       "      <th>Other_Sales</th>\n",
       "      <th>Global_Sales</th>\n",
       "      <th>Critic_Score</th>\n",
       "      <th>...</th>\n",
       "      <th>Playstation</th>\n",
       "      <th>Playstation 2</th>\n",
       "      <th>Playstation 3</th>\n",
       "      <th>Playstation 4</th>\n",
       "      <th>Playstation Vita</th>\n",
       "      <th>PSP</th>\n",
       "      <th>Sega Dreamcast</th>\n",
       "      <th>XBOX</th>\n",
       "      <th>XBOX 360</th>\n",
       "      <th>XBOX One</th>\n",
       "    </tr>\n",
       "    <tr>\n",
       "      <th>Name</th>\n",
       "      <th></th>\n",
       "      <th></th>\n",
       "      <th></th>\n",
       "      <th></th>\n",
       "      <th></th>\n",
       "      <th></th>\n",
       "      <th></th>\n",
       "      <th></th>\n",
       "      <th></th>\n",
       "      <th></th>\n",
       "      <th></th>\n",
       "      <th></th>\n",
       "      <th></th>\n",
       "      <th></th>\n",
       "      <th></th>\n",
       "      <th></th>\n",
       "      <th></th>\n",
       "      <th></th>\n",
       "      <th></th>\n",
       "      <th></th>\n",
       "      <th></th>\n",
       "    </tr>\n",
       "  </thead>\n",
       "  <tbody>\n",
       "    <tr>\n",
       "      <th>Wii Sports</th>\n",
       "      <td>Wii</td>\n",
       "      <td>2006</td>\n",
       "      <td>Sports</td>\n",
       "      <td>Nintendo</td>\n",
       "      <td>41.36</td>\n",
       "      <td>28.96</td>\n",
       "      <td>3.77</td>\n",
       "      <td>8.45</td>\n",
       "      <td>82.53</td>\n",
       "      <td>76.0</td>\n",
       "      <td>...</td>\n",
       "      <td>0</td>\n",
       "      <td>0</td>\n",
       "      <td>0</td>\n",
       "      <td>0</td>\n",
       "      <td>0</td>\n",
       "      <td>0</td>\n",
       "      <td>0</td>\n",
       "      <td>0</td>\n",
       "      <td>0</td>\n",
       "      <td>0</td>\n",
       "    </tr>\n",
       "    <tr>\n",
       "      <th>Mario Kart Wii</th>\n",
       "      <td>Wii</td>\n",
       "      <td>2008</td>\n",
       "      <td>Racing</td>\n",
       "      <td>Nintendo</td>\n",
       "      <td>15.68</td>\n",
       "      <td>12.76</td>\n",
       "      <td>3.79</td>\n",
       "      <td>3.29</td>\n",
       "      <td>35.52</td>\n",
       "      <td>82.0</td>\n",
       "      <td>...</td>\n",
       "      <td>0</td>\n",
       "      <td>0</td>\n",
       "      <td>0</td>\n",
       "      <td>0</td>\n",
       "      <td>0</td>\n",
       "      <td>0</td>\n",
       "      <td>0</td>\n",
       "      <td>0</td>\n",
       "      <td>0</td>\n",
       "      <td>0</td>\n",
       "    </tr>\n",
       "    <tr>\n",
       "      <th>Wii Sports Resort</th>\n",
       "      <td>Wii</td>\n",
       "      <td>2009</td>\n",
       "      <td>Sports</td>\n",
       "      <td>Nintendo</td>\n",
       "      <td>15.61</td>\n",
       "      <td>10.93</td>\n",
       "      <td>3.28</td>\n",
       "      <td>2.95</td>\n",
       "      <td>32.77</td>\n",
       "      <td>80.0</td>\n",
       "      <td>...</td>\n",
       "      <td>0</td>\n",
       "      <td>0</td>\n",
       "      <td>0</td>\n",
       "      <td>0</td>\n",
       "      <td>0</td>\n",
       "      <td>0</td>\n",
       "      <td>0</td>\n",
       "      <td>0</td>\n",
       "      <td>0</td>\n",
       "      <td>0</td>\n",
       "    </tr>\n",
       "    <tr>\n",
       "      <th>New Super Mario Bros.</th>\n",
       "      <td>DS</td>\n",
       "      <td>2006</td>\n",
       "      <td>Platform</td>\n",
       "      <td>Nintendo</td>\n",
       "      <td>11.28</td>\n",
       "      <td>9.14</td>\n",
       "      <td>6.50</td>\n",
       "      <td>2.88</td>\n",
       "      <td>29.80</td>\n",
       "      <td>89.0</td>\n",
       "      <td>...</td>\n",
       "      <td>0</td>\n",
       "      <td>0</td>\n",
       "      <td>0</td>\n",
       "      <td>0</td>\n",
       "      <td>0</td>\n",
       "      <td>0</td>\n",
       "      <td>0</td>\n",
       "      <td>0</td>\n",
       "      <td>0</td>\n",
       "      <td>0</td>\n",
       "    </tr>\n",
       "    <tr>\n",
       "      <th>Wii Play</th>\n",
       "      <td>Wii</td>\n",
       "      <td>2006</td>\n",
       "      <td>Misc</td>\n",
       "      <td>Nintendo</td>\n",
       "      <td>13.96</td>\n",
       "      <td>9.18</td>\n",
       "      <td>2.93</td>\n",
       "      <td>2.84</td>\n",
       "      <td>28.92</td>\n",
       "      <td>58.0</td>\n",
       "      <td>...</td>\n",
       "      <td>0</td>\n",
       "      <td>0</td>\n",
       "      <td>0</td>\n",
       "      <td>0</td>\n",
       "      <td>0</td>\n",
       "      <td>0</td>\n",
       "      <td>0</td>\n",
       "      <td>0</td>\n",
       "      <td>0</td>\n",
       "      <td>0</td>\n",
       "    </tr>\n",
       "  </tbody>\n",
       "</table>\n",
       "<p>5 rows × 44 columns</p>\n",
       "</div>"
      ],
      "text/plain": [
       "                      Platform  Year_of_Release     Genre Publisher  NA_Sales  \\\n",
       "Name                                                                            \n",
       "Wii Sports                 Wii             2006    Sports  Nintendo     41.36   \n",
       "Mario Kart Wii             Wii             2008    Racing  Nintendo     15.68   \n",
       "Wii Sports Resort          Wii             2009    Sports  Nintendo     15.61   \n",
       "New Super Mario Bros.       DS             2006  Platform  Nintendo     11.28   \n",
       "Wii Play                   Wii             2006      Misc  Nintendo     13.96   \n",
       "\n",
       "                       EU_Sales  JP_Sales  Other_Sales  Global_Sales  \\\n",
       "Name                                                                   \n",
       "Wii Sports                28.96      3.77         8.45         82.53   \n",
       "Mario Kart Wii            12.76      3.79         3.29         35.52   \n",
       "Wii Sports Resort         10.93      3.28         2.95         32.77   \n",
       "New Super Mario Bros.      9.14      6.50         2.88         29.80   \n",
       "Wii Play                   9.18      2.93         2.84         28.92   \n",
       "\n",
       "                       Critic_Score    ...     Playstation  Playstation 2  \\\n",
       "Name                                   ...                                  \n",
       "Wii Sports                     76.0    ...               0              0   \n",
       "Mario Kart Wii                 82.0    ...               0              0   \n",
       "Wii Sports Resort              80.0    ...               0              0   \n",
       "New Super Mario Bros.          89.0    ...               0              0   \n",
       "Wii Play                       58.0    ...               0              0   \n",
       "\n",
       "                       Playstation 3 Playstation 4 Playstation Vita  PSP  \\\n",
       "Name                                                                       \n",
       "Wii Sports                         0             0                0    0   \n",
       "Mario Kart Wii                     0             0                0    0   \n",
       "Wii Sports Resort                  0             0                0    0   \n",
       "New Super Mario Bros.              0             0                0    0   \n",
       "Wii Play                           0             0                0    0   \n",
       "\n",
       "                       Sega Dreamcast  XBOX  XBOX 360  XBOX One  \n",
       "Name                                                             \n",
       "Wii Sports                          0     0         0         0  \n",
       "Mario Kart Wii                      0     0         0         0  \n",
       "Wii Sports Resort                   0     0         0         0  \n",
       "New Super Mario Bros.               0     0         0         0  \n",
       "Wii Play                            0     0         0         0  \n",
       "\n",
       "[5 rows x 44 columns]"
      ]
     },
     "execution_count": 2,
     "metadata": {},
     "output_type": "execute_result"
    }
   ],
   "source": [
    "# Uploading Dataset and inspecting its contents\n",
    "df = pd.DataFrame()\n",
    "df = pd.read_csv('/Users/dwreiter/Desktop/Work/Springboard/Video Game Capstone Project/Data Wrangling/vg_df.csv', delimiter='\\t', index_col=0)\n",
    "df.head()"
   ]
  },
  {
   "cell_type": "markdown",
   "metadata": {},
   "source": [
    "** For each t-test below:\n",
    "<br>\n",
    "Ho = Factor does not sell differently\n",
    "<br>\n",
    "Ha = Factor does sell differently\n",
    "<br>\n",
    "α = 0.05**"
   ]
  },
  {
   "cell_type": "code",
   "execution_count": 3,
   "metadata": {
    "collapsed": false
   },
   "outputs": [
    {
     "name": "stdout",
     "output_type": "stream",
     "text": [
      "Average amount of Sports Games in Global Sales: 0.884252386002\n",
      "Average amount of Non-Sports Games in Global Sales: 0.760489629378\n",
      "Global t-statistic: 1.17194954471\n",
      "Global p-value: 0.241488449515\n",
      "\n",
      "\n",
      "Average amount of Sports Games in North American Sales: 0.485174973489\n",
      "Average amount of Non-Sports Games in North American Sales: 0.379943896634\n",
      "North American t-statistic: 2.01076019702\n",
      "North American p-value: 0.0446116187391\n",
      "\n",
      "\n",
      "Average amount of Sports Games in European Sales: 0.262386002121\n",
      "Average amount of Non-Sports Games in European Sales: 0.231873512411\n",
      "European t-statistic: 0.786546764464\n",
      "European p-value: 0.431730661455\n",
      "\n",
      "\n",
      "Average amount of Sports Games in Japanese Sales: 0.0366277836691\n",
      "Average amount of Non-Sports Games in Japanese Sales: 0.0685719143149\n",
      "Japanese t-statistic: -3.64356311765\n",
      "Japanese p-value: 0.00027852492399\n"
     ]
    }
   ],
   "source": [
    "# Make Box Plot of these: https://seaborn.pydata.org/generated/seaborn.boxplot.html\n",
    "# Running a t-test for Sports Games and Global Sales\n",
    "print('Average amount of Sports Games in Global Sales: ' + str(df.loc[df['Genre'] == 'Sports']['Global_Sales'].mean()))\n",
    "print('Average amount of Non-Sports Games in Global Sales: ' + str(df.loc[df['Genre'] != 'Sports']['Global_Sales'].mean()))\n",
    "t_stat, p = stats.ttest_ind(df.loc[df['Genre'] == 'Sports']['Global_Sales'], df.loc[df['Genre'] != 'Sports']['Global_Sales'], equal_var=False)\n",
    "print('Global t-statistic: ' + str(t_stat))\n",
    "print('Global p-value: ' + str(p))\n",
    "print('\\n')\n",
    "\n",
    "# Running a t-test for Sports Games and North American Sales\n",
    "print('Average amount of Sports Games in North American Sales: ' + str(df.loc[df['Genre'] == 'Sports']['NA_Sales'].mean()))\n",
    "print('Average amount of Non-Sports Games in North American Sales: ' + str(df.loc[df['Genre'] != 'Sports']['NA_Sales'].mean()))\n",
    "t_stat, p = stats.ttest_ind(df.loc[df['Genre'] == 'Sports']['NA_Sales'], df.loc[df['Genre'] != 'Sports']['NA_Sales'], equal_var=False)\n",
    "print('North American t-statistic: ' + str(t_stat))\n",
    "print('North American p-value: ' + str(p))\n",
    "print('\\n')\n",
    "\n",
    "# Running a t-test for Sports Games and European Sales\n",
    "print('Average amount of Sports Games in European Sales: ' + str(df.loc[df['Genre'] == 'Sports']['EU_Sales'].mean()))\n",
    "print('Average amount of Non-Sports Games in European Sales: ' + str(df.loc[df['Genre'] != 'Sports']['EU_Sales'].mean()))\n",
    "t_stat, p = stats.ttest_ind(df.loc[df['Genre'] == 'Sports']['EU_Sales'], df.loc[df['Genre'] != 'Sports']['EU_Sales'], equal_var=False)\n",
    "print('European t-statistic: ' + str(t_stat))\n",
    "print('European p-value: ' + str(p))\n",
    "print('\\n')\n",
    "\n",
    "# Running a t-test for Sports Games and Japanese Sales\n",
    "print('Average amount of Sports Games in Japanese Sales: ' + str(df.loc[df['Genre'] == 'Sports']['JP_Sales'].mean()))\n",
    "print('Average amount of Non-Sports Games in Japanese Sales: ' + str(df.loc[df['Genre'] != 'Sports']['JP_Sales'].mean()))\n",
    "t_stat, p = stats.ttest_ind(df.loc[df['Genre'] == 'Sports']['JP_Sales'], df.loc[df['Genre'] != 'Sports']['JP_Sales'], equal_var=False)\n",
    "print('Japanese t-statistic: ' + str(t_stat))\n",
    "print('Japanese p-value: ' + str(p))"
   ]
  },
  {
   "cell_type": "code",
   "execution_count": 58,
   "metadata": {
    "collapsed": false
   },
   "outputs": [
    {
     "data": {
      "text/plain": [
       "(0, 2)"
      ]
     },
     "execution_count": 58,
     "metadata": {},
     "output_type": "execute_result"
    },
    {
     "data": {
      "image/png": "[encoded data removed]",
      "text/plain": [
       "<Figure size 1170x827 with 1 Axes>"
      ]
     },
     "metadata": {},
     "output_type": "display_data"
    }
   ],
   "source": [
    "# Boxplot of Sports Game Sales\n",
    "df_sports = pd.melt(df, id_vars='Sports', value_vars=['Global_Sales', 'NA_Sales', 'EU_Sales', 'JP_Sales'])\n",
    "df_sports = df_sports[df_sports['Sports'] == 1]\n",
    "ax = sns.boxplot(x='variable', y='value', data=df_sports, hue='variable')\n",
    "ax.set_ylim(0, 2)"
   ]
  },
  {
   "cell_type": "markdown",
   "metadata": {},
   "source": [
    "** Because of how low the p-values are for North American and Japanese sales, we can reject the null hypothesis and say Sports games sell differently in those areas compared to Non-Sports games. In North America, they sell better while in Japan they sell worse.**"
   ]
  },
  {
   "cell_type": "code",
   "execution_count": 4,
   "metadata": {
    "collapsed": false
   },
   "outputs": [
    {
     "name": "stdout",
     "output_type": "stream",
     "text": [
      "Average amount of Racing Games in Global Sales: 0.819655765921\n",
      "Average amount of Non-Racing Games in Global Sales: 0.773675528507\n",
      "Global t-statistic: 0.47645012398\n",
      "Global p-value: 0.633910884732\n",
      "\n",
      "\n",
      "Average amount of Racing Games in North American Sales: 0.388278829604\n",
      "Average amount of Non-Racing Games in North American Sales: 0.395060858424\n",
      "North American t-statistic: -0.161002046013\n",
      "North American p-value: 0.872138825432\n",
      "\n",
      "\n",
      "Average amount of Racing Games in European Sales: 0.283407917384\n",
      "Average amount of Non-Racing Games in European Sales: 0.231686418962\n",
      "European t-statistic: 1.52415562531\n",
      "European p-value: 0.127947893857\n",
      "\n",
      "\n",
      "Average amount of Racing Games in Japanese Sales: 0.0477796901893\n",
      "Average amount of Non-Racing Games in Japanese Sales: 0.0656822549648\n",
      "Japanese t-statistic: -1.33520887723\n",
      "Japanese p-value: 0.182258889858\n"
     ]
    }
   ],
   "source": [
    "# Running a t-test for Racing Games and Global Sales\n",
    "print('Average amount of Racing Games in Global Sales: ' + str(df.loc[df['Genre'] == 'Racing']['Global_Sales'].mean()))\n",
    "print('Average amount of Non-Racing Games in Global Sales: ' + str(df.loc[df['Genre'] != 'Racing']['Global_Sales'].mean()))\n",
    "t_stat, p = stats.ttest_ind(df.loc[df['Genre'] == 'Racing']['Global_Sales'], df.loc[df['Genre'] != 'Racing']['Global_Sales'], equal_var=False)\n",
    "print('Global t-statistic: ' + str(t_stat))\n",
    "print('Global p-value: ' + str(p))\n",
    "print('\\n')\n",
    "\n",
    "# Running a t-test for Racing Games and North American Sales\n",
    "print('Average amount of Racing Games in North American Sales: ' + str(df.loc[df['Genre'] == 'Racing']['NA_Sales'].mean()))\n",
    "print('Average amount of Non-Racing Games in North American Sales: ' + str(df.loc[df['Genre'] != 'Racing']['NA_Sales'].mean()))\n",
    "t_stat, p = stats.ttest_ind(df.loc[df['Genre'] == 'Racing']['NA_Sales'], df.loc[df['Genre'] != 'Racing']['NA_Sales'], equal_var=False)\n",
    "print('North American t-statistic: ' + str(t_stat))\n",
    "print('North American p-value: ' + str(p))\n",
    "print('\\n')\n",
    "\n",
    "# Running a t-test for Racing Games and European Sales\n",
    "print('Average amount of Racing Games in European Sales: ' + str(df.loc[df['Genre'] == 'Racing']['EU_Sales'].mean()))\n",
    "print('Average amount of Non-Racing Games in European Sales: ' + str(df.loc[df['Genre'] != 'Racing']['EU_Sales'].mean()))\n",
    "t_stat, p = stats.ttest_ind(df.loc[df['Genre'] == 'Racing']['EU_Sales'], df.loc[df['Genre'] != 'Racing']['EU_Sales'], equal_var=False)\n",
    "print('European t-statistic: ' + str(t_stat))\n",
    "print('European p-value: ' + str(p))\n",
    "print('\\n')\n",
    "\n",
    "# Running a t-test for Racing Games and Japanese Sales\n",
    "print('Average amount of Racing Games in Japanese Sales: ' + str(df.loc[df['Genre'] == 'Racing']['JP_Sales'].mean()))\n",
    "print('Average amount of Non-Racing Games in Japanese Sales: ' + str(df.loc[df['Genre'] != 'Racing']['JP_Sales'].mean()))\n",
    "t_stat, p = stats.ttest_ind(df.loc[df['Genre'] == 'Racing']['JP_Sales'], df.loc[df['Genre'] != 'Racing']['JP_Sales'], equal_var=False)\n",
    "print('Japanese t-statistic: ' + str(t_stat))\n",
    "print('Japanese p-value: ' + str(p))"
   ]
  },
  {
   "cell_type": "code",
   "execution_count": 59,
   "metadata": {
    "collapsed": false
   },
   "outputs": [
    {
     "data": {
      "text/plain": [
       "(0, 5)"
      ]
     },
     "execution_count": 59,
     "metadata": {},
     "output_type": "execute_result"
    },
    {
     "data": {
      "image/png": "[encoded data removed]",
      "text/plain": [
       "<Figure size 1170x827 with 1 Axes>"
      ]
     },
     "metadata": {},
     "output_type": "display_data"
    }
   ],
   "source": [
    "# Boxplot of Racing Game Sales\n",
    "df_racing = pd.melt(df, id_vars='Racing', value_vars=['Global_Sales', 'NA_Sales', 'EU_Sales', 'JP_Sales'])\n",
    "df_racing = df_racing[df_racing['Racing'] == 1]\n",
    "ax = sns.boxplot(x='variable', y='value', data=df_racing, hue='variable')\n",
    "ax.set_ylim(0, 5)"
   ]
  },
  {
   "cell_type": "markdown",
   "metadata": {},
   "source": [
    "** Because of how high the p-values are for Global and all regional sales, we cannot reject the null hypothesis. Therefore, Racing games do not sell better or worse in any area.**"
   ]
  },
  {
   "cell_type": "code",
   "execution_count": 5,
   "metadata": {
    "collapsed": false
   },
   "outputs": [
    {
     "name": "stdout",
     "output_type": "stream",
     "text": [
      "Average amount of Platform Games in Global Sales: 0.93746898263\n",
      "Average amount of Non-Platform Games in Global Sales: 0.767556835877\n",
      "Global t-statistic: 1.38200569547\n",
      "Global p-value: 0.167679671396\n",
      "\n",
      "\n",
      "Average amount of Platform Games in North American Sales: 0.480397022333\n",
      "Average amount of Non-Platform Games in North American Sales: 0.389092183121\n",
      "North American t-statistic: 1.60744346006\n",
      "North American p-value: 0.108674434194\n",
      "\n",
      "\n",
      "Average amount of Platform Games in European Sales: 0.269379652605\n",
      "Average amount of Non-Platform Games in European Sales: 0.234000311429\n",
      "European t-statistic: 0.984999497536\n",
      "European p-value: 0.325151443381\n",
      "\n",
      "\n",
      "Average amount of Platform Games in Japanese Sales: 0.106923076923\n",
      "Average amount of Non-Platform Games in Japanese Sales: 0.0614746184989\n",
      "Japanese t-statistic: 1.89955050313\n",
      "Japanese p-value: 0.0581792391687\n"
     ]
    }
   ],
   "source": [
    "# Running a t-test for Platform Games and Global Sales\n",
    "print('Average amount of Platform Games in Global Sales: ' + str(df.loc[df['Genre'] == 'Platform']['Global_Sales'].mean()))\n",
    "print('Average amount of Non-Platform Games in Global Sales: ' + str(df.loc[df['Genre'] != 'Platform']['Global_Sales'].mean()))\n",
    "t_stat, p = stats.ttest_ind(df.loc[df['Genre'] == 'Platform']['Global_Sales'], df.loc[df['Genre'] != 'Platform']['Global_Sales'], equal_var=False)\n",
    "print('Global t-statistic: ' + str(t_stat))\n",
    "print('Global p-value: ' + str(p))\n",
    "print('\\n')\n",
    "\n",
    "# Running a t-test for Platform Games and North American Sales\n",
    "print('Average amount of Platform Games in North American Sales: ' + str(df.loc[df['Genre'] == 'Platform']['NA_Sales'].mean()))\n",
    "print('Average amount of Non-Platform Games in North American Sales: ' + str(df.loc[df['Genre'] != 'Platform']['NA_Sales'].mean()))\n",
    "t_stat, p = stats.ttest_ind(df.loc[df['Genre'] == 'Platform']['NA_Sales'], df.loc[df['Genre'] != 'Platform']['NA_Sales'], equal_var=False)\n",
    "print('North American t-statistic: ' + str(t_stat))\n",
    "print('North American p-value: ' + str(p))\n",
    "print('\\n')\n",
    "\n",
    "# Running a t-test for Platform Games and European Sales\n",
    "print('Average amount of Platform Games in European Sales: ' + str(df.loc[df['Genre'] == 'Platform']['EU_Sales'].mean()))\n",
    "print('Average amount of Non-Platform Games in European Sales: ' + str(df.loc[df['Genre'] != 'Platform']['EU_Sales'].mean()))\n",
    "t_stat, p = stats.ttest_ind(df.loc[df['Genre'] == 'Platform']['EU_Sales'], df.loc[df['Genre'] != 'Platform']['EU_Sales'], equal_var=False)\n",
    "print('European t-statistic: ' + str(t_stat))\n",
    "print('European p-value: ' + str(p))\n",
    "print('\\n')\n",
    "\n",
    "# Running a t-test for Platform Games and Japanese Sales\n",
    "print('Average amount of Platform Games in Japanese Sales: ' + str(df.loc[df['Genre'] == 'Platform']['JP_Sales'].mean()))\n",
    "print('Average amount of Non-Platform Games in Japanese Sales: ' + str(df.loc[df['Genre'] != 'Platform']['JP_Sales'].mean()))\n",
    "t_stat, p = stats.ttest_ind(df.loc[df['Genre'] == 'Platform']['JP_Sales'], df.loc[df['Genre'] != 'Platform']['JP_Sales'], equal_var=False)\n",
    "print('Japanese t-statistic: ' + str(t_stat))\n",
    "print('Japanese p-value: ' + str(p))"
   ]
  },
  {
   "cell_type": "code",
   "execution_count": 62,
   "metadata": {
    "collapsed": false
   },
   "outputs": [
    {
     "data": {
      "text/plain": [
       "(0, 2)"
      ]
     },
     "execution_count": 62,
     "metadata": {},
     "output_type": "execute_result"
    },
    {
     "data": {
      "image/png": "[encoded data removed]",
      "text/plain": [
       "<Figure size 1170x827 with 1 Axes>"
      ]
     },
     "metadata": {},
     "output_type": "display_data"
    }
   ],
   "source": [
    "# Boxplot of Platform Game Sales\n",
    "df_platform = pd.melt(df, id_vars='Platformer', value_vars=['Global_Sales', 'NA_Sales', 'EU_Sales', 'JP_Sales'])\n",
    "df_platform = df_platform[df_platform['Platformer'] == 1]\n",
    "ax = sns.boxplot(x='variable', y='value', data=df_platform, hue='variable')\n",
    "ax.set_ylim(0, 2)"
   ]
  },
  {
   "cell_type": "markdown",
   "metadata": {},
   "source": [
    "** Because of how high the p-values are for Global and all regional sales, we cannot reject the null hypothesis. Therefore, Platform games do not sell better or worse in any area.**"
   ]
  },
  {
   "cell_type": "code",
   "execution_count": 6,
   "metadata": {
    "collapsed": false
   },
   "outputs": [
    {
     "name": "stdout",
     "output_type": "stream",
     "text": [
      "Average amount of Miscellaneous Games in Global Sales: 1.08401041667\n",
      "Average amount of Non-Miscellaneous Games in Global Sales: 0.759321533923\n",
      "Global t-statistic: 2.51035427143\n",
      "Global p-value: 0.0124443949407\n",
      "\n",
      "\n",
      "Average amount of Miscellaneous Games in North American Sales: 0.578255208333\n",
      "Average amount of Non-Miscellaneous Games in North American Sales: 0.383527402577\n",
      "North American t-statistic: 2.90983971595\n",
      "North American p-value: 0.00381423020127\n",
      "\n",
      "\n",
      "Average amount of Miscellaneous Games in European Sales: 0.313697916667\n",
      "Average amount of Non-Miscellaneous Games in European Sales: 0.231462505822\n",
      "European t-statistic: 1.87898818823\n",
      "European p-value: 0.0609499964677\n",
      "\n",
      "\n",
      "Average amount of Miscellaneous Games in Japanese Sales: 0.0865104166667\n",
      "Average amount of Non-Miscellaneous Games in Japanese Sales: 0.0628256481913\n",
      "Japanese t-statistic: 1.2374056209\n",
      "Japanese p-value: 0.216644481014\n"
     ]
    }
   ],
   "source": [
    "# Running a t-test for Miscellaneous Games and Global Sales\n",
    "print('Average amount of Miscellaneous Games in Global Sales: ' + str(df.loc[df['Genre'] == 'Misc']['Global_Sales'].mean()))\n",
    "print('Average amount of Non-Miscellaneous Games in Global Sales: ' + str(df.loc[df['Genre'] != 'Misc']['Global_Sales'].mean()))\n",
    "t_stat, p = stats.ttest_ind(df.loc[df['Genre'] == 'Misc']['Global_Sales'], df.loc[df['Genre'] != 'Misc']['Global_Sales'], equal_var=False)\n",
    "print('Global t-statistic: ' + str(t_stat))\n",
    "print('Global p-value: ' + str(p))\n",
    "print('\\n')\n",
    "\n",
    "# Running a t-test for Miscellaneous Games and North American Sales\n",
    "print('Average amount of Miscellaneous Games in North American Sales: ' + str(df.loc[df['Genre'] == 'Misc']['NA_Sales'].mean()))\n",
    "print('Average amount of Non-Miscellaneous Games in North American Sales: ' + str(df.loc[df['Genre'] != 'Misc']['NA_Sales'].mean()))\n",
    "t_stat, p = stats.ttest_ind(df.loc[df['Genre'] == 'Misc']['NA_Sales'], df.loc[df['Genre'] != 'Misc']['NA_Sales'], equal_var=False)\n",
    "print('North American t-statistic: ' + str(t_stat))\n",
    "print('North American p-value: ' + str(p))\n",
    "print('\\n')\n",
    "\n",
    "# Running a t-test for Miscellaneous Games and European Sales\n",
    "print('Average amount of Miscellaneous Games in European Sales: ' + str(df.loc[df['Genre'] == 'Misc']['EU_Sales'].mean()))\n",
    "print('Average amount of Non-Miscellaneous Games in European Sales: ' + str(df.loc[df['Genre'] != 'Misc']['EU_Sales'].mean()))\n",
    "t_stat, p = stats.ttest_ind(df.loc[df['Genre'] == 'Misc']['EU_Sales'], df.loc[df['Genre'] != 'Misc']['EU_Sales'], equal_var=False)\n",
    "print('European t-statistic: ' + str(t_stat))\n",
    "print('European p-value: ' + str(p))\n",
    "print('\\n')\n",
    "\n",
    "# Running a t-test for Miscellaneous Games and Japanese Sales\n",
    "print('Average amount of Miscellaneous Games in Japanese Sales: ' + str(df.loc[df['Genre'] == 'Misc']['JP_Sales'].mean()))\n",
    "print('Average amount of Non-Miscellaneous Games in Japanese Sales: ' + str(df.loc[df['Genre'] != 'Misc']['JP_Sales'].mean()))\n",
    "t_stat, p = stats.ttest_ind(df.loc[df['Genre'] == 'Misc']['JP_Sales'], df.loc[df['Genre'] != 'Misc']['JP_Sales'], equal_var=False)\n",
    "print('Japanese t-statistic: ' + str(t_stat))\n",
    "print('Japanese p-value: ' + str(p))"
   ]
  },
  {
   "cell_type": "markdown",
   "metadata": {},
   "source": [
    "** Because of how low the p-values are for Global and North American sales, we can reject the null hypothesis and say Miscellaneous games sell differently in those areas compared to Non-Miscellaneous games. In both areas, they sell better.**"
   ]
  },
  {
   "cell_type": "code",
   "execution_count": 7,
   "metadata": {
    "collapsed": false
   },
   "outputs": [
    {
     "name": "stdout",
     "output_type": "stream",
     "text": [
      "Average amount of Action Games in Global Sales: 0.738134969325\n",
      "Average amount of Non-Action Games in Global Sales: 0.789969201155\n",
      "Global t-statistic: -1.11041574795\n",
      "Global p-value: 0.266889190403\n",
      "\n",
      "\n",
      "Average amount of Action Games in North American Sales: 0.362717791411\n",
      "Average amount of Non-Action Games in North American Sales: 0.404450433109\n",
      "North American t-statistic: -1.84119807929\n",
      "North American p-value: 0.0656667935079\n",
      "\n",
      "\n",
      "Average amount of Action Games in European Sales: 0.237901840491\n",
      "Average amount of Non-Action Games in European Sales: 0.235520692974\n",
      "European t-statistic: 0.143362781226\n",
      "European p-value: 0.88601145251\n",
      "\n",
      "\n",
      "Average amount of Action Games in Japanese Sales: 0.0467300613497\n",
      "Average amount of Non-Action Games in Japanese Sales: 0.0696265640038\n",
      "Japanese t-statistic: -4.01629191457\n",
      "Japanese p-value: 5.98424863125e-05\n"
     ]
    }
   ],
   "source": [
    "# Running a t-test for Action Games and Global Sales\n",
    "print('Average amount of Action Games in Global Sales: ' + str(df.loc[df['Genre'] == 'Action']['Global_Sales'].mean()))\n",
    "print('Average amount of Non-Action Games in Global Sales: ' + str(df.loc[df['Genre'] != 'Action']['Global_Sales'].mean()))\n",
    "t_stat, p = stats.ttest_ind(df.loc[df['Genre'] == 'Action']['Global_Sales'], df.loc[df['Genre'] != 'Action']['Global_Sales'], equal_var=False)\n",
    "print('Global t-statistic: ' + str(t_stat))\n",
    "print('Global p-value: ' + str(p))\n",
    "print('\\n')\n",
    "\n",
    "# Running a t-test for Action Games and North American Sales\n",
    "print('Average amount of Action Games in North American Sales: ' + str(df.loc[df['Genre'] == 'Action']['NA_Sales'].mean()))\n",
    "print('Average amount of Non-Action Games in North American Sales: ' + str(df.loc[df['Genre'] != 'Action']['NA_Sales'].mean()))\n",
    "t_stat, p = stats.ttest_ind(df.loc[df['Genre'] == 'Action']['NA_Sales'], df.loc[df['Genre'] != 'Action']['NA_Sales'], equal_var=False)\n",
    "print('North American t-statistic: ' + str(t_stat))\n",
    "print('North American p-value: ' + str(p))\n",
    "print('\\n')\n",
    "\n",
    "# Running a t-test for Action Games and European Sales\n",
    "print('Average amount of Action Games in European Sales: ' + str(df.loc[df['Genre'] == 'Action']['EU_Sales'].mean()))\n",
    "print('Average amount of Non-Action Games in European Sales: ' + str(df.loc[df['Genre'] != 'Action']['EU_Sales'].mean()))\n",
    "t_stat, p = stats.ttest_ind(df.loc[df['Genre'] == 'Action']['EU_Sales'], df.loc[df['Genre'] != 'Action']['EU_Sales'], equal_var=False)\n",
    "print('European t-statistic: ' + str(t_stat))\n",
    "print('European p-value: ' + str(p))\n",
    "print('\\n')\n",
    "\n",
    "# Running a t-test for Action Games and Japanese Sales\n",
    "print('Average amount of Action Games in Japanese Sales: ' + str(df.loc[df['Genre'] == 'Action']['JP_Sales'].mean()))\n",
    "print('Average amount of Non-Action Games in Japanese Sales: ' + str(df.loc[df['Genre'] != 'Action']['JP_Sales'].mean()))\n",
    "t_stat, p = stats.ttest_ind(df.loc[df['Genre'] == 'Action']['JP_Sales'], df.loc[df['Genre'] != 'Action']['JP_Sales'], equal_var=False)\n",
    "print('Japanese t-statistic: ' + str(t_stat))\n",
    "print('Japanese p-value: ' + str(p))"
   ]
  },
  {
   "cell_type": "markdown",
   "metadata": {},
   "source": [
    "** Because of how low the p-value is for Japanese sales, we can reject the null hypothesis and say Action games sell differently in that area compared to Non-Action games. In Japan, they sell worse.**"
   ]
  },
  {
   "cell_type": "code",
   "execution_count": 8,
   "metadata": {
    "collapsed": false
   },
   "outputs": [
    {
     "name": "stdout",
     "output_type": "stream",
     "text": [
      "Average amount of Puzzle Games in Global Sales: 0.668644067797\n",
      "Average amount of Non-Puzzle Games in Global Sales: 0.779506485761\n",
      "Global t-statistic: -0.733656323447\n",
      "Global p-value: 0.464552576292\n",
      "\n",
      "\n",
      "Average amount of Puzzle Games in North American Sales: 0.283898305085\n",
      "Average amount of Non-Puzzle Games in North American Sales: 0.396429103921\n",
      "North American t-statistic: -2.48250506817\n",
      "North American p-value: 0.0142734047365\n",
      "\n",
      "\n",
      "Average amount of Puzzle Games in European Sales: 0.203728813559\n",
      "Average amount of Non-Puzzle Games in European Sales: 0.236658714776\n",
      "European t-statistic: -0.581981522503\n",
      "European p-value: 0.561650018105\n",
      "\n",
      "\n",
      "Average amount of Puzzle Games in Japanese Sales: 0.126949152542\n",
      "Average amount of Non-Puzzle Games in Japanese Sales: 0.0630535261667\n",
      "Japanese t-statistic: 1.31140824099\n",
      "Japanese p-value: 0.192262168519\n"
     ]
    }
   ],
   "source": [
    "# Running a t-test for Puzzle Games and Global Sales\n",
    "print('Average amount of Puzzle Games in Global Sales: ' + str(df.loc[df['Genre'] == 'Puzzle']['Global_Sales'].mean()))\n",
    "print('Average amount of Non-Puzzle Games in Global Sales: ' + str(df.loc[df['Genre'] != 'Puzzle']['Global_Sales'].mean()))\n",
    "t_stat, p = stats.ttest_ind(df.loc[df['Genre'] == 'Puzzle']['Global_Sales'], df.loc[df['Genre'] != 'Puzzle']['Global_Sales'], equal_var=False)\n",
    "print('Global t-statistic: ' + str(t_stat))\n",
    "print('Global p-value: ' + str(p))\n",
    "print('\\n')\n",
    "\n",
    "# Running a t-test for Puzzle Games and North American Sales\n",
    "print('Average amount of Puzzle Games in North American Sales: ' + str(df.loc[df['Genre'] == 'Puzzle']['NA_Sales'].mean()))\n",
    "print('Average amount of Non-Puzzle Games in North American Sales: ' + str(df.loc[df['Genre'] != 'Puzzle']['NA_Sales'].mean()))\n",
    "t_stat, p = stats.ttest_ind(df.loc[df['Genre'] == 'Puzzle']['NA_Sales'], df.loc[df['Genre'] != 'Puzzle']['NA_Sales'], equal_var=False)\n",
    "print('North American t-statistic: ' + str(t_stat))\n",
    "print('North American p-value: ' + str(p))\n",
    "print('\\n')\n",
    "\n",
    "# Running a t-test for Puzzle Games and European Sales\n",
    "print('Average amount of Puzzle Games in European Sales: ' + str(df.loc[df['Genre'] == 'Puzzle']['EU_Sales'].mean()))\n",
    "print('Average amount of Non-Puzzle Games in European Sales: ' + str(df.loc[df['Genre'] != 'Puzzle']['EU_Sales'].mean()))\n",
    "t_stat, p = stats.ttest_ind(df.loc[df['Genre'] == 'Puzzle']['EU_Sales'], df.loc[df['Genre'] != 'Puzzle']['EU_Sales'], equal_var=False)\n",
    "print('European t-statistic: ' + str(t_stat))\n",
    "print('European p-value: ' + str(p))\n",
    "print('\\n')\n",
    "\n",
    "# Running a t-test for Puzzle Games and Japanese Sales\n",
    "print('Average amount of Puzzle Games in Japanese Sales: ' + str(df.loc[df['Genre'] == 'Puzzle']['JP_Sales'].mean()))\n",
    "print('Average amount of Non-Puzzle Games in Japanese Sales: ' + str(df.loc[df['Genre'] != 'Puzzle']['JP_Sales'].mean()))\n",
    "t_stat, p = stats.ttest_ind(df.loc[df['Genre'] == 'Puzzle']['JP_Sales'], df.loc[df['Genre'] != 'Puzzle']['JP_Sales'], equal_var=False)\n",
    "print('Japanese t-statistic: ' + str(t_stat))\n",
    "print('Japanese p-value: ' + str(p))"
   ]
  },
  {
   "cell_type": "markdown",
   "metadata": {},
   "source": [
    "** Because of how low the p-value is for North American sales, we can reject the null hypothesis and say Puzzle games sell differently in that area compared to Non-Puzzle games. In North America, they sell worse.**"
   ]
  },
  {
   "cell_type": "code",
   "execution_count": 9,
   "metadata": {
    "collapsed": false
   },
   "outputs": [
    {
     "name": "stdout",
     "output_type": "stream",
     "text": [
      "Average amount of Shooter Games in Global Sales: 0.945\n",
      "Average amount of Non-Shooter Games in Global Sales: 0.753324945479\n",
      "Global t-statistic: 2.81542661079\n",
      "Global p-value: 0.00495323442131\n",
      "\n",
      "\n",
      "Average amount of Shooter Games in North American Sales: 0.519398148148\n",
      "Average amount of Non-Shooter Games in North American Sales: 0.376378124476\n",
      "North American t-statistic: 3.70196221614\n",
      "North American p-value: 0.000224882696955\n",
      "\n",
      "\n",
      "Average amount of Shooter Games in European Sales: 0.302222222222\n",
      "Average amount of Non-Shooter Games in European Sales: 0.226503942292\n",
      "European t-statistic: 3.35951879336\n",
      "European p-value: 0.000804930878887\n",
      "\n",
      "\n",
      "Average amount of Shooter Games in Japanese Sales: 0.0214930555556\n",
      "Average amount of Non-Shooter Games in Japanese Sales: 0.070342224459\n",
      "Japanese t-statistic: -10.1426826727\n",
      "Japanese p-value: 6.05572168281e-24\n"
     ]
    }
   ],
   "source": [
    "# Running a t-test for Shooter Games and Global Sales\n",
    "print('Average amount of Shooter Games in Global Sales: ' + str(df.loc[df['Genre'] == 'Shooter']['Global_Sales'].mean()))\n",
    "print('Average amount of Non-Shooter Games in Global Sales: ' + str(df.loc[df['Genre'] != 'Shooter']['Global_Sales'].mean()))\n",
    "t_stat, p = stats.ttest_ind(df.loc[df['Genre'] == 'Shooter']['Global_Sales'], df.loc[df['Genre'] != 'Shooter']['Global_Sales'], equal_var=False)\n",
    "print('Global t-statistic: ' + str(t_stat))\n",
    "print('Global p-value: ' + str(p))\n",
    "print('\\n')\n",
    "\n",
    "# Running a t-test for Shooter Games and North American Sales\n",
    "print('Average amount of Shooter Games in North American Sales: ' + str(df.loc[df['Genre'] == 'Shooter']['NA_Sales'].mean()))\n",
    "print('Average amount of Non-Shooter Games in North American Sales: ' + str(df.loc[df['Genre'] != 'Shooter']['NA_Sales'].mean()))\n",
    "t_stat, p = stats.ttest_ind(df.loc[df['Genre'] == 'Shooter']['NA_Sales'], df.loc[df['Genre'] != 'Shooter']['NA_Sales'], equal_var=False)\n",
    "print('North American t-statistic: ' + str(t_stat))\n",
    "print('North American p-value: ' + str(p))\n",
    "print('\\n')\n",
    "\n",
    "# Running a t-test for Shooter Games and European Sales\n",
    "print('Average amount of Shooter Games in European Sales: ' + str(df.loc[df['Genre'] == 'Shooter']['EU_Sales'].mean()))\n",
    "print('Average amount of Non-Shooter Games in European Sales: ' + str(df.loc[df['Genre'] != 'Shooter']['EU_Sales'].mean()))\n",
    "t_stat, p = stats.ttest_ind(df.loc[df['Genre'] == 'Shooter']['EU_Sales'], df.loc[df['Genre'] != 'Shooter']['EU_Sales'], equal_var=False)\n",
    "print('European t-statistic: ' + str(t_stat))\n",
    "print('European p-value: ' + str(p))\n",
    "print('\\n')\n",
    "\n",
    "# Running a t-test for Shooter Games and Japanese Sales\n",
    "print('Average amount of Shooter Games in Japanese Sales: ' + str(df.loc[df['Genre'] == 'Shooter']['JP_Sales'].mean()))\n",
    "print('Average amount of Non-Shooter Games in Japanese Sales: ' + str(df.loc[df['Genre'] != 'Shooter']['JP_Sales'].mean()))\n",
    "t_stat, p = stats.ttest_ind(df.loc[df['Genre'] == 'Shooter']['JP_Sales'], df.loc[df['Genre'] != 'Shooter']['JP_Sales'], equal_var=False)\n",
    "print('Japanese t-statistic: ' + str(t_stat))\n",
    "print('Japanese p-value: ' + str(p))"
   ]
  },
  {
   "cell_type": "markdown",
   "metadata": {},
   "source": [
    "** Because of how low the p-values are for Global as well as all regional sales, we can reject the null hypothesis and say Shooter games sell differently in those areas compared to Non-Shooter games. In all areas except Japan, they sell better while in Japan they sell worse.**"
   ]
  },
  {
   "cell_type": "code",
   "execution_count": 10,
   "metadata": {
    "collapsed": false
   },
   "outputs": [
    {
     "name": "stdout",
     "output_type": "stream",
     "text": [
      "Average amount of Fighting Games in Global Sales: 0.661243386243\n",
      "Average amount of Non-Fighting Games in Global Sales: 0.784411354118\n",
      "Global t-statistic: -2.02980931057\n",
      "Global p-value: 0.0428614868899\n",
      "\n",
      "\n",
      "Average amount of Fighting Games in North American Sales: 0.36082010582\n",
      "Average amount of Non-Fighting Games in North American Sales: 0.396457266946\n",
      "North American t-statistic: -1.11862370794\n",
      "North American p-value: 0.263818168905\n",
      "\n",
      "\n",
      "Average amount of Fighting Games in European Sales: 0.160052910053\n",
      "Average amount of Non-Fighting Games in European Sales: 0.240547541492\n",
      "European t-statistic: -4.6865646623\n",
      "European p-value: 3.35354958821e-06\n",
      "\n",
      "\n",
      "Average amount of Fighting Games in Japanese Sales: 0.0736772486772\n",
      "Average amount of Non-Fighting Games in Japanese Sales: 0.0636001240887\n",
      "Japanese t-statistic: 0.857974978327\n",
      "Japanese p-value: 0.391352759599\n"
     ]
    }
   ],
   "source": [
    "# Running a t-test for Fighting Games and Global Sales\n",
    "print('Average amount of Fighting Games in Global Sales: ' + str(df.loc[df['Genre'] == 'Fighting']['Global_Sales'].mean()))\n",
    "print('Average amount of Non-Fighting Games in Global Sales: ' + str(df.loc[df['Genre'] != 'Fighting']['Global_Sales'].mean()))\n",
    "t_stat, p = stats.ttest_ind(df.loc[df['Genre'] == 'Fighting']['Global_Sales'], df.loc[df['Genre'] != 'Fighting']['Global_Sales'], equal_var=False)\n",
    "print('Global t-statistic: ' + str(t_stat))\n",
    "print('Global p-value: ' + str(p))\n",
    "print('\\n')\n",
    "\n",
    "# Running a t-test for Fighting Games and North American Sales\n",
    "print('Average amount of Fighting Games in North American Sales: ' + str(df.loc[df['Genre'] == 'Fighting']['NA_Sales'].mean()))\n",
    "print('Average amount of Non-Fighting Games in North American Sales: ' + str(df.loc[df['Genre'] != 'Fighting']['NA_Sales'].mean()))\n",
    "t_stat, p = stats.ttest_ind(df.loc[df['Genre'] == 'Fighting']['NA_Sales'], df.loc[df['Genre'] != 'Fighting']['NA_Sales'], equal_var=False)\n",
    "print('North American t-statistic: ' + str(t_stat))\n",
    "print('North American p-value: ' + str(p))\n",
    "print('\\n')\n",
    "\n",
    "# Running a t-test for Fighting Games and European Sales\n",
    "print('Average amount of Fighting Games in European Sales: ' + str(df.loc[df['Genre'] == 'Fighting']['EU_Sales'].mean()))\n",
    "print('Average amount of Non-Fighting Games in European Sales: ' + str(df.loc[df['Genre'] != 'Fighting']['EU_Sales'].mean()))\n",
    "t_stat, p = stats.ttest_ind(df.loc[df['Genre'] == 'Fighting']['EU_Sales'], df.loc[df['Genre'] != 'Fighting']['EU_Sales'], equal_var=False)\n",
    "print('European t-statistic: ' + str(t_stat))\n",
    "print('European p-value: ' + str(p))\n",
    "print('\\n')\n",
    "\n",
    "# Running a t-test for Fighting Games and Japanese Sales\n",
    "print('Average amount of Fighting Games in Japanese Sales: ' + str(df.loc[df['Genre'] == 'Fighting']['JP_Sales'].mean()))\n",
    "print('Average amount of Non-Fighting Games in Japanese Sales: ' + str(df.loc[df['Genre'] != 'Fighting']['JP_Sales'].mean()))\n",
    "t_stat, p = stats.ttest_ind(df.loc[df['Genre'] == 'Fighting']['JP_Sales'], df.loc[df['Genre'] != 'Fighting']['JP_Sales'], equal_var=False)\n",
    "print('Japanese t-statistic: ' + str(t_stat))\n",
    "print('Japanese p-value: ' + str(p))"
   ]
  },
  {
   "cell_type": "markdown",
   "metadata": {},
   "source": [
    "** Because of how low the p-values are for Global and European sales, we can reject the null hypothesis and say Fighting games sell differently in those areas compared to Non-Fighting games. In both areas, they sell worse.**"
   ]
  },
  {
   "cell_type": "code",
   "execution_count": 11,
   "metadata": {
    "collapsed": false
   },
   "outputs": [
    {
     "name": "stdout",
     "output_type": "stream",
     "text": [
      "Average amount of Simulation Games in Global Sales: 0.682491582492\n",
      "Average amount of Non-Simulation Games in Global Sales: 0.781916360294\n",
      "Global t-statistic: -1.30762934311\n",
      "Global p-value: 0.191812627385\n",
      "\n",
      "\n",
      "Average amount of Simulation Games in North American Sales: 0.310168350168\n",
      "Average amount of Non-Simulation Games in North American Sales: 0.398319546569\n",
      "North American t-statistic: -2.98300861431\n",
      "North American p-value: 0.00301725741855\n",
      "\n",
      "\n",
      "Average amount of Simulation Games in European Sales: 0.226565656566\n",
      "Average amount of Non-Simulation Games in European Sales: 0.236522671569\n",
      "European t-statistic: -0.309713709227\n",
      "European p-value: 0.756966697752\n",
      "\n",
      "\n",
      "Average amount of Simulation Games in Japanese Sales: 0.0880808080808\n",
      "Average amount of Non-Simulation Games in Japanese Sales: 0.0630698529412\n",
      "Japanese t-statistic: 0.982579676517\n",
      "Japanese p-value: 0.326587550339\n"
     ]
    }
   ],
   "source": [
    "# Running a t-test for Simulation Games and Global Sales\n",
    "print('Average amount of Simulation Games in Global Sales: ' + str(df.loc[df['Genre'] == 'Simulation']['Global_Sales'].mean()))\n",
    "print('Average amount of Non-Simulation Games in Global Sales: ' + str(df.loc[df['Genre'] != 'Simulation']['Global_Sales'].mean()))\n",
    "t_stat, p = stats.ttest_ind(df.loc[df['Genre'] == 'Simulation']['Global_Sales'], df.loc[df['Genre'] != 'Simulation']['Global_Sales'], equal_var=False)\n",
    "print('Global t-statistic: ' + str(t_stat))\n",
    "print('Global p-value: ' + str(p))\n",
    "print('\\n')\n",
    "\n",
    "# Running a t-test for Simulation Games and North American Sales\n",
    "print('Average amount of Simulation Games in North American Sales: ' + str(df.loc[df['Genre'] == 'Simulation']['NA_Sales'].mean()))\n",
    "print('Average amount of Non-Simulation Games in North American Sales: ' + str(df.loc[df['Genre'] != 'Simulation']['NA_Sales'].mean()))\n",
    "t_stat, p = stats.ttest_ind(df.loc[df['Genre'] == 'Simulation']['NA_Sales'], df.loc[df['Genre'] != 'Simulation']['NA_Sales'], equal_var=False)\n",
    "print('North American t-statistic: ' + str(t_stat))\n",
    "print('North American p-value: ' + str(p))\n",
    "print('\\n')\n",
    "\n",
    "# Running a t-test for Simulation Games and European Sales\n",
    "print('Average amount of Simulation Games in European Sales: ' + str(df.loc[df['Genre'] == 'Simulation']['EU_Sales'].mean()))\n",
    "print('Average amount of Non-Simulation Games in European Sales: ' + str(df.loc[df['Genre'] != 'Simulation']['EU_Sales'].mean()))\n",
    "t_stat, p = stats.ttest_ind(df.loc[df['Genre'] == 'Simulation']['EU_Sales'], df.loc[df['Genre'] != 'Simulation']['EU_Sales'], equal_var=False)\n",
    "print('European t-statistic: ' + str(t_stat))\n",
    "print('European p-value: ' + str(p))\n",
    "print('\\n')\n",
    "\n",
    "# Running a t-test for Simulation Games and Japanese Sales\n",
    "print('Average amount of Simulation Games in Japanese Sales: ' + str(df.loc[df['Genre'] == 'Simulation']['JP_Sales'].mean()))\n",
    "print('Average amount of Non-Simulation Games in Japanese Sales: ' + str(df.loc[df['Genre'] != 'Simulation']['JP_Sales'].mean()))\n",
    "t_stat, p = stats.ttest_ind(df.loc[df['Genre'] == 'Simulation']['JP_Sales'], df.loc[df['Genre'] != 'Simulation']['JP_Sales'], equal_var=False)\n",
    "print('Japanese t-statistic: ' + str(t_stat))\n",
    "print('Japanese p-value: ' + str(p))"
   ]
  },
  {
   "cell_type": "markdown",
   "metadata": {},
   "source": [
    "** Because of how low the p-value is for North American sales, we can reject the null hypothesis and say Simulation games sell differently in that area compared to Non-Simulation games. In North America, they sell worse.**"
   ]
  },
  {
   "cell_type": "code",
   "execution_count": 12,
   "metadata": {
    "collapsed": false
   },
   "outputs": [
    {
     "name": "stdout",
     "output_type": "stream",
     "text": [
      "Average amount of Role-Playing Games in Global Sales: 0.704171348315\n",
      "Average amount of Non-Role-Playing Games in Global Sales: 0.78614101096\n",
      "Global t-statistic: -1.54556079031\n",
      "Global p-value: 0.122470701487\n",
      "\n",
      "\n",
      "Average amount of Role-Playing Games in North American Sales: 0.308328651685\n",
      "Average amount of Non-Role-Playing Games in North American Sales: 0.404518239817\n",
      "North American t-statistic: -3.92844304164\n",
      "North American p-value: 8.98860989383e-05\n",
      "\n",
      "\n",
      "Average amount of Role-Playing Games in European Sales: 0.167415730337\n",
      "Average amount of Non-Role-Playing Games in European Sales: 0.244088009161\n",
      "European t-statistic: -4.27000023515\n",
      "European p-value: 2.10014401186e-05\n",
      "\n",
      "\n",
      "Average amount of Role-Playing Games in Japanese Sales: 0.172008426966\n",
      "Average amount of Non-Role-Playing Games in Japanese Sales: 0.0515965974153\n",
      "Japanese t-statistic: 6.96792242142\n",
      "Japanese p-value: 6.93791204795e-12\n"
     ]
    }
   ],
   "source": [
    "# Running a t-test for Role-Playing Games and Global Sales\n",
    "print('Average amount of Role-Playing Games in Global Sales: ' + str(df.loc[df['Genre'] == 'Role-Playing']['Global_Sales'].mean()))\n",
    "print('Average amount of Non-Role-Playing Games in Global Sales: ' + str(df.loc[df['Genre'] != 'Role-Playing']['Global_Sales'].mean()))\n",
    "t_stat, p = stats.ttest_ind(df.loc[df['Genre'] == 'Role-Playing']['Global_Sales'], df.loc[df['Genre'] != 'Role-Playing']['Global_Sales'], equal_var=False)\n",
    "print('Global t-statistic: ' + str(t_stat))\n",
    "print('Global p-value: ' + str(p))\n",
    "print('\\n')\n",
    "\n",
    "# Running a t-test for Role-Playing Games and North American Sales\n",
    "print('Average amount of Role-Playing Games in North American Sales: ' + str(df.loc[df['Genre'] == 'Role-Playing']['NA_Sales'].mean()))\n",
    "print('Average amount of Non-Role-Playing Games in North American Sales: ' + str(df.loc[df['Genre'] != 'Role-Playing']['NA_Sales'].mean()))\n",
    "t_stat, p = stats.ttest_ind(df.loc[df['Genre'] == 'Role-Playing']['NA_Sales'], df.loc[df['Genre'] != 'Role-Playing']['NA_Sales'], equal_var=False)\n",
    "print('North American t-statistic: ' + str(t_stat))\n",
    "print('North American p-value: ' + str(p))\n",
    "print('\\n')\n",
    "\n",
    "# Running a t-test for Role-Playing Games and European Sales\n",
    "print('Average amount of Role-Playing Games in European Sales: ' + str(df.loc[df['Genre'] == 'Role-Playing']['EU_Sales'].mean()))\n",
    "print('Average amount of Non-Role-Playing Games in European Sales: ' + str(df.loc[df['Genre'] != 'Role-Playing']['EU_Sales'].mean()))\n",
    "t_stat, p = stats.ttest_ind(df.loc[df['Genre'] == 'Role-Playing']['EU_Sales'], df.loc[df['Genre'] != 'Role-Playing']['EU_Sales'], equal_var=False)\n",
    "print('European t-statistic: ' + str(t_stat))\n",
    "print('European p-value: ' + str(p))\n",
    "print('\\n')\n",
    "\n",
    "# Running a t-test for Role-Playing Games and Japanese Sales\n",
    "print('Average amount of Role-Playing Games in Japanese Sales: ' + str(df.loc[df['Genre'] == 'Role-Playing']['JP_Sales'].mean()))\n",
    "print('Average amount of Non-Role-Playing Games in Japanese Sales: ' + str(df.loc[df['Genre'] != 'Role-Playing']['JP_Sales'].mean()))\n",
    "t_stat, p = stats.ttest_ind(df.loc[df['Genre'] == 'Role-Playing']['JP_Sales'], df.loc[df['Genre'] != 'Role-Playing']['JP_Sales'], equal_var=False)\n",
    "print('Japanese t-statistic: ' + str(t_stat))\n",
    "print('Japanese p-value: ' + str(p))"
   ]
  },
  {
   "cell_type": "markdown",
   "metadata": {},
   "source": [
    "** Because of how low the p-values are for all regional sales, we can reject the null hypothesis and say Role-Playing games sell differently in those areas compared to Non-Role-Playing games. In Japan, they sell better while in North America and Europe, they sell worse.**"
   ]
  },
  {
   "cell_type": "code",
   "execution_count": 13,
   "metadata": {
    "collapsed": false
   },
   "outputs": [
    {
     "name": "stdout",
     "output_type": "stream",
     "text": [
      "Average amount of Adventure Games in Global Sales: 0.32560483871\n",
      "Average amount of Non-Adventure Games in Global Sales: 0.794632811312\n",
      "Global t-statistic: -10.0380922121\n",
      "Global p-value: 1.30024223122e-21\n",
      "\n",
      "\n",
      "Average amount of Adventure Games in North American Sales: 0.156491935484\n",
      "Average amount of Non-Adventure Games in North American Sales: 0.403457503421\n",
      "North American t-statistic: -10.8237007364\n",
      "North American p-value: 1.46850438616e-24\n",
      "\n",
      "\n",
      "Average amount of Adventure Games in European Sales: 0.101048387097\n",
      "Average amount of Non-Adventure Games in European Sales: 0.241181389691\n",
      "European t-statistic: -8.25766868507\n",
      "European p-value: 1.70259029746e-15\n",
      "\n",
      "\n",
      "Average amount of Adventure Games in Japanese Sales: 0.0352016129032\n",
      "Average amount of Non-Adventure Games in Japanese Sales: 0.0652501140338\n",
      "Japanese t-statistic: -3.66020575829\n",
      "Japanese p-value: 0.000287867326836\n"
     ]
    }
   ],
   "source": [
    "# Running a t-test for Adventure Games and Global Sales\n",
    "print('Average amount of Adventure Games in Global Sales: ' + str(df.loc[df['Genre'] == 'Adventure']['Global_Sales'].mean()))\n",
    "print('Average amount of Non-Adventure Games in Global Sales: ' + str(df.loc[df['Genre'] != 'Adventure']['Global_Sales'].mean()))\n",
    "t_stat, p = stats.ttest_ind(df.loc[df['Genre'] == 'Adventure']['Global_Sales'], df.loc[df['Genre'] != 'Adventure']['Global_Sales'], equal_var=False)\n",
    "print('Global t-statistic: ' + str(t_stat))\n",
    "print('Global p-value: ' + str(p))\n",
    "print('\\n')\n",
    "\n",
    "# Running a t-test for Adventure Games and North American Sales\n",
    "print('Average amount of Adventure Games in North American Sales: ' + str(df.loc[df['Genre'] == 'Adventure']['NA_Sales'].mean()))\n",
    "print('Average amount of Non-Adventure Games in North American Sales: ' + str(df.loc[df['Genre'] != 'Adventure']['NA_Sales'].mean()))\n",
    "t_stat, p = stats.ttest_ind(df.loc[df['Genre'] == 'Adventure']['NA_Sales'], df.loc[df['Genre'] != 'Adventure']['NA_Sales'], equal_var=False)\n",
    "print('North American t-statistic: ' + str(t_stat))\n",
    "print('North American p-value: ' + str(p))\n",
    "print('\\n')\n",
    "\n",
    "# Running a t-test for Adventure Games and European Sales\n",
    "print('Average amount of Adventure Games in European Sales: ' + str(df.loc[df['Genre'] == 'Adventure']['EU_Sales'].mean()))\n",
    "print('Average amount of Non-Adventure Games in European Sales: ' + str(df.loc[df['Genre'] != 'Adventure']['EU_Sales'].mean()))\n",
    "t_stat, p = stats.ttest_ind(df.loc[df['Genre'] == 'Adventure']['EU_Sales'], df.loc[df['Genre'] != 'Adventure']['EU_Sales'], equal_var=False)\n",
    "print('European t-statistic: ' + str(t_stat))\n",
    "print('European p-value: ' + str(p))\n",
    "print('\\n')\n",
    "\n",
    "# Running a t-test for Adventure Games and Japanese Sales\n",
    "print('Average amount of Adventure Games in Japanese Sales: ' + str(df.loc[df['Genre'] == 'Adventure']['JP_Sales'].mean()))\n",
    "print('Average amount of Non-Adventure Games in Japanese Sales: ' + str(df.loc[df['Genre'] != 'Adventure']['JP_Sales'].mean()))\n",
    "t_stat, p = stats.ttest_ind(df.loc[df['Genre'] == 'Adventure']['JP_Sales'], df.loc[df['Genre'] != 'Adventure']['JP_Sales'], equal_var=False)\n",
    "print('Japanese t-statistic: ' + str(t_stat))\n",
    "print('Japanese p-value: ' + str(p))"
   ]
  },
  {
   "cell_type": "markdown",
   "metadata": {},
   "source": [
    "** Because of how low the p-values are for Global as well as all regional sales, we can reject the null hypothesis and say Adventure games sell differently in those areas compared to Non-Adventure games. In all areas, they sell worse.**"
   ]
  },
  {
   "cell_type": "code",
   "execution_count": 14,
   "metadata": {
    "collapsed": false
   },
   "outputs": [
    {
     "name": "stdout",
     "output_type": "stream",
     "text": [
      "Average amount of Strategy Games in Global Sales: 0.260711610487\n",
      "Average amount of Non-Strategy Games in Global Sales: 0.798633729796\n",
      "Global t-statistic: -14.4110565888\n",
      "Global p-value: 3.96000383167e-42\n",
      "\n",
      "\n",
      "Average amount of Strategy Games in North American Sales: 0.124531835206\n",
      "Average amount of Non-Strategy Games in North American Sales: 0.405474229948\n",
      "North American t-statistic: -14.1513460932\n",
      "North American p-value: 5.70332498227e-40\n",
      "\n",
      "\n",
      "Average amount of Strategy Games in European Sales: 0.0944194756554\n",
      "Average amount of Non-Strategy Games in European Sales: 0.241857273559\n",
      "European t-statistic: -10.2300474387\n",
      "European p-value: 7.47350371689e-23\n",
      "\n",
      "\n",
      "Average amount of Strategy Games in Japanese Sales: 0.0162546816479\n",
      "Average amount of Non-Strategy Games in Japanese Sales: 0.0661085696859\n",
      "Japanese t-statistic: -9.01789342863\n",
      "Japanese p-value: 1.41203442902e-18\n"
     ]
    }
   ],
   "source": [
    "# Running a t-test for Strategy Games and Global Sales\n",
    "print('Average amount of Strategy Games in Global Sales: ' + str(df.loc[df['Genre'] == 'Strategy']['Global_Sales'].mean()))\n",
    "print('Average amount of Non-Strategy Games in Global Sales: ' + str(df.loc[df['Genre'] != 'Strategy']['Global_Sales'].mean()))\n",
    "t_stat, p = stats.ttest_ind(df.loc[df['Genre'] == 'Strategy']['Global_Sales'], df.loc[df['Genre'] != 'Strategy']['Global_Sales'], equal_var=False)\n",
    "print('Global t-statistic: ' + str(t_stat))\n",
    "print('Global p-value: ' + str(p))\n",
    "print('\\n')\n",
    "\n",
    "# Running a t-test for Strategy Games and North American Sales\n",
    "print('Average amount of Strategy Games in North American Sales: ' + str(df.loc[df['Genre'] == 'Strategy']['NA_Sales'].mean()))\n",
    "print('Average amount of Non-Strategy Games in North American Sales: ' + str(df.loc[df['Genre'] != 'Strategy']['NA_Sales'].mean()))\n",
    "t_stat, p = stats.ttest_ind(df.loc[df['Genre'] == 'Strategy']['NA_Sales'], df.loc[df['Genre'] != 'Strategy']['NA_Sales'], equal_var=False)\n",
    "print('North American t-statistic: ' + str(t_stat))\n",
    "print('North American p-value: ' + str(p))\n",
    "print('\\n')\n",
    "\n",
    "# Running a t-test for Strategy Games and European Sales\n",
    "print('Average amount of Strategy Games in European Sales: ' + str(df.loc[df['Genre'] == 'Strategy']['EU_Sales'].mean()))\n",
    "print('Average amount of Non-Strategy Games in European Sales: ' + str(df.loc[df['Genre'] != 'Strategy']['EU_Sales'].mean()))\n",
    "t_stat, p = stats.ttest_ind(df.loc[df['Genre'] == 'Strategy']['EU_Sales'], df.loc[df['Genre'] != 'Strategy']['EU_Sales'], equal_var=False)\n",
    "print('European t-statistic: ' + str(t_stat))\n",
    "print('European p-value: ' + str(p))\n",
    "print('\\n')\n",
    "\n",
    "# Running a t-test for Strategy Games and Japanese Sales\n",
    "print('Average amount of Strategy Games in Japanese Sales: ' + str(df.loc[df['Genre'] == 'Strategy']['JP_Sales'].mean()))\n",
    "print('Average amount of Non-Strategy Games in Japanese Sales: ' + str(df.loc[df['Genre'] != 'Strategy']['JP_Sales'].mean()))\n",
    "t_stat, p = stats.ttest_ind(df.loc[df['Genre'] == 'Strategy']['JP_Sales'], df.loc[df['Genre'] != 'Strategy']['JP_Sales'], equal_var=False)\n",
    "print('Japanese t-statistic: ' + str(t_stat))\n",
    "print('Japanese p-value: ' + str(p))"
   ]
  },
  {
   "cell_type": "markdown",
   "metadata": {},
   "source": [
    "** Because of how low the p-values are for Global as well as all regional sales, we can reject the null hypothesis and say Strategy games sell differently in those areas compared to Non-Strategy games. In all areas, they sell worse.**"
   ]
  },
  {
   "cell_type": "code",
   "execution_count": 15,
   "metadata": {
    "collapsed": false
   },
   "outputs": [
    {
     "name": "stdout",
     "output_type": "stream",
     "text": [
      "Average amount of Wii Games in Global Sales: 1.37574112735\n",
      "Average amount of Non-Wii Games in Global Sales: 0.732440907658\n",
      "Global t-statistic: 2.77031622966\n",
      "Global p-value: 0.005815469795\n",
      "\n",
      "\n",
      "Average amount of Wii Games in North American Sales: 0.715887265136\n",
      "Average amount of Non-Wii Games in North American Sales: 0.370223763\n",
      "North American t-statistic: 3.05405503075\n",
      "North American p-value: 0.00238202221769\n",
      "\n",
      "\n",
      "Average amount of Wii Games in European Sales: 0.426158663883\n",
      "Average amount of Non-Wii Games in European Sales: 0.221742830129\n",
      "European t-statistic: 2.56765295581\n",
      "European p-value: 0.0105376974667\n",
      "\n",
      "\n",
      "Average amount of Wii Games in Japanese Sales: 0.109331941545\n",
      "Average amount of Non-Wii Games in Japanese Sales: 0.060748502994\n",
      "Japanese t-statistic: 2.18025645862\n",
      "Japanese p-value: 0.0297037066106\n"
     ]
    }
   ],
   "source": [
    "# Running a t-test for Wii Games and Global Sales\n",
    "print('Average amount of Wii Games in Global Sales: ' + str(df.loc[df['Platform'] == 'Wii']['Global_Sales'].mean()))\n",
    "print('Average amount of Non-Wii Games in Global Sales: ' + str(df.loc[df['Platform'] != 'Wii']['Global_Sales'].mean()))\n",
    "t_stat, p = stats.ttest_ind(df.loc[df['Platform'] == 'Wii']['Global_Sales'], df.loc[df['Platform'] != 'Wii']['Global_Sales'], equal_var=False)\n",
    "print('Global t-statistic: ' + str(t_stat))\n",
    "print('Global p-value: ' + str(p))\n",
    "print('\\n')\n",
    "\n",
    "# Running a t-test for Wii Games and North American Sales\n",
    "print('Average amount of Wii Games in North American Sales: ' + str(df.loc[df['Platform'] == 'Wii']['NA_Sales'].mean()))\n",
    "print('Average amount of Non-Wii Games in North American Sales: ' + str(df.loc[df['Platform'] != 'Wii']['NA_Sales'].mean()))\n",
    "t_stat, p = stats.ttest_ind(df.loc[df['Platform'] == 'Wii']['NA_Sales'], df.loc[df['Platform'] != 'Wii']['NA_Sales'], equal_var=False)\n",
    "print('North American t-statistic: ' + str(t_stat))\n",
    "print('North American p-value: ' + str(p))\n",
    "print('\\n')\n",
    "\n",
    "# Running a t-test for Wii Games and European Sales\n",
    "print('Average amount of Wii Games in European Sales: ' + str(df.loc[df['Platform'] == 'Wii']['EU_Sales'].mean()))\n",
    "print('Average amount of Non-Wii Games in European Sales: ' + str(df.loc[df['Platform'] != 'Wii']['EU_Sales'].mean()))\n",
    "t_stat, p = stats.ttest_ind(df.loc[df['Platform'] == 'Wii']['EU_Sales'], df.loc[df['Platform'] != 'Wii']['EU_Sales'], equal_var=False)\n",
    "print('European t-statistic: ' + str(t_stat))\n",
    "print('European p-value: ' + str(p))\n",
    "print('\\n')\n",
    "\n",
    "# Running a t-test for Wii Games and Japanese Sales\n",
    "print('Average amount of Wii Games in Japanese Sales: ' + str(df.loc[df['Platform'] == 'Wii']['JP_Sales'].mean()))\n",
    "print('Average amount of Non-Wii Games in Japanese Sales: ' + str(df.loc[df['Platform'] != 'Wii']['JP_Sales'].mean()))\n",
    "t_stat, p = stats.ttest_ind(df.loc[df['Platform'] == 'Wii']['JP_Sales'], df.loc[df['Platform'] != 'Wii']['JP_Sales'], equal_var=False)\n",
    "print('Japanese t-statistic: ' + str(t_stat))\n",
    "print('Japanese p-value: ' + str(p))"
   ]
  },
  {
   "cell_type": "markdown",
   "metadata": {},
   "source": [
    "** Because of how low the p-values are for Global as well as all regional sales, we can reject the null hypothesis and say Nintendo Wii games sell differently in those areas compared to Non-Nintendo Wii games. In all areas, they sell better.**"
   ]
  },
  {
   "cell_type": "code",
   "execution_count": 16,
   "metadata": {
    "collapsed": false
   },
   "outputs": [
    {
     "name": "stdout",
     "output_type": "stream",
     "text": [
      "Average amount of DS Games in Global Sales: 0.823987068966\n",
      "Average amount of Non-DS Games in Global Sales: 0.77420531363\n",
      "Global t-statistic: 0.443619227926\n",
      "Global p-value: 0.657506318782\n",
      "\n",
      "\n",
      "Average amount of DS Games in North American Sales: 0.373706896552\n",
      "Average amount of Non-DS Games in North American Sales: 0.395999056752\n",
      "North American t-statistic: -0.540259760087\n",
      "North American p-value: 0.589234189161\n",
      "\n",
      "\n",
      "Average amount of DS Games in European Sales: 0.205387931034\n",
      "Average amount of Non-DS Games in European Sales: 0.238328879107\n",
      "European t-statistic: -0.841650702469\n",
      "European p-value: 0.400378240111\n",
      "\n",
      "\n",
      "Average amount of DS Games in Japanese Sales: 0.180301724138\n",
      "Average amount of Non-DS Games in Japanese Sales: 0.0556862128596\n",
      "Japanese t-statistic: 4.19628472791\n",
      "Japanese p-value: 3.24169344564e-05\n"
     ]
    }
   ],
   "source": [
    "# Running a t-test for DS Games and Global Sales\n",
    "print('Average amount of DS Games in Global Sales: ' + str(df.loc[df['Platform'] == 'DS']['Global_Sales'].mean()))\n",
    "print('Average amount of Non-DS Games in Global Sales: ' + str(df.loc[df['Platform'] != 'DS']['Global_Sales'].mean()))\n",
    "t_stat, p = stats.ttest_ind(df.loc[df['Platform'] == 'DS']['Global_Sales'], df.loc[df['Platform'] != 'DS']['Global_Sales'], equal_var=False)\n",
    "print('Global t-statistic: ' + str(t_stat))\n",
    "print('Global p-value: ' + str(p))\n",
    "print('\\n')\n",
    "\n",
    "# Running a t-test for DS Games and North American Sales\n",
    "print('Average amount of DS Games in North American Sales: ' + str(df.loc[df['Platform'] == 'DS']['NA_Sales'].mean()))\n",
    "print('Average amount of Non-DS Games in North American Sales: ' + str(df.loc[df['Platform'] != 'DS']['NA_Sales'].mean()))\n",
    "t_stat, p = stats.ttest_ind(df.loc[df['Platform'] == 'DS']['NA_Sales'], df.loc[df['Platform'] != 'DS']['NA_Sales'], equal_var=False)\n",
    "print('North American t-statistic: ' + str(t_stat))\n",
    "print('North American p-value: ' + str(p))\n",
    "print('\\n')\n",
    "\n",
    "# Running a t-test for DS Games and European Sales\n",
    "print('Average amount of DS Games in European Sales: ' + str(df.loc[df['Platform'] == 'DS']['EU_Sales'].mean()))\n",
    "print('Average amount of Non-DS Games in European Sales: ' + str(df.loc[df['Platform'] != 'DS']['EU_Sales'].mean()))\n",
    "t_stat, p = stats.ttest_ind(df.loc[df['Platform'] == 'DS']['EU_Sales'], df.loc[df['Platform'] != 'DS']['EU_Sales'], equal_var=False)\n",
    "print('European t-statistic: ' + str(t_stat))\n",
    "print('European p-value: ' + str(p))\n",
    "print('\\n')\n",
    "\n",
    "# Running a t-test for DS Games and Japanese Sales\n",
    "print('Average amount of DS Games in Japanese Sales: ' + str(df.loc[df['Platform'] == 'DS']['JP_Sales'].mean()))\n",
    "print('Average amount of Non-DS Games in Japanese Sales: ' + str(df.loc[df['Platform'] != 'DS']['JP_Sales'].mean()))\n",
    "t_stat, p = stats.ttest_ind(df.loc[df['Platform'] == 'DS']['JP_Sales'], df.loc[df['Platform'] != 'DS']['JP_Sales'], equal_var=False)\n",
    "print('Japanese t-statistic: ' + str(t_stat))\n",
    "print('Japanese p-value: ' + str(p))"
   ]
  },
  {
   "cell_type": "markdown",
   "metadata": {},
   "source": [
    "** Because of how low the p-value is for Japanese sales, we can reject the null hypothesis and say Nintendo DS games sell differently in that area compared to Non-Nintendo DS games. In Japan, they sell better.**"
   ]
  },
  {
   "cell_type": "code",
   "execution_count": 17,
   "metadata": {
    "collapsed": false
   },
   "outputs": [
    {
     "name": "stdout",
     "output_type": "stream",
     "text": [
      "Average amount of XBOX 360 Games in Global Sales: 0.994522144522\n",
      "Average amount of Non-XBOX 360 Games in Global Sales: 0.746396849338\n",
      "Global t-statistic: 3.61543741012\n",
      "Global p-value: 0.000312807472291\n",
      "\n",
      "\n",
      "Average amount of XBOX 360 Games in North American Sales: 0.621713286713\n",
      "Average amount of Non-XBOX 360 Games in North American Sales: 0.361809954751\n",
      "North American t-statistic: 6.09171732392\n",
      "North American p-value: 1.58679301297e-09\n",
      "\n",
      "\n",
      "Average amount of XBOX 360 Games in European Sales: 0.273111888112\n",
      "Average amount of Non-XBOX 360 Games in European Sales: 0.230765879001\n",
      "European t-statistic: 2.06140983345\n",
      "European p-value: 0.0394593122616\n",
      "\n",
      "\n",
      "Average amount of XBOX 360 Games in Japanese Sales: 0.0117599067599\n",
      "Average amount of Non-XBOX 360 Games in Japanese Sales: 0.0716926428691\n",
      "Japanese t-statistic: -14.679528777\n",
      "Japanese p-value: 5.05473259867e-48\n"
     ]
    }
   ],
   "source": [
    "# Running a t-test for XBOX 360 Games and Global Sales\n",
    "print('Average amount of XBOX 360 Games in Global Sales: ' + str(df.loc[df['Platform'] == 'X360']['Global_Sales'].mean()))\n",
    "print('Average amount of Non-XBOX 360 Games in Global Sales: ' + str(df.loc[df['Platform'] != 'X360']['Global_Sales'].mean()))\n",
    "t_stat, p = stats.ttest_ind(df.loc[df['Platform'] == 'X360']['Global_Sales'], df.loc[df['Platform'] != 'X360']['Global_Sales'], equal_var=False)\n",
    "print('Global t-statistic: ' + str(t_stat))\n",
    "print('Global p-value: ' + str(p))\n",
    "print('\\n')\n",
    "\n",
    "# Running a t-test for XBOX 360 Games and North American Sales\n",
    "print('Average amount of XBOX 360 Games in North American Sales: ' + str(df.loc[df['Platform'] == 'X360']['NA_Sales'].mean()))\n",
    "print('Average amount of Non-XBOX 360 Games in North American Sales: ' + str(df.loc[df['Platform'] != 'X360']['NA_Sales'].mean()))\n",
    "t_stat, p = stats.ttest_ind(df.loc[df['Platform'] == 'X360']['NA_Sales'], df.loc[df['Platform'] != 'X360']['NA_Sales'], equal_var=False)\n",
    "print('North American t-statistic: ' + str(t_stat))\n",
    "print('North American p-value: ' + str(p))\n",
    "print('\\n')\n",
    "\n",
    "# Running a t-test for XBOX 360 Games and European Sales\n",
    "print('Average amount of XBOX 360 Games in European Sales: ' + str(df.loc[df['Platform'] == 'X360']['EU_Sales'].mean()))\n",
    "print('Average amount of Non-XBOX 360 Games in European Sales: ' + str(df.loc[df['Platform'] != 'X360']['EU_Sales'].mean()))\n",
    "t_stat, p = stats.ttest_ind(df.loc[df['Platform'] == 'X360']['EU_Sales'], df.loc[df['Platform'] != 'X360']['EU_Sales'], equal_var=False)\n",
    "print('European t-statistic: ' + str(t_stat))\n",
    "print('European p-value: ' + str(p))\n",
    "print('\\n')\n",
    "\n",
    "# Running a t-test for XBOX 360 Games and Japanese Sales\n",
    "print('Average amount of XBOX 360 Games in Japanese Sales: ' + str(df.loc[df['Platform'] == 'X360']['JP_Sales'].mean()))\n",
    "print('Average amount of Non-XBOX 360 Games in Japanese Sales: ' + str(df.loc[df['Platform'] != 'X360']['JP_Sales'].mean()))\n",
    "t_stat, p = stats.ttest_ind(df.loc[df['Platform'] == 'X360']['JP_Sales'], df.loc[df['Platform'] != 'X360']['JP_Sales'], equal_var=False)\n",
    "print('Japanese t-statistic: ' + str(t_stat))\n",
    "print('Japanese p-value: ' + str(p))"
   ]
  },
  {
   "cell_type": "markdown",
   "metadata": {},
   "source": [
    "** Because of how low the p-values are for Global as well as all regional sales, we can reject the null hypothesis and say XBOX 360 games sell differently in those areas compared to Non-XBOX 360 games. In all areas except Japan, they sell better while in Japan they sell worse.**"
   ]
  },
  {
   "cell_type": "code",
   "execution_count": 18,
   "metadata": {
    "collapsed": false
   },
   "outputs": [
    {
     "name": "stdout",
     "output_type": "stream",
     "text": [
      "Average amount of PS3 Games in Global Sales: 1.01989596879\n",
      "Average amount of Non-PS3 Games in Global Sales: 0.746821334214\n",
      "Global t-statistic: 4.11185137884\n",
      "Global p-value: 4.22975028501e-05\n",
      "\n",
      "\n",
      "Average amount of PS3 Games in North American Sales: 0.444239271782\n",
      "Average amount of Non-PS3 Games in North American Sales: 0.388165455746\n",
      "North American t-statistic: 1.96646244386\n",
      "North American p-value: 0.0494765354245\n",
      "\n",
      "\n",
      "Average amount of PS3 Games in European Sales: 0.355656697009\n",
      "Average amount of Non-PS3 Games in European Sales: 0.22090653897\n",
      "European t-statistic: 4.98075766262\n",
      "European p-value: 7.51126525787e-07\n",
      "\n",
      "\n",
      "Average amount of PS3 Games in Japanese Sales: 0.0708972691808\n",
      "Average amount of Non-PS3 Games in Japanese Sales: 0.0633025099075\n",
      "Japanese t-statistic: 1.11040765889\n",
      "Japanese p-value: 0.266989548401\n"
     ]
    }
   ],
   "source": [
    "# Running a t-test for PS3 Games and Global Sales\n",
    "print('Average amount of PS3 Games in Global Sales: ' + str(df.loc[df['Platform'] == 'PS3']['Global_Sales'].mean()))\n",
    "print('Average amount of Non-PS3 Games in Global Sales: ' + str(df.loc[df['Platform'] != 'PS3']['Global_Sales'].mean()))\n",
    "t_stat, p = stats.ttest_ind(df.loc[df['Platform'] == 'PS3']['Global_Sales'], df.loc[df['Platform'] != 'PS3']['Global_Sales'], equal_var=False)\n",
    "print('Global t-statistic: ' + str(t_stat))\n",
    "print('Global p-value: ' + str(p))\n",
    "print('\\n')\n",
    "\n",
    "# Running a t-test for PS3 Games and North American Sales\n",
    "print('Average amount of PS3 Games in North American Sales: ' + str(df.loc[df['Platform'] == 'PS3']['NA_Sales'].mean()))\n",
    "print('Average amount of Non-PS3 Games in North American Sales: ' + str(df.loc[df['Platform'] != 'PS3']['NA_Sales'].mean()))\n",
    "t_stat, p = stats.ttest_ind(df.loc[df['Platform'] == 'PS3']['NA_Sales'], df.loc[df['Platform'] != 'PS3']['NA_Sales'], equal_var=False)\n",
    "print('North American t-statistic: ' + str(t_stat))\n",
    "print('North American p-value: ' + str(p))\n",
    "print('\\n')\n",
    "\n",
    "# Running a t-test for PS3 Games and European Sales\n",
    "print('Average amount of PS3 Games in European Sales: ' + str(df.loc[df['Platform'] == 'PS3']['EU_Sales'].mean()))\n",
    "print('Average amount of Non-PS3 Games in European Sales: ' + str(df.loc[df['Platform'] != 'PS3']['EU_Sales'].mean()))\n",
    "t_stat, p = stats.ttest_ind(df.loc[df['Platform'] == 'PS3']['EU_Sales'], df.loc[df['Platform'] != 'PS3']['EU_Sales'], equal_var=False)\n",
    "print('European t-statistic: ' + str(t_stat))\n",
    "print('European p-value: ' + str(p))\n",
    "print('\\n')\n",
    "\n",
    "# Running a t-test for PS3 Games and Japanese Sales\n",
    "print('Average amount of PS3 Games in Japanese Sales: ' + str(df.loc[df['Platform'] == 'PS3']['JP_Sales'].mean()))\n",
    "print('Average amount of Non-PS3 Games in Japanese Sales: ' + str(df.loc[df['Platform'] != 'PS3']['JP_Sales'].mean()))\n",
    "t_stat, p = stats.ttest_ind(df.loc[df['Platform'] == 'PS3']['JP_Sales'], df.loc[df['Platform'] != 'PS3']['JP_Sales'], equal_var=False)\n",
    "print('Japanese t-statistic: ' + str(t_stat))\n",
    "print('Japanese p-value: ' + str(p))"
   ]
  },
  {
   "cell_type": "markdown",
   "metadata": {},
   "source": [
    "** Because of how low the p-values are for Global as well as North American and European sales, we can reject the null hypothesis and say PS3 games sell differently in those areas compared to Non-PS3 games. In those areas, they sell better.**"
   ]
  },
  {
   "cell_type": "code",
   "execution_count": 19,
   "metadata": {
    "collapsed": false
   },
   "outputs": [
    {
     "name": "stdout",
     "output_type": "stream",
     "text": [
      "Average amount of PS2 Games in Global Sales: 0.829798245614\n",
      "Average amount of Non-PS2 Games in Global Sales: 0.767120492524\n",
      "Global t-statistic: 1.24059825739\n",
      "Global p-value: 0.214887172274\n",
      "\n",
      "\n",
      "Average amount of PS2 Games in North American Sales: 0.414605263158\n",
      "Average amount of Non-PS2 Games in North American Sales: 0.390448548813\n",
      "North American t-statistic: 0.953930340708\n",
      "North American p-value: 0.340227235521\n",
      "\n",
      "\n",
      "Average amount of PS2 Games in European Sales: 0.223807017544\n",
      "Average amount of Non-PS2 Games in European Sales: 0.238552330695\n",
      "European t-statistic: -0.909427848246\n",
      "European p-value: 0.363209569222\n",
      "\n",
      "\n",
      "Average amount of PS2 Games in Japanese Sales: 0.0665\n",
      "Average amount of Non-PS2 Games in Japanese Sales: 0.0636886543536\n",
      "Japanese t-statistic: 0.345088348513\n",
      "Japanese p-value: 0.730066196418\n"
     ]
    }
   ],
   "source": [
    "# Running a t-test for PS2 Games and Global Sales\n",
    "print('Average amount of PS2 Games in Global Sales: ' + str(df.loc[df['Platform'] == 'PS2']['Global_Sales'].mean()))\n",
    "print('Average amount of Non-PS2 Games in Global Sales: ' + str(df.loc[df['Platform'] != 'PS2']['Global_Sales'].mean()))\n",
    "t_stat, p = stats.ttest_ind(df.loc[df['Platform'] == 'PS2']['Global_Sales'], df.loc[df['Platform'] != 'PS2']['Global_Sales'], equal_var=False)\n",
    "print('Global t-statistic: ' + str(t_stat))\n",
    "print('Global p-value: ' + str(p))\n",
    "print('\\n')\n",
    "\n",
    "# Running a t-test for PS2 Games and North American Sales\n",
    "print('Average amount of PS2 Games in North American Sales: ' + str(df.loc[df['Platform'] == 'PS2']['NA_Sales'].mean()))\n",
    "print('Average amount of Non-PS2 Games in North American Sales: ' + str(df.loc[df['Platform'] != 'PS2']['NA_Sales'].mean()))\n",
    "t_stat, p = stats.ttest_ind(df.loc[df['Platform'] == 'PS2']['NA_Sales'], df.loc[df['Platform'] != 'PS2']['NA_Sales'], equal_var=False)\n",
    "print('North American t-statistic: ' + str(t_stat))\n",
    "print('North American p-value: ' + str(p))\n",
    "print('\\n')\n",
    "\n",
    "# Running a t-test for PS2 Games and European Sales\n",
    "print('Average amount of PS2 Games in European Sales: ' + str(df.loc[df['Platform'] == 'PS2']['EU_Sales'].mean()))\n",
    "print('Average amount of Non-PS2 Games in European Sales: ' + str(df.loc[df['Platform'] != 'PS2']['EU_Sales'].mean()))\n",
    "t_stat, p = stats.ttest_ind(df.loc[df['Platform'] == 'PS2']['EU_Sales'], df.loc[df['Platform'] != 'PS2']['EU_Sales'], equal_var=False)\n",
    "print('European t-statistic: ' + str(t_stat))\n",
    "print('European p-value: ' + str(p))\n",
    "print('\\n')\n",
    "\n",
    "# Running a t-test for PS2 Games and Japanese Sales\n",
    "print('Average amount of PS2 Games in Japanese Sales: ' + str(df.loc[df['Platform'] == 'PS2']['JP_Sales'].mean()))\n",
    "print('Average amount of Non-PS2 Games in Japanese Sales: ' + str(df.loc[df['Platform'] != 'PS2']['JP_Sales'].mean()))\n",
    "t_stat, p = stats.ttest_ind(df.loc[df['Platform'] == 'PS2']['JP_Sales'], df.loc[df['Platform'] != 'PS2']['JP_Sales'], equal_var=False)\n",
    "print('Japanese t-statistic: ' + str(t_stat))\n",
    "print('Japanese p-value: ' + str(p))"
   ]
  },
  {
   "cell_type": "markdown",
   "metadata": {},
   "source": [
    "** Because of how high the p-values are for Global and all regional sales, we cannot reject the null hypothesis. Therefore, PS2 games do not sell better or worse in any area.**"
   ]
  },
  {
   "cell_type": "code",
   "execution_count": 20,
   "metadata": {
    "collapsed": false
   },
   "outputs": [
    {
     "name": "stdout",
     "output_type": "stream",
     "text": [
      "Average amount of 3DS Games in Global Sales: 0.795032258065\n",
      "Average amount of Non-3DS Games in Global Sales: 0.777184407796\n",
      "Global t-statistic: 0.124510723939\n",
      "Global p-value: 0.90106424784\n",
      "\n",
      "\n",
      "Average amount of 3DS Games in North American Sales: 0.314\n",
      "Average amount of Non-3DS Games in North American Sales: 0.396353823088\n",
      "North American t-statistic: -1.49362127883\n",
      "North American p-value: 0.137134350127\n",
      "\n",
      "\n",
      "Average amount of 3DS Games in European Sales: 0.215032258065\n",
      "Average amount of Non-3DS Games in European Sales: 0.236578710645\n",
      "European t-statistic: -0.501202904518\n",
      "European p-value: 0.616889757886\n",
      "\n",
      "\n",
      "Average amount of 3DS Games in Japanese Sales: 0.216580645161\n",
      "Average amount of Non-3DS Games in Japanese Sales: 0.060616191904\n",
      "Japanese t-statistic: 3.56193065624\n",
      "Japanese p-value: 0.000488614562306\n"
     ]
    }
   ],
   "source": [
    "# Running a t-test for 3DS Games and Global Sales\n",
    "print('Average amount of 3DS Games in Global Sales: ' + str(df.loc[df['Platform'] == '3DS']['Global_Sales'].mean()))\n",
    "print('Average amount of Non-3DS Games in Global Sales: ' + str(df.loc[df['Platform'] != '3DS']['Global_Sales'].mean()))\n",
    "t_stat, p = stats.ttest_ind(df.loc[df['Platform'] == '3DS']['Global_Sales'], df.loc[df['Platform'] != '3DS']['Global_Sales'], equal_var=False)\n",
    "print('Global t-statistic: ' + str(t_stat))\n",
    "print('Global p-value: ' + str(p))\n",
    "print('\\n')\n",
    "\n",
    "# Running a t-test for 3DS Games and North American Sales\n",
    "print('Average amount of 3DS Games in North American Sales: ' + str(df.loc[df['Platform'] == '3DS']['NA_Sales'].mean()))\n",
    "print('Average amount of Non-3DS Games in North American Sales: ' + str(df.loc[df['Platform'] != '3DS']['NA_Sales'].mean()))\n",
    "t_stat, p = stats.ttest_ind(df.loc[df['Platform'] == '3DS']['NA_Sales'], df.loc[df['Platform'] != '3DS']['NA_Sales'], equal_var=False)\n",
    "print('North American t-statistic: ' + str(t_stat))\n",
    "print('North American p-value: ' + str(p))\n",
    "print('\\n')\n",
    "\n",
    "# Running a t-test for 3DS Games and European Sales\n",
    "print('Average amount of 3DS Games in European Sales: ' + str(df.loc[df['Platform'] == '3DS']['EU_Sales'].mean()))\n",
    "print('Average amount of Non-3DS Games in European Sales: ' + str(df.loc[df['Platform'] != '3DS']['EU_Sales'].mean()))\n",
    "t_stat, p = stats.ttest_ind(df.loc[df['Platform'] == '3DS']['EU_Sales'], df.loc[df['Platform'] != '3DS']['EU_Sales'], equal_var=False)\n",
    "print('European t-statistic: ' + str(t_stat))\n",
    "print('European p-value: ' + str(p))\n",
    "print('\\n')\n",
    "\n",
    "# Running a t-test for 3DS Games and Japanese Sales\n",
    "print('Average amount of 3DS Games in Japanese Sales: ' + str(df.loc[df['Platform'] == '3DS']['JP_Sales'].mean()))\n",
    "print('Average amount of Non-3DS Games in Japanese Sales: ' + str(df.loc[df['Platform'] != '3DS']['JP_Sales'].mean()))\n",
    "t_stat, p = stats.ttest_ind(df.loc[df['Platform'] == '3DS']['JP_Sales'], df.loc[df['Platform'] != '3DS']['JP_Sales'], equal_var=False)\n",
    "print('Japanese t-statistic: ' + str(t_stat))\n",
    "print('Japanese p-value: ' + str(p))"
   ]
  },
  {
   "cell_type": "markdown",
   "metadata": {},
   "source": [
    "** Because of how low the p-value is for Japanese sales, we can reject the null hypothesis and say Nintendo 3DS games sell differently in that area compared to Non-Nintendo 3DS games. In Japan, they sell better.**"
   ]
  },
  {
   "cell_type": "code",
   "execution_count": 21,
   "metadata": {
    "collapsed": false
   },
   "outputs": [
    {
     "name": "stdout",
     "output_type": "stream",
     "text": [
      "Average amount of PS4 Games in Global Sales: 1.01686192469\n",
      "Average amount of Non-PS4 Games in Global Sales: 0.76890677194\n",
      "Global t-statistic: 2.23969598629\n",
      "Global p-value: 0.0259475092053\n",
      "\n",
      "\n",
      "Average amount of PS4 Games in North American Sales: 0.352133891213\n",
      "Average amount of Non-PS4 Games in North American Sales: 0.396020346189\n",
      "North American t-statistic: -1.12270699609\n",
      "North American p-value: 0.262488714237\n",
      "\n",
      "\n",
      "Average amount of PS4 Games in European Sales: 0.46769874477\n",
      "Average amount of Non-PS4 Games in European Sales: 0.227684482235\n",
      "European t-statistic: 4.08040985631\n",
      "European p-value: 6.06549821261e-05\n",
      "\n",
      "\n",
      "Average amount of PS4 Games in Japanese Sales: 0.038870292887\n",
      "Average amount of Non-PS4 Games in Japanese Sales: 0.0650759186152\n",
      "Japanese t-statistic: -4.55486183529\n",
      "Japanese p-value: 6.28671272683e-06\n"
     ]
    }
   ],
   "source": [
    "# Running a t-test for PS4 Games and Global Sales\n",
    "print('Average amount of PS4 Games in Global Sales: ' + str(df.loc[df['Platform'] == 'PS4']['Global_Sales'].mean()))\n",
    "print('Average amount of Non-PS4 Games in Global Sales: ' + str(df.loc[df['Platform'] != 'PS4']['Global_Sales'].mean()))\n",
    "t_stat, p = stats.ttest_ind(df.loc[df['Platform'] == 'PS4']['Global_Sales'], df.loc[df['Platform'] != 'PS4']['Global_Sales'], equal_var=False)\n",
    "print('Global t-statistic: ' + str(t_stat))\n",
    "print('Global p-value: ' + str(p))\n",
    "print('\\n')\n",
    "\n",
    "# Running a t-test for PS4 Games and North American Sales\n",
    "print('Average amount of PS4 Games in North American Sales: ' + str(df.loc[df['Platform'] == 'PS4']['NA_Sales'].mean()))\n",
    "print('Average amount of Non-PS4 Games in North American Sales: ' + str(df.loc[df['Platform'] != 'PS4']['NA_Sales'].mean()))\n",
    "t_stat, p = stats.ttest_ind(df.loc[df['Platform'] == 'PS4']['NA_Sales'], df.loc[df['Platform'] != 'PS4']['NA_Sales'], equal_var=False)\n",
    "print('North American t-statistic: ' + str(t_stat))\n",
    "print('North American p-value: ' + str(p))\n",
    "print('\\n')\n",
    "\n",
    "# Running a t-test for PS4 Games and European Sales\n",
    "print('Average amount of PS4 Games in European Sales: ' + str(df.loc[df['Platform'] == 'PS4']['EU_Sales'].mean()))\n",
    "print('Average amount of Non-PS4 Games in European Sales: ' + str(df.loc[df['Platform'] != 'PS4']['EU_Sales'].mean()))\n",
    "t_stat, p = stats.ttest_ind(df.loc[df['Platform'] == 'PS4']['EU_Sales'], df.loc[df['Platform'] != 'PS4']['EU_Sales'], equal_var=False)\n",
    "print('European t-statistic: ' + str(t_stat))\n",
    "print('European p-value: ' + str(p))\n",
    "print('\\n')\n",
    "\n",
    "# Running a t-test for PS4 Games and Japanese Sales\n",
    "print('Average amount of PS4 Games in Japanese Sales: ' + str(df.loc[df['Platform'] == 'PS4']['JP_Sales'].mean()))\n",
    "print('Average amount of Non-PS4 Games in Japanese Sales: ' + str(df.loc[df['Platform'] != 'PS4']['JP_Sales'].mean()))\n",
    "t_stat, p = stats.ttest_ind(df.loc[df['Platform'] == 'PS4']['JP_Sales'], df.loc[df['Platform'] != 'PS4']['JP_Sales'], equal_var=False)\n",
    "print('Japanese t-statistic: ' + str(t_stat))\n",
    "print('Japanese p-value: ' + str(p))"
   ]
  },
  {
   "cell_type": "markdown",
   "metadata": {},
   "source": [
    "** Because of how low the p-values are for Global as well as European and Japanese sales, we can reject the null hypothesis and say PS4 games sell differently in those areas compared to Non-PS4 games. Globally and in Europe, they sell better while in Japan they sell worse.**"
   ]
  },
  {
   "cell_type": "code",
   "execution_count": 22,
   "metadata": {
    "collapsed": false
   },
   "outputs": [
    {
     "name": "stdout",
     "output_type": "stream",
     "text": [
      "Average amount of Playstation Games in Global Sales: 1.377\n",
      "Average amount of Non-Playstation Games in Global Sales: 0.764119850187\n",
      "Global t-statistic: 3.56797356393\n",
      "Global p-value: 0.000479074333495\n",
      "\n",
      "\n",
      "Average amount of Playstation Games in North American Sales: 0.611733333333\n",
      "Average amount of Non-Playstation Games in North American Sales: 0.389601498127\n",
      "North American t-statistic: 2.96789471024\n",
      "North American p-value: 0.00346919074075\n",
      "\n",
      "\n",
      "Average amount of Playstation Games in European Sales: 0.430533333333\n",
      "Average amount of Non-Playstation Games in European Sales: 0.231719850187\n",
      "European t-statistic: 3.45792395912\n",
      "European p-value: 0.000702259186415\n",
      "\n",
      "\n",
      "Average amount of Playstation Games in Japanese Sales: 0.259\n",
      "Average amount of Non-Playstation Games in Japanese Sales: 0.0597797752809\n",
      "Japanese t-statistic: 4.0486371342\n",
      "Japanese p-value: 8.21962425908e-05\n"
     ]
    }
   ],
   "source": [
    "# Running a t-test for Playstation Games and Global Sales\n",
    "print('Average amount of Playstation Games in Global Sales: ' + str(df.loc[df['Platform'] == 'PS']['Global_Sales'].mean()))\n",
    "print('Average amount of Non-Playstation Games in Global Sales: ' + str(df.loc[df['Platform'] != 'PS']['Global_Sales'].mean()))\n",
    "t_stat, p = stats.ttest_ind(df.loc[df['Platform'] == 'PS']['Global_Sales'], df.loc[df['Platform'] != 'PS']['Global_Sales'], equal_var=False)\n",
    "print('Global t-statistic: ' + str(t_stat))\n",
    "print('Global p-value: ' + str(p))\n",
    "print('\\n')\n",
    "\n",
    "# Running a t-test for Playstation Games and North American Sales\n",
    "print('Average amount of Playstation Games in North American Sales: ' + str(df.loc[df['Platform'] == 'PS']['NA_Sales'].mean()))\n",
    "print('Average amount of Non-Playstation Games in North American Sales: ' + str(df.loc[df['Platform'] != 'PS']['NA_Sales'].mean()))\n",
    "t_stat, p = stats.ttest_ind(df.loc[df['Platform'] == 'PS']['NA_Sales'], df.loc[df['Platform'] != 'PS']['NA_Sales'], equal_var=False)\n",
    "print('North American t-statistic: ' + str(t_stat))\n",
    "print('North American p-value: ' + str(p))\n",
    "print('\\n')\n",
    "\n",
    "# Running a t-test for Playstation Games and European Sales\n",
    "print('Average amount of Playstation Games in European Sales: ' + str(df.loc[df['Platform'] == 'PS']['EU_Sales'].mean()))\n",
    "print('Average amount of Non-Playstation Games in European Sales: ' + str(df.loc[df['Platform'] != 'PS']['EU_Sales'].mean()))\n",
    "t_stat, p = stats.ttest_ind(df.loc[df['Platform'] == 'PS']['EU_Sales'], df.loc[df['Platform'] != 'PS']['EU_Sales'], equal_var=False)\n",
    "print('European t-statistic: ' + str(t_stat))\n",
    "print('European p-value: ' + str(p))\n",
    "print('\\n')\n",
    "\n",
    "# Running a t-test for Playstation Games and Japanese Sales\n",
    "print('Average amount of Playstation Games in Japanese Sales: ' + str(df.loc[df['Platform'] == 'PS']['JP_Sales'].mean()))\n",
    "print('Average amount of Non-Playstation Games in Japanese Sales: ' + str(df.loc[df['Platform'] != 'PS']['JP_Sales'].mean()))\n",
    "t_stat, p = stats.ttest_ind(df.loc[df['Platform'] == 'PS']['JP_Sales'], df.loc[df['Platform'] != 'PS']['JP_Sales'], equal_var=False)\n",
    "print('Japanese t-statistic: ' + str(t_stat))\n",
    "print('Japanese p-value: ' + str(p))"
   ]
  },
  {
   "cell_type": "markdown",
   "metadata": {},
   "source": [
    "** Because of how low the p-values are for Global as well as all regional sales, we can reject the null hypothesis and say Playstation games sell differently in those areas compared to Non-Playstation games. In all areas, they sell better.**"
   ]
  },
  {
   "cell_type": "code",
   "execution_count": 23,
   "metadata": {
    "collapsed": false
   },
   "outputs": [
    {
     "name": "stdout",
     "output_type": "stream",
     "text": [
      "Average amount of XBOX Games in Global Sales: 0.375345132743\n",
      "Average amount of Non-XBOX Games in Global Sales: 0.81389456869\n",
      "Global t-statistic: -12.108791291\n",
      "Global p-value: 1.11892181303e-32\n",
      "\n",
      "\n",
      "Average amount of XBOX Games in North American Sales: 0.271203539823\n",
      "Average amount of Non-XBOX Games in North American Sales: 0.405610223642\n",
      "North American t-statistic: -5.83373292872\n",
      "North American p-value: 7.06257811813e-09\n",
      "\n",
      "\n",
      "Average amount of XBOX Games in European Sales: 0.0889203539823\n",
      "Average amount of Non-XBOX Games in European Sales: 0.249372204473\n",
      "European t-statistic: -14.5919914676\n",
      "European p-value: 5.56898928919e-47\n",
      "\n",
      "\n",
      "Average amount of XBOX Games in Japanese Sales: 0.00212389380531\n",
      "Average amount of Non-XBOX Games in Japanese Sales: 0.0697571884984\n",
      "Japanese t-statistic: -17.6417834866\n",
      "Japanese p-value: 4.38469385598e-68\n"
     ]
    }
   ],
   "source": [
    "# Running a t-test for XBOX Games and Global Sales\n",
    "print('Average amount of XBOX Games in Global Sales: ' + str(df.loc[df['Platform'] == 'XB']['Global_Sales'].mean()))\n",
    "print('Average amount of Non-XBOX Games in Global Sales: ' + str(df.loc[df['Platform'] != 'XB']['Global_Sales'].mean()))\n",
    "t_stat, p = stats.ttest_ind(df.loc[df['Platform'] == 'XB']['Global_Sales'], df.loc[df['Platform'] != 'XB']['Global_Sales'], equal_var=False)\n",
    "print('Global t-statistic: ' + str(t_stat))\n",
    "print('Global p-value: ' + str(p))\n",
    "print('\\n')\n",
    "\n",
    "# Running a t-test for XBOX Games and North American Sales\n",
    "print('Average amount of XBOX Games in North American Sales: ' + str(df.loc[df['Platform'] == 'XB']['NA_Sales'].mean()))\n",
    "print('Average amount of Non-XBOX Games in North American Sales: ' + str(df.loc[df['Platform'] != 'XB']['NA_Sales'].mean()))\n",
    "t_stat, p = stats.ttest_ind(df.loc[df['Platform'] == 'XB']['NA_Sales'], df.loc[df['Platform'] != 'XB']['NA_Sales'], equal_var=False)\n",
    "print('North American t-statistic: ' + str(t_stat))\n",
    "print('North American p-value: ' + str(p))\n",
    "print('\\n')\n",
    "\n",
    "# Running a t-test for XBOX Games and European Sales\n",
    "print('Average amount of XBOX Games in European Sales: ' + str(df.loc[df['Platform'] == 'XB']['EU_Sales'].mean()))\n",
    "print('Average amount of Non-XBOX Games in European Sales: ' + str(df.loc[df['Platform'] != 'XB']['EU_Sales'].mean()))\n",
    "t_stat, p = stats.ttest_ind(df.loc[df['Platform'] == 'XB']['EU_Sales'], df.loc[df['Platform'] != 'XB']['EU_Sales'], equal_var=False)\n",
    "print('European t-statistic: ' + str(t_stat))\n",
    "print('European p-value: ' + str(p))\n",
    "print('\\n')\n",
    "\n",
    "# Running a t-test for XBOX Games and Japanese Sales\n",
    "print('Average amount of XBOX Games in Japanese Sales: ' + str(df.loc[df['Platform'] == 'XB']['JP_Sales'].mean()))\n",
    "print('Average amount of Non-XBOX Games in Japanese Sales: ' + str(df.loc[df['Platform'] != 'XB']['JP_Sales'].mean()))\n",
    "t_stat, p = stats.ttest_ind(df.loc[df['Platform'] == 'XB']['JP_Sales'], df.loc[df['Platform'] != 'XB']['JP_Sales'], equal_var=False)\n",
    "print('Japanese t-statistic: ' + str(t_stat))\n",
    "print('Japanese p-value: ' + str(p))"
   ]
  },
  {
   "cell_type": "markdown",
   "metadata": {},
   "source": [
    "** Because of how low the p-values are for Global as well as all regional sales, we can reject the null hypothesis and say XBOX games sell differently in those areas compared to Non-XBOX games. In all areas, they sell worse.**"
   ]
  },
  {
   "cell_type": "code",
   "execution_count": 24,
   "metadata": {
    "collapsed": false
   },
   "outputs": [
    {
     "name": "stdout",
     "output_type": "stream",
     "text": [
      "Average amount of PC Games in Global Sales: 0.287434715822\n",
      "Average amount of Non-PC Games in Global Sales: 0.829272756722\n",
      "Global t-statistic: -14.3043383828\n",
      "Global p-value: 2.09356887462e-44\n",
      "\n",
      "\n",
      "Average amount of PC Games in North American Sales: 0.0979416282642\n",
      "Average amount of Non-PC Games in North American Sales: 0.425751538711\n",
      "North American t-statistic: -17.6561579664\n",
      "North American p-value: 2.64831396932e-65\n",
      "\n",
      "\n",
      "Average amount of PC Games in European Sales: 0.161013824885\n",
      "Average amount of Non-PC Games in European Sales: 0.244005506965\n",
      "European t-statistic: -4.26210996104\n",
      "European p-value: 2.20815484558e-05\n",
      "\n",
      "\n",
      "Average amount of PC Games in Japanese Sales: 0.00026113671275\n",
      "Average amount of Non-PC Games in Japanese Sales: 0.07089569161\n",
      "Japanese t-statistic: -18.3832524628\n",
      "Japanese p-value: 1.56270176175e-73\n"
     ]
    }
   ],
   "source": [
    "# Running a t-test for PC Games and Global Sales\n",
    "print('Average amount of PC Games in Global Sales: ' + str(df.loc[df['Platform'] == 'PC']['Global_Sales'].mean()))\n",
    "print('Average amount of Non-PC Games in Global Sales: ' + str(df.loc[df['Platform'] != 'PC']['Global_Sales'].mean()))\n",
    "t_stat, p = stats.ttest_ind(df.loc[df['Platform'] == 'PC']['Global_Sales'], df.loc[df['Platform'] != 'PC']['Global_Sales'], equal_var=False)\n",
    "print('Global t-statistic: ' + str(t_stat))\n",
    "print('Global p-value: ' + str(p))\n",
    "print('\\n')\n",
    "\n",
    "# Running a t-test for PC Games and North American Sales\n",
    "print('Average amount of PC Games in North American Sales: ' + str(df.loc[df['Platform'] == 'PC']['NA_Sales'].mean()))\n",
    "print('Average amount of Non-PC Games in North American Sales: ' + str(df.loc[df['Platform'] != 'PC']['NA_Sales'].mean()))\n",
    "t_stat, p = stats.ttest_ind(df.loc[df['Platform'] == 'PC']['NA_Sales'], df.loc[df['Platform'] != 'PC']['NA_Sales'], equal_var=False)\n",
    "print('North American t-statistic: ' + str(t_stat))\n",
    "print('North American p-value: ' + str(p))\n",
    "print('\\n')\n",
    "\n",
    "# Running a t-test for PC Games and European Sales\n",
    "print('Average amount of PC Games in European Sales: ' + str(df.loc[df['Platform'] == 'PC']['EU_Sales'].mean()))\n",
    "print('Average amount of Non-PC Games in European Sales: ' + str(df.loc[df['Platform'] != 'PC']['EU_Sales'].mean()))\n",
    "t_stat, p = stats.ttest_ind(df.loc[df['Platform'] == 'PC']['EU_Sales'], df.loc[df['Platform'] != 'PC']['EU_Sales'], equal_var=False)\n",
    "print('European t-statistic: ' + str(t_stat))\n",
    "print('European p-value: ' + str(p))\n",
    "print('\\n')\n",
    "\n",
    "# Running a t-test for PC Games and Japanese Sales\n",
    "print('Average amount of PC Games in Japanese Sales: ' + str(df.loc[df['Platform'] == 'PC']['JP_Sales'].mean()))\n",
    "print('Average amount of Non-PC Games in Japanese Sales: ' + str(df.loc[df['Platform'] != 'PC']['JP_Sales'].mean()))\n",
    "t_stat, p = stats.ttest_ind(df.loc[df['Platform'] == 'PC']['JP_Sales'], df.loc[df['Platform'] != 'PC']['JP_Sales'], equal_var=False)\n",
    "print('Japanese t-statistic: ' + str(t_stat))\n",
    "print('Japanese p-value: ' + str(p))"
   ]
  },
  {
   "cell_type": "markdown",
   "metadata": {},
   "source": [
    "** Because of how low the p-values are for Global as well as all regional sales, we can reject the null hypothesis and say PC games sell differently in those areas compared to Non-PC games. In all areas, they sell worse.**"
   ]
  },
  {
   "cell_type": "code",
   "execution_count": 25,
   "metadata": {
    "collapsed": false
   },
   "outputs": [
    {
     "name": "stdout",
     "output_type": "stream",
     "text": [
      "Average amount of PSP Games in Global Sales: 0.481846153846\n",
      "Average amount of Non-PSP Games in Global Sales: 0.795513597514\n",
      "Global t-statistic: -6.870008019\n",
      "Global p-value: 1.30258971128e-11\n",
      "\n",
      "\n",
      "Average amount of PSP Games in North American Sales: 0.209487179487\n",
      "Average amount of Non-PSP Games in North American Sales: 0.405695415695\n",
      "North American t-statistic: -9.98585022483\n",
      "North American p-value: 1.73914715534e-22\n",
      "\n",
      "\n",
      "Average amount of PSP Games in European Sales: 0.125974358974\n",
      "Average amount of Non-PSP Games in European Sales: 0.242763014763\n",
      "European t-statistic: -7.26208710299\n",
      "European p-value: 9.2321720226e-13\n",
      "\n",
      "\n",
      "Average amount of PSP Games in Japanese Sales: 0.0650256410256\n",
      "Average amount of Non-PSP Games in Japanese Sales: 0.0641056721057\n",
      "Japanese t-statistic: 0.0671700720307\n",
      "Japanese p-value: 0.946476217236\n"
     ]
    }
   ],
   "source": [
    "# Running a t-test for PSP Games and Global Sales\n",
    "print('Average amount of PSP Games in Global Sales: ' + str(df.loc[df['Platform'] == 'PSP']['Global_Sales'].mean()))\n",
    "print('Average amount of Non-PSP Games in Global Sales: ' + str(df.loc[df['Platform'] != 'PSP']['Global_Sales'].mean()))\n",
    "t_stat, p = stats.ttest_ind(df.loc[df['Platform'] == 'PSP']['Global_Sales'], df.loc[df['Platform'] != 'PSP']['Global_Sales'], equal_var=False)\n",
    "print('Global t-statistic: ' + str(t_stat))\n",
    "print('Global p-value: ' + str(p))\n",
    "print('\\n')\n",
    "\n",
    "# Running a t-test for PSP Games and North American Sales\n",
    "print('Average amount of PSP Games in North American Sales: ' + str(df.loc[df['Platform'] == 'PSP']['NA_Sales'].mean()))\n",
    "print('Average amount of Non-PSP Games in North American Sales: ' + str(df.loc[df['Platform'] != 'PSP']['NA_Sales'].mean()))\n",
    "t_stat, p = stats.ttest_ind(df.loc[df['Platform'] == 'PSP']['NA_Sales'], df.loc[df['Platform'] != 'PSP']['NA_Sales'], equal_var=False)\n",
    "print('North American t-statistic: ' + str(t_stat))\n",
    "print('North American p-value: ' + str(p))\n",
    "print('\\n')\n",
    "\n",
    "# Running a t-test for PSP Games and European Sales\n",
    "print('Average amount of PSP Games in European Sales: ' + str(df.loc[df['Platform'] == 'PSP']['EU_Sales'].mean()))\n",
    "print('Average amount of Non-PSP Games in European Sales: ' + str(df.loc[df['Platform'] != 'PSP']['EU_Sales'].mean()))\n",
    "t_stat, p = stats.ttest_ind(df.loc[df['Platform'] == 'PSP']['EU_Sales'], df.loc[df['Platform'] != 'PSP']['EU_Sales'], equal_var=False)\n",
    "print('European t-statistic: ' + str(t_stat))\n",
    "print('European p-value: ' + str(p))\n",
    "print('\\n')\n",
    "\n",
    "# Running a t-test for PSP Games and Japanese Sales\n",
    "print('Average amount of PSP Games in Japanese Sales: ' + str(df.loc[df['Platform'] == 'PSP']['JP_Sales'].mean()))\n",
    "print('Average amount of Non-PSP Games in Japanese Sales: ' + str(df.loc[df['Platform'] != 'PSP']['JP_Sales'].mean()))\n",
    "t_stat, p = stats.ttest_ind(df.loc[df['Platform'] == 'PSP']['JP_Sales'], df.loc[df['Platform'] != 'PSP']['JP_Sales'], equal_var=False)\n",
    "print('Japanese t-statistic: ' + str(t_stat))\n",
    "print('Japanese p-value: ' + str(p))"
   ]
  },
  {
   "cell_type": "markdown",
   "metadata": {},
   "source": [
    "** Because of how low the p-values are for Global as well as North American and European sales, we can reject the null hypothesis and say PSP games sell differently in those areas compared to Non-PSP games. In these areas, they sell worse.**"
   ]
  },
  {
   "cell_type": "code",
   "execution_count": 26,
   "metadata": {
    "collapsed": false
   },
   "outputs": [
    {
     "name": "stdout",
     "output_type": "stream",
     "text": [
      "Average amount of Wii U Games in Global Sales: 0.742471910112\n",
      "Average amount of Non-Wii U Games in Global Sales: 0.778053741093\n",
      "Global t-statistic: -0.271748199394\n",
      "Global p-value: 0.786410100053\n",
      "\n",
      "\n",
      "Average amount of Wii U Games in North American Sales: 0.344831460674\n",
      "Average amount of Non-Wii U Games in North American Sales: 0.395139548694\n",
      "North American t-statistic: -0.846056854676\n",
      "North American p-value: 0.399637908368\n",
      "\n",
      "\n",
      "Average amount of Wii U Games in European Sales: 0.229438202247\n",
      "Average amount of Non-Wii U Games in European Sales: 0.236177256532\n",
      "European t-statistic: -0.181534487252\n",
      "European p-value: 0.856323806922\n",
      "\n",
      "\n",
      "Average amount of Wii U Games in Japanese Sales: 0.114269662921\n",
      "Average amount of Non-Wii U Games in Japanese Sales: 0.0634961401425\n",
      "Japanese t-statistic: 1.68402068386\n",
      "Japanese p-value: 0.0956267258231\n"
     ]
    }
   ],
   "source": [
    "# Running a t-test for Wii U Games and Global Sales\n",
    "print('Average amount of Wii U Games in Global Sales: ' + str(df.loc[df['Platform'] == 'WiiU']['Global_Sales'].mean()))\n",
    "print('Average amount of Non-Wii U Games in Global Sales: ' + str(df.loc[df['Platform'] != 'WiiU']['Global_Sales'].mean()))\n",
    "t_stat, p = stats.ttest_ind(df.loc[df['Platform'] == 'WiiU']['Global_Sales'], df.loc[df['Platform'] != 'WiiU']['Global_Sales'], equal_var=False)\n",
    "print('Global t-statistic: ' + str(t_stat))\n",
    "print('Global p-value: ' + str(p))\n",
    "print('\\n')\n",
    "\n",
    "# Running a t-test for Wii U Games and North American Sales\n",
    "print('Average amount of Wii U Games in North American Sales: ' + str(df.loc[df['Platform'] == 'WiiU']['NA_Sales'].mean()))\n",
    "print('Average amount of Non-Wii U Games in North American Sales: ' + str(df.loc[df['Platform'] != 'WiiU']['NA_Sales'].mean()))\n",
    "t_stat, p = stats.ttest_ind(df.loc[df['Platform'] == 'WiiU']['NA_Sales'], df.loc[df['Platform'] != 'WiiU']['NA_Sales'], equal_var=False)\n",
    "print('North American t-statistic: ' + str(t_stat))\n",
    "print('North American p-value: ' + str(p))\n",
    "print('\\n')\n",
    "\n",
    "# Running a t-test for Wii U Games and European Sales\n",
    "print('Average amount of Wii U Games in European Sales: ' + str(df.loc[df['Platform'] == 'WiiU']['EU_Sales'].mean()))\n",
    "print('Average amount of Non-Wii U Games in European Sales: ' + str(df.loc[df['Platform'] != 'WiiU']['EU_Sales'].mean()))\n",
    "t_stat, p = stats.ttest_ind(df.loc[df['Platform'] == 'WiiU']['EU_Sales'], df.loc[df['Platform'] != 'WiiU']['EU_Sales'], equal_var=False)\n",
    "print('European t-statistic: ' + str(t_stat))\n",
    "print('European p-value: ' + str(p))\n",
    "print('\\n')\n",
    "\n",
    "# Running a t-test for Wii U Games and Japanese Sales\n",
    "print('Average amount of Wii U Games in Japanese Sales: ' + str(df.loc[df['Platform'] == 'WiiU']['JP_Sales'].mean()))\n",
    "print('Average amount of Non-Wii U Games in Japanese Sales: ' + str(df.loc[df['Platform'] != 'WiiU']['JP_Sales'].mean()))\n",
    "t_stat, p = stats.ttest_ind(df.loc[df['Platform'] == 'WiiU']['JP_Sales'], df.loc[df['Platform'] != 'WiiU']['JP_Sales'], equal_var=False)\n",
    "print('Japanese t-statistic: ' + str(t_stat))\n",
    "print('Japanese p-value: ' + str(p))"
   ]
  },
  {
   "cell_type": "markdown",
   "metadata": {},
   "source": [
    "** Because of how high the p-values are for Global and all regional sales, we cannot reject the null hypothesis. Therefore, Wii U games do not sell better or worse in any area.**"
   ]
  },
  {
   "cell_type": "code",
   "execution_count": 27,
   "metadata": {
    "collapsed": false
   },
   "outputs": [
    {
     "name": "stdout",
     "output_type": "stream",
     "text": [
      "Average amount of Gamecube Games in Global Sales: 0.458103448276\n",
      "Average amount of Non-Gamecube Games in Global Sales: 0.794755287942\n",
      "Global t-statistic: -7.11518622109\n",
      "Global p-value: 2.92093294945e-12\n",
      "\n",
      "\n",
      "Average amount of Gamecube Games in North American Sales: 0.310143678161\n",
      "Average amount of Non-Gamecube Games in North American Sales: 0.399014976069\n",
      "North American t-statistic: -3.21186111909\n",
      "North American p-value: 0.00139797477235\n",
      "\n",
      "\n",
      "Average amount of Gamecube Games in European Sales: 0.0888793103448\n",
      "Average amount of Non-Gamecube Games in European Sales: 0.24399876486\n",
      "European t-statistic: -13.2266910823\n",
      "European p-value: 5.25622739304e-38\n",
      "\n",
      "\n",
      "Average amount of Gamecube Games in Japanese Sales: 0.0463218390805\n",
      "Average amount of Non-Gamecube Games in Japanese Sales: 0.0651165663116\n",
      "Japanese t-statistic: -2.00980872343\n",
      "Japanese p-value: 0.0450093577824\n"
     ]
    }
   ],
   "source": [
    "# Running a t-test for Gamecube Games and Global Sales\n",
    "print('Average amount of Gamecube Games in Global Sales: ' + str(df.loc[df['Platform'] == 'GC']['Global_Sales'].mean()))\n",
    "print('Average amount of Non-Gamecube Games in Global Sales: ' + str(df.loc[df['Platform'] != 'GC']['Global_Sales'].mean()))\n",
    "t_stat, p = stats.ttest_ind(df.loc[df['Platform'] == 'GC']['Global_Sales'], df.loc[df['Platform'] != 'GC']['Global_Sales'], equal_var=False)\n",
    "print('Global t-statistic: ' + str(t_stat))\n",
    "print('Global p-value: ' + str(p))\n",
    "print('\\n')\n",
    "\n",
    "# Running a t-test for Gamecube Games and North American Sales\n",
    "print('Average amount of Gamecube Games in North American Sales: ' + str(df.loc[df['Platform'] == 'GC']['NA_Sales'].mean()))\n",
    "print('Average amount of Non-Gamecube Games in North American Sales: ' + str(df.loc[df['Platform'] != 'GC']['NA_Sales'].mean()))\n",
    "t_stat, p = stats.ttest_ind(df.loc[df['Platform'] == 'GC']['NA_Sales'], df.loc[df['Platform'] != 'GC']['NA_Sales'], equal_var=False)\n",
    "print('North American t-statistic: ' + str(t_stat))\n",
    "print('North American p-value: ' + str(p))\n",
    "print('\\n')\n",
    "\n",
    "# Running a t-test for Gamecube Games and European Sales\n",
    "print('Average amount of Gamecube Games in European Sales: ' + str(df.loc[df['Platform'] == 'GC']['EU_Sales'].mean()))\n",
    "print('Average amount of Non-Gamecube Games in European Sales: ' + str(df.loc[df['Platform'] != 'GC']['EU_Sales'].mean()))\n",
    "t_stat, p = stats.ttest_ind(df.loc[df['Platform'] == 'GC']['EU_Sales'], df.loc[df['Platform'] != 'GC']['EU_Sales'], equal_var=False)\n",
    "print('European t-statistic: ' + str(t_stat))\n",
    "print('European p-value: ' + str(p))\n",
    "print('\\n')\n",
    "\n",
    "# Running a t-test for Gamecube Games and Japanese Sales\n",
    "print('Average amount of Gamecube Games in Japanese Sales: ' + str(df.loc[df['Platform'] == 'GC']['JP_Sales'].mean()))\n",
    "print('Average amount of Non-Gamecube Games in Japanese Sales: ' + str(df.loc[df['Platform'] != 'GC']['JP_Sales'].mean()))\n",
    "t_stat, p = stats.ttest_ind(df.loc[df['Platform'] == 'GC']['JP_Sales'], df.loc[df['Platform'] != 'GC']['JP_Sales'], equal_var=False)\n",
    "print('Japanese t-statistic: ' + str(t_stat))\n",
    "print('Japanese p-value: ' + str(p))"
   ]
  },
  {
   "cell_type": "markdown",
   "metadata": {},
   "source": [
    "** Because of how low the p-values are for Global as well as all regional sales, we can reject the null hypothesis and say Gamecube games sell differently in those areas compared to Non-Gamecube games. In all areas, they sell worse.**"
   ]
  },
  {
   "cell_type": "code",
   "execution_count": 28,
   "metadata": {
    "collapsed": false
   },
   "outputs": [
    {
     "name": "stdout",
     "output_type": "stream",
     "text": [
      "Average amount of Game Boy Advance Games in Global Sales: 0.555907172996\n",
      "Average amount of Non-Game Boy Advance Games in Global Sales: 0.785564663024\n",
      "Global t-statistic: -3.80069633664\n",
      "Global p-value: 0.000171125806058\n",
      "\n",
      "\n",
      "Average amount of Game Boy Advance Games in North American Sales: 0.334978902954\n",
      "Average amount of Non-Game Boy Advance Games in North American Sales: 0.396624165149\n",
      "North American t-statistic: -1.87590806238\n",
      "North American p-value: 0.0615918337506\n",
      "\n",
      "\n",
      "Average amount of Game Boy Advance Games in European Sales: 0.137552742616\n",
      "Average amount of Non-Game Boy Advance Games in European Sales: 0.239634183364\n",
      "European t-statistic: -5.98184148616\n",
      "European p-value: 4.70811798488e-09\n",
      "\n",
      "\n",
      "Average amount of Game Boy Advance Games in Japanese Sales: 0.06805907173\n",
      "Average amount of Non-Game Boy Advance Games in Japanese Sales: 0.064017911354\n",
      "Japanese t-statistic: 0.281009463111\n",
      "Japanese p-value: 0.778919967834\n"
     ]
    }
   ],
   "source": [
    "# Running a t-test for Game Boy Advance Games and Global Sales\n",
    "print('Average amount of Game Boy Advance Games in Global Sales: ' + str(df.loc[df['Platform'] == 'GBA']['Global_Sales'].mean()))\n",
    "print('Average amount of Non-Game Boy Advance Games in Global Sales: ' + str(df.loc[df['Platform'] != 'GBA']['Global_Sales'].mean()))\n",
    "t_stat, p = stats.ttest_ind(df.loc[df['Platform'] == 'GBA']['Global_Sales'], df.loc[df['Platform'] != 'GBA']['Global_Sales'], equal_var=False)\n",
    "print('Global t-statistic: ' + str(t_stat))\n",
    "print('Global p-value: ' + str(p))\n",
    "print('\\n')\n",
    "\n",
    "# Running a t-test for Game Boy Advance Games and North American Sales\n",
    "print('Average amount of Game Boy Advance Games in North American Sales: ' + str(df.loc[df['Platform'] == 'GBA']['NA_Sales'].mean()))\n",
    "print('Average amount of Non-Game Boy Advance Games in North American Sales: ' + str(df.loc[df['Platform'] != 'GBA']['NA_Sales'].mean()))\n",
    "t_stat, p = stats.ttest_ind(df.loc[df['Platform'] == 'GBA']['NA_Sales'], df.loc[df['Platform'] != 'GBA']['NA_Sales'], equal_var=False)\n",
    "print('North American t-statistic: ' + str(t_stat))\n",
    "print('North American p-value: ' + str(p))\n",
    "print('\\n')\n",
    "\n",
    "# Running a t-test for Game Boy Advance Games and European Sales\n",
    "print('Average amount of Game Boy Advance Games in European Sales: ' + str(df.loc[df['Platform'] == 'GBA']['EU_Sales'].mean()))\n",
    "print('Average amount of Non-Game Boy Advance Games in European Sales: ' + str(df.loc[df['Platform'] != 'GBA']['EU_Sales'].mean()))\n",
    "t_stat, p = stats.ttest_ind(df.loc[df['Platform'] == 'GBA']['EU_Sales'], df.loc[df['Platform'] != 'GBA']['EU_Sales'], equal_var=False)\n",
    "print('European t-statistic: ' + str(t_stat))\n",
    "print('European p-value: ' + str(p))\n",
    "print('\\n')\n",
    "\n",
    "# Running a t-test for Game Boy Advance Games and Japanese Sales\n",
    "print('Average amount of Game Boy Advance Games in Japanese Sales: ' + str(df.loc[df['Platform'] == 'GBA']['JP_Sales'].mean()))\n",
    "print('Average amount of Non-Game Boy Advance Games in Japanese Sales: ' + str(df.loc[df['Platform'] != 'GBA']['JP_Sales'].mean()))\n",
    "t_stat, p = stats.ttest_ind(df.loc[df['Platform'] == 'GBA']['JP_Sales'], df.loc[df['Platform'] != 'GBA']['JP_Sales'], equal_var=False)\n",
    "print('Japanese t-statistic: ' + str(t_stat))\n",
    "print('Japanese p-value: ' + str(p))"
   ]
  },
  {
   "cell_type": "markdown",
   "metadata": {},
   "source": [
    "** Because of how low the p-values are for Global and European sales, we can reject the null hypothesis and say Game Boy Advance games sell differently in those areas compared to Non-Game Boy Advance games. In both areas, they sell worse.**"
   ]
  },
  {
   "cell_type": "code",
   "execution_count": 29,
   "metadata": {
    "collapsed": false
   },
   "outputs": [
    {
     "name": "stdout",
     "output_type": "stream",
     "text": [
      "Average amount of XBOX One Games in Global Sales: 0.814905660377\n",
      "Average amount of Non-XBOX One Games in Global Sales: 0.776699669967\n",
      "Global t-statistic: 0.439908700426\n",
      "Global p-value: 0.660514449058\n",
      "\n",
      "\n",
      "Average amount of XBOX One Games in North American Sales: 0.47534591195\n",
      "Average amount of Non-XBOX One Games in North American Sales: 0.392554755476\n",
      "North American t-statistic: 1.5841001558\n",
      "North American p-value: 0.114967919088\n",
      "\n",
      "\n",
      "Average amount of XBOX One Games in European Sales: 0.26427672956\n",
      "Average amount of Non-XBOX One Games in European Sales: 0.235417041704\n",
      "European t-statistic: 0.891042842406\n",
      "European p-value: 0.374081815227\n",
      "\n",
      "\n",
      "Average amount of XBOX One Games in Japanese Sales: 0.00182389937107\n",
      "Average amount of Non-XBOX One Games in Japanese Sales: 0.0656450645065\n",
      "Japanese t-statistic: -17.7575974626\n",
      "Japanese p-value: 5.3031338491e-69\n"
     ]
    }
   ],
   "source": [
    "# Running a t-test for XBOX One Games and Global Sales\n",
    "print('Average amount of XBOX One Games in Global Sales: ' + str(df.loc[df['Platform'] == 'XOne']['Global_Sales'].mean()))\n",
    "print('Average amount of Non-XBOX One Games in Global Sales: ' + str(df.loc[df['Platform'] != 'XOne']['Global_Sales'].mean()))\n",
    "t_stat, p = stats.ttest_ind(df.loc[df['Platform'] == 'XOne']['Global_Sales'], df.loc[df['Platform'] != 'XOne']['Global_Sales'], equal_var=False)\n",
    "print('Global t-statistic: ' + str(t_stat))\n",
    "print('Global p-value: ' + str(p))\n",
    "print('\\n')\n",
    "\n",
    "# Running a t-test for XBOX One Games and North American Sales\n",
    "print('Average amount of XBOX One Games in North American Sales: ' + str(df.loc[df['Platform'] == 'XOne']['NA_Sales'].mean()))\n",
    "print('Average amount of Non-XBOX One Games in North American Sales: ' + str(df.loc[df['Platform'] != 'XOne']['NA_Sales'].mean()))\n",
    "t_stat, p = stats.ttest_ind(df.loc[df['Platform'] == 'XOne']['NA_Sales'], df.loc[df['Platform'] != 'XOne']['NA_Sales'], equal_var=False)\n",
    "print('North American t-statistic: ' + str(t_stat))\n",
    "print('North American p-value: ' + str(p))\n",
    "print('\\n')\n",
    "\n",
    "# Running a t-test for XBOX One Games and European Sales\n",
    "print('Average amount of XBOX One Games in European Sales: ' + str(df.loc[df['Platform'] == 'XOne']['EU_Sales'].mean()))\n",
    "print('Average amount of Non-XBOX One Games in European Sales: ' + str(df.loc[df['Platform'] != 'XOne']['EU_Sales'].mean()))\n",
    "t_stat, p = stats.ttest_ind(df.loc[df['Platform'] == 'XOne']['EU_Sales'], df.loc[df['Platform'] != 'XOne']['EU_Sales'], equal_var=False)\n",
    "print('European t-statistic: ' + str(t_stat))\n",
    "print('European p-value: ' + str(p))\n",
    "print('\\n')\n",
    "\n",
    "# Running a t-test for XBOX One Games and Japanese Sales\n",
    "print('Average amount of XBOX One Games in Japanese Sales: ' + str(df.loc[df['Platform'] == 'XOne']['JP_Sales'].mean()))\n",
    "print('Average amount of Non-XBOX One Games in Japanese Sales: ' + str(df.loc[df['Platform'] != 'XOne']['JP_Sales'].mean()))\n",
    "t_stat, p = stats.ttest_ind(df.loc[df['Platform'] == 'XOne']['JP_Sales'], df.loc[df['Platform'] != 'XOne']['JP_Sales'], equal_var=False)\n",
    "print('Japanese t-statistic: ' + str(t_stat))\n",
    "print('Japanese p-value: ' + str(p))"
   ]
  },
  {
   "cell_type": "markdown",
   "metadata": {},
   "source": [
    "** Because of how low the p-value is for Japanese sales, we can reject the null hypothesis and say XBOX One games sell differently in that area compared to Non-XBOX One games. In Japan, they sell worse.**"
   ]
  },
  {
   "cell_type": "code",
   "execution_count": 30,
   "metadata": {
    "collapsed": false
   },
   "outputs": [
    {
     "name": "stdout",
     "output_type": "stream",
     "text": [
      "Average amount of Playstation Vita Games in Global Sales: 0.261694915254\n",
      "Average amount of Non-Playstation Vita Games in Global Sales: 0.786666169673\n",
      "Global t-statistic: -14.6783801584\n",
      "Global p-value: 3.59528956149e-39\n",
      "\n",
      "\n",
      "Average amount of Playstation Vita Games in North American Sales: 0.0841525423729\n",
      "Average amount of Non-Playstation Vita Games in North American Sales: 0.399943342776\n",
      "North American t-statistic: -19.5385446358\n",
      "North American p-value: 7.66376053918e-65\n",
      "\n",
      "\n",
      "Average amount of Playstation Vita Games in European Sales: 0.0743220338983\n",
      "Average amount of Non-Playstation Vita Games in European Sales: 0.238935440584\n",
      "European t-statistic: -11.9317275357\n",
      "European p-value: 4.24286006575e-27\n",
      "\n",
      "\n",
      "Average amount of Playstation Vita Games in Japanese Sales: 0.0645762711864\n",
      "Average amount of Non-Playstation Vita Games in Japanese Sales: 0.0641508871328\n",
      "Japanese t-statistic: 0.0527231327485\n",
      "Japanese p-value: 0.958011217794\n"
     ]
    }
   ],
   "source": [
    "# Running a t-test for Playstation Vita Games and Global Sales\n",
    "print('Average amount of Playstation Vita Games in Global Sales: ' + str(df.loc[df['Platform'] == 'PSV']['Global_Sales'].mean()))\n",
    "print('Average amount of Non-Playstation Vita Games in Global Sales: ' + str(df.loc[df['Platform'] != 'PSV']['Global_Sales'].mean()))\n",
    "t_stat, p = stats.ttest_ind(df.loc[df['Platform'] == 'PSV']['Global_Sales'], df.loc[df['Platform'] != 'PSV']['Global_Sales'], equal_var=False)\n",
    "print('Global t-statistic: ' + str(t_stat))\n",
    "print('Global p-value: ' + str(p))\n",
    "print('\\n')\n",
    "\n",
    "# Running a t-test for Playstation Vita Games and North American Sales\n",
    "print('Average amount of Playstation Vita Games in North American Sales: ' + str(df.loc[df['Platform'] == 'PSV']['NA_Sales'].mean()))\n",
    "print('Average amount of Non-Playstation Vita Games in North American Sales: ' + str(df.loc[df['Platform'] != 'PSV']['NA_Sales'].mean()))\n",
    "t_stat, p = stats.ttest_ind(df.loc[df['Platform'] == 'PSV']['NA_Sales'], df.loc[df['Platform'] != 'PSV']['NA_Sales'], equal_var=False)\n",
    "print('North American t-statistic: ' + str(t_stat))\n",
    "print('North American p-value: ' + str(p))\n",
    "print('\\n')\n",
    "\n",
    "# Running a t-test for Playstation Vita Games and European Sales\n",
    "print('Average amount of Playstation Vita Games in European Sales: ' + str(df.loc[df['Platform'] == 'PSV']['EU_Sales'].mean()))\n",
    "print('Average amount of Non-Playstation Vita Games in European Sales: ' + str(df.loc[df['Platform'] != 'PSV']['EU_Sales'].mean()))\n",
    "t_stat, p = stats.ttest_ind(df.loc[df['Platform'] == 'PSV']['EU_Sales'], df.loc[df['Platform'] != 'PSV']['EU_Sales'], equal_var=False)\n",
    "print('European t-statistic: ' + str(t_stat))\n",
    "print('European p-value: ' + str(p))\n",
    "print('\\n')\n",
    "\n",
    "# Running a t-test for Playstation Vita Games and Japanese Sales\n",
    "print('Average amount of Playstation Vita Games in Japanese Sales: ' + str(df.loc[df['Platform'] == 'PSV']['JP_Sales'].mean()))\n",
    "print('Average amount of Non-Playstation Vita Games in Japanese Sales: ' + str(df.loc[df['Platform'] != 'PSV']['JP_Sales'].mean()))\n",
    "t_stat, p = stats.ttest_ind(df.loc[df['Platform'] == 'PSV']['JP_Sales'], df.loc[df['Platform'] != 'PSV']['JP_Sales'], equal_var=False)\n",
    "print('Japanese t-statistic: ' + str(t_stat))\n",
    "print('Japanese p-value: ' + str(p))"
   ]
  },
  {
   "cell_type": "markdown",
   "metadata": {},
   "source": [
    "** Because of how low the p-values are for Global as well as North American and European sales, we can reject the null hypothesis and say Playstation Vita games sell differently in those areas compared to Non-Playstation Vita games. In those areas, they sell worse.**"
   ]
  },
  {
   "cell_type": "code",
   "execution_count": 31,
   "metadata": {
    "collapsed": false
   },
   "outputs": [
    {
     "name": "stdout",
     "output_type": "stream",
     "text": [
      "Average amount of Dreamcast Games in Global Sales: 0.325\n",
      "Average amount of Non-Dreamcast Games in Global Sales: 0.77852004111\n",
      "Global t-statistic: -4.529283946\n",
      "Global p-value: 0.000425867513257\n",
      "\n",
      "\n",
      "Average amount of Dreamcast Games in North American Sales: 0.11\n",
      "Average amount of Non-Dreamcast Games in North American Sales: 0.395068271913\n",
      "North American t-statistic: -3.56083322466\n",
      "North American p-value: 0.00327242449638\n",
      "\n",
      "\n",
      "Average amount of Dreamcast Games in European Sales: 0.0207142857143\n",
      "Average amount of Non-Dreamcast Games in European Sales: 0.236532080458\n",
      "European t-statistic: -11.2701646372\n",
      "European p-value: 4.63091514944e-10\n",
      "\n",
      "\n",
      "Average amount of Dreamcast Games in Japanese Sales: 0.19\n",
      "Average amount of Non-Dreamcast Games in Japanese Sales: 0.0638995742182\n",
      "Japanese t-statistic: 3.32982691134\n",
      "Japanese p-value: 0.005314669669\n"
     ]
    }
   ],
   "source": [
    "# Running a t-test for Dreamcast Games and Global Sales\n",
    "print('Average amount of Dreamcast Games in Global Sales: ' + str(df.loc[df['Platform'] == 'DC']['Global_Sales'].mean()))\n",
    "print('Average amount of Non-Dreamcast Games in Global Sales: ' + str(df.loc[df['Platform'] != 'DC']['Global_Sales'].mean()))\n",
    "t_stat, p = stats.ttest_ind(df.loc[df['Platform'] == 'DC']['Global_Sales'], df.loc[df['Platform'] != 'DC']['Global_Sales'], equal_var=False)\n",
    "print('Global t-statistic: ' + str(t_stat))\n",
    "print('Global p-value: ' + str(p))\n",
    "print('\\n')\n",
    "\n",
    "# Running a t-test for Dreamcast Games and North American Sales\n",
    "print('Average amount of Dreamcast Games in North American Sales: ' + str(df.loc[df['Platform'] == 'DC']['NA_Sales'].mean()))\n",
    "print('Average amount of Non-Dreamcast Games in North American Sales: ' + str(df.loc[df['Platform'] != 'DC']['NA_Sales'].mean()))\n",
    "t_stat, p = stats.ttest_ind(df.loc[df['Platform'] == 'DC']['NA_Sales'], df.loc[df['Platform'] != 'DC']['NA_Sales'], equal_var=False)\n",
    "print('North American t-statistic: ' + str(t_stat))\n",
    "print('North American p-value: ' + str(p))\n",
    "print('\\n')\n",
    "\n",
    "# Running a t-test for Dreamcast Games and European Sales\n",
    "print('Average amount of Dreamcast Games in European Sales: ' + str(df.loc[df['Platform'] == 'DC']['EU_Sales'].mean()))\n",
    "print('Average amount of Non-Dreamcast Games in European Sales: ' + str(df.loc[df['Platform'] != 'DC']['EU_Sales'].mean()))\n",
    "t_stat, p = stats.ttest_ind(df.loc[df['Platform'] == 'DC']['EU_Sales'], df.loc[df['Platform'] != 'DC']['EU_Sales'], equal_var=False)\n",
    "print('European t-statistic: ' + str(t_stat))\n",
    "print('European p-value: ' + str(p))\n",
    "print('\\n')\n",
    "\n",
    "# Running a t-test for Dreamcast Games and Japanese Sales\n",
    "print('Average amount of Dreamcast Games in Japanese Sales: ' + str(df.loc[df['Platform'] == 'DC']['JP_Sales'].mean()))\n",
    "print('Average amount of Non-Dreamcast Games in Japanese Sales: ' + str(df.loc[df['Platform'] != 'DC']['JP_Sales'].mean()))\n",
    "t_stat, p = stats.ttest_ind(df.loc[df['Platform'] == 'DC']['JP_Sales'], df.loc[df['Platform'] != 'DC']['JP_Sales'], equal_var=False)\n",
    "print('Japanese t-statistic: ' + str(t_stat))\n",
    "print('Japanese p-value: ' + str(p))"
   ]
  },
  {
   "cell_type": "markdown",
   "metadata": {},
   "source": [
    "** Because of how low the p-values are for Global as well as all regional sales, we can reject the null hypothesis and say Sega Dreamcast games sell differently in those areas compared to Non-Sega Dreamcast games. In all areas except Japan, they sell worse while in Japan they sell better.**"
   ]
  },
  {
   "cell_type": "markdown",
   "metadata": {},
   "source": [
    "** For each chi-squared test below:\n",
    "<br>\n",
    "Ho = There is no association between factors\n",
    "<br>\n",
    "Ha = There is association between factors\n",
    "<br>\n",
    "α = 0.05**"
   ]
  },
  {
   "cell_type": "code",
   "execution_count": 32,
   "metadata": {
    "collapsed": false
   },
   "outputs": [
    {
     "name": "stdout",
     "output_type": "stream",
     "text": [
      "Genre     Action  Adventure  Fighting  Misc  Platform  Puzzle  Racing  \\\n",
      "Platform                                                                \n",
      "3DS           54          9         7    10        18       8       5   \n",
      "DC             0          2         2     0         1       0       2   \n",
      "DS            75         31        14    37        35      52      18   \n",
      "GBA           51          9        13    12        48       6      21   \n",
      "GC            69         13        24    16        44       6      31   \n",
      "PC           130         25         3     3        10       4      43   \n",
      "PS            27          5        15     4        16       2      17   \n",
      "PS2          243         40        73    54        70       6     131   \n",
      "PS3          228         19        56    41        22       1      62   \n",
      "PS4           81         12        11     7        11       1      15   \n",
      "PSP           74         13        30    21        20      11      39   \n",
      "PSV           37         10         9     8         6       1       5   \n",
      "Wii          122         22        26    70        36      14      30   \n",
      "WiiU          39          1         3    12        15       3       1   \n",
      "X360         233         15        56    62        21       2      71   \n",
      "XB           119         18        31    15        26       1      76   \n",
      "XOne          48          4         5    12         4       0      14   \n",
      "\n",
      "Genre     Role-Playing  Shooter  Simulation  Sports  Strategy  \n",
      "Platform                                                       \n",
      "3DS                 26        2           9       4         3  \n",
      "DC                   4        1           1       1         0  \n",
      "DS                  89       27          37      22        27  \n",
      "GBA                 31       13           8      19         6  \n",
      "GC                  22       40          10      66         7  \n",
      "PC                  83      129          78      28       115  \n",
      "PS                  28       12           4      16         4  \n",
      "PS2                117      127          45     196        38  \n",
      "PS3                 78      121          18     115         8  \n",
      "PS4                 23       33           2      39         4  \n",
      "PSP                 70       30           8      60        14  \n",
      "PSV                 31        5           0       6         0  \n",
      "Wii                 25       29          26      73         6  \n",
      "WiiU                 2        5           1       6         1  \n",
      "X360                58      153          28     140        19  \n",
      "XB                  17      107          21     121        13  \n",
      "XOne                 8       30           1      31         2  \n",
      "chi-squared: 1901.88051899\n",
      "p-value: 6.74562968998e-287\n"
     ]
    }
   ],
   "source": [
    "# ^\n",
    "# Running a chi-squared test for Platform and Genre\n",
    "# Test says that the association between platform and genre is not random. Ho is no association\n",
    "# Choose multiple consoles and most popular genres, has to be a comparison (more than one)\n",
    "P_G_CT = pd.crosstab(df['Platform'], df['Genre'])\n",
    "print(P_G_CT)\n",
    "chi, p, d_f, e_f = stats.chi2_contingency(P_G_CT)\n",
    "print('chi-squared: ' + str(chi))\n",
    "print('p-value: ' + str(p))"
   ]
  },
  {
   "cell_type": "markdown",
   "metadata": {},
   "source": [
    "** Statistical significance for Platform and Genre.**"
   ]
  },
  {
   "cell_type": "code",
   "execution_count": 46,
   "metadata": {
    "collapsed": false
   },
   "outputs": [
    {
     "name": "stdout",
     "output_type": "stream",
     "text": [
      "chi-squared: 28.6700954422\n",
      "p-value: 9.12122163496e-06\n"
     ]
    }
   ],
   "source": [
    "# Running a chi-squared test for Playstation 2, Nintendo Wii and XBOX 360 Games vs. Action, Shooter and Sports Genres\n",
    "obs = np.array([[243, 127, 196], [122, 29, 73], [233, 153, 140]])\n",
    "chi, p, d_f, e_f = stats.chi2_contingency(obs)\n",
    "print('chi-squared: ' + str(chi))\n",
    "print('p-value: ' + str(p))"
   ]
  },
  {
   "cell_type": "code",
   "execution_count": 33,
   "metadata": {
    "collapsed": false
   },
   "outputs": [
    {
     "name": "stdout",
     "output_type": "stream",
     "text": [
      "Genre                                  Action  Adventure  Fighting  Misc  \\\n",
      "Developer                                                                  \n",
      "10tacle Studios, Fusionsphere Systems       0          2         0     0   \n",
      "1C, 1C Company                              0          0         0     0   \n",
      "1C, Ino-Co, 1C Company                      0          0         0     0   \n",
      "1C: Maddox Games                            0          0         0     0   \n",
      "1C:Ino-Co                                   0          0         0     0   \n",
      "1st Playable Productions                    0          0         0     1   \n",
      "2015                                        0          0         0     0   \n",
      "2D Boy                                      0          0         0     0   \n",
      "2K Australia                                0          0         0     0   \n",
      "2K Czech                                    3          0         0     0   \n",
      "2K Games                                    0          0         0     0   \n",
      "2K Marin                                    0          0         0     0   \n",
      "2K Sports                                   0          0         0     1   \n",
      "2XL Games                                   0          0         0     0   \n",
      "343 Industries                              0          0         0     0   \n",
      "369 Interactive                             0          1         0     0   \n",
      "3DO                                         5          2         0     0   \n",
      "3G Studios                                  0          0         0     0   \n",
      "3d6 Games                                   1          0         0     0   \n",
      "49Games                                     0          0         0     0   \n",
      "4A Games                                    1          0         0     0   \n",
      "4J Studios                                  1          0         0     0   \n",
      "5000ft                                      0          0         0     1   \n",
      "505 Games                                   1          0         0     1   \n",
      "5TH Cell                                    3          0         0     0   \n",
      "5pb                                         0          7         0     0   \n",
      "7 Studios                                   7          1         0     2   \n",
      "8Monkey Labs                                0          0         0     0   \n",
      "8ing/Raizing                                0          0         3     0   \n",
      "989 Sports                                  0          0         0     0   \n",
      "...                                       ...        ...       ...   ...   \n",
      "Xpec                                        4          0         0     0   \n",
      "Yacht Club Games                            0          0         0     0   \n",
      "Yager                                       0          0         0     0   \n",
      "Yuke's                                      2          1        35     0   \n",
      "Z-Axis, Ltd.                                3          0         0     0   \n",
      "Zed Two Limited                             0          0         0     0   \n",
      "Zen Studios                                 1          0         0     0   \n",
      "Zener Works                                 0          0         0     0   \n",
      "ZeniMax Media                               0          0         0     0   \n",
      "Zerodiv                                     0          0         0     0   \n",
      "Zindagi Games                               1          0         0     0   \n",
      "Zipper Interactive                          0          0         0     0   \n",
      "Zoe Mode                                    0          0         0     6   \n",
      "Zoe Mode, HB Studios Multimedia             0          0         0     1   \n",
      "Zombie                                      0          0         0     0   \n",
      "Zombie Studios                              3          0         0     0   \n",
      "Zono Inc.                                   0          0         0     0   \n",
      "Zoo Games                                   0          0         0     0   \n",
      "Zoom                                        0          0         0     0   \n",
      "ZootFly                                     2          0         0     0   \n",
      "h.a.n.d. Inc.                               0          3         0     0   \n",
      "iNiS                                        0          0         0     4   \n",
      "id Software                                 0          0         0     0   \n",
      "id Software, Nerve Software                 0          0         0     0   \n",
      "id Software, Raven Software                 0          0         0     0   \n",
      "n-Space                                     2          2         0     0   \n",
      "neo Software                                0          0         0     0   \n",
      "odenis studio                               0          0         0     0   \n",
      "syn Sophia                                  0          0         0     0   \n",
      "zSlide                                      0          0         0     0   \n",
      "\n",
      "Genre                                  Platform  Puzzle  Racing  Role-Playing  \\\n",
      "Developer                                                                       \n",
      "10tacle Studios, Fusionsphere Systems         0       0       0             0   \n",
      "1C, 1C Company                                0       0       0             0   \n",
      "1C, Ino-Co, 1C Company                        0       0       0             0   \n",
      "1C: Maddox Games                              0       0       0             0   \n",
      "1C:Ino-Co                                     0       0       0             0   \n",
      "1st Playable Productions                      0       1       0             0   \n",
      "2015                                          0       0       0             0   \n",
      "2D Boy                                        0       1       0             0   \n",
      "2K Australia                                  0       0       0             0   \n",
      "2K Czech                                      0       0       0             0   \n",
      "2K Games                                      0       0       0             0   \n",
      "2K Marin                                      0       0       0             0   \n",
      "2K Sports                                     0       0       0             0   \n",
      "2XL Games                                     0       0       2             0   \n",
      "343 Industries                                0       0       0             0   \n",
      "369 Interactive                               0       0       0             0   \n",
      "3DO                                           1       0       0             0   \n",
      "3G Studios                                    0       0       0             0   \n",
      "3d6 Games                                     0       0       0             0   \n",
      "49Games                                       0       0       0             0   \n",
      "4A Games                                      0       0       0             0   \n",
      "4J Studios                                    1       0       0             1   \n",
      "5000ft                                        0       0       0             0   \n",
      "505 Games                                     0       0       0             0   \n",
      "5TH Cell                                      0       5       0             0   \n",
      "5pb                                           0       0       0             0   \n",
      "7 Studios                                     0       2       0             0   \n",
      "8Monkey Labs                                  0       0       0             0   \n",
      "8ing/Raizing                                  0       0       0             0   \n",
      "989 Sports                                    0       0       0             0   \n",
      "...                                         ...     ...     ...           ...   \n",
      "Xpec                                          2       0       0             1   \n",
      "Yacht Club Games                              3       0       0             0   \n",
      "Yager                                         0       0       0             0   \n",
      "Yuke's                                        0       0       0             0   \n",
      "Z-Axis, Ltd.                                  0       0       0             0   \n",
      "Zed Two Limited                               0       0       0             0   \n",
      "Zen Studios                                   0       0       0             0   \n",
      "Zener Works                                   0       0       0             1   \n",
      "ZeniMax Media                                 0       0       0             2   \n",
      "Zerodiv                                       0       0       0             3   \n",
      "Zindagi Games                                 0       0       0             0   \n",
      "Zipper Interactive                            0       0       0             0   \n",
      "Zoe Mode                                      1       1       0             0   \n",
      "Zoe Mode, HB Studios Multimedia               0       0       0             0   \n",
      "Zombie                                        0       0       0             0   \n",
      "Zombie Studios                                0       0       0             0   \n",
      "Zono Inc.                                     0       0       0             0   \n",
      "Zoo Games                                     0       0       1             0   \n",
      "Zoom                                          0       0       0             0   \n",
      "ZootFly                                       0       0       0             0   \n",
      "h.a.n.d. Inc.                                 0       0       0             2   \n",
      "iNiS                                          0       0       0             0   \n",
      "id Software                                   0       0       0             0   \n",
      "id Software, Nerve Software                   0       0       0             0   \n",
      "id Software, Raven Software                   0       0       0             0   \n",
      "n-Space                                       1       0       0             3   \n",
      "neo Software                                  0       0       0             0   \n",
      "odenis studio                                 0       0       0             0   \n",
      "syn Sophia                                    0       0       0             0   \n",
      "zSlide                                        0       1       0             0   \n",
      "\n",
      "Genre                                  Shooter  Simulation  Sports  Strategy  \n",
      "Developer                                                                     \n",
      "10tacle Studios, Fusionsphere Systems        0           0       0         0  \n",
      "1C, 1C Company                               0           2       0         0  \n",
      "1C, Ino-Co, 1C Company                       0           1       0         0  \n",
      "1C: Maddox Games                             0           2       0         0  \n",
      "1C:Ino-Co                                    0           0       0         1  \n",
      "1st Playable Productions                     0           0       0         0  \n",
      "2015                                         1           0       0         0  \n",
      "2D Boy                                       0           0       0         0  \n",
      "2K Australia                                 3           0       0         0  \n",
      "2K Czech                                     0           0       2         0  \n",
      "2K Games                                     2           0       1         0  \n",
      "2K Marin                                     5           0       0         0  \n",
      "2K Sports                                    0           0      11         0  \n",
      "2XL Games                                    0           0       0         0  \n",
      "343 Industries                               4           0       0         0  \n",
      "369 Interactive                              0           0       0         0  \n",
      "3DO                                          5           0       4         0  \n",
      "3G Studios                                   1           0       1         0  \n",
      "3d6 Games                                    0           0       0         0  \n",
      "49Games                                      0           0       2         0  \n",
      "4A Games                                     2           0       0         0  \n",
      "4J Studios                                   0           0       0         1  \n",
      "5000ft                                       0           0       0         0  \n",
      "505 Games                                    0           0       0         0  \n",
      "5TH Cell                                     0           0       0         1  \n",
      "5pb                                          0           0       0         0  \n",
      "7 Studios                                    0           0       0         0  \n",
      "8Monkey Labs                                 1           0       0         0  \n",
      "8ing/Raizing                                 0           0       0         0  \n",
      "989 Sports                                   0           0      12         0  \n",
      "...                                        ...         ...     ...       ...  \n",
      "Xpec                                         0           0       0         0  \n",
      "Yacht Club Games                             0           0       0         0  \n",
      "Yager                                        4           0       0         0  \n",
      "Yuke's                                       0           0      10         0  \n",
      "Z-Axis, Ltd.                                 1           0      11         0  \n",
      "Zed Two Limited                              0           0       0         1  \n",
      "Zen Studios                                  0           0       0         0  \n",
      "Zener Works                                  0           0       0         0  \n",
      "ZeniMax Media                                0           0       0         0  \n",
      "Zerodiv                                      0           0       0         0  \n",
      "Zindagi Games                                0           0       0         0  \n",
      "Zipper Interactive                           8           0       0         0  \n",
      "Zoe Mode                                     0           0       0         0  \n",
      "Zoe Mode, HB Studios Multimedia              0           0       0         0  \n",
      "Zombie                                       1           0       0         0  \n",
      "Zombie Studios                               1           0       0         0  \n",
      "Zono Inc.                                    0           0       0         2  \n",
      "Zoo Games                                    0           0       0         0  \n",
      "Zoom                                         1           0       0         0  \n",
      "ZootFly                                      0           0       0         0  \n",
      "h.a.n.d. Inc.                                0           0       1         0  \n",
      "iNiS                                         0           0       0         0  \n",
      "id Software                                  8           0       0         0  \n",
      "id Software, Nerve Software                  1           0       0         0  \n",
      "id Software, Raven Software                  3           0       0         0  \n",
      "n-Space                                      5           0       0         0  \n",
      "neo Software                                 1           0       0         0  \n",
      "odenis studio                                0           0       0         1  \n",
      "syn Sophia                                   0           2       0         0  \n",
      "zSlide                                       0           0       0         0  \n",
      "\n",
      "[1289 rows x 12 columns]\n",
      "chi-squared: 40092.1243495\n",
      "p-value: 0.0\n"
     ]
    }
   ],
   "source": [
    "# ^\n",
    "# Running a chi-squared test for Developer and Genre\n",
    "D_G_CT = pd.crosstab(df['Developer'], df['Genre'])\n",
    "print(D_G_CT)\n",
    "chi, p, d_f, e_f = stats.chi2_contingency(D_G_CT)\n",
    "print('chi-squared: ' + str(chi))\n",
    "print('p-value: ' + str(p))"
   ]
  },
  {
   "cell_type": "markdown",
   "metadata": {},
   "source": [
    "** Statistical significance for Developer and Genre.**"
   ]
  },
  {
   "cell_type": "code",
   "execution_count": 34,
   "metadata": {
    "collapsed": false
   },
   "outputs": [
    {
     "name": "stdout",
     "output_type": "stream",
     "text": [
      "Genre   Action  Adventure  Fighting  Misc  Platform  Puzzle  Racing  \\\n",
      "Rating                                                                \n",
      "AO           1          0         0     0         0       0       0   \n",
      "E          191         49         6   163       240      89     350   \n",
      "E10+       299         32        14    80       104      24      79   \n",
      "K-A          0          0         0     1         0       0       0   \n",
      "M          557         85        45    11         3       0      17   \n",
      "RP           0          0         0     0         0       0       0   \n",
      "T          582         82       313   129        56       5     135   \n",
      "\n",
      "Genre   Role-Playing  Shooter  Simulation  Sports  Strategy  \n",
      "Rating                                                       \n",
      "AO                 0        0           0       0         0  \n",
      "E                 73       22         103     754        42  \n",
      "E10+             100       34          28      74        62  \n",
      "K-A                0        0           0       0         0  \n",
      "M                152      523           5      11        24  \n",
      "RP                 0        0           0       0         1  \n",
      "T                387      285         161     104       138  \n",
      "chi-squared: 3993.7584286\n",
      "p-value: 0.0\n"
     ]
    }
   ],
   "source": [
    "# ^\n",
    "# Running a chi-squared test for Rating and Genre\n",
    "R_G_CT = pd.crosstab(df['Rating'], df['Genre'])\n",
    "print(R_G_CT)\n",
    "chi, p, d_f, e_f = stats.chi2_contingency(R_G_CT)\n",
    "print('chi-squared: ' + str(chi))\n",
    "print('p-value: ' + str(p))"
   ]
  },
  {
   "cell_type": "markdown",
   "metadata": {},
   "source": [
    "** Statistical significance for Rating and Genre.**"
   ]
  },
  {
   "cell_type": "code",
   "execution_count": 63,
   "metadata": {
    "collapsed": false
   },
   "outputs": [
    {
     "name": "stdout",
     "output_type": "stream",
     "text": [
      "chi-squared: 1809.54607199\n",
      "p-value: 0.0\n"
     ]
    }
   ],
   "source": [
    "# Running a chi-squared test for E, T and M Ratings vs. Action, Shooter and Sports Genres\n",
    "obs = np.array([[191, 22, 754], [582, 285, 104], [557, 523, 11]])\n",
    "chi, p, d_f, e_f = stats.chi2_contingency(obs)\n",
    "print('chi-squared: ' + str(chi))\n",
    "print('p-value: ' + str(p))"
   ]
  },
  {
   "cell_type": "code",
   "execution_count": 35,
   "metadata": {
    "collapsed": false
   },
   "outputs": [
    {
     "name": "stdout",
     "output_type": "stream",
     "text": [
      "Developer  10tacle Studios, Fusionsphere Systems  1C, 1C Company  \\\n",
      "Platform                                                           \n",
      "3DS                                            0               0   \n",
      "DC                                             0               0   \n",
      "DS                                             1               0   \n",
      "GBA                                            0               0   \n",
      "GC                                             0               0   \n",
      "PC                                             0               2   \n",
      "PS                                             0               0   \n",
      "PS2                                            0               0   \n",
      "PS3                                            0               0   \n",
      "PS4                                            0               0   \n",
      "PSP                                            0               0   \n",
      "PSV                                            0               0   \n",
      "Wii                                            1               0   \n",
      "WiiU                                           0               0   \n",
      "X360                                           0               0   \n",
      "XB                                             0               0   \n",
      "XOne                                           0               0   \n",
      "\n",
      "Developer  1C, Ino-Co, 1C Company  1C: Maddox Games  1C:Ino-Co  \\\n",
      "Platform                                                         \n",
      "3DS                             0                 0          0   \n",
      "DC                              0                 0          0   \n",
      "DS                              0                 0          0   \n",
      "GBA                             0                 0          0   \n",
      "GC                              0                 0          0   \n",
      "PC                              1                 2          1   \n",
      "PS                              0                 0          0   \n",
      "PS2                             0                 0          0   \n",
      "PS3                             0                 0          0   \n",
      "PS4                             0                 0          0   \n",
      "PSP                             0                 0          0   \n",
      "PSV                             0                 0          0   \n",
      "Wii                             0                 0          0   \n",
      "WiiU                            0                 0          0   \n",
      "X360                            0                 0          0   \n",
      "XB                              0                 0          0   \n",
      "XOne                            0                 0          0   \n",
      "\n",
      "Developer  1st Playable Productions  2015  2D Boy  2K Australia  2K Czech  \\\n",
      "Platform                                                                    \n",
      "3DS                               0     0       0             0         0   \n",
      "DC                                0     0       0             0         0   \n",
      "DS                                2     0       0             0         0   \n",
      "GBA                               0     0       0             0         0   \n",
      "GC                                0     0       0             0         0   \n",
      "PC                                0     0       1             1         1   \n",
      "PS                                0     0       0             0         0   \n",
      "PS2                               0     0       0             0         0   \n",
      "PS3                               0     0       0             1         2   \n",
      "PS4                               0     0       0             0         0   \n",
      "PSP                               0     0       0             0         0   \n",
      "PSV                               0     0       0             0         0   \n",
      "Wii                               0     0       0             0         0   \n",
      "WiiU                              0     0       0             0         0   \n",
      "X360                              0     0       0             1         2   \n",
      "XB                                0     1       0             0         0   \n",
      "XOne                              0     0       0             0         0   \n",
      "\n",
      "Developer   ...    h.a.n.d. Inc.  iNiS  id Software  \\\n",
      "Platform    ...                                       \n",
      "3DS         ...                1     0            0   \n",
      "DC          ...                0     0            0   \n",
      "DS          ...                3     1            0   \n",
      "GBA         ...                0     0            0   \n",
      "GC          ...                0     0            0   \n",
      "PC          ...                0     0            4   \n",
      "PS          ...                0     0            0   \n",
      "PS2         ...                0     0            0   \n",
      "PS3         ...                0     0            2   \n",
      "PS4         ...                0     0            0   \n",
      "PSP         ...                0     0            0   \n",
      "PSV         ...                0     0            0   \n",
      "Wii         ...                2     0            0   \n",
      "WiiU        ...                0     0            0   \n",
      "X360        ...                0     3            2   \n",
      "XB          ...                0     0            0   \n",
      "XOne        ...                0     0            0   \n",
      "\n",
      "Developer  id Software, Nerve Software  id Software, Raven Software  n-Space  \\\n",
      "Platform                                                                       \n",
      "3DS                                  0                            0        3   \n",
      "DC                                   0                            0        0   \n",
      "DS                                   0                            0        6   \n",
      "GBA                                  0                            0        0   \n",
      "GC                                   0                            0        1   \n",
      "PC                                   0                            1        0   \n",
      "PS                                   0                            0        1   \n",
      "PS2                                  0                            0        0   \n",
      "PS3                                  0                            1        0   \n",
      "PS4                                  0                            0        0   \n",
      "PSP                                  0                            0        0   \n",
      "PSV                                  0                            0        0   \n",
      "Wii                                  0                            0        1   \n",
      "WiiU                                 0                            0        0   \n",
      "X360                                 0                            1        1   \n",
      "XB                                   1                            0        0   \n",
      "XOne                                 0                            0        0   \n",
      "\n",
      "Developer  neo Software  odenis studio  syn Sophia  zSlide  \n",
      "Platform                                                    \n",
      "3DS                   0              0           1       0  \n",
      "DC                    0              0           0       0  \n",
      "DS                    0              1           1       0  \n",
      "GBA                   0              0           0       0  \n",
      "GC                    0              0           0       0  \n",
      "PC                    0              0           0       0  \n",
      "PS                    0              0           0       0  \n",
      "PS2                   0              0           0       0  \n",
      "PS3                   0              0           0       0  \n",
      "PS4                   0              0           0       0  \n",
      "PSP                   0              0           0       1  \n",
      "PSV                   0              0           0       0  \n",
      "Wii                   0              0           0       0  \n",
      "WiiU                  0              0           0       0  \n",
      "X360                  0              0           0       0  \n",
      "XB                    1              0           0       0  \n",
      "XOne                  0              0           0       0  \n",
      "\n",
      "[17 rows x 1289 columns]\n",
      "chi-squared: 29587.9881958\n",
      "p-value: 0.0\n"
     ]
    }
   ],
   "source": [
    "# ^\n",
    "# Running a chi-squared test for Platform and Developer\n",
    "P_D_CT = pd.crosstab(df['Platform'], df['Developer'])\n",
    "print(P_D_CT)\n",
    "chi, p, d_f, e_f = stats.chi2_contingency(P_D_CT)\n",
    "print('chi-squared: ' + str(chi))\n",
    "print('p-value: ' + str(p))"
   ]
  },
  {
   "cell_type": "markdown",
   "metadata": {},
   "source": [
    "** Statistical significance for Platform and Developer.**"
   ]
  },
  {
   "cell_type": "code",
   "execution_count": 36,
   "metadata": {
    "collapsed": false
   },
   "outputs": [
    {
     "name": "stdout",
     "output_type": "stream",
     "text": [
      "Rating    AO    E  E10+  K-A    M  RP    T\n",
      "Platform                                  \n",
      "3DS        0   54    50    0   11   0   40\n",
      "DC         0    3     0    0    1   0   10\n",
      "DS         0  231   140    0    9   0   84\n",
      "GBA        0  169    18    0    6   0   44\n",
      "GC         0  167    17    0   34   0  130\n",
      "PC         0   99    63    0  242   1  246\n",
      "PS         0   70     0    1   18   0   61\n",
      "PS2        0  371    78    0  208   0  483\n",
      "PS3        0  154   101    0  237   0  277\n",
      "PS4        0   50    37    0   74   0   78\n",
      "PSP        0  108    65    0   47   0  170\n",
      "PSV        0   13    19    0   30   0   56\n",
      "Wii        0  175   134    0   30   0  140\n",
      "WiiU       0   29    36    0   14   0   10\n",
      "X360       0  175   127    0  264   0  292\n",
      "XB         1  178    17    0  146   0  223\n",
      "XOne       0   36    28    0   62   0   33\n",
      "chi-squared: 1401.53140779\n",
      "p-value: 1.04877101256e-230\n"
     ]
    }
   ],
   "source": [
    "# ^\n",
    "# Running a chi-squared test for Platform and Rating\n",
    "P_R_CT = pd.crosstab(df['Platform'], df['Rating'])\n",
    "print(P_R_CT)\n",
    "chi, p, d_f, e_f = stats.chi2_contingency(P_R_CT)\n",
    "print('chi-squared: ' + str(chi))\n",
    "print('p-value: ' + str(p))"
   ]
  },
  {
   "cell_type": "markdown",
   "metadata": {},
   "source": [
    "** Statistical significance for Platform and Rating.**"
   ]
  },
  {
   "cell_type": "code",
   "execution_count": 64,
   "metadata": {
    "collapsed": false
   },
   "outputs": [
    {
     "name": "stdout",
     "output_type": "stream",
     "text": [
      "chi-squared: 143.029110257\n",
      "p-value: 6.33940530474e-30\n"
     ]
    }
   ],
   "source": [
    "# Running a chi-squared test for Playstation 2, Nintendo Wii and XBOX 360 Games vs. E, T and M Ratings\n",
    "obs = np.array([[371, 483, 208], [175, 140, 30], [175, 292, 264]])\n",
    "chi, p, d_f, e_f = stats.chi2_contingency(obs)\n",
    "print('chi-squared: ' + str(chi))\n",
    "print('p-value: ' + str(p))"
   ]
  },
  {
   "cell_type": "code",
   "execution_count": 37,
   "metadata": {
    "collapsed": false
   },
   "outputs": [
    {
     "name": "stdout",
     "output_type": "stream",
     "text": [
      "Rating                                 AO   E  E10+  K-A  M  RP   T\n",
      "Developer                                                          \n",
      "10tacle Studios, Fusionsphere Systems   0   0     0    0  0   0   2\n",
      "1C, 1C Company                          0   0     0    0  0   0   2\n",
      "1C, Ino-Co, 1C Company                  0   0     0    0  0   0   1\n",
      "1C: Maddox Games                        0   0     0    0  0   0   2\n",
      "1C:Ino-Co                               0   0     0    0  0   0   1\n",
      "1st Playable Productions                0   0     1    0  0   0   1\n",
      "2015                                    0   0     0    0  1   0   0\n",
      "2D Boy                                  0   1     0    0  0   0   0\n",
      "2K Australia                            0   0     0    0  3   0   0\n",
      "2K Czech                                0   2     0    0  3   0   0\n",
      "2K Games                                0   1     0    0  2   0   0\n",
      "2K Marin                                0   0     0    0  5   0   0\n",
      "2K Sports                               0   7     3    0  0   0   2\n",
      "2XL Games                               0   2     0    0  0   0   0\n",
      "343 Industries                          0   0     0    0  3   0   1\n",
      "369 Interactive                         0   0     0    0  1   0   0\n",
      "3DO                                     0   4     0    0  0   0  13\n",
      "3G Studios                              0   1     0    0  0   0   1\n",
      "3d6 Games                               0   0     0    0  0   0   1\n",
      "49Games                                 0   2     0    0  0   0   0\n",
      "4A Games                                0   0     0    0  3   0   0\n",
      "4J Studios                              0   2     0    0  1   0   1\n",
      "5000ft                                  0   0     0    0  0   0   1\n",
      "505 Games                               0   0     0    0  0   0   2\n",
      "5TH Cell                                0   3     6    0  0   0   0\n",
      "5pb                                     0   0     0    0  5   0   2\n",
      "7 Studios                               0   0     4    0  1   0   7\n",
      "8Monkey Labs                            0   0     0    0  1   0   0\n",
      "8ing/Raizing                            0   0     0    0  0   0   3\n",
      "989 Sports                              0  12     0    0  0   0   0\n",
      "...                                    ..  ..   ...  ... ..  ..  ..\n",
      "Xpec                                    0   1     4    0  0   0   2\n",
      "Yacht Club Games                        0   3     0    0  0   0   0\n",
      "Yager                                   0   0     0    0  3   0   1\n",
      "Yuke's                                  0   1     0    0  1   0  46\n",
      "Z-Axis, Ltd.                            0   2     0    0  3   0  10\n",
      "Zed Two Limited                         0   0     0    0  0   0   1\n",
      "Zen Studios                             0   1     0    0  0   0   0\n",
      "Zener Works                             0   0     0    0  0   0   1\n",
      "ZeniMax Media                           0   0     0    0  2   0   0\n",
      "Zerodiv                                 0   0     0    0  0   0   3\n",
      "Zindagi Games                           0   0     1    0  0   0   0\n",
      "Zipper Interactive                      0   0     0    0  5   0   3\n",
      "Zoe Mode                                0   4     4    0  0   0   0\n",
      "Zoe Mode, HB Studios Multimedia         0   0     0    0  0   0   1\n",
      "Zombie                                  0   0     0    0  0   0   1\n",
      "Zombie Studios                          0   0     0    0  3   0   1\n",
      "Zono Inc.                               0   0     0    0  0   0   2\n",
      "Zoo Games                               0   0     1    0  0   0   0\n",
      "Zoom                                    0   0     0    0  0   0   1\n",
      "ZootFly                                 0   0     0    0  0   0   2\n",
      "h.a.n.d. Inc.                           0   3     2    0  0   0   1\n",
      "iNiS                                    0   0     1    0  0   0   3\n",
      "id Software                             0   0     0    0  8   0   0\n",
      "id Software, Nerve Software             0   0     0    0  1   0   0\n",
      "id Software, Raven Software             0   0     0    0  3   0   0\n",
      "n-Space                                 0   1     4    0  2   0   6\n",
      "neo Software                            0   0     0    0  1   0   0\n",
      "odenis studio                           0   0     1    0  0   0   0\n",
      "syn Sophia                              0   2     0    0  0   0   0\n",
      "zSlide                                  0   0     0    0  0   0   1\n",
      "\n",
      "[1289 rows x 7 columns]\n",
      "chi-squared: 19724.9978492\n",
      "p-value: 0.0\n"
     ]
    }
   ],
   "source": [
    "# ^\n",
    "# Running a chi-squared test for Developer and Rating\n",
    "D_R_CT = pd.crosstab(df['Developer'], df['Rating'])\n",
    "print(D_R_CT)\n",
    "chi, p, d_f, e_f = stats.chi2_contingency(D_R_CT)\n",
    "print('chi-squared: ' + str(chi))\n",
    "print('p-value: ' + str(p))"
   ]
  },
  {
   "cell_type": "markdown",
   "metadata": {},
   "source": [
    "** Statistical significance for Developer and Rating.**"
   ]
  },
  {
   "cell_type": "markdown",
   "metadata": {},
   "source": [
    "** For each Pearson Correlation test below:\n",
    "<br>\n",
    "Ho = There is no relationship between factors\n",
    "<br>\n",
    "Ha = There is a relationship between factors\n",
    "<br>\n",
    "α = 0.05**"
   ]
  },
  {
   "cell_type": "code",
   "execution_count": 38,
   "metadata": {
    "collapsed": false
   },
   "outputs": [
    {
     "name": "stdout",
     "output_type": "stream",
     "text": [
      "r: 0.955793368968\n",
      "p-value: 0.0\n"
     ]
    }
   ],
   "source": [
    "# Running a Pearson Correlation test between Global Sales and North American Sales\n",
    "r, p = stats.pearsonr(df['Global_Sales'], df['NA_Sales'])\n",
    "print('r: ' + str(r))\n",
    "print('p-value: ' + str(p))"
   ]
  },
  {
   "cell_type": "markdown",
   "metadata": {},
   "source": [
    "** Because of low high the p-value is, we can say the relationship between Global Sales and North American Sales is statistically significant and there is also a strong positive correlation around 0.96 between the two. This means that Global Sales is predictive of North American Sales.**"
   ]
  },
  {
   "cell_type": "code",
   "execution_count": 39,
   "metadata": {
    "collapsed": false
   },
   "outputs": [
    {
     "name": "stdout",
     "output_type": "stream",
     "text": [
      "r: 0.939313013238\n",
      "p-value: 0.0\n"
     ]
    }
   ],
   "source": [
    "# Running a Pearson Correlation test between Global Sales and European Sales\n",
    "r, p = stats.pearsonr(df['Global_Sales'], df['EU_Sales'])\n",
    "print('r: ' + str(r))\n",
    "print('p-value: ' + str(p))"
   ]
  },
  {
   "cell_type": "markdown",
   "metadata": {},
   "source": [
    "** Because of low high the p-value is, we can say the relationship between Global Sales and European Sales is statistically significant and there is also a strong positive correlation around 0.94 between the two. This means that Global Sales is predictive of European Sales.**"
   ]
  },
  {
   "cell_type": "code",
   "execution_count": 40,
   "metadata": {
    "collapsed": false
   },
   "outputs": [
    {
     "name": "stdout",
     "output_type": "stream",
     "text": [
      "r: 0.613545596261\n",
      "p-value: 0.0\n"
     ]
    }
   ],
   "source": [
    "# Running a Pearson Correlation test between Global Sales and Japanese Sales\n",
    "r, p = stats.pearsonr(df['Global_Sales'], df['JP_Sales'])\n",
    "print('r: ' + str(r))\n",
    "print('p-value: ' + str(p))"
   ]
  },
  {
   "cell_type": "markdown",
   "metadata": {},
   "source": [
    "** Because of low high the p-value is, we can say the relationship between Global Sales and Japanese Sales is statistically significant and there is also a positive correlation around 0.61 between the two. This means that Global Sales is predictive of Japanese Sales.**"
   ]
  },
  {
   "cell_type": "code",
   "execution_count": 41,
   "metadata": {
    "collapsed": false
   },
   "outputs": [
    {
     "name": "stdout",
     "output_type": "stream",
     "text": [
      "r: 0.841807563817\n",
      "p-value: 0.0\n"
     ]
    }
   ],
   "source": [
    "# Running a Pearson Correlation test between North American Sales and European Sales\n",
    "r, p = stats.pearsonr(df['NA_Sales'], df['EU_Sales'])\n",
    "print('r: ' + str(r))\n",
    "print('p-value: ' + str(p))"
   ]
  },
  {
   "cell_type": "markdown",
   "metadata": {},
   "source": [
    "** Because of low high the p-value is, we can say the relationship between North American Sales and European Sales is statistically significant and there is also a strong positive correlation around 0.84 between the two. This means that North American Sales is predictive of European Sales.**"
   ]
  },
  {
   "cell_type": "code",
   "execution_count": 42,
   "metadata": {
    "collapsed": false
   },
   "outputs": [
    {
     "name": "stdout",
     "output_type": "stream",
     "text": [
      "r: 0.468607351091\n",
      "p-value: 0.0\n"
     ]
    }
   ],
   "source": [
    "# Running a Pearson Correlation test between North American Sales and Japanese Sales\n",
    "r, p = stats.pearsonr(df['NA_Sales'], df['JP_Sales'])\n",
    "print('r: ' + str(r))\n",
    "print('p-value: ' + str(p))"
   ]
  },
  {
   "cell_type": "markdown",
   "metadata": {},
   "source": [
    "** Because of low high the p-value is, we can say the relationship between North American Sales and Japanese Sales is statistically significant and there is also a positive correlation around 0.47 between the two. This means that North American Sales is predictive of Japanese Sales.**"
   ]
  },
  {
   "cell_type": "code",
   "execution_count": 43,
   "metadata": {
    "collapsed": false
   },
   "outputs": [
    {
     "name": "stdout",
     "output_type": "stream",
     "text": [
      "r: 0.519928865621\n",
      "p-value: 0.0\n"
     ]
    }
   ],
   "source": [
    "# Running a Pearson Correlation test between European Sales and Japanese Sales\n",
    "r, p = stats.pearsonr(df['EU_Sales'], df['JP_Sales'])\n",
    "print('r: ' + str(r))\n",
    "print('p-value: ' + str(p))"
   ]
  },
  {
   "cell_type": "markdown",
   "metadata": {},
   "source": [
    "** Because of low high the p-value is, we can say the relationship between European Sales and Japanese Sales is statistically significant and there is also a positive correlation around 0.52 between the two. This means that European Sales is predictive of Japanese Sales.**"
   ]
  },
  {
   "cell_type": "code",
   "execution_count": 44,
   "metadata": {
    "collapsed": false
   },
   "outputs": [
    {
     "name": "stdout",
     "output_type": "stream",
     "text": [
      "r: 0.237555722283\n",
      "p-value: 3.5137111423e-88\n"
     ]
    }
   ],
   "source": [
    "# Running a Pearson Correlation test between Global Sales and Critic Score\n",
    "r, p = stats.pearsonr(df['Global_Sales'], df['Critic_Score'])\n",
    "print('r: ' + str(r))\n",
    "print('p-value: ' + str(p))"
   ]
  },
  {
   "cell_type": "markdown",
   "metadata": {},
   "source": [
    "** Because of low high the p-value is, we can say the relationship between Global Sales and Critic Score is statistically significant and there is also a weak positive correlation around 0.24 between the two. This means that Global Sales is predictive of Critic Score.**"
   ]
  },
  {
   "cell_type": "code",
   "execution_count": 45,
   "metadata": {
    "collapsed": false
   },
   "outputs": [
    {
     "name": "stdout",
     "output_type": "stream",
     "text": [
      "r: 0.088348526347\n",
      "p-value: 2.63685512321e-13\n"
     ]
    }
   ],
   "source": [
    "# Running a Pearson Correlation test between Global Sales and User Score\n",
    "r, p = stats.pearsonr(df['Global_Sales'], df['User_Score'])\n",
    "print('r: ' + str(r))\n",
    "print('p-value: ' + str(p))"
   ]
  },
  {
   "cell_type": "markdown",
   "metadata": {},
   "source": [
    "** Because of low high the p-value is, we can say the relationship between Global Sales and User Score is statistically significant and there is also a weak positive correlation around 0.09 between the two. This means that Global Sales is predictive of User Score.**"
   ]
  },
  {
   "cell_type": "code",
   "execution_count": 46,
   "metadata": {
    "collapsed": false
   },
   "outputs": [
    {
     "name": "stdout",
     "output_type": "stream",
     "text": [
      "r: 0.233580308941\n",
      "p-value: 3.09796918662e-85\n"
     ]
    }
   ],
   "source": [
    "# Running a Pearson Correlation test between North American Sales and Critic Score\n",
    "r, p = stats.pearsonr(df['NA_Sales'], df['Critic_Score'])\n",
    "print('r: ' + str(r))\n",
    "print('p-value: ' + str(p))"
   ]
  },
  {
   "cell_type": "markdown",
   "metadata": {},
   "source": [
    "** Because of low high the p-value is, we can say the relationship between North American Sales and Critic Score is statistically significant and there is also a weak positive correlation around 0.23 between the two. This means that North American Sales is predictive of Critic Score.**"
   ]
  },
  {
   "cell_type": "code",
   "execution_count": 47,
   "metadata": {
    "collapsed": false
   },
   "outputs": [
    {
     "name": "stdout",
     "output_type": "stream",
     "text": [
      "r: 0.0857960109199\n",
      "p-value: 1.2501988362e-12\n"
     ]
    }
   ],
   "source": [
    "# Running a Pearson Correlation test between North American Sales and User Score\n",
    "r, p = stats.pearsonr(df['NA_Sales'], df['User_Score'])\n",
    "print('r: ' + str(r))\n",
    "print('p-value: ' + str(p))"
   ]
  },
  {
   "cell_type": "markdown",
   "metadata": {},
   "source": [
    "** Because of low high the p-value is, we can say the relationship between North American Sales and User Score is statistically significant and there is also a weak positive correlation around 0.09 between the two. This means that North American Sales is predictive of User Score.**"
   ]
  },
  {
   "cell_type": "code",
   "execution_count": 48,
   "metadata": {
    "collapsed": false
   },
   "outputs": [
    {
     "name": "stdout",
     "output_type": "stream",
     "text": [
      "r: 0.213101933662\n",
      "p-value: 6.25938324605e-71\n"
     ]
    }
   ],
   "source": [
    "# Running a Pearson Correlation test between European Sales and Critic Score\n",
    "r, p = stats.pearsonr(df['EU_Sales'], df['Critic_Score'])\n",
    "print('r: ' + str(r))\n",
    "print('p-value: ' + str(p))"
   ]
  },
  {
   "cell_type": "markdown",
   "metadata": {},
   "source": [
    "** Because of low high the p-value is, we can say the relationship between European Sales and Critic Score is statistically significant and there is also a weak positive correlation around 0.21 between the two. This means that European Sales is predictive of Critic Score.**"
   ]
  },
  {
   "cell_type": "code",
   "execution_count": 49,
   "metadata": {
    "collapsed": false
   },
   "outputs": [
    {
     "name": "stdout",
     "output_type": "stream",
     "text": [
      "r: 0.0559154095283\n",
      "p-value: 3.79799725291e-06\n"
     ]
    }
   ],
   "source": [
    "# Running a Pearson Correlation test between European Sales and User Score\n",
    "r, p = stats.pearsonr(df['EU_Sales'], df['User_Score'])\n",
    "print('r: ' + str(r))\n",
    "print('p-value: ' + str(p))"
   ]
  },
  {
   "cell_type": "markdown",
   "metadata": {},
   "source": [
    "** Because of low high the p-value is, we can say the relationship between European Sales and User Score is statistically significant and there is also a weak positive correlation around 0.06 between the two. This means that European Sales is predictive of User Score.**"
   ]
  },
  {
   "cell_type": "code",
   "execution_count": 50,
   "metadata": {
    "collapsed": false
   },
   "outputs": [
    {
     "name": "stdout",
     "output_type": "stream",
     "text": [
      "r: 0.147313940071\n",
      "p-value: 2.02845286013e-34\n"
     ]
    }
   ],
   "source": [
    "# Running a Pearson Correlation test between Japanese Sales and Critic Score\n",
    "r, p = stats.pearsonr(df['JP_Sales'], df['Critic_Score'])\n",
    "print('r: ' + str(r))\n",
    "print('p-value: ' + str(p))"
   ]
  },
  {
   "cell_type": "markdown",
   "metadata": {},
   "source": [
    "** Because of low high the p-value is, we can say the relationship between Japanese Sales and Critic Score is statistically significant and there is also a weak positive correlation around 0.15 between the two. This means that Japanese Sales is predictive of Critic Score.**"
   ]
  },
  {
   "cell_type": "code",
   "execution_count": 51,
   "metadata": {
    "collapsed": false
   },
   "outputs": [
    {
     "name": "stdout",
     "output_type": "stream",
     "text": [
      "r: 0.127521424437\n",
      "p-value: 3.83930609948e-26\n"
     ]
    }
   ],
   "source": [
    "# Running a Pearson Correlation test between Japanese Sales and User Score\n",
    "r, p = stats.pearsonr(df['JP_Sales'], df['User_Score'])\n",
    "print('r: ' + str(r))\n",
    "print('p-value: ' + str(p))"
   ]
  },
  {
   "cell_type": "markdown",
   "metadata": {},
   "source": [
    "** Because of low high the p-value is, we can say the relationship between Japanese Sales and User Score is statistically significant and there is also a weak positive correlation around 0.13 between the two. This means that Japanese Sales is predictive of User Score.**"
   ]
  }
 ],
 "metadata": {
  "kernelspec": {
   "display_name": "Python 2",
   "language": "python",
   "name": "python2"
  },
  "language_info": {
   "codemirror_mode": {
    "name": "ipython",
    "version": 2
   },
   "file_extension": ".py",
   "mimetype": "text/x-python",
   "name": "python",
   "nbconvert_exporter": "python",
   "pygments_lexer": "ipython2",
   "version": "2.7.11"
  }
 },
 "nbformat": 4,
 "nbformat_minor": 0
}
