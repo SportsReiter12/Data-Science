{
 "cells": [
  {
   "cell_type": "code",
   "execution_count": 1,
   "metadata": {
    "collapsed": true
   },
   "outputs": [],
   "source": [
    "# Importing necessary packages\n",
    "%matplotlib inline\n",
    "import pandas as pd\n",
    "import numpy as np\n",
    "import matplotlib.pyplot as plt\n",
    "import seaborn as sns\n",
    "from scipy import stats\n",
    "from scipy.stats import chisquare"
   ]
  },
  {
   "cell_type": "code",
   "execution_count": 2,
   "metadata": {
    "collapsed": false
   },
   "outputs": [
    {
     "data": {
      "text/html": [
       "<div>\n",
       "<style scoped>\n",
       "    .dataframe tbody tr th:only-of-type {\n",
       "        vertical-align: middle;\n",
       "    }\n",
       "\n",
       "    .dataframe tbody tr th {\n",
       "        vertical-align: top;\n",
       "    }\n",
       "\n",
       "    .dataframe thead th {\n",
       "        text-align: right;\n",
       "    }\n",
       "</style>\n",
       "<table border=\"1\" class=\"dataframe\">\n",
       "  <thead>\n",
       "    <tr style=\"text-align: right;\">\n",
       "      <th></th>\n",
       "      <th>Platform</th>\n",
       "      <th>Year_of_Release</th>\n",
       "      <th>Genre</th>\n",
       "      <th>Publisher</th>\n",
       "      <th>NA_Sales</th>\n",
       "      <th>EU_Sales</th>\n",
       "      <th>JP_Sales</th>\n",
       "      <th>Other_Sales</th>\n",
       "      <th>Global_Sales</th>\n",
       "      <th>Critic_Score</th>\n",
       "      <th>...</th>\n",
       "      <th>Playstation</th>\n",
       "      <th>Playstation 2</th>\n",
       "      <th>Playstation 3</th>\n",
       "      <th>Playstation 4</th>\n",
       "      <th>Playstation Vita</th>\n",
       "      <th>PSP</th>\n",
       "      <th>Sega Dreamcast</th>\n",
       "      <th>XBOX</th>\n",
       "      <th>XBOX 360</th>\n",
       "      <th>XBOX One</th>\n",
       "    </tr>\n",
       "    <tr>\n",
       "      <th>Name</th>\n",
       "      <th></th>\n",
       "      <th></th>\n",
       "      <th></th>\n",
       "      <th></th>\n",
       "      <th></th>\n",
       "      <th></th>\n",
       "      <th></th>\n",
       "      <th></th>\n",
       "      <th></th>\n",
       "      <th></th>\n",
       "      <th></th>\n",
       "      <th></th>\n",
       "      <th></th>\n",
       "      <th></th>\n",
       "      <th></th>\n",
       "      <th></th>\n",
       "      <th></th>\n",
       "      <th></th>\n",
       "      <th></th>\n",
       "      <th></th>\n",
       "      <th></th>\n",
       "    </tr>\n",
       "  </thead>\n",
       "  <tbody>\n",
       "    <tr>\n",
       "      <th>Wii Sports</th>\n",
       "      <td>Wii</td>\n",
       "      <td>2006</td>\n",
       "      <td>Sports</td>\n",
       "      <td>Nintendo</td>\n",
       "      <td>41.36</td>\n",
       "      <td>28.96</td>\n",
       "      <td>3.77</td>\n",
       "      <td>8.45</td>\n",
       "      <td>82.53</td>\n",
       "      <td>76.0</td>\n",
       "      <td>...</td>\n",
       "      <td>0</td>\n",
       "      <td>0</td>\n",
       "      <td>0</td>\n",
       "      <td>0</td>\n",
       "      <td>0</td>\n",
       "      <td>0</td>\n",
       "      <td>0</td>\n",
       "      <td>0</td>\n",
       "      <td>0</td>\n",
       "      <td>0</td>\n",
       "    </tr>\n",
       "    <tr>\n",
       "      <th>Mario Kart Wii</th>\n",
       "      <td>Wii</td>\n",
       "      <td>2008</td>\n",
       "      <td>Racing</td>\n",
       "      <td>Nintendo</td>\n",
       "      <td>15.68</td>\n",
       "      <td>12.76</td>\n",
       "      <td>3.79</td>\n",
       "      <td>3.29</td>\n",
       "      <td>35.52</td>\n",
       "      <td>82.0</td>\n",
       "      <td>...</td>\n",
       "      <td>0</td>\n",
       "      <td>0</td>\n",
       "      <td>0</td>\n",
       "      <td>0</td>\n",
       "      <td>0</td>\n",
       "      <td>0</td>\n",
       "      <td>0</td>\n",
       "      <td>0</td>\n",
       "      <td>0</td>\n",
       "      <td>0</td>\n",
       "    </tr>\n",
       "    <tr>\n",
       "      <th>Wii Sports Resort</th>\n",
       "      <td>Wii</td>\n",
       "      <td>2009</td>\n",
       "      <td>Sports</td>\n",
       "      <td>Nintendo</td>\n",
       "      <td>15.61</td>\n",
       "      <td>10.93</td>\n",
       "      <td>3.28</td>\n",
       "      <td>2.95</td>\n",
       "      <td>32.77</td>\n",
       "      <td>80.0</td>\n",
       "      <td>...</td>\n",
       "      <td>0</td>\n",
       "      <td>0</td>\n",
       "      <td>0</td>\n",
       "      <td>0</td>\n",
       "      <td>0</td>\n",
       "      <td>0</td>\n",
       "      <td>0</td>\n",
       "      <td>0</td>\n",
       "      <td>0</td>\n",
       "      <td>0</td>\n",
       "    </tr>\n",
       "    <tr>\n",
       "      <th>New Super Mario Bros.</th>\n",
       "      <td>DS</td>\n",
       "      <td>2006</td>\n",
       "      <td>Platform</td>\n",
       "      <td>Nintendo</td>\n",
       "      <td>11.28</td>\n",
       "      <td>9.14</td>\n",
       "      <td>6.50</td>\n",
       "      <td>2.88</td>\n",
       "      <td>29.80</td>\n",
       "      <td>89.0</td>\n",
       "      <td>...</td>\n",
       "      <td>0</td>\n",
       "      <td>0</td>\n",
       "      <td>0</td>\n",
       "      <td>0</td>\n",
       "      <td>0</td>\n",
       "      <td>0</td>\n",
       "      <td>0</td>\n",
       "      <td>0</td>\n",
       "      <td>0</td>\n",
       "      <td>0</td>\n",
       "    </tr>\n",
       "    <tr>\n",
       "      <th>Wii Play</th>\n",
       "      <td>Wii</td>\n",
       "      <td>2006</td>\n",
       "      <td>Misc</td>\n",
       "      <td>Nintendo</td>\n",
       "      <td>13.96</td>\n",
       "      <td>9.18</td>\n",
       "      <td>2.93</td>\n",
       "      <td>2.84</td>\n",
       "      <td>28.92</td>\n",
       "      <td>58.0</td>\n",
       "      <td>...</td>\n",
       "      <td>0</td>\n",
       "      <td>0</td>\n",
       "      <td>0</td>\n",
       "      <td>0</td>\n",
       "      <td>0</td>\n",
       "      <td>0</td>\n",
       "      <td>0</td>\n",
       "      <td>0</td>\n",
       "      <td>0</td>\n",
       "      <td>0</td>\n",
       "    </tr>\n",
       "  </tbody>\n",
       "</table>\n",
       "<p>5 rows × 44 columns</p>\n",
       "</div>"
      ],
      "text/plain": [
       "                      Platform  Year_of_Release     Genre Publisher  NA_Sales  \\\n",
       "Name                                                                            \n",
       "Wii Sports                 Wii             2006    Sports  Nintendo     41.36   \n",
       "Mario Kart Wii             Wii             2008    Racing  Nintendo     15.68   \n",
       "Wii Sports Resort          Wii             2009    Sports  Nintendo     15.61   \n",
       "New Super Mario Bros.       DS             2006  Platform  Nintendo     11.28   \n",
       "Wii Play                   Wii             2006      Misc  Nintendo     13.96   \n",
       "\n",
       "                       EU_Sales  JP_Sales  Other_Sales  Global_Sales  \\\n",
       "Name                                                                   \n",
       "Wii Sports                28.96      3.77         8.45         82.53   \n",
       "Mario Kart Wii            12.76      3.79         3.29         35.52   \n",
       "Wii Sports Resort         10.93      3.28         2.95         32.77   \n",
       "New Super Mario Bros.      9.14      6.50         2.88         29.80   \n",
       "Wii Play                   9.18      2.93         2.84         28.92   \n",
       "\n",
       "                       Critic_Score    ...     Playstation  Playstation 2  \\\n",
       "Name                                   ...                                  \n",
       "Wii Sports                     76.0    ...               0              0   \n",
       "Mario Kart Wii                 82.0    ...               0              0   \n",
       "Wii Sports Resort              80.0    ...               0              0   \n",
       "New Super Mario Bros.          89.0    ...               0              0   \n",
       "Wii Play                       58.0    ...               0              0   \n",
       "\n",
       "                       Playstation 3 Playstation 4 Playstation Vita  PSP  \\\n",
       "Name                                                                       \n",
       "Wii Sports                         0             0                0    0   \n",
       "Mario Kart Wii                     0             0                0    0   \n",
       "Wii Sports Resort                  0             0                0    0   \n",
       "New Super Mario Bros.              0             0                0    0   \n",
       "Wii Play                           0             0                0    0   \n",
       "\n",
       "                       Sega Dreamcast  XBOX  XBOX 360  XBOX One  \n",
       "Name                                                             \n",
       "Wii Sports                          0     0         0         0  \n",
       "Mario Kart Wii                      0     0         0         0  \n",
       "Wii Sports Resort                   0     0         0         0  \n",
       "New Super Mario Bros.               0     0         0         0  \n",
       "Wii Play                            0     0         0         0  \n",
       "\n",
       "[5 rows x 44 columns]"
      ]
     },
     "execution_count": 2,
     "metadata": {},
     "output_type": "execute_result"
    }
   ],
   "source": [
    "# Uploading Dataset and inspecting its contents\n",
    "df = pd.DataFrame()\n",
    "df = pd.read_csv('/Users/dwreiter/Desktop/Work/Springboard/Video Game Capstone Project/Data Wrangling/vg_df.csv', delimiter='\\t', index_col=0)\n",
    "df.head()"
   ]
  },
  {
   "cell_type": "markdown",
   "metadata": {},
   "source": [
    "** For each test below:\n",
    "<br>\n",
    "Ho = Factor does not have an impact on sales\n",
    "<br>\n",
    "Ha = Factor has an impact on sales\n",
    "<br>\n",
    "α = 0.05**"
   ]
  },
  {
   "cell_type": "code",
   "execution_count": 3,
   "metadata": {
    "collapsed": false
   },
   "outputs": [
    {
     "name": "stdout",
     "output_type": "stream",
     "text": [
      "Global t-statistic: 1.17194954471\n",
      "Global p-value: 0.241488449515\n",
      "North American t-statistic: 2.01076019702\n",
      "North American p-value: 0.0446116187391\n",
      "European t-statistic: 0.786546764464\n",
      "European p-value: 0.431730661455\n",
      "Japanese t-statistic: -3.64356311765\n",
      "Japanese p-value: 0.00027852492399\n"
     ]
    }
   ],
   "source": [
    "# Running a t-test for Sports Games and Global Sales\n",
    "t_stat, p = stats.ttest_ind(df.loc[df['Genre'] == 'Sports']['Global_Sales'], df.loc[df['Genre'] != 'Sports']['Global_Sales'], equal_var=False)\n",
    "print('Global t-statistic: ' + str(t_stat))\n",
    "print('Global p-value: ' + str(p))\n",
    "\n",
    "# Running a t-test for Sports Games and North American Sales\n",
    "t_stat, p = stats.ttest_ind(df.loc[df['Genre'] == 'Sports']['NA_Sales'], df.loc[df['Genre'] != 'Sports']['NA_Sales'], equal_var=False)\n",
    "print('North American t-statistic: ' + str(t_stat))\n",
    "print('North American p-value: ' + str(p))\n",
    "\n",
    "# Running a t-test for Sports Games and European Sales\n",
    "t_stat, p = stats.ttest_ind(df.loc[df['Genre'] == 'Sports']['EU_Sales'], df.loc[df['Genre'] != 'Sports']['EU_Sales'], equal_var=False)\n",
    "print('European t-statistic: ' + str(t_stat))\n",
    "print('European p-value: ' + str(p))\n",
    "\n",
    "# Running a t-test for Sports Games and Japanese Sales\n",
    "t_stat, p = stats.ttest_ind(df.loc[df['Genre'] == 'Sports']['JP_Sales'], df.loc[df['Genre'] != 'Sports']['JP_Sales'], equal_var=False)\n",
    "print('Japanese t-statistic: ' + str(t_stat))\n",
    "print('Japanese p-value: ' + str(p))"
   ]
  },
  {
   "cell_type": "markdown",
   "metadata": {},
   "source": [
    "** Statistical significance for Sports games and North American sales as well as Japanese sales.**"
   ]
  },
  {
   "cell_type": "code",
   "execution_count": 4,
   "metadata": {
    "collapsed": false
   },
   "outputs": [
    {
     "name": "stdout",
     "output_type": "stream",
     "text": [
      "Global t-statistic: 0.47645012398\n",
      "Global p-value: 0.633910884732\n",
      "North American t-statistic: -0.161002046013\n",
      "North American p-value: 0.872138825432\n",
      "European t-statistic: 1.52415562531\n",
      "European p-value: 0.127947893857\n",
      "Japanese t-statistic: -1.33520887723\n",
      "Japanese p-value: 0.182258889858\n"
     ]
    }
   ],
   "source": [
    "# Running a t-test for Racing Games and Global Sales\n",
    "t_stat, p = stats.ttest_ind(df.loc[df['Genre'] == 'Racing']['Global_Sales'], df.loc[df['Genre'] != 'Racing']['Global_Sales'], equal_var=False)\n",
    "print('Global t-statistic: ' + str(t_stat))\n",
    "print('Global p-value: ' + str(p))\n",
    "\n",
    "# Running a t-test for Racing Games and North American Sales\n",
    "t_stat, p = stats.ttest_ind(df.loc[df['Genre'] == 'Racing']['NA_Sales'], df.loc[df['Genre'] != 'Racing']['NA_Sales'], equal_var=False)\n",
    "print('North American t-statistic: ' + str(t_stat))\n",
    "print('North American p-value: ' + str(p))\n",
    "\n",
    "# Running a t-test for Racing Games and European Sales\n",
    "t_stat, p = stats.ttest_ind(df.loc[df['Genre'] == 'Racing']['EU_Sales'], df.loc[df['Genre'] != 'Racing']['EU_Sales'], equal_var=False)\n",
    "print('European t-statistic: ' + str(t_stat))\n",
    "print('European p-value: ' + str(p))\n",
    "\n",
    "# Running a t-test for Racing Games and Japanese Sales\n",
    "t_stat, p = stats.ttest_ind(df.loc[df['Genre'] == 'Racing']['JP_Sales'], df.loc[df['Genre'] != 'Racing']['JP_Sales'], equal_var=False)\n",
    "print('Japanese t-statistic: ' + str(t_stat))\n",
    "print('Japanese p-value: ' + str(p))"
   ]
  },
  {
   "cell_type": "markdown",
   "metadata": {},
   "source": [
    "** No Statistical significance for Racing games and sales.**"
   ]
  },
  {
   "cell_type": "code",
   "execution_count": 5,
   "metadata": {
    "collapsed": false
   },
   "outputs": [
    {
     "name": "stdout",
     "output_type": "stream",
     "text": [
      "Global t-statistic: 1.38200569547\n",
      "Global p-value: 0.167679671396\n",
      "North American t-statistic: 1.60744346006\n",
      "North American p-value: 0.108674434194\n",
      "European t-statistic: 0.984999497536\n",
      "European p-value: 0.325151443381\n",
      "Japanese t-statistic: 1.89955050313\n",
      "Japanese p-value: 0.0581792391687\n"
     ]
    }
   ],
   "source": [
    "# Running a t-test for Platform Games and Global Sales\n",
    "t_stat, p = stats.ttest_ind(df.loc[df['Genre'] == 'Platform']['Global_Sales'], df.loc[df['Genre'] != 'Platform']['Global_Sales'], equal_var=False)\n",
    "print('Global t-statistic: ' + str(t_stat))\n",
    "print('Global p-value: ' + str(p))\n",
    "\n",
    "# Running a t-test for Platform Games and North American Sales\n",
    "t_stat, p = stats.ttest_ind(df.loc[df['Genre'] == 'Platform']['NA_Sales'], df.loc[df['Genre'] != 'Platform']['NA_Sales'], equal_var=False)\n",
    "print('North American t-statistic: ' + str(t_stat))\n",
    "print('North American p-value: ' + str(p))\n",
    "\n",
    "# Running a t-test for Platform Games and European Sales\n",
    "t_stat, p = stats.ttest_ind(df.loc[df['Genre'] == 'Platform']['EU_Sales'], df.loc[df['Genre'] != 'Platform']['EU_Sales'], equal_var=False)\n",
    "print('European t-statistic: ' + str(t_stat))\n",
    "print('European p-value: ' + str(p))\n",
    "\n",
    "# Running a t-test for Platform Games and Japanese Sales\n",
    "t_stat, p = stats.ttest_ind(df.loc[df['Genre'] == 'Platform']['JP_Sales'], df.loc[df['Genre'] != 'Platform']['JP_Sales'], equal_var=False)\n",
    "print('Japanese t-statistic: ' + str(t_stat))\n",
    "print('Japanese p-value: ' + str(p))"
   ]
  },
  {
   "cell_type": "markdown",
   "metadata": {},
   "source": [
    "** No Statistical significance for Platform games and sales.**"
   ]
  },
  {
   "cell_type": "code",
   "execution_count": 6,
   "metadata": {
    "collapsed": false
   },
   "outputs": [
    {
     "name": "stdout",
     "output_type": "stream",
     "text": [
      "Global t-statistic: 2.51035427143\n",
      "Global p-value: 0.0124443949407\n",
      "North American t-statistic: 2.90983971595\n",
      "North American p-value: 0.00381423020127\n",
      "European t-statistic: 1.87898818823\n",
      "European p-value: 0.0609499964677\n",
      "Japanese t-statistic: 1.2374056209\n",
      "Japanese p-value: 0.216644481014\n"
     ]
    }
   ],
   "source": [
    "# Running a t-test for Miscellaneous Games and Global Sales\n",
    "t_stat, p = stats.ttest_ind(df.loc[df['Genre'] == 'Misc']['Global_Sales'], df.loc[df['Genre'] != 'Misc']['Global_Sales'], equal_var=False)\n",
    "print('Global t-statistic: ' + str(t_stat))\n",
    "print('Global p-value: ' + str(p))\n",
    "\n",
    "# Running a t-test for Miscellaneous Games and North American Sales\n",
    "t_stat, p = stats.ttest_ind(df.loc[df['Genre'] == 'Misc']['NA_Sales'], df.loc[df['Genre'] != 'Misc']['NA_Sales'], equal_var=False)\n",
    "print('North American t-statistic: ' + str(t_stat))\n",
    "print('North American p-value: ' + str(p))\n",
    "\n",
    "# Running a t-test for Miscellaneous Games and European Sales\n",
    "t_stat, p = stats.ttest_ind(df.loc[df['Genre'] == 'Misc']['EU_Sales'], df.loc[df['Genre'] != 'Misc']['EU_Sales'], equal_var=False)\n",
    "print('European t-statistic: ' + str(t_stat))\n",
    "print('European p-value: ' + str(p))\n",
    "\n",
    "# Running a t-test for Miscellaneous Games and Japanese Sales\n",
    "t_stat, p = stats.ttest_ind(df.loc[df['Genre'] == 'Misc']['JP_Sales'], df.loc[df['Genre'] != 'Misc']['JP_Sales'], equal_var=False)\n",
    "print('Japanese t-statistic: ' + str(t_stat))\n",
    "print('Japanese p-value: ' + str(p))"
   ]
  },
  {
   "cell_type": "markdown",
   "metadata": {},
   "source": [
    "** Statistical significance for Miscellaneous games and Global sales as well as North American sales.**"
   ]
  },
  {
   "cell_type": "code",
   "execution_count": 7,
   "metadata": {
    "collapsed": false
   },
   "outputs": [
    {
     "name": "stdout",
     "output_type": "stream",
     "text": [
      "Global t-statistic: -1.11041574795\n",
      "Global p-value: 0.266889190403\n",
      "North American t-statistic: -1.84119807929\n",
      "North American p-value: 0.0656667935079\n",
      "European t-statistic: 0.143362781226\n",
      "European p-value: 0.88601145251\n",
      "Japanese t-statistic: -4.01629191457\n",
      "Japanese p-value: 5.98424863125e-05\n"
     ]
    }
   ],
   "source": [
    "# Running a t-test for Action Games and Global Sales\n",
    "t_stat, p = stats.ttest_ind(df.loc[df['Genre'] == 'Action']['Global_Sales'], df.loc[df['Genre'] != 'Action']['Global_Sales'], equal_var=False)\n",
    "print('Global t-statistic: ' + str(t_stat))\n",
    "print('Global p-value: ' + str(p))\n",
    "\n",
    "# Running a t-test for Action Games and North American Sales\n",
    "t_stat, p = stats.ttest_ind(df.loc[df['Genre'] == 'Action']['NA_Sales'], df.loc[df['Genre'] != 'Action']['NA_Sales'], equal_var=False)\n",
    "print('North American t-statistic: ' + str(t_stat))\n",
    "print('North American p-value: ' + str(p))\n",
    "\n",
    "# Running a t-test for Action Games and European Sales\n",
    "t_stat, p = stats.ttest_ind(df.loc[df['Genre'] == 'Action']['EU_Sales'], df.loc[df['Genre'] != 'Action']['EU_Sales'], equal_var=False)\n",
    "print('European t-statistic: ' + str(t_stat))\n",
    "print('European p-value: ' + str(p))\n",
    "\n",
    "# Running a t-test for Action Games and Japanese Sales\n",
    "t_stat, p = stats.ttest_ind(df.loc[df['Genre'] == 'Action']['JP_Sales'], df.loc[df['Genre'] != 'Action']['JP_Sales'], equal_var=False)\n",
    "print('Japanese t-statistic: ' + str(t_stat))\n",
    "print('Japanese p-value: ' + str(p))"
   ]
  },
  {
   "cell_type": "markdown",
   "metadata": {},
   "source": [
    "** Statistical significance for Action games and Japanese sales.**"
   ]
  },
  {
   "cell_type": "code",
   "execution_count": 8,
   "metadata": {
    "collapsed": false
   },
   "outputs": [
    {
     "name": "stdout",
     "output_type": "stream",
     "text": [
      "Global t-statistic: -0.733656323447\n",
      "Global p-value: 0.464552576292\n",
      "North American t-statistic: -2.48250506817\n",
      "North American p-value: 0.0142734047365\n",
      "European t-statistic: -0.581981522503\n",
      "European p-value: 0.561650018105\n",
      "Japanese t-statistic: 1.31140824099\n",
      "Japanese p-value: 0.192262168519\n"
     ]
    }
   ],
   "source": [
    "# Running a t-test for Puzzle Games and Global Sales\n",
    "t_stat, p = stats.ttest_ind(df.loc[df['Genre'] == 'Puzzle']['Global_Sales'], df.loc[df['Genre'] != 'Puzzle']['Global_Sales'], equal_var=False)\n",
    "print('Global t-statistic: ' + str(t_stat))\n",
    "print('Global p-value: ' + str(p))\n",
    "\n",
    "# Running a t-test for Puzzle Games and North American Sales\n",
    "t_stat, p = stats.ttest_ind(df.loc[df['Genre'] == 'Puzzle']['NA_Sales'], df.loc[df['Genre'] != 'Puzzle']['NA_Sales'], equal_var=False)\n",
    "print('North American t-statistic: ' + str(t_stat))\n",
    "print('North American p-value: ' + str(p))\n",
    "\n",
    "# Running a t-test for Puzzle Games and European Sales\n",
    "t_stat, p = stats.ttest_ind(df.loc[df['Genre'] == 'Puzzle']['EU_Sales'], df.loc[df['Genre'] != 'Puzzle']['EU_Sales'], equal_var=False)\n",
    "print('European t-statistic: ' + str(t_stat))\n",
    "print('European p-value: ' + str(p))\n",
    "\n",
    "# Running a t-test for Puzzle Games and Japanese Sales\n",
    "t_stat, p = stats.ttest_ind(df.loc[df['Genre'] == 'Puzzle']['JP_Sales'], df.loc[df['Genre'] != 'Puzzle']['JP_Sales'], equal_var=False)\n",
    "print('Japanese t-statistic: ' + str(t_stat))\n",
    "print('Japanese p-value: ' + str(p))"
   ]
  },
  {
   "cell_type": "markdown",
   "metadata": {},
   "source": [
    "** Statistical significance for Puzzle games and North American sales.**"
   ]
  },
  {
   "cell_type": "code",
   "execution_count": 9,
   "metadata": {
    "collapsed": false
   },
   "outputs": [
    {
     "name": "stdout",
     "output_type": "stream",
     "text": [
      "Global t-statistic: 2.81542661079\n",
      "Global p-value: 0.00495323442131\n",
      "North American t-statistic: 3.70196221614\n",
      "North American p-value: 0.000224882696955\n",
      "European t-statistic: 3.35951879336\n",
      "European p-value: 0.000804930878887\n",
      "Japanese t-statistic: -10.1426826727\n",
      "Japanese p-value: 6.05572168281e-24\n"
     ]
    }
   ],
   "source": [
    "# Running a t-test for Shooter Games and Global Sales\n",
    "t_stat, p = stats.ttest_ind(df.loc[df['Genre'] == 'Shooter']['Global_Sales'], df.loc[df['Genre'] != 'Shooter']['Global_Sales'], equal_var=False)\n",
    "print('Global t-statistic: ' + str(t_stat))\n",
    "print('Global p-value: ' + str(p))\n",
    "\n",
    "# Running a t-test for Shooter Games and North American Sales\n",
    "t_stat, p = stats.ttest_ind(df.loc[df['Genre'] == 'Shooter']['NA_Sales'], df.loc[df['Genre'] != 'Shooter']['NA_Sales'], equal_var=False)\n",
    "print('North American t-statistic: ' + str(t_stat))\n",
    "print('North American p-value: ' + str(p))\n",
    "\n",
    "# Running a t-test for Shooter Games and European Sales\n",
    "t_stat, p = stats.ttest_ind(df.loc[df['Genre'] == 'Shooter']['EU_Sales'], df.loc[df['Genre'] != 'Shooter']['EU_Sales'], equal_var=False)\n",
    "print('European t-statistic: ' + str(t_stat))\n",
    "print('European p-value: ' + str(p))\n",
    "\n",
    "# Running a t-test for Shooter Games and Japanese Sales\n",
    "t_stat, p = stats.ttest_ind(df.loc[df['Genre'] == 'Shooter']['JP_Sales'], df.loc[df['Genre'] != 'Shooter']['JP_Sales'], equal_var=False)\n",
    "print('Japanese t-statistic: ' + str(t_stat))\n",
    "print('Japanese p-value: ' + str(p))"
   ]
  },
  {
   "cell_type": "markdown",
   "metadata": {},
   "source": [
    "** Statistical significance for Shooter games and Global sales as well as all regional sales.**"
   ]
  },
  {
   "cell_type": "code",
   "execution_count": 10,
   "metadata": {
    "collapsed": false
   },
   "outputs": [
    {
     "name": "stdout",
     "output_type": "stream",
     "text": [
      "Global t-statistic: -2.02980931057\n",
      "Global p-value: 0.0428614868899\n",
      "North American t-statistic: -1.11862370794\n",
      "North American p-value: 0.263818168905\n",
      "European t-statistic: -4.6865646623\n",
      "European p-value: 3.35354958821e-06\n",
      "Japanese t-statistic: 0.857974978327\n",
      "Japanese p-value: 0.391352759599\n"
     ]
    }
   ],
   "source": [
    "# Running a t-test for Fighting Games and Global Sales\n",
    "t_stat, p = stats.ttest_ind(df.loc[df['Genre'] == 'Fighting']['Global_Sales'], df.loc[df['Genre'] != 'Fighting']['Global_Sales'], equal_var=False)\n",
    "print('Global t-statistic: ' + str(t_stat))\n",
    "print('Global p-value: ' + str(p))\n",
    "\n",
    "# Running a t-test for Fighting Games and North American Sales\n",
    "t_stat, p = stats.ttest_ind(df.loc[df['Genre'] == 'Fighting']['NA_Sales'], df.loc[df['Genre'] != 'Fighting']['NA_Sales'], equal_var=False)\n",
    "print('North American t-statistic: ' + str(t_stat))\n",
    "print('North American p-value: ' + str(p))\n",
    "\n",
    "# Running a t-test for Fighting Games and European Sales\n",
    "t_stat, p = stats.ttest_ind(df.loc[df['Genre'] == 'Fighting']['EU_Sales'], df.loc[df['Genre'] != 'Fighting']['EU_Sales'], equal_var=False)\n",
    "print('European t-statistic: ' + str(t_stat))\n",
    "print('European p-value: ' + str(p))\n",
    "\n",
    "# Running a t-test for Fighting Games and Japanese Sales\n",
    "t_stat, p = stats.ttest_ind(df.loc[df['Genre'] == 'Fighting']['JP_Sales'], df.loc[df['Genre'] != 'Fighting']['JP_Sales'], equal_var=False)\n",
    "print('Japanese t-statistic: ' + str(t_stat))\n",
    "print('Japanese p-value: ' + str(p))"
   ]
  },
  {
   "cell_type": "markdown",
   "metadata": {},
   "source": [
    "** Statistical significance for Fighting games and Global sales as well as European sales.**"
   ]
  },
  {
   "cell_type": "code",
   "execution_count": 11,
   "metadata": {
    "collapsed": false
   },
   "outputs": [
    {
     "name": "stdout",
     "output_type": "stream",
     "text": [
      "Global t-statistic: -1.30762934311\n",
      "Global p-value: 0.191812627385\n",
      "North American t-statistic: -2.98300861431\n",
      "North American p-value: 0.00301725741855\n",
      "European t-statistic: -0.309713709227\n",
      "European p-value: 0.756966697752\n",
      "Japanese t-statistic: 0.982579676517\n",
      "Japanese p-value: 0.326587550339\n"
     ]
    }
   ],
   "source": [
    "# Running a t-test for Simulation Games and Global Sales\n",
    "t_stat, p = stats.ttest_ind(df.loc[df['Genre'] == 'Simulation']['Global_Sales'], df.loc[df['Genre'] != 'Simulation']['Global_Sales'], equal_var=False)\n",
    "print('Global t-statistic: ' + str(t_stat))\n",
    "print('Global p-value: ' + str(p))\n",
    "\n",
    "# Running a t-test for Simulation Games and North American Sales\n",
    "t_stat, p = stats.ttest_ind(df.loc[df['Genre'] == 'Simulation']['NA_Sales'], df.loc[df['Genre'] != 'Simulation']['NA_Sales'], equal_var=False)\n",
    "print('North American t-statistic: ' + str(t_stat))\n",
    "print('North American p-value: ' + str(p))\n",
    "\n",
    "# Running a t-test for Simulation Games and European Sales\n",
    "t_stat, p = stats.ttest_ind(df.loc[df['Genre'] == 'Simulation']['EU_Sales'], df.loc[df['Genre'] != 'Simulation']['EU_Sales'], equal_var=False)\n",
    "print('European t-statistic: ' + str(t_stat))\n",
    "print('European p-value: ' + str(p))\n",
    "\n",
    "# Running a t-test for Simulation Games and Japanese Sales\n",
    "t_stat, p = stats.ttest_ind(df.loc[df['Genre'] == 'Simulation']['JP_Sales'], df.loc[df['Genre'] != 'Simulation']['JP_Sales'], equal_var=False)\n",
    "print('Japanese t-statistic: ' + str(t_stat))\n",
    "print('Japanese p-value: ' + str(p))"
   ]
  },
  {
   "cell_type": "markdown",
   "metadata": {},
   "source": [
    "** Statistical significance for Simulation games and North American sales.**"
   ]
  },
  {
   "cell_type": "code",
   "execution_count": 12,
   "metadata": {
    "collapsed": false
   },
   "outputs": [
    {
     "name": "stdout",
     "output_type": "stream",
     "text": [
      "Global t-statistic: -1.54556079031\n",
      "Global p-value: 0.122470701487\n",
      "North American t-statistic: -3.92844304164\n",
      "North American p-value: 8.98860989383e-05\n",
      "European t-statistic: -4.27000023515\n",
      "European p-value: 2.10014401186e-05\n",
      "Japanese t-statistic: 6.96792242142\n",
      "Japanese p-value: 6.93791204795e-12\n"
     ]
    }
   ],
   "source": [
    "# Running a t-test for Role-Playing Games and Global Sales\n",
    "t_stat, p = stats.ttest_ind(df.loc[df['Genre'] == 'Role-Playing']['Global_Sales'], df.loc[df['Genre'] != 'Role-Playing']['Global_Sales'], equal_var=False)\n",
    "print('Global t-statistic: ' + str(t_stat))\n",
    "print('Global p-value: ' + str(p))\n",
    "\n",
    "# Running a t-test for Role-Playing Games and North American Sales\n",
    "t_stat, p = stats.ttest_ind(df.loc[df['Genre'] == 'Role-Playing']['NA_Sales'], df.loc[df['Genre'] != 'Role-Playing']['NA_Sales'], equal_var=False)\n",
    "print('North American t-statistic: ' + str(t_stat))\n",
    "print('North American p-value: ' + str(p))\n",
    "\n",
    "# Running a t-test for Role-Playing Games and European Sales\n",
    "t_stat, p = stats.ttest_ind(df.loc[df['Genre'] == 'Role-Playing']['EU_Sales'], df.loc[df['Genre'] != 'Role-Playing']['EU_Sales'], equal_var=False)\n",
    "print('European t-statistic: ' + str(t_stat))\n",
    "print('European p-value: ' + str(p))\n",
    "\n",
    "# Running a t-test for Role-Playing Games and Japanese Sales\n",
    "t_stat, p = stats.ttest_ind(df.loc[df['Genre'] == 'Role-Playing']['JP_Sales'], df.loc[df['Genre'] != 'Role-Playing']['JP_Sales'], equal_var=False)\n",
    "print('Japanese t-statistic: ' + str(t_stat))\n",
    "print('Japanese p-value: ' + str(p))"
   ]
  },
  {
   "cell_type": "markdown",
   "metadata": {},
   "source": [
    "** Statistical significance for Role-Playing games and all regional sales.**"
   ]
  },
  {
   "cell_type": "code",
   "execution_count": 13,
   "metadata": {
    "collapsed": false
   },
   "outputs": [
    {
     "name": "stdout",
     "output_type": "stream",
     "text": [
      "Global t-statistic: -10.0380922121\n",
      "Global p-value: 1.30024223122e-21\n",
      "North American t-statistic: -10.8237007364\n",
      "North American p-value: 1.46850438616e-24\n",
      "European t-statistic: -8.25766868507\n",
      "European p-value: 1.70259029746e-15\n",
      "Japanese t-statistic: -3.66020575829\n",
      "Japanese p-value: 0.000287867326836\n"
     ]
    }
   ],
   "source": [
    "# Running a t-test for Adventure Games and Global Sales\n",
    "t_stat, p = stats.ttest_ind(df.loc[df['Genre'] == 'Adventure']['Global_Sales'], df.loc[df['Genre'] != 'Adventure']['Global_Sales'], equal_var=False)\n",
    "print('Global t-statistic: ' + str(t_stat))\n",
    "print('Global p-value: ' + str(p))\n",
    "\n",
    "# Running a t-test for Adventure Games and North American Sales\n",
    "t_stat, p = stats.ttest_ind(df.loc[df['Genre'] == 'Adventure']['NA_Sales'], df.loc[df['Genre'] != 'Adventure']['NA_Sales'], equal_var=False)\n",
    "print('North American t-statistic: ' + str(t_stat))\n",
    "print('North American p-value: ' + str(p))\n",
    "\n",
    "# Running a t-test for Adventure Games and European Sales\n",
    "t_stat, p = stats.ttest_ind(df.loc[df['Genre'] == 'Adventure']['EU_Sales'], df.loc[df['Genre'] != 'Adventure']['EU_Sales'], equal_var=False)\n",
    "print('European t-statistic: ' + str(t_stat))\n",
    "print('European p-value: ' + str(p))\n",
    "\n",
    "# Running a t-test for Adventure Games and Japanese Sales\n",
    "t_stat, p = stats.ttest_ind(df.loc[df['Genre'] == 'Adventure']['JP_Sales'], df.loc[df['Genre'] != 'Adventure']['JP_Sales'], equal_var=False)\n",
    "print('Japanese t-statistic: ' + str(t_stat))\n",
    "print('Japanese p-value: ' + str(p))"
   ]
  },
  {
   "cell_type": "markdown",
   "metadata": {},
   "source": [
    "** Statistical significance for Adventure games and Global sales as well as all regional sales.**"
   ]
  },
  {
   "cell_type": "code",
   "execution_count": 14,
   "metadata": {
    "collapsed": false
   },
   "outputs": [
    {
     "name": "stdout",
     "output_type": "stream",
     "text": [
      "Global t-statistic: -14.4110565888\n",
      "Global p-value: 3.96000383167e-42\n",
      "North American t-statistic: -14.1513460932\n",
      "North American p-value: 5.70332498227e-40\n",
      "European t-statistic: -10.2300474387\n",
      "European p-value: 7.47350371689e-23\n",
      "Japanese t-statistic: -9.01789342863\n",
      "Japanese p-value: 1.41203442902e-18\n"
     ]
    }
   ],
   "source": [
    "# Running a t-test for Strategy Games and Global Sales\n",
    "t_stat, p = stats.ttest_ind(df.loc[df['Genre'] == 'Strategy']['Global_Sales'], df.loc[df['Genre'] != 'Strategy']['Global_Sales'], equal_var=False)\n",
    "print('Global t-statistic: ' + str(t_stat))\n",
    "print('Global p-value: ' + str(p))\n",
    "\n",
    "# Running a t-test for Strategy Games and North American Sales\n",
    "t_stat, p = stats.ttest_ind(df.loc[df['Genre'] == 'Strategy']['NA_Sales'], df.loc[df['Genre'] != 'Strategy']['NA_Sales'], equal_var=False)\n",
    "print('North American t-statistic: ' + str(t_stat))\n",
    "print('North American p-value: ' + str(p))\n",
    "\n",
    "# Running a t-test for Strategy Games and European Sales\n",
    "t_stat, p = stats.ttest_ind(df.loc[df['Genre'] == 'Strategy']['EU_Sales'], df.loc[df['Genre'] != 'Strategy']['EU_Sales'], equal_var=False)\n",
    "print('European t-statistic: ' + str(t_stat))\n",
    "print('European p-value: ' + str(p))\n",
    "\n",
    "# Running a t-test for Strategy Games and Japanese Sales\n",
    "t_stat, p = stats.ttest_ind(df.loc[df['Genre'] == 'Strategy']['JP_Sales'], df.loc[df['Genre'] != 'Strategy']['JP_Sales'], equal_var=False)\n",
    "print('Japanese t-statistic: ' + str(t_stat))\n",
    "print('Japanese p-value: ' + str(p))"
   ]
  },
  {
   "cell_type": "markdown",
   "metadata": {},
   "source": [
    "** Statistical significance for Adventure games and Global sales as well as all regional sales.**"
   ]
  },
  {
   "cell_type": "code",
   "execution_count": 15,
   "metadata": {
    "collapsed": false
   },
   "outputs": [
    {
     "name": "stdout",
     "output_type": "stream",
     "text": [
      "Global t-statistic: 2.77031622966\n",
      "Global p-value: 0.005815469795\n",
      "North American t-statistic: 3.05405503075\n",
      "North American p-value: 0.00238202221769\n",
      "European t-statistic: 2.56765295581\n",
      "European p-value: 0.0105376974667\n",
      "Japanese t-statistic: 2.18025645862\n",
      "Japanese p-value: 0.0297037066106\n"
     ]
    }
   ],
   "source": [
    "# Running a t-test for Wii Games and Global Sales\n",
    "t_stat, p = stats.ttest_ind(df.loc[df['Platform'] == 'Wii']['Global_Sales'], df.loc[df['Platform'] != 'Wii']['Global_Sales'], equal_var=False)\n",
    "print('Global t-statistic: ' + str(t_stat))\n",
    "print('Global p-value: ' + str(p))\n",
    "\n",
    "# Running a t-test for Wii Games and North American Sales\n",
    "t_stat, p = stats.ttest_ind(df.loc[df['Platform'] == 'Wii']['NA_Sales'], df.loc[df['Platform'] != 'Wii']['NA_Sales'], equal_var=False)\n",
    "print('North American t-statistic: ' + str(t_stat))\n",
    "print('North American p-value: ' + str(p))\n",
    "\n",
    "# Running a t-test for Wii Games and European Sales\n",
    "t_stat, p = stats.ttest_ind(df.loc[df['Platform'] == 'Wii']['EU_Sales'], df.loc[df['Platform'] != 'Wii']['EU_Sales'], equal_var=False)\n",
    "print('European t-statistic: ' + str(t_stat))\n",
    "print('European p-value: ' + str(p))\n",
    "\n",
    "# Running a t-test for Wii Games and Japanese Sales\n",
    "t_stat, p = stats.ttest_ind(df.loc[df['Platform'] == 'Wii']['JP_Sales'], df.loc[df['Platform'] != 'Wii']['JP_Sales'], equal_var=False)\n",
    "print('Japanese t-statistic: ' + str(t_stat))\n",
    "print('Japanese p-value: ' + str(p))"
   ]
  },
  {
   "cell_type": "markdown",
   "metadata": {},
   "source": [
    "** Statistical significance for Nintendo Wii games and Global sales as well as all regional sales.**"
   ]
  },
  {
   "cell_type": "code",
   "execution_count": 16,
   "metadata": {
    "collapsed": false
   },
   "outputs": [
    {
     "name": "stdout",
     "output_type": "stream",
     "text": [
      "Global t-statistic: 0.443619227926\n",
      "Global p-value: 0.657506318782\n",
      "North American t-statistic: -0.540259760087\n",
      "North American p-value: 0.589234189161\n",
      "European t-statistic: -0.841650702469\n",
      "European p-value: 0.400378240111\n",
      "Japanese t-statistic: 4.19628472791\n",
      "Japanese p-value: 3.24169344564e-05\n"
     ]
    }
   ],
   "source": [
    "# Running a t-test for DS Games and Global Sales\n",
    "t_stat, p = stats.ttest_ind(df.loc[df['Platform'] == 'DS']['Global_Sales'], df.loc[df['Platform'] != 'DS']['Global_Sales'], equal_var=False)\n",
    "print('Global t-statistic: ' + str(t_stat))\n",
    "print('Global p-value: ' + str(p))\n",
    "\n",
    "# Running a t-test for DS Games and North American Sales\n",
    "t_stat, p = stats.ttest_ind(df.loc[df['Platform'] == 'DS']['NA_Sales'], df.loc[df['Platform'] != 'DS']['NA_Sales'], equal_var=False)\n",
    "print('North American t-statistic: ' + str(t_stat))\n",
    "print('North American p-value: ' + str(p))\n",
    "\n",
    "# Running a t-test for DS Games and European Sales\n",
    "t_stat, p = stats.ttest_ind(df.loc[df['Platform'] == 'DS']['EU_Sales'], df.loc[df['Platform'] != 'DS']['EU_Sales'], equal_var=False)\n",
    "print('European t-statistic: ' + str(t_stat))\n",
    "print('European p-value: ' + str(p))\n",
    "\n",
    "# Running a t-test for DS Games and Japanese Sales\n",
    "t_stat, p = stats.ttest_ind(df.loc[df['Platform'] == 'DS']['JP_Sales'], df.loc[df['Platform'] != 'DS']['JP_Sales'], equal_var=False)\n",
    "print('Japanese t-statistic: ' + str(t_stat))\n",
    "print('Japanese p-value: ' + str(p))"
   ]
  },
  {
   "cell_type": "markdown",
   "metadata": {},
   "source": [
    "** Statistical significance for Nintendo DS games and Japanese sales.**"
   ]
  },
  {
   "cell_type": "code",
   "execution_count": 17,
   "metadata": {
    "collapsed": false
   },
   "outputs": [
    {
     "name": "stdout",
     "output_type": "stream",
     "text": [
      "Global t-statistic: 3.61543741012\n",
      "Global p-value: 0.000312807472291\n",
      "North American t-statistic: 6.09171732392\n",
      "North American p-value: 1.58679301297e-09\n",
      "European t-statistic: 2.06140983345\n",
      "European p-value: 0.0394593122616\n",
      "Japanese t-statistic: -14.679528777\n",
      "Japanese p-value: 5.05473259867e-48\n"
     ]
    }
   ],
   "source": [
    "# Running a t-test for XBOX 360 Games and Global Sales\n",
    "t_stat, p = stats.ttest_ind(df.loc[df['Platform'] == 'X360']['Global_Sales'], df.loc[df['Platform'] != 'X360']['Global_Sales'], equal_var=False)\n",
    "print('Global t-statistic: ' + str(t_stat))\n",
    "print('Global p-value: ' + str(p))\n",
    "\n",
    "# Running a t-test for XBOX 360 Games and North American Sales\n",
    "t_stat, p = stats.ttest_ind(df.loc[df['Platform'] == 'X360']['NA_Sales'], df.loc[df['Platform'] != 'X360']['NA_Sales'], equal_var=False)\n",
    "print('North American t-statistic: ' + str(t_stat))\n",
    "print('North American p-value: ' + str(p))\n",
    "\n",
    "# Running a t-test for XBOX 360 Games and European Sales\n",
    "t_stat, p = stats.ttest_ind(df.loc[df['Platform'] == 'X360']['EU_Sales'], df.loc[df['Platform'] != 'X360']['EU_Sales'], equal_var=False)\n",
    "print('European t-statistic: ' + str(t_stat))\n",
    "print('European p-value: ' + str(p))\n",
    "\n",
    "# Running a t-test for XBOX 360 Games and Japanese Sales\n",
    "t_stat, p = stats.ttest_ind(df.loc[df['Platform'] == 'X360']['JP_Sales'], df.loc[df['Platform'] != 'X360']['JP_Sales'], equal_var=False)\n",
    "print('Japanese t-statistic: ' + str(t_stat))\n",
    "print('Japanese p-value: ' + str(p))"
   ]
  },
  {
   "cell_type": "markdown",
   "metadata": {},
   "source": [
    "** Statistical significance for XBOX 360 games and Global sales as well as all regional sales.**"
   ]
  },
  {
   "cell_type": "code",
   "execution_count": 18,
   "metadata": {
    "collapsed": false
   },
   "outputs": [
    {
     "name": "stdout",
     "output_type": "stream",
     "text": [
      "Global t-statistic: 4.11185137884\n",
      "Global p-value: 4.22975028501e-05\n",
      "North American t-statistic: 1.96646244386\n",
      "North American p-value: 0.0494765354245\n",
      "European t-statistic: 4.98075766262\n",
      "European p-value: 7.51126525787e-07\n",
      "Japanese t-statistic: 1.11040765889\n",
      "Japanese p-value: 0.266989548401\n"
     ]
    }
   ],
   "source": [
    "# Running a t-test for PS3 Games and Global Sales\n",
    "t_stat, p = stats.ttest_ind(df.loc[df['Platform'] == 'PS3']['Global_Sales'], df.loc[df['Platform'] != 'PS3']['Global_Sales'], equal_var=False)\n",
    "print('Global t-statistic: ' + str(t_stat))\n",
    "print('Global p-value: ' + str(p))\n",
    "\n",
    "# Running a t-test for PS3 Games and North American Sales\n",
    "t_stat, p = stats.ttest_ind(df.loc[df['Platform'] == 'PS3']['NA_Sales'], df.loc[df['Platform'] != 'PS3']['NA_Sales'], equal_var=False)\n",
    "print('North American t-statistic: ' + str(t_stat))\n",
    "print('North American p-value: ' + str(p))\n",
    "\n",
    "# Running a t-test for PS3 Games and European Sales\n",
    "t_stat, p = stats.ttest_ind(df.loc[df['Platform'] == 'PS3']['EU_Sales'], df.loc[df['Platform'] != 'PS3']['EU_Sales'], equal_var=False)\n",
    "print('European t-statistic: ' + str(t_stat))\n",
    "print('European p-value: ' + str(p))\n",
    "\n",
    "# Running a t-test for PS3 Games and Japanese Sales\n",
    "t_stat, p = stats.ttest_ind(df.loc[df['Platform'] == 'PS3']['JP_Sales'], df.loc[df['Platform'] != 'PS3']['JP_Sales'], equal_var=False)\n",
    "print('Japanese t-statistic: ' + str(t_stat))\n",
    "print('Japanese p-value: ' + str(p))"
   ]
  },
  {
   "cell_type": "markdown",
   "metadata": {},
   "source": [
    "** Statistical significance for Playstation 3 games and Global sales as well as North American and European sales.**"
   ]
  },
  {
   "cell_type": "code",
   "execution_count": 19,
   "metadata": {
    "collapsed": false
   },
   "outputs": [
    {
     "name": "stdout",
     "output_type": "stream",
     "text": [
      "Global t-statistic: 1.24059825739\n",
      "Global p-value: 0.214887172274\n",
      "North American t-statistic: 0.953930340708\n",
      "North American p-value: 0.340227235521\n",
      "European t-statistic: -0.909427848246\n",
      "European p-value: 0.363209569222\n",
      "Japanese t-statistic: 0.345088348513\n",
      "Japanese p-value: 0.730066196418\n"
     ]
    }
   ],
   "source": [
    "# Running a t-test for PS2 Games and Global Sales\n",
    "t_stat, p = stats.ttest_ind(df.loc[df['Platform'] == 'PS2']['Global_Sales'], df.loc[df['Platform'] != 'PS2']['Global_Sales'], equal_var=False)\n",
    "print('Global t-statistic: ' + str(t_stat))\n",
    "print('Global p-value: ' + str(p))\n",
    "\n",
    "# Running a t-test for PS2 Games and North American Sales\n",
    "t_stat, p = stats.ttest_ind(df.loc[df['Platform'] == 'PS2']['NA_Sales'], df.loc[df['Platform'] != 'PS2']['NA_Sales'], equal_var=False)\n",
    "print('North American t-statistic: ' + str(t_stat))\n",
    "print('North American p-value: ' + str(p))\n",
    "\n",
    "# Running a t-test for PS2 Games and European Sales\n",
    "t_stat, p = stats.ttest_ind(df.loc[df['Platform'] == 'PS2']['EU_Sales'], df.loc[df['Platform'] != 'PS2']['EU_Sales'], equal_var=False)\n",
    "print('European t-statistic: ' + str(t_stat))\n",
    "print('European p-value: ' + str(p))\n",
    "\n",
    "# Running a t-test for PS2 Games and Japanese Sales\n",
    "t_stat, p = stats.ttest_ind(df.loc[df['Platform'] == 'PS2']['JP_Sales'], df.loc[df['Platform'] != 'PS2']['JP_Sales'], equal_var=False)\n",
    "print('Japanese t-statistic: ' + str(t_stat))\n",
    "print('Japanese p-value: ' + str(p))"
   ]
  },
  {
   "cell_type": "markdown",
   "metadata": {},
   "source": [
    "** No Statistical significance for Playstation 2 games and sales.**"
   ]
  },
  {
   "cell_type": "code",
   "execution_count": 20,
   "metadata": {
    "collapsed": false
   },
   "outputs": [
    {
     "name": "stdout",
     "output_type": "stream",
     "text": [
      "Global t-statistic: 0.124510723939\n",
      "Global p-value: 0.90106424784\n",
      "North American t-statistic: -1.49362127883\n",
      "North American p-value: 0.137134350127\n",
      "European t-statistic: -0.501202904518\n",
      "European p-value: 0.616889757886\n",
      "Japanese t-statistic: 3.56193065624\n",
      "Japanese p-value: 0.000488614562306\n"
     ]
    }
   ],
   "source": [
    "# Running a t-test for 3DS Games and Global Sales\n",
    "t_stat, p = stats.ttest_ind(df.loc[df['Platform'] == '3DS']['Global_Sales'], df.loc[df['Platform'] != '3DS']['Global_Sales'], equal_var=False)\n",
    "print('Global t-statistic: ' + str(t_stat))\n",
    "print('Global p-value: ' + str(p))\n",
    "\n",
    "# Running a t-test for 3DS Games and North American Sales\n",
    "t_stat, p = stats.ttest_ind(df.loc[df['Platform'] == '3DS']['NA_Sales'], df.loc[df['Platform'] != '3DS']['NA_Sales'], equal_var=False)\n",
    "print('North American t-statistic: ' + str(t_stat))\n",
    "print('North American p-value: ' + str(p))\n",
    "\n",
    "# Running a t-test for 3DS Games and European Sales\n",
    "t_stat, p = stats.ttest_ind(df.loc[df['Platform'] == '3DS']['EU_Sales'], df.loc[df['Platform'] != '3DS']['EU_Sales'], equal_var=False)\n",
    "print('European t-statistic: ' + str(t_stat))\n",
    "print('European p-value: ' + str(p))\n",
    "\n",
    "# Running a t-test for 3DS Games and Japanese Sales\n",
    "t_stat, p = stats.ttest_ind(df.loc[df['Platform'] == '3DS']['JP_Sales'], df.loc[df['Platform'] != '3DS']['JP_Sales'], equal_var=False)\n",
    "print('Japanese t-statistic: ' + str(t_stat))\n",
    "print('Japanese p-value: ' + str(p))"
   ]
  },
  {
   "cell_type": "markdown",
   "metadata": {},
   "source": [
    "** Statistical significance for Nintendo 3DS games and Japanese sales.**"
   ]
  },
  {
   "cell_type": "code",
   "execution_count": 21,
   "metadata": {
    "collapsed": false
   },
   "outputs": [
    {
     "name": "stdout",
     "output_type": "stream",
     "text": [
      "Global t-statistic: 2.23969598629\n",
      "Global p-value: 0.0259475092053\n",
      "North American t-statistic: -1.12270699609\n",
      "North American p-value: 0.262488714237\n",
      "European t-statistic: 4.08040985631\n",
      "European p-value: 6.06549821261e-05\n",
      "Japanese t-statistic: -4.55486183529\n",
      "Japanese p-value: 6.28671272683e-06\n"
     ]
    }
   ],
   "source": [
    "# Running a t-test for PS4 Games and Global Sales\n",
    "t_stat, p = stats.ttest_ind(df.loc[df['Platform'] == 'PS4']['Global_Sales'], df.loc[df['Platform'] != 'PS4']['Global_Sales'], equal_var=False)\n",
    "print('Global t-statistic: ' + str(t_stat))\n",
    "print('Global p-value: ' + str(p))\n",
    "\n",
    "# Running a t-test for PS4 Games and North American Sales\n",
    "t_stat, p = stats.ttest_ind(df.loc[df['Platform'] == 'PS4']['NA_Sales'], df.loc[df['Platform'] != 'PS4']['NA_Sales'], equal_var=False)\n",
    "print('North American t-statistic: ' + str(t_stat))\n",
    "print('North American p-value: ' + str(p))\n",
    "\n",
    "# Running a t-test for PS4 Games and European Sales\n",
    "t_stat, p = stats.ttest_ind(df.loc[df['Platform'] == 'PS4']['EU_Sales'], df.loc[df['Platform'] != 'PS4']['EU_Sales'], equal_var=False)\n",
    "print('European t-statistic: ' + str(t_stat))\n",
    "print('European p-value: ' + str(p))\n",
    "\n",
    "# Running a t-test for PS4 Games and Japanese Sales\n",
    "t_stat, p = stats.ttest_ind(df.loc[df['Platform'] == 'PS4']['JP_Sales'], df.loc[df['Platform'] != 'PS4']['JP_Sales'], equal_var=False)\n",
    "print('Japanese t-statistic: ' + str(t_stat))\n",
    "print('Japanese p-value: ' + str(p))"
   ]
  },
  {
   "cell_type": "markdown",
   "metadata": {},
   "source": [
    "** Statistical significance for Playstation 4 games and Global sales as well as European and Japanese sales.**"
   ]
  },
  {
   "cell_type": "code",
   "execution_count": 22,
   "metadata": {
    "collapsed": false
   },
   "outputs": [
    {
     "name": "stdout",
     "output_type": "stream",
     "text": [
      "Global t-statistic: 3.56797356393\n",
      "Global p-value: 0.000479074333495\n",
      "North American t-statistic: 2.96789471024\n",
      "North American p-value: 0.00346919074075\n",
      "European t-statistic: 3.45792395912\n",
      "European p-value: 0.000702259186415\n",
      "Japanese t-statistic: 4.0486371342\n",
      "Japanese p-value: 8.21962425908e-05\n"
     ]
    }
   ],
   "source": [
    "# Running a t-test for Playstation Games and Global Sales\n",
    "t_stat, p = stats.ttest_ind(df.loc[df['Platform'] == 'PS']['Global_Sales'], df.loc[df['Platform'] != 'PS']['Global_Sales'], equal_var=False)\n",
    "print('Global t-statistic: ' + str(t_stat))\n",
    "print('Global p-value: ' + str(p))\n",
    "\n",
    "# Running a t-test for Playstation Games and North American Sales\n",
    "t_stat, p = stats.ttest_ind(df.loc[df['Platform'] == 'PS']['NA_Sales'], df.loc[df['Platform'] != 'PS']['NA_Sales'], equal_var=False)\n",
    "print('North American t-statistic: ' + str(t_stat))\n",
    "print('North American p-value: ' + str(p))\n",
    "\n",
    "# Running a t-test for Playstation Games and European Sales\n",
    "t_stat, p = stats.ttest_ind(df.loc[df['Platform'] == 'PS']['EU_Sales'], df.loc[df['Platform'] != 'PS']['EU_Sales'], equal_var=False)\n",
    "print('European t-statistic: ' + str(t_stat))\n",
    "print('European p-value: ' + str(p))\n",
    "\n",
    "# Running a t-test for Playstation Games and Japanese Sales\n",
    "t_stat, p = stats.ttest_ind(df.loc[df['Platform'] == 'PS']['JP_Sales'], df.loc[df['Platform'] != 'PS']['JP_Sales'], equal_var=False)\n",
    "print('Japanese t-statistic: ' + str(t_stat))\n",
    "print('Japanese p-value: ' + str(p))"
   ]
  },
  {
   "cell_type": "markdown",
   "metadata": {},
   "source": [
    "** Statistical significance for Playstation games and Global sales as well as all regional sales.**"
   ]
  },
  {
   "cell_type": "code",
   "execution_count": 23,
   "metadata": {
    "collapsed": false
   },
   "outputs": [
    {
     "name": "stdout",
     "output_type": "stream",
     "text": [
      "Global t-statistic: -12.108791291\n",
      "Global p-value: 1.11892181303e-32\n",
      "North American t-statistic: -5.83373292872\n",
      "North American p-value: 7.06257811813e-09\n",
      "European t-statistic: -14.5919914676\n",
      "European p-value: 5.56898928919e-47\n",
      "Japanese t-statistic: -17.6417834866\n",
      "Japanese p-value: 4.38469385598e-68\n"
     ]
    }
   ],
   "source": [
    "# Running a t-test for XBOX Games and Global Sales\n",
    "t_stat, p = stats.ttest_ind(df.loc[df['Platform'] == 'XB']['Global_Sales'], df.loc[df['Platform'] != 'XB']['Global_Sales'], equal_var=False)\n",
    "print('Global t-statistic: ' + str(t_stat))\n",
    "print('Global p-value: ' + str(p))\n",
    "\n",
    "# Running a t-test for XBOX Games and North American Sales\n",
    "t_stat, p = stats.ttest_ind(df.loc[df['Platform'] == 'XB']['NA_Sales'], df.loc[df['Platform'] != 'XB']['NA_Sales'], equal_var=False)\n",
    "print('North American t-statistic: ' + str(t_stat))\n",
    "print('North American p-value: ' + str(p))\n",
    "\n",
    "# Running a t-test for XBOX Games and European Sales\n",
    "t_stat, p = stats.ttest_ind(df.loc[df['Platform'] == 'XB']['EU_Sales'], df.loc[df['Platform'] != 'XB']['EU_Sales'], equal_var=False)\n",
    "print('European t-statistic: ' + str(t_stat))\n",
    "print('European p-value: ' + str(p))\n",
    "\n",
    "# Running a t-test for XBOX Games and Japanese Sales\n",
    "t_stat, p = stats.ttest_ind(df.loc[df['Platform'] == 'XB']['JP_Sales'], df.loc[df['Platform'] != 'XB']['JP_Sales'], equal_var=False)\n",
    "print('Japanese t-statistic: ' + str(t_stat))\n",
    "print('Japanese p-value: ' + str(p))"
   ]
  },
  {
   "cell_type": "markdown",
   "metadata": {},
   "source": [
    "** Statistical significance for XBOX games and Global sales as well as all regional sales.**"
   ]
  },
  {
   "cell_type": "code",
   "execution_count": 24,
   "metadata": {
    "collapsed": false
   },
   "outputs": [
    {
     "name": "stdout",
     "output_type": "stream",
     "text": [
      "Global t-statistic: -14.3043383828\n",
      "Global p-value: 2.09356887462e-44\n",
      "North American t-statistic: -17.6561579664\n",
      "North American p-value: 2.64831396932e-65\n",
      "European t-statistic: -4.26210996104\n",
      "European p-value: 2.20815484558e-05\n",
      "Japanese t-statistic: -18.3832524628\n",
      "Japanese p-value: 1.56270176175e-73\n"
     ]
    }
   ],
   "source": [
    "# Running a t-test for PC Games and Global Sales\n",
    "t_stat, p = stats.ttest_ind(df.loc[df['Platform'] == 'PC']['Global_Sales'], df.loc[df['Platform'] != 'PC']['Global_Sales'], equal_var=False)\n",
    "print('Global t-statistic: ' + str(t_stat))\n",
    "print('Global p-value: ' + str(p))\n",
    "\n",
    "# Running a t-test for PC Games and North American Sales\n",
    "t_stat, p = stats.ttest_ind(df.loc[df['Platform'] == 'PC']['NA_Sales'], df.loc[df['Platform'] != 'PC']['NA_Sales'], equal_var=False)\n",
    "print('North American t-statistic: ' + str(t_stat))\n",
    "print('North American p-value: ' + str(p))\n",
    "\n",
    "# Running a t-test for PC Games and European Sales\n",
    "t_stat, p = stats.ttest_ind(df.loc[df['Platform'] == 'PC']['EU_Sales'], df.loc[df['Platform'] != 'PC']['EU_Sales'], equal_var=False)\n",
    "print('European t-statistic: ' + str(t_stat))\n",
    "print('European p-value: ' + str(p))\n",
    "\n",
    "# Running a t-test for PC Games and Japanese Sales\n",
    "t_stat, p = stats.ttest_ind(df.loc[df['Platform'] == 'PC']['JP_Sales'], df.loc[df['Platform'] != 'PC']['JP_Sales'], equal_var=False)\n",
    "print('Japanese t-statistic: ' + str(t_stat))\n",
    "print('Japanese p-value: ' + str(p))"
   ]
  },
  {
   "cell_type": "markdown",
   "metadata": {},
   "source": [
    "** Statistical significance for PC games and Global sales as well as all regional sales.**"
   ]
  },
  {
   "cell_type": "code",
   "execution_count": 25,
   "metadata": {
    "collapsed": false
   },
   "outputs": [
    {
     "name": "stdout",
     "output_type": "stream",
     "text": [
      "Global t-statistic: -6.870008019\n",
      "Global p-value: 1.30258971128e-11\n",
      "North American t-statistic: -9.98585022483\n",
      "North American p-value: 1.73914715534e-22\n",
      "European t-statistic: -7.26208710299\n",
      "European p-value: 9.2321720226e-13\n",
      "Japanese t-statistic: 0.0671700720307\n",
      "Japanese p-value: 0.946476217236\n"
     ]
    }
   ],
   "source": [
    "# Running a t-test for PSP Games and Global Sales\n",
    "t_stat, p = stats.ttest_ind(df.loc[df['Platform'] == 'PSP']['Global_Sales'], df.loc[df['Platform'] != 'PSP']['Global_Sales'], equal_var=False)\n",
    "print('Global t-statistic: ' + str(t_stat))\n",
    "print('Global p-value: ' + str(p))\n",
    "\n",
    "# Running a t-test for PSP Games and North American Sales\n",
    "t_stat, p = stats.ttest_ind(df.loc[df['Platform'] == 'PSP']['NA_Sales'], df.loc[df['Platform'] != 'PSP']['NA_Sales'], equal_var=False)\n",
    "print('North American t-statistic: ' + str(t_stat))\n",
    "print('North American p-value: ' + str(p))\n",
    "\n",
    "# Running a t-test for PSP Games and European Sales\n",
    "t_stat, p = stats.ttest_ind(df.loc[df['Platform'] == 'PSP']['EU_Sales'], df.loc[df['Platform'] != 'PSP']['EU_Sales'], equal_var=False)\n",
    "print('European t-statistic: ' + str(t_stat))\n",
    "print('European p-value: ' + str(p))\n",
    "\n",
    "# Running a t-test for PSP Games and Japanese Sales\n",
    "t_stat, p = stats.ttest_ind(df.loc[df['Platform'] == 'PSP']['JP_Sales'], df.loc[df['Platform'] != 'PSP']['JP_Sales'], equal_var=False)\n",
    "print('Japanese t-statistic: ' + str(t_stat))\n",
    "print('Japanese p-value: ' + str(p))"
   ]
  },
  {
   "cell_type": "markdown",
   "metadata": {},
   "source": [
    "** Statistical significance for PSP games and Global sales as well as North American and European sales.**"
   ]
  },
  {
   "cell_type": "code",
   "execution_count": 26,
   "metadata": {
    "collapsed": false
   },
   "outputs": [
    {
     "name": "stdout",
     "output_type": "stream",
     "text": [
      "Global t-statistic: -0.271748199394\n",
      "Global p-value: 0.786410100053\n",
      "North American t-statistic: -0.846056854676\n",
      "North American p-value: 0.399637908368\n",
      "European t-statistic: -0.181534487252\n",
      "European p-value: 0.856323806922\n",
      "Japanese t-statistic: 1.68402068386\n",
      "Japanese p-value: 0.0956267258231\n"
     ]
    }
   ],
   "source": [
    "# Running a t-test for Wii U Games and Global Sales\n",
    "t_stat, p = stats.ttest_ind(df.loc[df['Platform'] == 'WiiU']['Global_Sales'], df.loc[df['Platform'] != 'WiiU']['Global_Sales'], equal_var=False)\n",
    "print('Global t-statistic: ' + str(t_stat))\n",
    "print('Global p-value: ' + str(p))\n",
    "\n",
    "# Running a t-test for Wii U Games and North American Sales\n",
    "t_stat, p = stats.ttest_ind(df.loc[df['Platform'] == 'WiiU']['NA_Sales'], df.loc[df['Platform'] != 'WiiU']['NA_Sales'], equal_var=False)\n",
    "print('North American t-statistic: ' + str(t_stat))\n",
    "print('North American p-value: ' + str(p))\n",
    "\n",
    "# Running a t-test for Wii U Games and European Sales\n",
    "t_stat, p = stats.ttest_ind(df.loc[df['Platform'] == 'WiiU']['EU_Sales'], df.loc[df['Platform'] != 'WiiU']['EU_Sales'], equal_var=False)\n",
    "print('European t-statistic: ' + str(t_stat))\n",
    "print('European p-value: ' + str(p))\n",
    "\n",
    "# Running a t-test for Wii U Games and Japanese Sales\n",
    "t_stat, p = stats.ttest_ind(df.loc[df['Platform'] == 'WiiU']['JP_Sales'], df.loc[df['Platform'] != 'WiiU']['JP_Sales'], equal_var=False)\n",
    "print('Japanese t-statistic: ' + str(t_stat))\n",
    "print('Japanese p-value: ' + str(p))"
   ]
  },
  {
   "cell_type": "markdown",
   "metadata": {},
   "source": [
    "** No Statistical significance for Nintendo Wii U games and sales.**"
   ]
  },
  {
   "cell_type": "code",
   "execution_count": 27,
   "metadata": {
    "collapsed": false
   },
   "outputs": [
    {
     "name": "stdout",
     "output_type": "stream",
     "text": [
      "Global t-statistic: -7.11518622109\n",
      "Global p-value: 2.92093294945e-12\n",
      "North American t-statistic: -3.21186111909\n",
      "North American p-value: 0.00139797477235\n",
      "European t-statistic: -13.2266910823\n",
      "European p-value: 5.25622739304e-38\n",
      "Japanese t-statistic: -2.00980872343\n",
      "Japanese p-value: 0.0450093577824\n"
     ]
    }
   ],
   "source": [
    "# Running a t-test for Gamecube Games and Global Sales\n",
    "t_stat, p = stats.ttest_ind(df.loc[df['Platform'] == 'GC']['Global_Sales'], df.loc[df['Platform'] != 'GC']['Global_Sales'], equal_var=False)\n",
    "print('Global t-statistic: ' + str(t_stat))\n",
    "print('Global p-value: ' + str(p))\n",
    "\n",
    "# Running a t-test for Gamecube Games and North American Sales\n",
    "t_stat, p = stats.ttest_ind(df.loc[df['Platform'] == 'GC']['NA_Sales'], df.loc[df['Platform'] != 'GC']['NA_Sales'], equal_var=False)\n",
    "print('North American t-statistic: ' + str(t_stat))\n",
    "print('North American p-value: ' + str(p))\n",
    "\n",
    "# Running a t-test for Gamecube Games and European Sales\n",
    "t_stat, p = stats.ttest_ind(df.loc[df['Platform'] == 'GC']['EU_Sales'], df.loc[df['Platform'] != 'GC']['EU_Sales'], equal_var=False)\n",
    "print('European t-statistic: ' + str(t_stat))\n",
    "print('European p-value: ' + str(p))\n",
    "\n",
    "# Running a t-test for Gamecube Games and Japanese Sales\n",
    "t_stat, p = stats.ttest_ind(df.loc[df['Platform'] == 'GC']['JP_Sales'], df.loc[df['Platform'] != 'GC']['JP_Sales'], equal_var=False)\n",
    "print('Japanese t-statistic: ' + str(t_stat))\n",
    "print('Japanese p-value: ' + str(p))"
   ]
  },
  {
   "cell_type": "markdown",
   "metadata": {},
   "source": [
    "** Statistical significance for Nintendo Gamecube games and Global sales as well as all regional sales.**"
   ]
  },
  {
   "cell_type": "code",
   "execution_count": 28,
   "metadata": {
    "collapsed": false
   },
   "outputs": [
    {
     "name": "stdout",
     "output_type": "stream",
     "text": [
      "Global t-statistic: -3.80069633664\n",
      "Global p-value: 0.000171125806058\n",
      "North American t-statistic: -1.87590806238\n",
      "North American p-value: 0.0615918337506\n",
      "European t-statistic: -5.98184148616\n",
      "European p-value: 4.70811798488e-09\n",
      "Japanese t-statistic: 0.281009463111\n",
      "Japanese p-value: 0.778919967834\n"
     ]
    }
   ],
   "source": [
    "# Running a t-test for Game Boy Advance Games and Global Sales\n",
    "t_stat, p = stats.ttest_ind(df.loc[df['Platform'] == 'GBA']['Global_Sales'], df.loc[df['Platform'] != 'GBA']['Global_Sales'], equal_var=False)\n",
    "print('Global t-statistic: ' + str(t_stat))\n",
    "print('Global p-value: ' + str(p))\n",
    "\n",
    "# Running a t-test for Game Boy Advance Games and North American Sales\n",
    "t_stat, p = stats.ttest_ind(df.loc[df['Platform'] == 'GBA']['NA_Sales'], df.loc[df['Platform'] != 'GBA']['NA_Sales'], equal_var=False)\n",
    "print('North American t-statistic: ' + str(t_stat))\n",
    "print('North American p-value: ' + str(p))\n",
    "\n",
    "# Running a t-test for Game Boy Advance Games and European Sales\n",
    "t_stat, p = stats.ttest_ind(df.loc[df['Platform'] == 'GBA']['EU_Sales'], df.loc[df['Platform'] != 'GBA']['EU_Sales'], equal_var=False)\n",
    "print('European t-statistic: ' + str(t_stat))\n",
    "print('European p-value: ' + str(p))\n",
    "\n",
    "# Running a t-test for Game Boy Advance Games and Japanese Sales\n",
    "t_stat, p = stats.ttest_ind(df.loc[df['Platform'] == 'GBA']['JP_Sales'], df.loc[df['Platform'] != 'GBA']['JP_Sales'], equal_var=False)\n",
    "print('Japanese t-statistic: ' + str(t_stat))\n",
    "print('Japanese p-value: ' + str(p))"
   ]
  },
  {
   "cell_type": "markdown",
   "metadata": {},
   "source": [
    "** Statistical significance for Nintendo Game Boy Advance games and Global sales as well as European sales.**"
   ]
  },
  {
   "cell_type": "code",
   "execution_count": 29,
   "metadata": {
    "collapsed": false
   },
   "outputs": [
    {
     "name": "stdout",
     "output_type": "stream",
     "text": [
      "Global t-statistic: 0.439908700426\n",
      "Global p-value: 0.660514449058\n",
      "North American t-statistic: 1.5841001558\n",
      "North American p-value: 0.114967919088\n",
      "European t-statistic: 0.891042842406\n",
      "European p-value: 0.374081815227\n",
      "Japanese t-statistic: -17.7575974626\n",
      "Japanese p-value: 5.3031338491e-69\n"
     ]
    }
   ],
   "source": [
    "# Running a t-test for XBOX One Games and Global Sales\n",
    "t_stat, p = stats.ttest_ind(df.loc[df['Platform'] == 'XOne']['Global_Sales'], df.loc[df['Platform'] != 'XOne']['Global_Sales'], equal_var=False)\n",
    "print('Global t-statistic: ' + str(t_stat))\n",
    "print('Global p-value: ' + str(p))\n",
    "\n",
    "# Running a t-test for XBOX One Games and North American Sales\n",
    "t_stat, p = stats.ttest_ind(df.loc[df['Platform'] == 'XOne']['NA_Sales'], df.loc[df['Platform'] != 'XOne']['NA_Sales'], equal_var=False)\n",
    "print('North American t-statistic: ' + str(t_stat))\n",
    "print('North American p-value: ' + str(p))\n",
    "\n",
    "# Running a t-test for XBOX One Games and European Sales\n",
    "t_stat, p = stats.ttest_ind(df.loc[df['Platform'] == 'XOne']['EU_Sales'], df.loc[df['Platform'] != 'XOne']['EU_Sales'], equal_var=False)\n",
    "print('European t-statistic: ' + str(t_stat))\n",
    "print('European p-value: ' + str(p))\n",
    "\n",
    "# Running a t-test for XBOX One Games and Japanese Sales\n",
    "t_stat, p = stats.ttest_ind(df.loc[df['Platform'] == 'XOne']['JP_Sales'], df.loc[df['Platform'] != 'XOne']['JP_Sales'], equal_var=False)\n",
    "print('Japanese t-statistic: ' + str(t_stat))\n",
    "print('Japanese p-value: ' + str(p))"
   ]
  },
  {
   "cell_type": "markdown",
   "metadata": {},
   "source": [
    "** Statistical significance for XBOX One games and Japanese sales.**"
   ]
  },
  {
   "cell_type": "code",
   "execution_count": 30,
   "metadata": {
    "collapsed": false
   },
   "outputs": [
    {
     "name": "stdout",
     "output_type": "stream",
     "text": [
      "Global t-statistic: -14.6783801584\n",
      "Global p-value: 3.59528956149e-39\n",
      "North American t-statistic: -19.5385446358\n",
      "North American p-value: 7.66376053918e-65\n",
      "European t-statistic: -11.9317275357\n",
      "European p-value: 4.24286006575e-27\n",
      "Japanese t-statistic: 0.0527231327485\n",
      "Japanese p-value: 0.958011217794\n"
     ]
    }
   ],
   "source": [
    "# Running a t-test for Playstation Vita Games and Global Sales\n",
    "t_stat, p = stats.ttest_ind(df.loc[df['Platform'] == 'PSV']['Global_Sales'], df.loc[df['Platform'] != 'PSV']['Global_Sales'], equal_var=False)\n",
    "print('Global t-statistic: ' + str(t_stat))\n",
    "print('Global p-value: ' + str(p))\n",
    "\n",
    "# Running a t-test for Playstation Vita Games and North American Sales\n",
    "t_stat, p = stats.ttest_ind(df.loc[df['Platform'] == 'PSV']['NA_Sales'], df.loc[df['Platform'] != 'PSV']['NA_Sales'], equal_var=False)\n",
    "print('North American t-statistic: ' + str(t_stat))\n",
    "print('North American p-value: ' + str(p))\n",
    "\n",
    "# Running a t-test for Playstation Vita Games and European Sales\n",
    "t_stat, p = stats.ttest_ind(df.loc[df['Platform'] == 'PSV']['EU_Sales'], df.loc[df['Platform'] != 'PSV']['EU_Sales'], equal_var=False)\n",
    "print('European t-statistic: ' + str(t_stat))\n",
    "print('European p-value: ' + str(p))\n",
    "\n",
    "# Running a t-test for Playstation Vita Games and Japanese Sales\n",
    "t_stat, p = stats.ttest_ind(df.loc[df['Platform'] == 'PSV']['JP_Sales'], df.loc[df['Platform'] != 'PSV']['JP_Sales'], equal_var=False)\n",
    "print('Japanese t-statistic: ' + str(t_stat))\n",
    "print('Japanese p-value: ' + str(p))"
   ]
  },
  {
   "cell_type": "markdown",
   "metadata": {},
   "source": [
    "** Statistical significance for Playstation Vita games and Global sales as well as North American and European sales.**"
   ]
  },
  {
   "cell_type": "code",
   "execution_count": 31,
   "metadata": {
    "collapsed": false
   },
   "outputs": [
    {
     "name": "stdout",
     "output_type": "stream",
     "text": [
      "Global t-statistic: -4.529283946\n",
      "Global p-value: 0.000425867513257\n",
      "North American t-statistic: -3.56083322466\n",
      "North American p-value: 0.00327242449638\n",
      "European t-statistic: -11.2701646372\n",
      "European p-value: 4.63091514944e-10\n",
      "Japanese t-statistic: 3.32982691134\n",
      "Japanese p-value: 0.005314669669\n"
     ]
    }
   ],
   "source": [
    "# Running a t-test for Dreamcast Games and Global Sales\n",
    "t_stat, p = stats.ttest_ind(df.loc[df['Platform'] == 'DC']['Global_Sales'], df.loc[df['Platform'] != 'DC']['Global_Sales'], equal_var=False)\n",
    "print('Global t-statistic: ' + str(t_stat))\n",
    "print('Global p-value: ' + str(p))\n",
    "\n",
    "# Running a t-test for Dreamcast Games and North American Sales\n",
    "t_stat, p = stats.ttest_ind(df.loc[df['Platform'] == 'DC']['NA_Sales'], df.loc[df['Platform'] != 'DC']['NA_Sales'], equal_var=False)\n",
    "print('North American t-statistic: ' + str(t_stat))\n",
    "print('North American p-value: ' + str(p))\n",
    "\n",
    "# Running a t-test for Dreamcast Games and European Sales\n",
    "t_stat, p = stats.ttest_ind(df.loc[df['Platform'] == 'DC']['EU_Sales'], df.loc[df['Platform'] != 'DC']['EU_Sales'], equal_var=False)\n",
    "print('European t-statistic: ' + str(t_stat))\n",
    "print('European p-value: ' + str(p))\n",
    "\n",
    "# Running a t-test for Dreamcast Games and Japanese Sales\n",
    "t_stat, p = stats.ttest_ind(df.loc[df['Platform'] == 'DC']['JP_Sales'], df.loc[df['Platform'] != 'DC']['JP_Sales'], equal_var=False)\n",
    "print('Japanese t-statistic: ' + str(t_stat))\n",
    "print('Japanese p-value: ' + str(p))"
   ]
  },
  {
   "cell_type": "markdown",
   "metadata": {},
   "source": [
    "** Statistical significance for Sega Dreamcast games and Global sales as well as all regional sales.**"
   ]
  },
  {
   "cell_type": "code",
   "execution_count": 32,
   "metadata": {
    "collapsed": false
   },
   "outputs": [
    {
     "name": "stdout",
     "output_type": "stream",
     "text": [
      "Genre     Action  Adventure  Fighting  Misc  Platform  Puzzle  Racing  \\\n",
      "Platform                                                                \n",
      "3DS           54          9         7    10        18       8       5   \n",
      "DC             0          2         2     0         1       0       2   \n",
      "DS            75         31        14    37        35      52      18   \n",
      "GBA           51          9        13    12        48       6      21   \n",
      "GC            69         13        24    16        44       6      31   \n",
      "PC           130         25         3     3        10       4      43   \n",
      "PS            27          5        15     4        16       2      17   \n",
      "PS2          243         40        73    54        70       6     131   \n",
      "PS3          228         19        56    41        22       1      62   \n",
      "PS4           81         12        11     7        11       1      15   \n",
      "PSP           74         13        30    21        20      11      39   \n",
      "PSV           37         10         9     8         6       1       5   \n",
      "Wii          122         22        26    70        36      14      30   \n",
      "WiiU          39          1         3    12        15       3       1   \n",
      "X360         233         15        56    62        21       2      71   \n",
      "XB           119         18        31    15        26       1      76   \n",
      "XOne          48          4         5    12         4       0      14   \n",
      "\n",
      "Genre     Role-Playing  Shooter  Simulation  Sports  Strategy  \n",
      "Platform                                                       \n",
      "3DS                 26        2           9       4         3  \n",
      "DC                   4        1           1       1         0  \n",
      "DS                  89       27          37      22        27  \n",
      "GBA                 31       13           8      19         6  \n",
      "GC                  22       40          10      66         7  \n",
      "PC                  83      129          78      28       115  \n",
      "PS                  28       12           4      16         4  \n",
      "PS2                117      127          45     196        38  \n",
      "PS3                 78      121          18     115         8  \n",
      "PS4                 23       33           2      39         4  \n",
      "PSP                 70       30           8      60        14  \n",
      "PSV                 31        5           0       6         0  \n",
      "Wii                 25       29          26      73         6  \n",
      "WiiU                 2        5           1       6         1  \n",
      "X360                58      153          28     140        19  \n",
      "XB                  17      107          21     121        13  \n",
      "XOne                 8       30           1      31         2  \n",
      "chi-squared: 1901.88051899\n",
      "p-value: 6.74562968998e-287\n"
     ]
    }
   ],
   "source": [
    "# ^\n",
    "# Running a chi-squared test for Platform and Genre\n",
    "P_G_CT = pd.crosstab(df['Platform'], df['Genre'])\n",
    "print(P_G_CT)\n",
    "chi, p, d_f, e_f = stats.chi2_contingency(P_G_CT)\n",
    "print('chi-squared: ' + str(chi))\n",
    "print('p-value: ' + str(p))"
   ]
  },
  {
   "cell_type": "markdown",
   "metadata": {},
   "source": [
    "** Statistical significance for Platform and Genre.**"
   ]
  },
  {
   "cell_type": "code",
   "execution_count": 33,
   "metadata": {
    "collapsed": false
   },
   "outputs": [
    {
     "name": "stdout",
     "output_type": "stream",
     "text": [
      "Genre                                  Action  Adventure  Fighting  Misc  \\\n",
      "Developer                                                                  \n",
      "10tacle Studios, Fusionsphere Systems       0          2         0     0   \n",
      "1C, 1C Company                              0          0         0     0   \n",
      "1C, Ino-Co, 1C Company                      0          0         0     0   \n",
      "1C: Maddox Games                            0          0         0     0   \n",
      "1C:Ino-Co                                   0          0         0     0   \n",
      "1st Playable Productions                    0          0         0     1   \n",
      "2015                                        0          0         0     0   \n",
      "2D Boy                                      0          0         0     0   \n",
      "2K Australia                                0          0         0     0   \n",
      "2K Czech                                    3          0         0     0   \n",
      "2K Games                                    0          0         0     0   \n",
      "2K Marin                                    0          0         0     0   \n",
      "2K Sports                                   0          0         0     1   \n",
      "2XL Games                                   0          0         0     0   \n",
      "343 Industries                              0          0         0     0   \n",
      "369 Interactive                             0          1         0     0   \n",
      "3DO                                         5          2         0     0   \n",
      "3G Studios                                  0          0         0     0   \n",
      "3d6 Games                                   1          0         0     0   \n",
      "49Games                                     0          0         0     0   \n",
      "4A Games                                    1          0         0     0   \n",
      "4J Studios                                  1          0         0     0   \n",
      "5000ft                                      0          0         0     1   \n",
      "505 Games                                   1          0         0     1   \n",
      "5TH Cell                                    3          0         0     0   \n",
      "5pb                                         0          7         0     0   \n",
      "7 Studios                                   7          1         0     2   \n",
      "8Monkey Labs                                0          0         0     0   \n",
      "8ing/Raizing                                0          0         3     0   \n",
      "989 Sports                                  0          0         0     0   \n",
      "...                                       ...        ...       ...   ...   \n",
      "Xpec                                        4          0         0     0   \n",
      "Yacht Club Games                            0          0         0     0   \n",
      "Yager                                       0          0         0     0   \n",
      "Yuke's                                      2          1        35     0   \n",
      "Z-Axis, Ltd.                                3          0         0     0   \n",
      "Zed Two Limited                             0          0         0     0   \n",
      "Zen Studios                                 1          0         0     0   \n",
      "Zener Works                                 0          0         0     0   \n",
      "ZeniMax Media                               0          0         0     0   \n",
      "Zerodiv                                     0          0         0     0   \n",
      "Zindagi Games                               1          0         0     0   \n",
      "Zipper Interactive                          0          0         0     0   \n",
      "Zoe Mode                                    0          0         0     6   \n",
      "Zoe Mode, HB Studios Multimedia             0          0         0     1   \n",
      "Zombie                                      0          0         0     0   \n",
      "Zombie Studios                              3          0         0     0   \n",
      "Zono Inc.                                   0          0         0     0   \n",
      "Zoo Games                                   0          0         0     0   \n",
      "Zoom                                        0          0         0     0   \n",
      "ZootFly                                     2          0         0     0   \n",
      "h.a.n.d. Inc.                               0          3         0     0   \n",
      "iNiS                                        0          0         0     4   \n",
      "id Software                                 0          0         0     0   \n",
      "id Software, Nerve Software                 0          0         0     0   \n",
      "id Software, Raven Software                 0          0         0     0   \n",
      "n-Space                                     2          2         0     0   \n",
      "neo Software                                0          0         0     0   \n",
      "odenis studio                               0          0         0     0   \n",
      "syn Sophia                                  0          0         0     0   \n",
      "zSlide                                      0          0         0     0   \n",
      "\n",
      "Genre                                  Platform  Puzzle  Racing  Role-Playing  \\\n",
      "Developer                                                                       \n",
      "10tacle Studios, Fusionsphere Systems         0       0       0             0   \n",
      "1C, 1C Company                                0       0       0             0   \n",
      "1C, Ino-Co, 1C Company                        0       0       0             0   \n",
      "1C: Maddox Games                              0       0       0             0   \n",
      "1C:Ino-Co                                     0       0       0             0   \n",
      "1st Playable Productions                      0       1       0             0   \n",
      "2015                                          0       0       0             0   \n",
      "2D Boy                                        0       1       0             0   \n",
      "2K Australia                                  0       0       0             0   \n",
      "2K Czech                                      0       0       0             0   \n",
      "2K Games                                      0       0       0             0   \n",
      "2K Marin                                      0       0       0             0   \n",
      "2K Sports                                     0       0       0             0   \n",
      "2XL Games                                     0       0       2             0   \n",
      "343 Industries                                0       0       0             0   \n",
      "369 Interactive                               0       0       0             0   \n",
      "3DO                                           1       0       0             0   \n",
      "3G Studios                                    0       0       0             0   \n",
      "3d6 Games                                     0       0       0             0   \n",
      "49Games                                       0       0       0             0   \n",
      "4A Games                                      0       0       0             0   \n",
      "4J Studios                                    1       0       0             1   \n",
      "5000ft                                        0       0       0             0   \n",
      "505 Games                                     0       0       0             0   \n",
      "5TH Cell                                      0       5       0             0   \n",
      "5pb                                           0       0       0             0   \n",
      "7 Studios                                     0       2       0             0   \n",
      "8Monkey Labs                                  0       0       0             0   \n",
      "8ing/Raizing                                  0       0       0             0   \n",
      "989 Sports                                    0       0       0             0   \n",
      "...                                         ...     ...     ...           ...   \n",
      "Xpec                                          2       0       0             1   \n",
      "Yacht Club Games                              3       0       0             0   \n",
      "Yager                                         0       0       0             0   \n",
      "Yuke's                                        0       0       0             0   \n",
      "Z-Axis, Ltd.                                  0       0       0             0   \n",
      "Zed Two Limited                               0       0       0             0   \n",
      "Zen Studios                                   0       0       0             0   \n",
      "Zener Works                                   0       0       0             1   \n",
      "ZeniMax Media                                 0       0       0             2   \n",
      "Zerodiv                                       0       0       0             3   \n",
      "Zindagi Games                                 0       0       0             0   \n",
      "Zipper Interactive                            0       0       0             0   \n",
      "Zoe Mode                                      1       1       0             0   \n",
      "Zoe Mode, HB Studios Multimedia               0       0       0             0   \n",
      "Zombie                                        0       0       0             0   \n",
      "Zombie Studios                                0       0       0             0   \n",
      "Zono Inc.                                     0       0       0             0   \n",
      "Zoo Games                                     0       0       1             0   \n",
      "Zoom                                          0       0       0             0   \n",
      "ZootFly                                       0       0       0             0   \n",
      "h.a.n.d. Inc.                                 0       0       0             2   \n",
      "iNiS                                          0       0       0             0   \n",
      "id Software                                   0       0       0             0   \n",
      "id Software, Nerve Software                   0       0       0             0   \n",
      "id Software, Raven Software                   0       0       0             0   \n",
      "n-Space                                       1       0       0             3   \n",
      "neo Software                                  0       0       0             0   \n",
      "odenis studio                                 0       0       0             0   \n",
      "syn Sophia                                    0       0       0             0   \n",
      "zSlide                                        0       1       0             0   \n",
      "\n",
      "Genre                                  Shooter  Simulation  Sports  Strategy  \n",
      "Developer                                                                     \n",
      "10tacle Studios, Fusionsphere Systems        0           0       0         0  \n",
      "1C, 1C Company                               0           2       0         0  \n",
      "1C, Ino-Co, 1C Company                       0           1       0         0  \n",
      "1C: Maddox Games                             0           2       0         0  \n",
      "1C:Ino-Co                                    0           0       0         1  \n",
      "1st Playable Productions                     0           0       0         0  \n",
      "2015                                         1           0       0         0  \n",
      "2D Boy                                       0           0       0         0  \n",
      "2K Australia                                 3           0       0         0  \n",
      "2K Czech                                     0           0       2         0  \n",
      "2K Games                                     2           0       1         0  \n",
      "2K Marin                                     5           0       0         0  \n",
      "2K Sports                                    0           0      11         0  \n",
      "2XL Games                                    0           0       0         0  \n",
      "343 Industries                               4           0       0         0  \n",
      "369 Interactive                              0           0       0         0  \n",
      "3DO                                          5           0       4         0  \n",
      "3G Studios                                   1           0       1         0  \n",
      "3d6 Games                                    0           0       0         0  \n",
      "49Games                                      0           0       2         0  \n",
      "4A Games                                     2           0       0         0  \n",
      "4J Studios                                   0           0       0         1  \n",
      "5000ft                                       0           0       0         0  \n",
      "505 Games                                    0           0       0         0  \n",
      "5TH Cell                                     0           0       0         1  \n",
      "5pb                                          0           0       0         0  \n",
      "7 Studios                                    0           0       0         0  \n",
      "8Monkey Labs                                 1           0       0         0  \n",
      "8ing/Raizing                                 0           0       0         0  \n",
      "989 Sports                                   0           0      12         0  \n",
      "...                                        ...         ...     ...       ...  \n",
      "Xpec                                         0           0       0         0  \n",
      "Yacht Club Games                             0           0       0         0  \n",
      "Yager                                        4           0       0         0  \n",
      "Yuke's                                       0           0      10         0  \n",
      "Z-Axis, Ltd.                                 1           0      11         0  \n",
      "Zed Two Limited                              0           0       0         1  \n",
      "Zen Studios                                  0           0       0         0  \n",
      "Zener Works                                  0           0       0         0  \n",
      "ZeniMax Media                                0           0       0         0  \n",
      "Zerodiv                                      0           0       0         0  \n",
      "Zindagi Games                                0           0       0         0  \n",
      "Zipper Interactive                           8           0       0         0  \n",
      "Zoe Mode                                     0           0       0         0  \n",
      "Zoe Mode, HB Studios Multimedia              0           0       0         0  \n",
      "Zombie                                       1           0       0         0  \n",
      "Zombie Studios                               1           0       0         0  \n",
      "Zono Inc.                                    0           0       0         2  \n",
      "Zoo Games                                    0           0       0         0  \n",
      "Zoom                                         1           0       0         0  \n",
      "ZootFly                                      0           0       0         0  \n",
      "h.a.n.d. Inc.                                0           0       1         0  \n",
      "iNiS                                         0           0       0         0  \n",
      "id Software                                  8           0       0         0  \n",
      "id Software, Nerve Software                  1           0       0         0  \n",
      "id Software, Raven Software                  3           0       0         0  \n",
      "n-Space                                      5           0       0         0  \n",
      "neo Software                                 1           0       0         0  \n",
      "odenis studio                                0           0       0         1  \n",
      "syn Sophia                                   0           2       0         0  \n",
      "zSlide                                       0           0       0         0  \n",
      "\n",
      "[1289 rows x 12 columns]\n",
      "chi-squared: 40092.1243495\n",
      "p-value: 0.0\n"
     ]
    }
   ],
   "source": [
    "# ^\n",
    "# Running a chi-squared test for Developer and Genre\n",
    "D_G_CT = pd.crosstab(df['Developer'], df['Genre'])\n",
    "print(D_G_CT)\n",
    "chi, p, d_f, e_f = stats.chi2_contingency(D_G_CT)\n",
    "print('chi-squared: ' + str(chi))\n",
    "print('p-value: ' + str(p))"
   ]
  },
  {
   "cell_type": "markdown",
   "metadata": {},
   "source": [
    "** Statistical significance for Developer and Genre.**"
   ]
  },
  {
   "cell_type": "code",
   "execution_count": 34,
   "metadata": {
    "collapsed": false
   },
   "outputs": [
    {
     "name": "stdout",
     "output_type": "stream",
     "text": [
      "Genre   Action  Adventure  Fighting  Misc  Platform  Puzzle  Racing  \\\n",
      "Rating                                                                \n",
      "AO           1          0         0     0         0       0       0   \n",
      "E          191         49         6   163       240      89     350   \n",
      "E10+       299         32        14    80       104      24      79   \n",
      "K-A          0          0         0     1         0       0       0   \n",
      "M          557         85        45    11         3       0      17   \n",
      "RP           0          0         0     0         0       0       0   \n",
      "T          582         82       313   129        56       5     135   \n",
      "\n",
      "Genre   Role-Playing  Shooter  Simulation  Sports  Strategy  \n",
      "Rating                                                       \n",
      "AO                 0        0           0       0         0  \n",
      "E                 73       22         103     754        42  \n",
      "E10+             100       34          28      74        62  \n",
      "K-A                0        0           0       0         0  \n",
      "M                152      523           5      11        24  \n",
      "RP                 0        0           0       0         1  \n",
      "T                387      285         161     104       138  \n",
      "chi-squared: 3993.7584286\n",
      "p-value: 0.0\n"
     ]
    }
   ],
   "source": [
    "# ^\n",
    "# Running a chi-squared test for Rating and Genre\n",
    "R_G_CT = pd.crosstab(df['Rating'], df['Genre'])\n",
    "print(R_G_CT)\n",
    "chi, p, d_f, e_f = stats.chi2_contingency(R_G_CT)\n",
    "print('chi-squared: ' + str(chi))\n",
    "print('p-value: ' + str(p))"
   ]
  },
  {
   "cell_type": "markdown",
   "metadata": {},
   "source": [
    "** Statistical significance for Rating and Genre.**"
   ]
  },
  {
   "cell_type": "code",
   "execution_count": 35,
   "metadata": {
    "collapsed": false
   },
   "outputs": [
    {
     "name": "stdout",
     "output_type": "stream",
     "text": [
      "Developer  10tacle Studios, Fusionsphere Systems  1C, 1C Company  \\\n",
      "Platform                                                           \n",
      "3DS                                            0               0   \n",
      "DC                                             0               0   \n",
      "DS                                             1               0   \n",
      "GBA                                            0               0   \n",
      "GC                                             0               0   \n",
      "PC                                             0               2   \n",
      "PS                                             0               0   \n",
      "PS2                                            0               0   \n",
      "PS3                                            0               0   \n",
      "PS4                                            0               0   \n",
      "PSP                                            0               0   \n",
      "PSV                                            0               0   \n",
      "Wii                                            1               0   \n",
      "WiiU                                           0               0   \n",
      "X360                                           0               0   \n",
      "XB                                             0               0   \n",
      "XOne                                           0               0   \n",
      "\n",
      "Developer  1C, Ino-Co, 1C Company  1C: Maddox Games  1C:Ino-Co  \\\n",
      "Platform                                                         \n",
      "3DS                             0                 0          0   \n",
      "DC                              0                 0          0   \n",
      "DS                              0                 0          0   \n",
      "GBA                             0                 0          0   \n",
      "GC                              0                 0          0   \n",
      "PC                              1                 2          1   \n",
      "PS                              0                 0          0   \n",
      "PS2                             0                 0          0   \n",
      "PS3                             0                 0          0   \n",
      "PS4                             0                 0          0   \n",
      "PSP                             0                 0          0   \n",
      "PSV                             0                 0          0   \n",
      "Wii                             0                 0          0   \n",
      "WiiU                            0                 0          0   \n",
      "X360                            0                 0          0   \n",
      "XB                              0                 0          0   \n",
      "XOne                            0                 0          0   \n",
      "\n",
      "Developer  1st Playable Productions  2015  2D Boy  2K Australia  2K Czech  \\\n",
      "Platform                                                                    \n",
      "3DS                               0     0       0             0         0   \n",
      "DC                                0     0       0             0         0   \n",
      "DS                                2     0       0             0         0   \n",
      "GBA                               0     0       0             0         0   \n",
      "GC                                0     0       0             0         0   \n",
      "PC                                0     0       1             1         1   \n",
      "PS                                0     0       0             0         0   \n",
      "PS2                               0     0       0             0         0   \n",
      "PS3                               0     0       0             1         2   \n",
      "PS4                               0     0       0             0         0   \n",
      "PSP                               0     0       0             0         0   \n",
      "PSV                               0     0       0             0         0   \n",
      "Wii                               0     0       0             0         0   \n",
      "WiiU                              0     0       0             0         0   \n",
      "X360                              0     0       0             1         2   \n",
      "XB                                0     1       0             0         0   \n",
      "XOne                              0     0       0             0         0   \n",
      "\n",
      "Developer   ...    h.a.n.d. Inc.  iNiS  id Software  \\\n",
      "Platform    ...                                       \n",
      "3DS         ...                1     0            0   \n",
      "DC          ...                0     0            0   \n",
      "DS          ...                3     1            0   \n",
      "GBA         ...                0     0            0   \n",
      "GC          ...                0     0            0   \n",
      "PC          ...                0     0            4   \n",
      "PS          ...                0     0            0   \n",
      "PS2         ...                0     0            0   \n",
      "PS3         ...                0     0            2   \n",
      "PS4         ...                0     0            0   \n",
      "PSP         ...                0     0            0   \n",
      "PSV         ...                0     0            0   \n",
      "Wii         ...                2     0            0   \n",
      "WiiU        ...                0     0            0   \n",
      "X360        ...                0     3            2   \n",
      "XB          ...                0     0            0   \n",
      "XOne        ...                0     0            0   \n",
      "\n",
      "Developer  id Software, Nerve Software  id Software, Raven Software  n-Space  \\\n",
      "Platform                                                                       \n",
      "3DS                                  0                            0        3   \n",
      "DC                                   0                            0        0   \n",
      "DS                                   0                            0        6   \n",
      "GBA                                  0                            0        0   \n",
      "GC                                   0                            0        1   \n",
      "PC                                   0                            1        0   \n",
      "PS                                   0                            0        1   \n",
      "PS2                                  0                            0        0   \n",
      "PS3                                  0                            1        0   \n",
      "PS4                                  0                            0        0   \n",
      "PSP                                  0                            0        0   \n",
      "PSV                                  0                            0        0   \n",
      "Wii                                  0                            0        1   \n",
      "WiiU                                 0                            0        0   \n",
      "X360                                 0                            1        1   \n",
      "XB                                   1                            0        0   \n",
      "XOne                                 0                            0        0   \n",
      "\n",
      "Developer  neo Software  odenis studio  syn Sophia  zSlide  \n",
      "Platform                                                    \n",
      "3DS                   0              0           1       0  \n",
      "DC                    0              0           0       0  \n",
      "DS                    0              1           1       0  \n",
      "GBA                   0              0           0       0  \n",
      "GC                    0              0           0       0  \n",
      "PC                    0              0           0       0  \n",
      "PS                    0              0           0       0  \n",
      "PS2                   0              0           0       0  \n",
      "PS3                   0              0           0       0  \n",
      "PS4                   0              0           0       0  \n",
      "PSP                   0              0           0       1  \n",
      "PSV                   0              0           0       0  \n",
      "Wii                   0              0           0       0  \n",
      "WiiU                  0              0           0       0  \n",
      "X360                  0              0           0       0  \n",
      "XB                    1              0           0       0  \n",
      "XOne                  0              0           0       0  \n",
      "\n",
      "[17 rows x 1289 columns]\n",
      "chi-squared: 29587.9881958\n",
      "p-value: 0.0\n"
     ]
    }
   ],
   "source": [
    "# ^\n",
    "# Running a chi-squared test for Platform and Developer\n",
    "P_D_CT = pd.crosstab(df['Platform'], df['Developer'])\n",
    "print(P_D_CT)\n",
    "chi, p, d_f, e_f = stats.chi2_contingency(P_D_CT)\n",
    "print('chi-squared: ' + str(chi))\n",
    "print('p-value: ' + str(p))"
   ]
  },
  {
   "cell_type": "markdown",
   "metadata": {},
   "source": [
    "** Statistical significance for Platform and Developer.**"
   ]
  },
  {
   "cell_type": "code",
   "execution_count": 36,
   "metadata": {
    "collapsed": false
   },
   "outputs": [
    {
     "name": "stdout",
     "output_type": "stream",
     "text": [
      "Rating    AO    E  E10+  K-A    M  RP    T\n",
      "Platform                                  \n",
      "3DS        0   54    50    0   11   0   40\n",
      "DC         0    3     0    0    1   0   10\n",
      "DS         0  231   140    0    9   0   84\n",
      "GBA        0  169    18    0    6   0   44\n",
      "GC         0  167    17    0   34   0  130\n",
      "PC         0   99    63    0  242   1  246\n",
      "PS         0   70     0    1   18   0   61\n",
      "PS2        0  371    78    0  208   0  483\n",
      "PS3        0  154   101    0  237   0  277\n",
      "PS4        0   50    37    0   74   0   78\n",
      "PSP        0  108    65    0   47   0  170\n",
      "PSV        0   13    19    0   30   0   56\n",
      "Wii        0  175   134    0   30   0  140\n",
      "WiiU       0   29    36    0   14   0   10\n",
      "X360       0  175   127    0  264   0  292\n",
      "XB         1  178    17    0  146   0  223\n",
      "XOne       0   36    28    0   62   0   33\n",
      "chi-squared: 1401.53140779\n",
      "p-value: 1.04877101256e-230\n"
     ]
    }
   ],
   "source": [
    "# ^\n",
    "# Running a chi-squared test for Platform and Rating\n",
    "P_R_CT = pd.crosstab(df['Platform'], df['Rating'])\n",
    "print(P_R_CT)\n",
    "chi, p, d_f, e_f = stats.chi2_contingency(P_R_CT)\n",
    "print('chi-squared: ' + str(chi))\n",
    "print('p-value: ' + str(p))"
   ]
  },
  {
   "cell_type": "markdown",
   "metadata": {},
   "source": [
    "** Statistical significance for Platform and Rating.**"
   ]
  },
  {
   "cell_type": "code",
   "execution_count": 37,
   "metadata": {
    "collapsed": false
   },
   "outputs": [
    {
     "name": "stdout",
     "output_type": "stream",
     "text": [
      "Rating                                 AO   E  E10+  K-A  M  RP   T\n",
      "Developer                                                          \n",
      "10tacle Studios, Fusionsphere Systems   0   0     0    0  0   0   2\n",
      "1C, 1C Company                          0   0     0    0  0   0   2\n",
      "1C, Ino-Co, 1C Company                  0   0     0    0  0   0   1\n",
      "1C: Maddox Games                        0   0     0    0  0   0   2\n",
      "1C:Ino-Co                               0   0     0    0  0   0   1\n",
      "1st Playable Productions                0   0     1    0  0   0   1\n",
      "2015                                    0   0     0    0  1   0   0\n",
      "2D Boy                                  0   1     0    0  0   0   0\n",
      "2K Australia                            0   0     0    0  3   0   0\n",
      "2K Czech                                0   2     0    0  3   0   0\n",
      "2K Games                                0   1     0    0  2   0   0\n",
      "2K Marin                                0   0     0    0  5   0   0\n",
      "2K Sports                               0   7     3    0  0   0   2\n",
      "2XL Games                               0   2     0    0  0   0   0\n",
      "343 Industries                          0   0     0    0  3   0   1\n",
      "369 Interactive                         0   0     0    0  1   0   0\n",
      "3DO                                     0   4     0    0  0   0  13\n",
      "3G Studios                              0   1     0    0  0   0   1\n",
      "3d6 Games                               0   0     0    0  0   0   1\n",
      "49Games                                 0   2     0    0  0   0   0\n",
      "4A Games                                0   0     0    0  3   0   0\n",
      "4J Studios                              0   2     0    0  1   0   1\n",
      "5000ft                                  0   0     0    0  0   0   1\n",
      "505 Games                               0   0     0    0  0   0   2\n",
      "5TH Cell                                0   3     6    0  0   0   0\n",
      "5pb                                     0   0     0    0  5   0   2\n",
      "7 Studios                               0   0     4    0  1   0   7\n",
      "8Monkey Labs                            0   0     0    0  1   0   0\n",
      "8ing/Raizing                            0   0     0    0  0   0   3\n",
      "989 Sports                              0  12     0    0  0   0   0\n",
      "...                                    ..  ..   ...  ... ..  ..  ..\n",
      "Xpec                                    0   1     4    0  0   0   2\n",
      "Yacht Club Games                        0   3     0    0  0   0   0\n",
      "Yager                                   0   0     0    0  3   0   1\n",
      "Yuke's                                  0   1     0    0  1   0  46\n",
      "Z-Axis, Ltd.                            0   2     0    0  3   0  10\n",
      "Zed Two Limited                         0   0     0    0  0   0   1\n",
      "Zen Studios                             0   1     0    0  0   0   0\n",
      "Zener Works                             0   0     0    0  0   0   1\n",
      "ZeniMax Media                           0   0     0    0  2   0   0\n",
      "Zerodiv                                 0   0     0    0  0   0   3\n",
      "Zindagi Games                           0   0     1    0  0   0   0\n",
      "Zipper Interactive                      0   0     0    0  5   0   3\n",
      "Zoe Mode                                0   4     4    0  0   0   0\n",
      "Zoe Mode, HB Studios Multimedia         0   0     0    0  0   0   1\n",
      "Zombie                                  0   0     0    0  0   0   1\n",
      "Zombie Studios                          0   0     0    0  3   0   1\n",
      "Zono Inc.                               0   0     0    0  0   0   2\n",
      "Zoo Games                               0   0     1    0  0   0   0\n",
      "Zoom                                    0   0     0    0  0   0   1\n",
      "ZootFly                                 0   0     0    0  0   0   2\n",
      "h.a.n.d. Inc.                           0   3     2    0  0   0   1\n",
      "iNiS                                    0   0     1    0  0   0   3\n",
      "id Software                             0   0     0    0  8   0   0\n",
      "id Software, Nerve Software             0   0     0    0  1   0   0\n",
      "id Software, Raven Software             0   0     0    0  3   0   0\n",
      "n-Space                                 0   1     4    0  2   0   6\n",
      "neo Software                            0   0     0    0  1   0   0\n",
      "odenis studio                           0   0     1    0  0   0   0\n",
      "syn Sophia                              0   2     0    0  0   0   0\n",
      "zSlide                                  0   0     0    0  0   0   1\n",
      "\n",
      "[1289 rows x 7 columns]\n",
      "chi-squared: 19724.9978492\n",
      "p-value: 0.0\n"
     ]
    }
   ],
   "source": [
    "# ^\n",
    "# Running a chi-squared test for Developer and Rating\n",
    "D_R_CT = pd.crosstab(df['Developer'], df['Rating'])\n",
    "print(D_R_CT)\n",
    "chi, p, d_f, e_f = stats.chi2_contingency(D_R_CT)\n",
    "print('chi-squared: ' + str(chi))\n",
    "print('p-value: ' + str(p))"
   ]
  },
  {
   "cell_type": "markdown",
   "metadata": {},
   "source": [
    "** Statistical significance for Developer and Rating.**"
   ]
  },
  {
   "cell_type": "code",
   "execution_count": 38,
   "metadata": {
    "collapsed": false
   },
   "outputs": [
    {
     "name": "stdout",
     "output_type": "stream",
     "text": [
      "r: 0.955793368968\n",
      "p-value: 0.0\n"
     ]
    }
   ],
   "source": [
    "# Running a Pearson Correlation test between Global Sales and North American Sales\n",
    "r, p = stats.pearsonr(df['Global_Sales'], df['NA_Sales'])\n",
    "print('r: ' + str(r))\n",
    "print('p-value: ' + str(p))"
   ]
  },
  {
   "cell_type": "markdown",
   "metadata": {},
   "source": [
    "** Because of low high the p-value is, we can say the relationship between Global Sales and North American Sales is statistically significant and there is also a strong positive correlation around 0.96 between the two. This means that Global Sales is predictive of North American Sales.**"
   ]
  },
  {
   "cell_type": "code",
   "execution_count": 39,
   "metadata": {
    "collapsed": false
   },
   "outputs": [
    {
     "name": "stdout",
     "output_type": "stream",
     "text": [
      "r: 0.939313013238\n",
      "p-value: 0.0\n"
     ]
    }
   ],
   "source": [
    "# Running a Pearson Correlation test between Global Sales and European Sales\n",
    "r, p = stats.pearsonr(df['Global_Sales'], df['EU_Sales'])\n",
    "print('r: ' + str(r))\n",
    "print('p-value: ' + str(p))"
   ]
  },
  {
   "cell_type": "markdown",
   "metadata": {},
   "source": [
    "** Because of low high the p-value is, we can say the relationship between Global Sales and European Sales is statistically significant and there is also a strong positive correlation around 0.94 between the two. This means that Global Sales is predictive of European Sales.**"
   ]
  },
  {
   "cell_type": "code",
   "execution_count": 40,
   "metadata": {
    "collapsed": false
   },
   "outputs": [
    {
     "name": "stdout",
     "output_type": "stream",
     "text": [
      "r: 0.613545596261\n",
      "p-value: 0.0\n"
     ]
    }
   ],
   "source": [
    "# Running a Pearson Correlation test between Global Sales and Japanese Sales\n",
    "r, p = stats.pearsonr(df['Global_Sales'], df['JP_Sales'])\n",
    "print('r: ' + str(r))\n",
    "print('p-value: ' + str(p))"
   ]
  },
  {
   "cell_type": "markdown",
   "metadata": {},
   "source": [
    "** Because of low high the p-value is, we can say the relationship between Global Sales and Japanese Sales is statistically significant and there is also a positive correlation around 0.61 between the two. This means that Global Sales is predictive of Japanese Sales.**"
   ]
  },
  {
   "cell_type": "code",
   "execution_count": 41,
   "metadata": {
    "collapsed": true
   },
   "outputs": [],
   "source": [
    "# Non p-value really matters. Can have weak correlation with a strong p-value"
   ]
  },
  {
   "cell_type": "code",
   "execution_count": 42,
   "metadata": {
    "collapsed": false
   },
   "outputs": [
    {
     "name": "stdout",
     "output_type": "stream",
     "text": [
      "r: 0.841807563817\n",
      "p-value: 0.0\n"
     ]
    }
   ],
   "source": [
    "# Running a Pearson Correlation test between North American Sales and European Sales\n",
    "r, p = stats.pearsonr(df['NA_Sales'], df['EU_Sales'])\n",
    "print('r: ' + str(r))\n",
    "print('p-value: ' + str(p))"
   ]
  },
  {
   "cell_type": "markdown",
   "metadata": {},
   "source": [
    "** Because of low high the p-value is, we can say the relationship between North American Sales and European Sales is statistically significant and there is also a strong positive correlation around 0.84 between the two. This means that North American Sales is predictive of European Sales.**"
   ]
  },
  {
   "cell_type": "code",
   "execution_count": 43,
   "metadata": {
    "collapsed": false
   },
   "outputs": [
    {
     "name": "stdout",
     "output_type": "stream",
     "text": [
      "r: 0.468607351091\n",
      "p-value: 0.0\n"
     ]
    }
   ],
   "source": [
    "# Running a Pearson Correlation test between North American Sales and Japanese Sales\n",
    "r, p = stats.pearsonr(df['NA_Sales'], df['JP_Sales'])\n",
    "print('r: ' + str(r))\n",
    "print('p-value: ' + str(p))"
   ]
  },
  {
   "cell_type": "markdown",
   "metadata": {},
   "source": [
    "** Because of low high the p-value is, we can say the relationship between North American Sales and Japanese Sales is statistically significant and there is also a positive correlation around 0.47 between the two. This means that North American Sales is predictive of Japanese Sales.**"
   ]
  },
  {
   "cell_type": "code",
   "execution_count": 44,
   "metadata": {
    "collapsed": false
   },
   "outputs": [
    {
     "name": "stdout",
     "output_type": "stream",
     "text": [
      "r: 0.519928865621\n",
      "p-value: 0.0\n"
     ]
    }
   ],
   "source": [
    "# Running a Pearson Correlation test between European Sales and Japanese Sales\n",
    "r, p = stats.pearsonr(df['EU_Sales'], df['JP_Sales'])\n",
    "print('r: ' + str(r))\n",
    "print('p-value: ' + str(p))"
   ]
  },
  {
   "cell_type": "markdown",
   "metadata": {},
   "source": [
    "** Because of low high the p-value is, we can say the relationship between European Sales and Japanese Sales is statistically significant and there is also a positive correlation around 0.52 between the two. This means that European Sales is predictive of Japanese Sales.**"
   ]
  },
  {
   "cell_type": "code",
   "execution_count": 45,
   "metadata": {
    "collapsed": false
   },
   "outputs": [
    {
     "name": "stdout",
     "output_type": "stream",
     "text": [
      "r: 0.233580308941\n",
      "p-value: 3.09796918662e-85\n"
     ]
    }
   ],
   "source": [
    "# ^\n",
    "# Running a Pearson Correlation test between North American Sales and Critic Score\n",
    "r, p = stats.pearsonr(df['NA_Sales'], df['Critic_Score'])\n",
    "print('r: ' + str(r))\n",
    "print('p-value: ' + str(p))"
   ]
  },
  {
   "cell_type": "code",
   "execution_count": 46,
   "metadata": {
    "collapsed": false
   },
   "outputs": [
    {
     "name": "stdout",
     "output_type": "stream",
     "text": [
      "r: 0.0857960109199\n",
      "p-value: 1.2501988362e-12\n"
     ]
    }
   ],
   "source": [
    "# ^\n",
    "# Running a Pearson Correlation test between North American Sales and User Score\n",
    "r, p = stats.pearsonr(df['NA_Sales'], df['User_Score'])\n",
    "print('r: ' + str(r))\n",
    "print('p-value: ' + str(p))"
   ]
  }
 ],
 "metadata": {
  "kernelspec": {
   "display_name": "Python 2",
   "language": "python",
   "name": "python2"
  },
  "language_info": {
   "codemirror_mode": {
    "name": "ipython",
    "version": 2
   },
   "file_extension": ".py",
   "mimetype": "text/x-python",
   "name": "python",
   "nbconvert_exporter": "python",
   "pygments_lexer": "ipython2",
   "version": "2.7.11"
  }
 },
 "nbformat": 4,
 "nbformat_minor": 0
}
