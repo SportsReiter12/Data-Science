{
 "cells": [
  {
   "cell_type": "code",
   "execution_count": 1,
   "metadata": {
    "collapsed": true
   },
   "outputs": [],
   "source": [
    "from stattlepy import Stattleship\n",
    "import pandas as pd"
   ]
  },
  {
   "cell_type": "code",
   "execution_count": 2,
   "metadata": {
    "collapsed": false
   },
   "outputs": [],
   "source": [
    "# Transfers Slug from 'Titans vs Cardinals December 10, 2017 at  4:05pm' to 'nfl-2017-2018-ten-ari-2017-12-10-1605'\n",
    "def func(s):\n",
    "    \"\"\"Changes Game Name to Game Slug\"\"\"\n",
    "    l = s.split(' ')\n",
    "    season_dict = {('September', '2015'): 'nfl-2015-2016', ('October', '2015'): 'nfl-2015-2016', ('November', '2015'): 'nfl-2015-2016', ('December', '2015'): 'nfl-2015-2016', ('January', '2016'): 'nfl-2015-2016', ('February', '2016'): 'nfl-2015-2016', ('September', '2016'): 'nfl-2016-2017', ('October', '2016'): 'nfl-2016-2017', ('November', '2016'): 'nfl-2016-2017', ('December', '2016'): 'nfl-2016-2017', ('January', '2017'): 'nfl-2016-2017', ('February', '2017'): 'nfl-2016-2017', ('September', '2017'): 'nfl-2017-2018', ('October', '2017'): 'nfl-2017-2018', ('November', '2017'): 'nfl-2017-2018', ('December', '2017'): 'nfl-2017-2018', ('January', '2018'): 'nfl-2017-2018', ('February', '2018'): 'nfl-2017-2018'}\n",
    "    e1 = season_dict[l[3], l[5]]\n",
    "    team_dict = {'Cardinals': 'ari', 'Falcons': 'atl', 'Ravens': 'bal', 'Bills': 'buf', 'Panthers': 'car', 'Bears': 'chi', 'Bengals': 'cin', 'Browns': 'cle', 'Cowboys': 'dal', 'Broncos': 'den', 'Lions': 'det', 'Packers': 'gb', 'Texans': 'hou', 'Colts': 'ind', 'Jaguars': 'jac', 'Chiefs': 'kc', 'Chargers': 'lac', 'Rams': 'stl', 'Dolphins': 'mia', 'Vikings': 'min', 'Patriots': 'ne', 'Saints': 'no', 'Giants': 'nyg', 'Jets': 'nyj', 'Raiders': 'oak', 'Eagles': 'phi', 'Steelers': 'pit', '49ers': 'sf', 'Seahawks': 'sea', 'Buccaneers': 'tb', 'Titans':'ten', 'Redskins': 'was'}\n",
    "    e2 = team_dict[l[0]]\n",
    "    e3 = team_dict[l[2]]\n",
    "    month_dict = {'September': '09', 'October': '10', 'November': '11', 'December': '12', 'January': '01', 'February': '02'}\n",
    "    e4 = month_dict[l[3]]\n",
    "    day_dict = {'1,': '1', '2,': '2', '3,': '3', '4,': '4', '5,': '5', '6,': '6', '7,': '7', '8,': '8', '9,': '9', '10,': '10', '11,': '11', '12,': '12', '13,': '13', '14,': '14', '15,': '15', '16,': '16', '17,': '17', '18,': '18', '19,': '19', '20,': '20', '21,': '21', '22,': '22', '23,': '23', '24,': '24', '25,': '25', '26,': '26', '27,': '27', '28,': '28', '29,': '29', '30,': '30', '31,': '31'}\n",
    "    e5 = day_dict[l[4]]\n",
    "    time_dict = {'9:30am': '0930', '12:30pm': '1230', '1:00pm': '1300', '4:05pm': '1605', '4:25pm': '1625', '4:30pm': '1630', '7:10pm': '1910', '8:15pm': '2015', '8:20pm': '2020', '10:20pm': '2220'}\n",
    "    e6 = time_dict[l[8]]\n",
    "    return e1 + '-' + e2 + '-' + e3 + '-' + str(l[5]) + '-' + e4 + '-' + e5 + '-' + e6"
   ]
  },
  {
   "cell_type": "code",
   "execution_count": 45,
   "metadata": {
    "collapsed": false
   },
   "outputs": [
    {
     "name": "stdout",
     "output_type": "stream",
     "text": [
      "Making Initial API Request\n",
      "<Response [200]>\n",
      "https://api.stattleship.com/football/nfl/team_game_logs?season_id=nfl-2017-2018&team_id=nfl-ari&page=1\n",
      "Stattleship API request complete\n"
     ]
    },
    {
     "data": {
      "text/plain": [
       "u'Seahawks vs Cardinals November  9, 2017 at  8:25pm'"
      ]
     },
     "execution_count": 45,
     "metadata": {},
     "output_type": "execute_result"
    }
   ],
   "source": [
    "New_query = Stattleship()\n",
    "Token = New_query.set_token('XXXXXXXXXXXXXXXXXXXXXXXXXXXXXXXX')\n",
    "Output = New_query.ss_get_results(sport='football', league='nfl', ep='team_game_logs', season_id='nfl-2017-2018', team_id='nfl-ari')\n",
    "\n",
    "Output[0]['games'][7]['name']"
   ]
  },
  {
   "cell_type": "code",
   "execution_count": 26,
   "metadata": {
    "collapsed": false
   },
   "outputs": [
    {
     "name": "stdout",
     "output_type": "stream",
     "text": [
      "Making Initial API Request\n",
      "<Response [200]>\n",
      "https://api.stattleship.com/football/nfl/team_game_logs?season_id=nfl-2017-2018&page=1\n",
      "Stattleship API request complete\n"
     ]
    }
   ],
   "source": [
    "New_query = Stattleship()\n",
    "Token = New_query.set_token('XXXXXXXXXXXXXXXXXXXXXXXXXXXXXXXX')\n",
    "Output = New_query.ss_get_results(sport='football', league='nfl', ep='team_game_logs', season_id='nfl-2017-2018')\n",
    "\n",
    "log = Output[0]['games'][7]['name']\n",
    "\n",
    "# Loop 0 to 15 for each team\n",
    "games = []\n",
    "for row in log:\n",
    "    games.append(row)\n",
    "\n",
    "df = pd.DataFrame()\n",
    "\n",
    "for name in games:\n",
    "    name = func(name)\n",
    "    season = name.str[:13]\n",
    "    Output_three = New_query.ss_get_results(sport='football',league='nfl', ep='team_game_logs', season_id=season, game_id=name)\n",
    "    s = pd.Series()\n",
    "    s['Win'] = Output_three ['team_outcome'] == 'win'\n",
    "    s['Loss'] = Output_three ['team_outcome'] == 'loss'\n",
    "    s['Wins'] = Output_three['games_won']\n",
    "    s['Losses'] = Output_three['games_lost']\n",
    "    s['Points'] = Output_three['points']\n",
    "    s['Rushing Atts'] = Output_three['rushing_plays']\n",
    "    s['Rushing Yds'] = Output_three['rushing_gross_yards']\n",
    "    s['Rushing TDs'] = Output_three['rushing_touchdowns']\n",
    "    s['Rushing First Downs'] = Output_three['rushing_first_downs']\n",
    "    s['Passing Atts'] = Output_three['passing_plays_attempted']\n",
    "    s['Passing Completions'] = Output_three['passing_plays_completed']\n",
    "    s['Passing Yds'] = Output_three['passing_gross_yards']\n",
    "    s['Passing TDs'] = Output_three['passing_touchdowns']\n",
    "    s['Passing First Downs'] = Output_three['passing_first_downs']\n",
    "    s['Total Yds'] = Output_three['rushing_gross_yards'] + Output_three['passing_gross_yards']\n",
    "    s['Total TDs'] = Output_three['total_touchdowns']\n",
    "    s['First Downs'] = Output_three['total_first_downs']\n",
    "    s['Third Down Attempts'] = Output_three['third_downs_attempted']\n",
    "    s['Third Down Successes'] = Output_three['third_downs_succeeded']\n",
    "    s['Fourth Down Attempts'] = Output_three['fourth_downs_attempted']\n",
    "    s['Fourth Down Successes'] = Output_three['fourth_downs_succeeded']\n",
    "    s['Red Zone Attempts'] = Output_three['red_zone_scores_attempted']\n",
    "    s['Red Zone Successes'] = Output_three['red_zone_scores_succeeded']\n",
    "    s['Goal To Go Attempts'] = Output_three['goal_to_go_attempted']\n",
    "    s['Goal To Go Successes'] = Output_three['goal_to_go_succeeded']\n",
    "    s['Two Points Conversion Attempts'] = Output_three['extra_point_passes_attempted'] + Output_three['extra_point_rushes_attempted']\n",
    "    s['Two Points Conversion Successes'] = Output_three['extra_point_passes_succeeded'] + Output_three['extra_point_rushes_succeeded']\n",
    "    s['Time of Possession'] = Output_three['time_of_possession_secs']\n",
    "    s['Sacks Given Up'] = Output_three['passing_plays_sacked']\n",
    "    s['Sacks Yds Given Up'] = Output_three['passing_sacked_yards']\n",
    "    s['INTs'] = Output_three['interception_returns']\n",
    "    s['INTs Given Up'] = Output_three['passing_plays_intercepted']\n",
    "    s['INT TDs'] = Output_three['interception_touchdowns']\n",
    "    s['Fumbles'] = Output_three['fumbles']\n",
    "    s['Fumbles Lost'] = Output_three['fumbles_lost']\n",
    "    s['Fumbles Recovered'] = Output_three['fumbles_recovered_defense']\n",
    "    s['Fumble TDs'] = Output_three['fumble_touchdowns']\n",
    "    s['Safeties'] = Output_three['safeties']\n",
    "    s['Field Goal Attempts'] = Output_three['field_goals_attempted']\n",
    "    s['Made Field Goals'] = Output_three['field_goals_succeeded']\n",
    "    s['Kickoffs'] = Output_three['kickoffs']\n",
    "    s['Kickoff Returns'] = Output_three['kickoff_returns']\n",
    "    s['Kickoff Return YDs'] = Output_three['kickoff_return_yards']\n",
    "    s['Kickoff Return TDs'] = Output_three['kickoff_return_touchdowns']\n",
    "    s['Touchbacks'] = Output_three['kickoff_touchbacks']\n",
    "    s['Punt Returns'] = Output_three['punt_returns']\n",
    "    s['Punt Return Yds'] = Output_three['punt_return_yards']\n",
    "    s['Punt Return TDs'] = Output_three['punt_return_touchdowns']\n",
    "    s['Punts'] = Output_three['punting_plays']\n",
    "    s['Punting Net Yards'] = Output_three['punting_net_yards_avg']\n",
    "    s['Penalties'] = Output_three['penalties']\n",
    "    s['Penalty Yards'] = Output_three['penalty_yards']\n",
    "    s['Penalty First Downs'] = Output_three['penalty_first_downs']\n",
    "    df = pd.concat(df, s.to_frame())\n",
    "# Picking out different values for output\n",
    "\n",
    "# Use to make list of names then put it through function. Will create list of slugs to query to get game_id\n",
    "\n",
    "# Loop through every game, 50 features to start. Figure out unique fields to keep"
   ]
  },
  {
   "cell_type": "code",
   "execution_count": null,
   "metadata": {
    "collapsed": true
   },
   "outputs": [],
   "source": [
    "# Querying by Team by Season\n",
    "Output = New_query.ss_get_results(sport='football',league='nfl', ep='team_game_logs', season_id='nfl-2017-2018')\n",
    "Output\n",
    "\n",
    "# Querying by Team by Game (only shows one team's stats)\n",
    "Output_two = New_query.ss_get_results(sport='football',league='nfl', ep='team_game_logs', season_id='nfl-2017-2018',team_id='nyg')\n",
    "Output_two\n",
    "\n",
    "# Querying by Team by Game (shows both teams' stats)\n",
    "Output_three = New_query.ss_get_results(sport='football',league='nfl', ep='team_game_logs', season_id='nfl-2017-2018', game_id='nfl-2017-2018-ari-det-2017-09-10-1300')\n",
    "Output_three"
   ]
  }
 ],
 "metadata": {
  "kernelspec": {
   "display_name": "Python 2",
   "language": "python",
   "name": "python2"
  },
  "language_info": {
   "codemirror_mode": {
    "name": "ipython",
    "version": 2
   },
   "file_extension": ".py",
   "mimetype": "text/x-python",
   "name": "python",
   "nbconvert_exporter": "python",
   "pygments_lexer": "ipython2",
   "version": "2.7.11"
  }
 },
 "nbformat": 4,
 "nbformat_minor": 0
}
