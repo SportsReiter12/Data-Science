{
 "cells": [
  {
   "cell_type": "code",
   "execution_count": 58,
   "metadata": {
    "collapsed": true
   },
   "outputs": [],
   "source": [
    "from stattlepy import Stattleship\n",
    "import pandas as pd"
   ]
  },
  {
   "cell_type": "code",
   "execution_count": 67,
   "metadata": {
    "collapsed": false
   },
   "outputs": [],
   "source": [
    "# Early Testing of API\n",
    "New_query = Stattleship()\n",
    "Token = New_query.set_token('XXXXXXXXXXXXXXXXXXXXXXXXXXXXXXXX')\n",
    "\n",
    "# Transfers Slug from 'Titans vs Cardinals December 10, 2017 at  4:05pm' to 'nfl-2017-2018-ten-ari-2017-12-10-1605'\n",
    "def func(s):\n",
    "    l = s.split(' ')\n",
    "    season_dict = {('September', '2015'): 'nfl-2015-2016', ('October', '2015'): 'nfl-2015-2016', ('November', '2015'): 'nfl-2015-2016', ('December', '2015'): 'nfl-2015-2016', ('January', '2016'): 'nfl-2015-2016', ('February', '2016'): 'nfl-2015-2016', ('September', '2016'): 'nfl-2016-2017', ('October', '2016'): 'nfl-2016-2017', ('November', '2016'): 'nfl-2016-2017', ('December', '2016'): 'nfl-2016-2017', ('January', '2017'): 'nfl-2016-2017', ('February', '2017'): 'nfl-2016-2017', ('September', '2017'): 'nfl-2017-2018', ('October', '2017'): 'nfl-2017-2018', ('November', '2017'): 'nfl-2017-2018', ('December', '2017'): 'nfl-2017-2018', ('January', '2018'): 'nfl-2017-2018', ('February', '2018'): 'nfl-2017-2018'}\n",
    "    e1 = season_dict[l[3], l[5]]\n",
    "    team_dict = {'Cardinals': 'ari', 'Falcons': 'atl', 'Ravens': 'bal', 'Bills': 'buf', 'Panthers': 'car', 'Bears': 'chi', 'Bengals': 'cin', 'Browns': 'cle', 'Cowboys': 'dal', 'Broncos': 'den', 'Lions': 'det', 'Packers': 'gb', 'Texans': 'hou', 'Colts': 'ind', 'Jaguars': 'jac', 'Chiefs': 'kc', 'Chargers': 'lac', 'Rams': 'stl', 'Dolphins': 'mia', 'Vikings': 'min', 'Patriots': 'ne', 'Saints': 'no', 'Giants': 'nyg', 'Jets': 'nyj', 'Raiders': 'oak', 'Eagles': 'phi', 'Steelers': 'pit', '49ers': 'sf', 'Seahawks': 'sea', 'Buccaneers': 'tb', 'Titans':'ten', 'Redskins': 'was'}\n",
    "    e2 = team_dict[l[0]]\n",
    "    e3 = team_dict[l[2]]\n",
    "    month_dict = {'September': '09', 'October': '10', 'November': '11', 'December': '12', 'January': '01', 'February': '02'}\n",
    "    e4 = month_dict[l[3]]\n",
    "    day_dict = {'1,': '1', '2,': '2', '3,': '3', '4,': '4', '5,': '5', '6,': '6', '7,': '7', '8,': '8', '9,': '9', '10,': '10', '11,': '11', '12,': '12', '13,': '13', '14,': '14', '15,': '15', '16,': '16', '17,': '17', '18,': '18', '19,': '19', '20,': '20', '21,': '21', '22,': '22', '23,': '23', '24,': '24', '25,': '25', '26,': '26', '27,': '27', '28,': '28', '29,': '29', '30,': '30', '31,': '31'}\n",
    "    e5 = day_dict[l[4]]\n",
    "    time_dict = {'9:30am': '0930', '12:30pm': '1230', '1:00pm': '1300', '4:05pm': '1605', '4:25pm': '1625', '4:30pm': '1630', '7:10pm': '1910', '8:15pm': '2015', '8:20pm': '2020', '10:20pm': '2220'}\n",
    "    e6 = time_dict[l[8]]\n",
    "    return e1 + '-' + e2 + '-' + e3 + '-' + str(l[5]) + '-' + e4 + '-' + e5 + '-' + e6"
   ]
  },
  {
   "cell_type": "code",
   "execution_count": null,
   "metadata": {
    "collapsed": true
   },
   "outputs": [],
   "source": [
    "# Querying by Team by Season\n",
    "Output = New_query.ss_get_results(sport='football',league='nfl', ep='team_game_logs', season_id='nfl-2017-2018')\n",
    "Output\n",
    "\n",
    "# Querying by Team by Game (only shows one team's stats)\n",
    "Output_two = New_query.ss_get_results(sport='football',league='nfl', ep='team_game_logs', season_id='nfl-2017-2018',team_id='nyg')\n",
    "Output_two\n",
    "\n",
    "# Querying by Team by Game (shows both teams' stats)\n",
    "Output_three = New_query.ss_get_results(sport='football',league='nfl', ep='team_game_logs', season_id='nfl-2017-2018', game_id='nfl-2017-2018-ari-det-2017-09-10-1300')\n",
    "Output_three"
   ]
  }
 ],
 "metadata": {
  "kernelspec": {
   "display_name": "Python 2",
   "language": "python",
   "name": "python2"
  },
  "language_info": {
   "codemirror_mode": {
    "name": "ipython",
    "version": 2
   },
   "file_extension": ".py",
   "mimetype": "text/x-python",
   "name": "python",
   "nbconvert_exporter": "python",
   "pygments_lexer": "ipython2",
   "version": "2.7.11"
  }
 },
 "nbformat": 4,
 "nbformat_minor": 0
}
