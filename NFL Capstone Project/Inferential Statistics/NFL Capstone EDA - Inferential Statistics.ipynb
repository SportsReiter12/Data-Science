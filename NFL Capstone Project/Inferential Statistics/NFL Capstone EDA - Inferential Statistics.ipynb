{
 "cells": [
  {
   "cell_type": "code",
   "execution_count": 1,
   "metadata": {
    "collapsed": true
   },
   "outputs": [],
   "source": [
    "# Importing necessary packages\n",
    "%matplotlib inline\n",
    "import pandas as pd\n",
    "import numpy as np\n",
    "import matplotlib.pyplot as plt\n",
    "import seaborn as sns\n",
    "from scipy import stats\n",
    "from scipy.stats import chisquare"
   ]
  },
  {
   "cell_type": "code",
   "execution_count": 2,
   "metadata": {
    "collapsed": false
   },
   "outputs": [
    {
     "data": {
      "text/html": [
       "<div>\n",
       "<table border=\"1\" class=\"dataframe\">\n",
       "  <thead>\n",
       "    <tr style=\"text-align: right;\">\n",
       "      <th></th>\n",
       "      <th>Date</th>\n",
       "      <th>Home Field Goal Attempts</th>\n",
       "      <th>Home First Downs</th>\n",
       "      <th>Home Fourth Down Attempts</th>\n",
       "      <th>Home Fourth Down Successes</th>\n",
       "      <th>Home Fumble TDs</th>\n",
       "      <th>Home Fumbles</th>\n",
       "      <th>Home Fumbles Lost</th>\n",
       "      <th>Home Fumbles Recovered</th>\n",
       "      <th>Home Goal To Go Attempts</th>\n",
       "      <th>...</th>\n",
       "      <th>Road Time of Possession</th>\n",
       "      <th>Road Total TDs</th>\n",
       "      <th>Road Total Yds</th>\n",
       "      <th>Road Touchbacks</th>\n",
       "      <th>Road Two Point Conversion Attempts</th>\n",
       "      <th>Road Two Point Conversion Successes</th>\n",
       "      <th>Road Win</th>\n",
       "      <th>Road Wins</th>\n",
       "      <th>Season</th>\n",
       "      <th>Week Number</th>\n",
       "    </tr>\n",
       "  </thead>\n",
       "  <tbody>\n",
       "    <tr>\n",
       "      <th>0</th>\n",
       "      <td>on December 20, 2015</td>\n",
       "      <td>1</td>\n",
       "      <td>19</td>\n",
       "      <td>2</td>\n",
       "      <td>0</td>\n",
       "      <td>0</td>\n",
       "      <td>2</td>\n",
       "      <td>2</td>\n",
       "      <td>0</td>\n",
       "      <td>0</td>\n",
       "      <td>...</td>\n",
       "      <td>2248</td>\n",
       "      <td>5</td>\n",
       "      <td>506</td>\n",
       "      <td>3</td>\n",
       "      <td>0</td>\n",
       "      <td>0</td>\n",
       "      <td>True</td>\n",
       "      <td>1</td>\n",
       "      <td>nfl-2015-2016</td>\n",
       "      <td>15</td>\n",
       "    </tr>\n",
       "    <tr>\n",
       "      <th>1</th>\n",
       "      <td>on November 29, 2015</td>\n",
       "      <td>2</td>\n",
       "      <td>17</td>\n",
       "      <td>2</td>\n",
       "      <td>1</td>\n",
       "      <td>0</td>\n",
       "      <td>2</td>\n",
       "      <td>1</td>\n",
       "      <td>0</td>\n",
       "      <td>0</td>\n",
       "      <td>...</td>\n",
       "      <td>2247</td>\n",
       "      <td>2</td>\n",
       "      <td>350</td>\n",
       "      <td>1</td>\n",
       "      <td>0</td>\n",
       "      <td>0</td>\n",
       "      <td>True</td>\n",
       "      <td>1</td>\n",
       "      <td>nfl-2015-2016</td>\n",
       "      <td>12</td>\n",
       "    </tr>\n",
       "    <tr>\n",
       "      <th>2</th>\n",
       "      <td>on December 27, 2015</td>\n",
       "      <td>1</td>\n",
       "      <td>19</td>\n",
       "      <td>0</td>\n",
       "      <td>0</td>\n",
       "      <td>2</td>\n",
       "      <td>2</td>\n",
       "      <td>1</td>\n",
       "      <td>3</td>\n",
       "      <td>3</td>\n",
       "      <td>...</td>\n",
       "      <td>1784</td>\n",
       "      <td>1</td>\n",
       "      <td>265</td>\n",
       "      <td>0</td>\n",
       "      <td>1</td>\n",
       "      <td>1</td>\n",
       "      <td>False</td>\n",
       "      <td>0</td>\n",
       "      <td>nfl-2015-2016</td>\n",
       "      <td>16</td>\n",
       "    </tr>\n",
       "    <tr>\n",
       "      <th>3</th>\n",
       "      <td>on November 22, 2015</td>\n",
       "      <td>2</td>\n",
       "      <td>21</td>\n",
       "      <td>0</td>\n",
       "      <td>0</td>\n",
       "      <td>0</td>\n",
       "      <td>2</td>\n",
       "      <td>0</td>\n",
       "      <td>1</td>\n",
       "      <td>1</td>\n",
       "      <td>...</td>\n",
       "      <td>1875</td>\n",
       "      <td>4</td>\n",
       "      <td>415</td>\n",
       "      <td>3</td>\n",
       "      <td>0</td>\n",
       "      <td>0</td>\n",
       "      <td>False</td>\n",
       "      <td>0</td>\n",
       "      <td>nfl-2015-2016</td>\n",
       "      <td>11</td>\n",
       "    </tr>\n",
       "    <tr>\n",
       "      <th>4</th>\n",
       "      <td>on January  3, 2016</td>\n",
       "      <td>1</td>\n",
       "      <td>16</td>\n",
       "      <td>1</td>\n",
       "      <td>0</td>\n",
       "      <td>0</td>\n",
       "      <td>0</td>\n",
       "      <td>0</td>\n",
       "      <td>0</td>\n",
       "      <td>0</td>\n",
       "      <td>...</td>\n",
       "      <td>2197</td>\n",
       "      <td>4</td>\n",
       "      <td>382</td>\n",
       "      <td>7</td>\n",
       "      <td>0</td>\n",
       "      <td>0</td>\n",
       "      <td>True</td>\n",
       "      <td>1</td>\n",
       "      <td>nfl-2015-2016</td>\n",
       "      <td>17</td>\n",
       "    </tr>\n",
       "  </tbody>\n",
       "</table>\n",
       "<p>5 rows × 118 columns</p>\n",
       "</div>"
      ],
      "text/plain": [
       "                   Date  Home Field Goal Attempts  Home First Downs  \\\n",
       "0  on December 20, 2015                         1                19   \n",
       "1  on November 29, 2015                         2                17   \n",
       "2  on December 27, 2015                         1                19   \n",
       "3  on November 22, 2015                         2                21   \n",
       "4   on January  3, 2016                         1                16   \n",
       "\n",
       "   Home Fourth Down Attempts  Home Fourth Down Successes  Home Fumble TDs  \\\n",
       "0                          2                           0                0   \n",
       "1                          2                           1                0   \n",
       "2                          0                           0                2   \n",
       "3                          0                           0                0   \n",
       "4                          1                           0                0   \n",
       "\n",
       "   Home Fumbles  Home Fumbles Lost  Home Fumbles Recovered  \\\n",
       "0             2                  2                       0   \n",
       "1             2                  1                       0   \n",
       "2             2                  1                       3   \n",
       "3             2                  0                       1   \n",
       "4             0                  0                       0   \n",
       "\n",
       "   Home Goal To Go Attempts     ...       Road Time of Possession  \\\n",
       "0                         0     ...                          2248   \n",
       "1                         0     ...                          2247   \n",
       "2                         3     ...                          1784   \n",
       "3                         1     ...                          1875   \n",
       "4                         0     ...                          2197   \n",
       "\n",
       "   Road Total TDs  Road Total Yds  Road Touchbacks  \\\n",
       "0               5             506                3   \n",
       "1               2             350                1   \n",
       "2               1             265                0   \n",
       "3               4             415                3   \n",
       "4               4             382                7   \n",
       "\n",
       "   Road Two Point Conversion Attempts  Road Two Point Conversion Successes  \\\n",
       "0                                   0                                    0   \n",
       "1                                   0                                    0   \n",
       "2                                   1                                    1   \n",
       "3                                   0                                    0   \n",
       "4                                   0                                    0   \n",
       "\n",
       "   Road Win  Road Wins         Season  Week Number  \n",
       "0      True          1  nfl-2015-2016           15  \n",
       "1      True          1  nfl-2015-2016           12  \n",
       "2     False          0  nfl-2015-2016           16  \n",
       "3     False          0  nfl-2015-2016           11  \n",
       "4      True          1  nfl-2015-2016           17  \n",
       "\n",
       "[5 rows x 118 columns]"
      ]
     },
     "execution_count": 2,
     "metadata": {},
     "output_type": "execute_result"
    }
   ],
   "source": [
    "# Uploading DataFrame and inspecting its contents\n",
    "df = pd.DataFrame()\n",
    "df = pd.read_csv('/Users/dwreiter/Desktop/Work/Springboard/NFL Capstone Project/Data Wrangling/nfl_df.csv', delimiter='\\t', index_col=0)\n",
    "df.head()"
   ]
  },
  {
   "cell_type": "markdown",
   "metadata": {},
   "source": [
    "** For each test below:\n",
    "<br>\n",
    "Ho = Statistic has no impact on a team's chance of winning\n",
    "<br>\n",
    "Ha = Statistic has an impact on a team's chance of winning\n",
    "<br>\n",
    "α = 0.05**"
   ]
  },
  {
   "cell_type": "code",
   "execution_count": 3,
   "metadata": {
    "collapsed": false
   },
   "outputs": [
    {
     "name": "stdout",
     "output_type": "stream",
     "text": [
      "Average amount of Road Rushing Attempts in Road Win: 30.4440677966\n",
      "Average amount of Road Rushing Attempts in Road Loss: 22.1288659794\n",
      "t-statistic: 17.2698667801\n",
      "p-value: 5.89954574468e-55\n"
     ]
    }
   ],
   "source": [
    "# Running a t-test for Road Rushing Attempts and Road Win\n",
    "print('Average amount of Road Rushing Attempts in Road Win: ' + str(df.loc[df['Road Win'], 'Road Rushing Atts'].mean()))\n",
    "print('Average amount of Road Rushing Attempts in Road Loss: ' + str(df.loc[df['Road Loss'], 'Road Rushing Atts'].mean()))\n",
    "\n",
    "t_stat, p = stats.ttest_ind(df.loc[df['Road Win'], 'Road Rushing Atts'], df.loc[df['Road Loss'], 'Road Rushing Atts'], equal_var=False)\n",
    "print('t-statistic: ' + str(t_stat))\n",
    "print('p-value: ' + str(p))"
   ]
  },
  {
   "cell_type": "markdown",
   "metadata": {},
   "source": [
    "** Because of how low the p-value is, we can reject the null hypothesis and say Road Rushing Attempts does have an impact on a Road Team's chance of winning.**"
   ]
  },
  {
   "cell_type": "code",
   "execution_count": 4,
   "metadata": {
    "collapsed": false
   },
   "outputs": [
    {
     "name": "stdout",
     "output_type": "stream",
     "text": [
      "Average amount of Road Time of Possession in Road Win: 1919.11864407\n",
      "Average amount of Road Time of Possession in Road Loss: 1702.22164948\n",
      "t-statistic: 11.5380986752\n",
      "p-value: 4.16229517181e-28\n"
     ]
    }
   ],
   "source": [
    "# Running a t-test for Road Time of Possession and Road Win\n",
    "print('Average amount of Road Time of Possession in Road Win: ' + str(df.loc[df['Road Win'], 'Road Time of Possession'].mean()))\n",
    "print('Average amount of Road Time of Possession in Road Loss: ' + str(df.loc[df['Road Loss'], 'Road Time of Possession'].mean()))\n",
    "\n",
    "t_stat, p = stats.ttest_ind(df.loc[df['Road Win'], 'Road Time of Possession'], df.loc[df['Road Loss'], 'Road Time of Possession'], equal_var=False)\n",
    "print('t-statistic: ' + str(t_stat))\n",
    "print('p-value: ' + str(p))"
   ]
  },
  {
   "cell_type": "markdown",
   "metadata": {},
   "source": [
    "** Because of how low the p-value is, we can reject the null hypothesis and say Road Time of Possession does have an impact on a Road Team's chance of winning.**"
   ]
  },
  {
   "cell_type": "code",
   "execution_count": 5,
   "metadata": {
    "collapsed": false
   },
   "outputs": [
    {
     "name": "stdout",
     "output_type": "stream",
     "text": [
      "Road Win                  False  True \n",
      "Road Passing First Downs              \n",
      "1                             1      0\n",
      "2                             2      0\n",
      "3                             4      0\n",
      "4                             6      1\n",
      "5                             7      5\n",
      "6                            11     11\n",
      "7                            20     15\n",
      "8                            30     17\n",
      "9                            39     27\n",
      "10                           39     25\n",
      "11                           39     35\n",
      "12                           35     27\n",
      "13                           37     25\n",
      "14                           29     29\n",
      "15                           17     28\n",
      "16                           22     16\n",
      "17                           23      7\n",
      "18                           11     10\n",
      "19                           10      7\n",
      "20                            5      6\n",
      "21                            1      4\n",
      "22                            2      0\n",
      "24                            1      0\n",
      "chi-squared: 28.7972496537\n",
      "p-value: 0.150740999025\n"
     ]
    }
   ],
   "source": [
    "# Running a chi-squared test for Road Passing First Downs and Road Win\n",
    "RPFD_RW_CT = pd.crosstab(df['Road Passing First Downs'], df['Road Win'])\n",
    "print(RPFD_RW_CT)\n",
    "chi, p, d_f, e_f = stats.chi2_contingency(RPFD_RW_CT)\n",
    "print('chi-squared: ' + str(chi))\n",
    "print('p-value: ' + str(p))"
   ]
  },
  {
   "cell_type": "markdown",
   "metadata": {},
   "source": [
    "** Because of how high the p-value is, we can accept the null hypothesis and say Road Passing First Downs does not have an impact on a Road Team's chance of winning.**"
   ]
  },
  {
   "cell_type": "code",
   "execution_count": 6,
   "metadata": {
    "collapsed": false
   },
   "outputs": [
    {
     "name": "stdout",
     "output_type": "stream",
     "text": [
      "Road Win                  False  True \n",
      "Road Passing First Downs              \n",
      "False                       233    163\n",
      "True                        158    132\n",
      "chi-squared for higher than median: 1.12413269528\n",
      "p-value for higher than median: 0.289030314887\n",
      "Road Win                  False  True \n",
      "Road Passing First Downs              \n",
      "False                       193    159\n",
      "True                        198    136\n",
      "chi-squared for lower than median: 1.21012863504\n",
      "p-value for lower than median: 0.27130664755\n"
     ]
    }
   ],
   "source": [
    "# Running a chi-squared test for Road Passing First Downs and Road Win with Filters\n",
    "RPFD_RW_CT_HMD = pd.crosstab(df['Road Passing First Downs'] > df['Road Passing First Downs'].median(), df['Road Win'])\n",
    "print(RPFD_RW_CT_HMD)\n",
    "chi, p, d_f, e_f = stats.chi2_contingency(RPFD_RW_CT_HMD)\n",
    "print('chi-squared for higher than median: ' + str(chi))\n",
    "print('p-value for higher than median: ' + str(p))\n",
    "\n",
    "RPFD_RW_CT_LMD = pd.crosstab(df['Road Passing First Downs'] < df['Road Passing First Downs'].median(), df['Road Win'])\n",
    "print(RPFD_RW_CT_LMD)\n",
    "chi, p, d_f, e_f = stats.chi2_contingency(RPFD_RW_CT_LMD)\n",
    "print('chi-squared for lower than median: ' + str(chi))\n",
    "print('p-value for lower than median: ' + str(p))"
   ]
  },
  {
   "cell_type": "markdown",
   "metadata": {},
   "source": [
    "** When filtering Road Passing First Downs by its median, we still see high p-values that further emphasize how the stat does not impact a Road Team's chance of winning.**"
   ]
  },
  {
   "cell_type": "code",
   "execution_count": 7,
   "metadata": {
    "collapsed": false
   },
   "outputs": [
    {
     "name": "stdout",
     "output_type": "stream",
     "text": [
      "Average amount of Road Passing First Downs in Road Win: 12.1389830508\n",
      "Average amount of Road Passing First Downs in Road Loss: 11.6701030928\n",
      "t-statistic: 1.6064041691\n",
      "p-value: 0.108669167328\n"
     ]
    }
   ],
   "source": [
    "# Running a t-test for Road Passing First Downs and Road Win\n",
    "print('Average amount of Road Passing First Downs in Road Win: ' + str(df.loc[df['Road Win'], 'Road Passing First Downs'].mean()))\n",
    "print('Average amount of Road Passing First Downs in Road Loss: ' + str(df.loc[df['Road Loss'], 'Road Passing First Downs'].mean()))\n",
    "\n",
    "t_stat, p = stats.ttest_ind(df.loc[df['Road Win'], 'Road Passing First Downs'], df.loc[df['Road Loss'], 'Road Passing First Downs'], equal_var=False)\n",
    "print('t-statistic: ' + str(t_stat))\n",
    "print('p-value: ' + str(p))"
   ]
  },
  {
   "cell_type": "markdown",
   "metadata": {},
   "source": [
    "** When running a t-test, we still find a high p-value for Road First Downs meaning it does not impact a Road Team's chance of winning.**"
   ]
  },
  {
   "cell_type": "code",
   "execution_count": 8,
   "metadata": {
    "collapsed": false
   },
   "outputs": [
    {
     "name": "stdout",
     "output_type": "stream",
     "text": [
      "Home Win           False  True \n",
      "Road Passing Atts              \n",
      "14                     1      0\n",
      "15                     1      1\n",
      "17                     2      1\n",
      "18                     5      1\n",
      "19                     2      1\n",
      "20                     1      2\n",
      "21                     8      1\n",
      "22                     5      4\n",
      "23                     4      1\n",
      "24                     8      3\n",
      "25                    11      6\n",
      "26                     5      6\n",
      "27                    16     12\n",
      "28                    14      9\n",
      "29                    18     15\n",
      "30                    25     11\n",
      "31                    15     11\n",
      "32                    15     19\n",
      "33                    18     23\n",
      "34                    19     12\n",
      "35                    11     20\n",
      "36                    16     20\n",
      "37                    11     25\n",
      "38                    12     17\n",
      "39                    14     17\n",
      "40                     8     15\n",
      "41                     7     19\n",
      "42                     4      9\n",
      "43                     2      6\n",
      "44                     2     21\n",
      "45                     6     16\n",
      "46                     3      9\n",
      "47                     1      8\n",
      "48                     2      8\n",
      "49                     0     10\n",
      "50                     1      8\n",
      "51                     1      2\n",
      "52                     0      5\n",
      "53                     0      5\n",
      "54                     0      2\n",
      "55                     0      1\n",
      "56                     1      1\n",
      "57                     0      1\n",
      "58                     0      2\n",
      "59                     2      1\n",
      "60                     0      1\n",
      "63                     0      1\n",
      "chi-squared: 103.677721227\n",
      "p-value: 2.44684267008e-06\n"
     ]
    }
   ],
   "source": [
    "# Running a chi-squared test for Road Passing Attempts and Home Win\n",
    "RPA_HW_CT = pd.crosstab(df['Road Passing Atts'], df['Home Win'])\n",
    "print(RPA_HW_CT)\n",
    "chi, p, d_f, e_f = stats.chi2_contingency(RPA_HW_CT)\n",
    "print('chi-squared: ' + str(chi))\n",
    "print('p-value: ' + str(p))"
   ]
  },
  {
   "cell_type": "markdown",
   "metadata": {},
   "source": [
    "** Because of how low the p-value is, we can reject the null hypothesis and say Road Passing Attempts does have an impact on a Home Team's chance of winning.**"
   ]
  },
  {
   "cell_type": "code",
   "execution_count": 9,
   "metadata": {
    "collapsed": false
   },
   "outputs": [
    {
     "name": "stdout",
     "output_type": "stream",
     "text": [
      "Home Win           False  True \n",
      "Road Passing Atts              \n",
      "False                204    159\n",
      "True                  93    230\n",
      "chi-squared for higher than median: 51.1787852518\n",
      "p-value for higher than median: 8.43250385099e-13\n",
      "Home Win           False  True \n",
      "Road Passing Atts              \n",
      "False                104    250\n",
      "True                 193    139\n",
      "chi-squared for lower than median: 56.5320754533\n",
      "p-value for lower than median: 5.52890899496e-14\n"
     ]
    }
   ],
   "source": [
    "# Running a chi-squared test for Road Passing Attempts and Home Win with Filters\n",
    "RPA_HW_CT_HMD = pd.crosstab(df['Road Passing Atts'] > df['Road Passing Atts'].median(), df['Home Win'])\n",
    "print(RPA_HW_CT_HMD)\n",
    "chi, p, d_f, e_f = stats.chi2_contingency(RPA_HW_CT_HMD)\n",
    "print('chi-squared for higher than median: ' + str(chi))\n",
    "print('p-value for higher than median: ' + str(p))\n",
    "\n",
    "RPA_HW_CT_LMD = pd.crosstab(df['Road Passing Atts'] < df['Road Passing Atts'].median(), df['Home Win'])\n",
    "print(RPA_HW_CT_LMD)\n",
    "chi, p, d_f, e_f = stats.chi2_contingency(RPA_HW_CT_LMD)\n",
    "print('chi-squared for lower than median: ' + str(chi))\n",
    "print('p-value for lower than median: ' + str(p))"
   ]
  },
  {
   "cell_type": "markdown",
   "metadata": {},
   "source": [
    "** When filtering Road Passing Attempts by its median, we still see low p-values that further emphasize how the stat does impact a Home Team's chance of winning.**"
   ]
  },
  {
   "cell_type": "code",
   "execution_count": 10,
   "metadata": {
    "collapsed": false
   },
   "outputs": [
    {
     "name": "stdout",
     "output_type": "stream",
     "text": [
      "Average amount of Road Passing Attempts in Home Win: 37.6709511568\n",
      "Average amount of Road Passing Attempts in Home Loss: 32.2406779661\n",
      "t-statistic: 9.31573275791\n",
      "p-value: 1.71966856267e-19\n"
     ]
    }
   ],
   "source": [
    "# Running a t-test for Road Passing Attempts and Home Win\n",
    "print('Average amount of Road Passing Attempts in Home Win: ' + str(df.loc[df['Home Win'], 'Road Passing Atts'].mean()))\n",
    "print('Average amount of Road Passing Attempts in Home Loss: ' + str(df.loc[df['Home Loss'], 'Road Passing Atts'].mean()))\n",
    "\n",
    "t_stat, p = stats.ttest_ind(df.loc[df['Home Win'], 'Road Passing Atts'], df.loc[df['Home Loss'], 'Road Passing Atts'], equal_var=False)\n",
    "print('t-statistic: ' + str(t_stat))\n",
    "print('p-value: ' + str(p))"
   ]
  },
  {
   "cell_type": "markdown",
   "metadata": {},
   "source": [
    "** When running a t-test, we still find a low p-value for Road Passing Attempts meaning it does impact a Home Team's chance of winning.**"
   ]
  },
  {
   "cell_type": "code",
   "execution_count": 11,
   "metadata": {
    "collapsed": false
   },
   "outputs": [
    {
     "name": "stdout",
     "output_type": "stream",
     "text": [
      "Home Win             False  True \n",
      "Road Sacks Given Up              \n",
      "0                       59     30\n",
      "1                       78     68\n",
      "2                       80     96\n",
      "3                       47     79\n",
      "4                       19     47\n",
      "5                        9     38\n",
      "6                        4     20\n",
      "7                        1      7\n",
      "8                        0      2\n",
      "9                        0      2\n",
      "chi-squared: 57.3482266227\n",
      "p-value: 4.33405906973e-09\n"
     ]
    }
   ],
   "source": [
    "# Running a chi-squared test for Road Sacks Given Up and Home Win\n",
    "RSGU_HW_CT = pd.crosstab(df['Road Sacks Given Up'], df['Home Win'])\n",
    "print(RSGU_HW_CT )\n",
    "chi, p, d_f, e_f = stats.chi2_contingency(RSGU_HW_CT)\n",
    "print('chi-squared: ' + str(chi))\n",
    "print('p-value: ' + str(p))"
   ]
  },
  {
   "cell_type": "markdown",
   "metadata": {},
   "source": [
    "** Because of how low the p-value is, we can reject the null hypothesis and say Road Sacks Given Up does have an impact on a Home Team's chance of winning.**"
   ]
  },
  {
   "cell_type": "code",
   "execution_count": 12,
   "metadata": {
    "collapsed": false
   },
   "outputs": [
    {
     "name": "stdout",
     "output_type": "stream",
     "text": [
      "Home Win             False  True \n",
      "Road Sacks Given Up              \n",
      "False                  217    194\n",
      "True                    80    195\n",
      "chi-squared for higher than median: 36.7587366997\n",
      "p-value for higher than median: 1.33690144645e-09\n",
      "Home Win             False  True \n",
      "Road Sacks Given Up              \n",
      "False                  160    291\n",
      "True                   137     98\n",
      "chi-squared for lower than median: 31.8516465066\n",
      "p-value for lower than median: 1.66408550223e-08\n"
     ]
    }
   ],
   "source": [
    "# Running a chi-squared test for Road Sacks Given Up and Home Win with Filters\n",
    "RSGU_HW_CT_HMD = pd.crosstab(df['Road Sacks Given Up'] > df['Road Sacks Given Up'].median(), df['Home Win'])\n",
    "print(RSGU_HW_CT_HMD)\n",
    "chi, p, d_f, e_f = stats.chi2_contingency(RSGU_HW_CT_HMD)\n",
    "print('chi-squared for higher than median: ' + str(chi))\n",
    "print('p-value for higher than median: ' + str(p))\n",
    "\n",
    "RSGU_HW_CT_LMD = pd.crosstab(df['Road Sacks Given Up'] < df['Road Sacks Given Up'].median(), df['Home Win'])\n",
    "print(RSGU_HW_CT_LMD)\n",
    "chi, p, d_f, e_f = stats.chi2_contingency(RSGU_HW_CT_LMD)\n",
    "print('chi-squared for lower than median: ' + str(chi))\n",
    "print('p-value for lower than median: ' + str(p))"
   ]
  },
  {
   "cell_type": "markdown",
   "metadata": {},
   "source": [
    "** When filtering Road Sacks Given Up by its median, we still see low p-values that further emphasize how the stat does impact a Home Team's chance of winning.**"
   ]
  },
  {
   "cell_type": "code",
   "execution_count": 13,
   "metadata": {
    "collapsed": false
   },
   "outputs": [
    {
     "name": "stdout",
     "output_type": "stream",
     "text": [
      "Average amount of Road Sacks Given Up in Home Win: 2.77120822622\n",
      "Average amount of Road Sacks Given Up in Home Loss: 1.79322033898\n",
      "t-statistic: 7.98954623203\n",
      "p-value: 5.79897176919e-15\n"
     ]
    }
   ],
   "source": [
    "# Running a t-test for Road Sacks Given Up and Home Win\n",
    "print('Average amount of Road Sacks Given Up in Home Win: ' + str(df.loc[df['Home Win'], 'Road Sacks Given Up'].mean()))\n",
    "print('Average amount of Road Sacks Given Up in Home Loss: ' + str(df.loc[df['Home Loss'], 'Road Sacks Given Up'].mean()))\n",
    "\n",
    "t_stat, p = stats.ttest_ind(df.loc[df['Home Win'], 'Road Sacks Given Up'], df.loc[df['Home Loss'], 'Road Sacks Given Up'], equal_var=False)\n",
    "print('t-statistic: ' + str(t_stat))\n",
    "print('p-value: ' + str(p))"
   ]
  },
  {
   "cell_type": "markdown",
   "metadata": {},
   "source": [
    "** When running a t-test, we still find a low p-value for Road Sacks Given Up meaning it does impact a Home Team's chance of winning.**"
   ]
  },
  {
   "cell_type": "code",
   "execution_count": 14,
   "metadata": {
    "collapsed": false
   },
   "outputs": [
    {
     "name": "stdout",
     "output_type": "stream",
     "text": [
      "Home Win      False  True \n",
      "Home INT TDs              \n",
      "0               290    345\n",
      "1                 7     41\n",
      "2                 0      3\n",
      "chi-squared: 19.8662285319\n",
      "p-value: 4.85403927745e-05\n"
     ]
    }
   ],
   "source": [
    "# Running a chi-squared test for Home Interception Touchdowns and Home Win\n",
    "HITD_HW_CT = pd.crosstab(df['Home INT TDs'], df['Home Win'])\n",
    "print(HITD_HW_CT )\n",
    "chi, p, d_f, e_f = stats.chi2_contingency(HITD_HW_CT)\n",
    "print('chi-squared: ' + str(chi))\n",
    "print('p-value: ' + str(p))"
   ]
  },
  {
   "cell_type": "markdown",
   "metadata": {},
   "source": [
    "** Because of how low the p-value is, we can reject the null hypothesis and say Home INT TDs does have an impact on a Home Team's chance of winning.**"
   ]
  },
  {
   "cell_type": "code",
   "execution_count": 15,
   "metadata": {
    "collapsed": false
   },
   "outputs": [
    {
     "name": "stdout",
     "output_type": "stream",
     "text": [
      "Home Win      False  True \n",
      "Home INT TDs              \n",
      "False           290    345\n",
      "True              7     44\n",
      "chi-squared for higher than median: 18.3420496245\n",
      "p-value for higher than median: 1.84587652133e-05\n",
      "Home Win      False  True \n",
      "Home INT TDs              \n",
      "False           297    389\n",
      "chi-squared for lower than median: 0.0\n",
      "p-value for lower than median: 1.0\n"
     ]
    }
   ],
   "source": [
    "# Running a chi-squared test for Home Interception Touchdowns and Home Win with Filters\n",
    "HITD_HW_CT_HMD = pd.crosstab(df['Home INT TDs'] > df['Home INT TDs'].median(), df['Home Win'])\n",
    "print(HITD_HW_CT_HMD)\n",
    "chi, p, d_f, e_f = stats.chi2_contingency(HITD_HW_CT_HMD)\n",
    "print('chi-squared for higher than median: ' + str(chi))\n",
    "print('p-value for higher than median: ' + str(p))\n",
    "\n",
    "HITD_HW_CT_LMD = pd.crosstab(df['Home INT TDs'] < df['Home INT TDs'].median(), df['Home Win'])\n",
    "print(HITD_HW_CT_LMD)\n",
    "chi, p, d_f, e_f = stats.chi2_contingency(HITD_HW_CT_LMD)\n",
    "print('chi-squared for lower than median: ' + str(chi))\n",
    "print('p-value for lower than median: ' + str(p))"
   ]
  },
  {
   "cell_type": "markdown",
   "metadata": {},
   "source": [
    "** When filtering Home INT TDs by its median, we still see a low p-value above the median but a high p-value beneath the median. This may be because of how uncommon this statistic can be and since many times it could be equal to 0, when you get less than 1, Home INT TDs may not actually have an impact on a Home Team's chance of winning.**"
   ]
  },
  {
   "cell_type": "code",
   "execution_count": 16,
   "metadata": {
    "collapsed": false
   },
   "outputs": [
    {
     "name": "stdout",
     "output_type": "stream",
     "text": [
      "Average amount of Home Interception Touchdowns in Home Win: 0.120822622108\n",
      "Average amount of Home Interception Touchdowns in Home Loss: 0.0237288135593\n",
      "t-statistic: 4.90196112682\n",
      "p-value: 1.24411005466e-06\n"
     ]
    }
   ],
   "source": [
    "# Running a t-test for Home Interception Touchdowns and Home Win\n",
    "print('Average amount of Home Interception Touchdowns in Home Win: ' + str(df.loc[df['Home Win'], 'Home INT TDs'].mean()))\n",
    "print('Average amount of Home Interception Touchdowns in Home Loss: ' + str(df.loc[df['Home Loss'], 'Home INT TDs'].mean()))\n",
    "\n",
    "t_stat, p = stats.ttest_ind(df.loc[df['Home Win'], 'Home INT TDs'], df.loc[df['Home Loss'], 'Home INT TDs'], equal_var=False)\n",
    "print('t-statistic: ' + str(t_stat))\n",
    "print('p-value: ' + str(p))"
   ]
  },
  {
   "cell_type": "markdown",
   "metadata": {},
   "source": [
    "** When running a t-test, we still find a low p-value for Home INT TDs meaning it does impact a Home Team's chance of winning.**"
   ]
  },
  {
   "cell_type": "code",
   "execution_count": 17,
   "metadata": {
    "collapsed": false
   },
   "outputs": [
    {
     "name": "stdout",
     "output_type": "stream",
     "text": [
      "Home Win                   False  True \n",
      "Home Goal To Go Successes              \n",
      "0                            121     72\n",
      "1                            113    153\n",
      "2                             46    108\n",
      "3                             14     39\n",
      "4                              3     13\n",
      "5                              0      4\n",
      "chi-squared: 54.0936640619\n",
      "p-value: 2.00495339211e-10\n"
     ]
    }
   ],
   "source": [
    "# Running a chi-squared test for Home Goal To Go Successes and Home Win\n",
    "HGTGS_HW_CT = pd.crosstab(df['Home Goal To Go Successes'], df['Home Win'])\n",
    "print(HGTGS_HW_CT)\n",
    "chi, p, d_f, e_f = stats.chi2_contingency(HGTGS_HW_CT)\n",
    "print('chi-squared: ' + str(chi))\n",
    "print('p-value: ' + str(p))"
   ]
  },
  {
   "cell_type": "markdown",
   "metadata": {},
   "source": [
    "** Because of how low the p-value is, we can reject the null hypothesis and say Home Goal To Go Successes does have an impact on a Home Team's chance of winning.**"
   ]
  },
  {
   "cell_type": "code",
   "execution_count": 18,
   "metadata": {
    "collapsed": false
   },
   "outputs": [
    {
     "name": "stdout",
     "output_type": "stream",
     "text": [
      "Home Win                   False  True \n",
      "Home Goal To Go Successes              \n",
      "False                        234    225\n",
      "True                          63    164\n",
      "chi-squared for higher than median: 32.4375161059\n",
      "p-value for higher than median: 1.23087130834e-08\n",
      "Home Win                   False  True \n",
      "Home Goal To Go Successes              \n",
      "False                        176    317\n",
      "True                         121     72\n",
      "chi-squared for lower than median: 40.0770374079\n",
      "p-value for lower than median: 2.44142053736e-10\n"
     ]
    }
   ],
   "source": [
    "# Running a chi-squared test for Home Goal To Go Successes and Home Win with Filters\n",
    "HGTGS_HW_CT_HMD = pd.crosstab(df['Home Goal To Go Successes'] > df['Home Goal To Go Successes'].median(), df['Home Win'])\n",
    "print(HGTGS_HW_CT_HMD)\n",
    "chi, p, d_f, e_f = stats.chi2_contingency(HGTGS_HW_CT_HMD)\n",
    "print('chi-squared for higher than median: ' + str(chi))\n",
    "print('p-value for higher than median: ' + str(p))\n",
    "\n",
    "HGTGS_HW_CT_LMD = pd.crosstab(df['Home Goal To Go Successes'] < df['Home Goal To Go Successes'].median(), df['Home Win'])\n",
    "print(HGTGS_HW_CT_LMD)\n",
    "chi, p, d_f, e_f = stats.chi2_contingency(HGTGS_HW_CT_LMD)\n",
    "print('chi-squared for lower than median: ' + str(chi))\n",
    "print('p-value for lower than median: ' + str(p))"
   ]
  },
  {
   "cell_type": "markdown",
   "metadata": {},
   "source": [
    "** When filtering Home Goal To Go Successes by its median, we still see low p-values that further emphasize how the stat does impact a Home Team's chance of winning.**"
   ]
  },
  {
   "cell_type": "code",
   "execution_count": 19,
   "metadata": {
    "collapsed": false
   },
   "outputs": [
    {
     "name": "stdout",
     "output_type": "stream",
     "text": [
      "Average amount of Home Goal To Go Successes in Home Win: 1.43444730077\n",
      "Average amount of Home Goal To Go Successes in Home Loss: 0.871186440678\n",
      "t-statistic: 7.43327638772\n",
      "p-value: 3.22954331479e-13\n"
     ]
    }
   ],
   "source": [
    "# Running a t-test for Home Goal To Go Successes and Home Win\n",
    "print('Average amount of Home Goal To Go Successes in Home Win: ' + str(df.loc[df['Home Win'], 'Home Goal To Go Successes'].mean()))\n",
    "print('Average amount of Home Goal To Go Successes in Home Loss: ' + str(df.loc[df['Home Loss'], 'Home Goal To Go Successes'].mean()))\n",
    "\n",
    "t_stat, p = stats.ttest_ind(df.loc[df['Home Win'], 'Home Goal To Go Successes'], df.loc[df['Home Loss'], 'Home Goal To Go Successes'], equal_var=False)\n",
    "print('t-statistic: ' + str(t_stat))\n",
    "print('p-value: ' + str(p))"
   ]
  },
  {
   "cell_type": "markdown",
   "metadata": {},
   "source": [
    "** When running a t-test, we still find a low p-value for Home Goal To Go Successes meaning it does impact a Home Team's chance of winning.**"
   ]
  },
  {
   "cell_type": "code",
   "execution_count": 20,
   "metadata": {
    "collapsed": false
   },
   "outputs": [
    {
     "name": "stdout",
     "output_type": "stream",
     "text": [
      "Home Win                    False  True \n",
      "Road Fourth Down Successes              \n",
      "0                             215    223\n",
      "1                              66    116\n",
      "2                              15     37\n",
      "3                               1     10\n",
      "4                               0      3\n",
      "chi-squared: 21.6040833409\n",
      "p-value: 0.000240264746781\n"
     ]
    }
   ],
   "source": [
    "# Running a chi-squared test for Road Fourth Down Successes and Home Win\n",
    "RFDS_HW_CT = pd.crosstab(df['Road Fourth Down Successes'], df['Home Win'])\n",
    "print(RFDS_HW_CT)\n",
    "chi, p, d_f, e_f = stats.chi2_contingency(RFDS_HW_CT)\n",
    "print('chi-squared: ' + str(chi))\n",
    "print('p-value: ' + str(p))"
   ]
  },
  {
   "cell_type": "markdown",
   "metadata": {},
   "source": [
    "** Because of how low the p-value is, we can reject the null hypothesis and say Road Fourth Down Successes does have an impact on a Home Team's chance of winning.**"
   ]
  },
  {
   "cell_type": "code",
   "execution_count": 21,
   "metadata": {
    "collapsed": false
   },
   "outputs": [
    {
     "name": "stdout",
     "output_type": "stream",
     "text": [
      "Home Win                    False  True \n",
      "Road Fourth Down Successes              \n",
      "False                         215    223\n",
      "True                           82    166\n",
      "chi-squared for higher than median: 15.9111378979\n",
      "p-value for higher than median: 6.63868951184e-05\n",
      "Home Win                    False  True \n",
      "Road Fourth Down Successes              \n",
      "False                         297    389\n",
      "chi-squared for lower than median: 0.0\n",
      "p-value for lower than median: 1.0\n"
     ]
    }
   ],
   "source": [
    "# Running a chi-squared test for Road Fourth Down Successes and Home Win with Filters\n",
    "RFDS_HW_CT_HMD = pd.crosstab(df['Road Fourth Down Successes'] > df['Road Fourth Down Successes'].median(), df['Home Win'])\n",
    "print(RFDS_HW_CT_HMD)\n",
    "chi, p, d_f, e_f = stats.chi2_contingency(RFDS_HW_CT_HMD)\n",
    "print('chi-squared for higher than median: ' + str(chi))\n",
    "print('p-value for higher than median: ' + str(p))\n",
    "\n",
    "RFDS_HW_CT_LMD = pd.crosstab(df['Road Fourth Down Successes'] < df['Road Fourth Down Successes'].median(), df['Home Win'])\n",
    "print(RFDS_HW_CT_LMD)\n",
    "chi, p, d_f, e_f = stats.chi2_contingency(RFDS_HW_CT_LMD)\n",
    "print('chi-squared for lower than median: ' + str(chi))\n",
    "print('p-value for lower than median: ' + str(p))"
   ]
  },
  {
   "cell_type": "markdown",
   "metadata": {},
   "source": [
    "** When filtering Road Fourth Down Successes by its median, we still see a low p-value above the median but a high p-value beneath the median. This may be because of how infrequently teams go for Fourth Down. The more away teams go for it, the more successes they may have while if they only go for it once or not at all, Road Fourth Down Successes may not actually have an impact on a Home Team's chance of winning.**"
   ]
  },
  {
   "cell_type": "code",
   "execution_count": 22,
   "metadata": {
    "collapsed": false
   },
   "outputs": [
    {
     "name": "stdout",
     "output_type": "stream",
     "text": [
      "Average amount of Road Fourth Down Successes in Home Win: 0.596401028278\n",
      "Average amount of Road Fourth Down Successes in Home Loss: 0.335593220339\n",
      "t-statistic: 4.82630177351\n",
      "p-value: 1.71888749093e-06\n"
     ]
    }
   ],
   "source": [
    "# Running a t-test for Road Fourth Down Successes and Home Win\n",
    "print('Average amount of Road Fourth Down Successes in Home Win: ' + str(df.loc[df['Home Win'], 'Road Fourth Down Successes'].mean()))\n",
    "print('Average amount of Road Fourth Down Successes in Home Loss: ' + str(df.loc[df['Home Loss'], 'Road Fourth Down Successes'].mean()))\n",
    "\n",
    "t_stat, p = stats.ttest_ind(df.loc[df['Home Win'], 'Road Fourth Down Successes'], df.loc[df['Home Loss'], 'Road Fourth Down Successes'], equal_var=False)\n",
    "print('t-statistic: ' + str(t_stat))\n",
    "print('p-value: ' + str(p))"
   ]
  },
  {
   "cell_type": "markdown",
   "metadata": {},
   "source": [
    "** When running a t-test, we still find a low p-value for Road Fourth Down Successes meaning it does impact a Home Team's chance of winning.**"
   ]
  },
  {
   "cell_type": "code",
   "execution_count": 23,
   "metadata": {
    "collapsed": false
   },
   "outputs": [
    {
     "name": "stdout",
     "output_type": "stream",
     "text": [
      "Average amount of Road Rushing Yards in Road Win: 126.152542373\n",
      "Average amount of Road Rushing Yards in Road Loss: 92.8659793814\n",
      "Roading Rushing Yards t-statistic: 9.19537876987\n",
      "Road Rushing Yards p-value: 6.56489564669e-19\n",
      "Average amount of Road Passing Yards in Road Win: 249.972881356\n",
      "Average amount of Road Passing Yards in Road Loss: 242.858247423\n",
      "Roading Passing Yards t-statistic: 1.2575033784\n",
      "Road Passing Yards p-value: 0.209031049196\n",
      "Average amount of Road Total Yards in Road Win: 376.125423729\n",
      "Average amount of Road Total Yards in Road Loss: 335.724226804\n",
      "Road Total Yards t-statistic: 6.74881320859\n",
      "Road Total Yards p-value: 3.34810154221e-11\n"
     ]
    }
   ],
   "source": [
    "# Comparing t-tests for Road Rushing Yards, Road Passing Yards and Road Total Yards with Road Win\n",
    "print('Average amount of Road Rushing Yards in Road Win: ' + str(df.loc[df['Road Win'], 'Road Rushing Yds'].mean()))\n",
    "print('Average amount of Road Rushing Yards in Road Loss: ' + str(df.loc[df['Road Loss'], 'Road Rushing Yds'].mean()))\n",
    "\n",
    "RRY_t_stat, RRY_p = stats.ttest_ind(df.loc[df['Road Win'],'Road Rushing Yds'], df.loc[df['Road Loss'], 'Road Rushing Yds'], equal_var=False)\n",
    "print('Roading Rushing Yards t-statistic: ' + str(RRY_t_stat))\n",
    "print('Road Rushing Yards p-value: ' + str(RRY_p))\n",
    "\n",
    "print('Average amount of Road Passing Yards in Road Win: ' + str(df.loc[df['Road Win'], 'Road Passing Yds'].mean()))\n",
    "print('Average amount of Road Passing Yards in Road Loss: ' + str(df.loc[df['Road Loss'], 'Road Passing Yds'].mean()))\n",
    "\n",
    "RPY_t_stat, RPY_p = stats.ttest_ind(df.loc[df['Road Win'], 'Road Passing Yds'], df.loc[df['Road Loss'], 'Road Passing Yds'], equal_var=False)\n",
    "print('Roading Passing Yards t-statistic: ' + str(RPY_t_stat))\n",
    "print('Road Passing Yards p-value: ' + str(RPY_p))\n",
    "\n",
    "print('Average amount of Road Total Yards in Road Win: ' + str(df.loc[df['Road Win'], 'Road Total Yds'].mean()))\n",
    "print('Average amount of Road Total Yards in Road Loss: ' + str(df.loc[df['Road Loss'], 'Road Total Yds'].mean()))\n",
    "\n",
    "RTY_t_stat, RTY_p = stats.ttest_ind(df.loc[df['Road Win'], 'Road Total Yds'], df.loc[df['Road Loss'], 'Road Total Yds'], equal_var=False)\n",
    "print('Road Total Yards t-statistic: ' + str(RTY_t_stat))\n",
    "print('Road Total Yards p-value: ' + str(RTY_p))"
   ]
  },
  {
   "cell_type": "markdown",
   "metadata": {},
   "source": [
    "** Because of how low the p-values are for Road Rushing Yards and Road Total Yards, we can reject the null hypothesis and say that both have an impact on a Road Team's chance of winning. However, because of how high the p-value is for Road Passing Yards, we can accept the null hypothesis and say that it does not have an impact on a Road Team's chance of winning.**"
   ]
  },
  {
   "cell_type": "code",
   "execution_count": 24,
   "metadata": {
    "collapsed": false
   },
   "outputs": [
    {
     "name": "stdout",
     "output_type": "stream",
     "text": [
      "Average amount of Home Rushing Yards in Home Win: 132.066838046\n",
      "Average amount of Home Rushing Yards in Home Loss: 96.0169491525\n",
      "Home Rushing Yards t-statistic: 10.3404950095\n",
      "Home Rushing Yards p-value: 2.21865803101e-23\n",
      "Average amount of Home Passing Yards in Home Win: 258.285347044\n",
      "Average amount of Home Passing Yards in Home Loss: 252.13220339\n",
      "Home Passing Yards t-statistic: 1.13272589041\n",
      "Home Passing Yards p-value: 0.257748779813\n",
      "Average amount of Home Total Yards in Home Win: 390.35218509\n",
      "Average amount of Home Total Yards in Home Loss: 348.149152542\n",
      "Home Total Yards t-statistic: 7.6370938345\n",
      "Home Total Yards p-value: 8.12502710132e-14\n"
     ]
    }
   ],
   "source": [
    "# Comparing t-tests for Home Rushing Yards, Home Passing Yards and Home Total Yards with Home Win\n",
    "print('Average amount of Home Rushing Yards in Home Win: ' + str(df.loc[df['Home Win'], 'Home Rushing Yds'].mean()))\n",
    "print('Average amount of Home Rushing Yards in Home Loss: ' + str(df.loc[df['Home Loss'], 'Home Rushing Yds'].mean()))\n",
    "\n",
    "HRY_t_stat, HRY_p = stats.ttest_ind(df.loc[df['Home Win'], 'Home Rushing Yds'], df.loc[df['Home Loss'], 'Home Rushing Yds'], equal_var=False)\n",
    "print('Home Rushing Yards t-statistic: ' + str(HRY_t_stat))\n",
    "print('Home Rushing Yards p-value: ' + str(HRY_p))\n",
    "\n",
    "print('Average amount of Home Passing Yards in Home Win: ' + str(df.loc[df['Home Win'], 'Home Passing Yds'].mean()))\n",
    "print('Average amount of Home Passing Yards in Home Loss: ' + str(df.loc[df['Home Loss'], 'Home Passing Yds'].mean()))\n",
    "\n",
    "HPY_t_stat, HPY_p = stats.ttest_ind(df.loc[df['Home Win'], 'Home Passing Yds'], df.loc[df['Home Loss'], 'Home Passing Yds'], equal_var=False)\n",
    "print('Home Passing Yards t-statistic: ' + str(HPY_t_stat))\n",
    "print('Home Passing Yards p-value: ' + str(HPY_p))\n",
    "\n",
    "print('Average amount of Home Total Yards in Home Win: ' + str(df.loc[df['Home Win'], 'Home Total Yds'].mean()))\n",
    "print('Average amount of Home Total Yards in Home Loss: ' + str(df.loc[df['Home Loss'], 'Home Total Yds'].mean()))\n",
    "\n",
    "HTY_t_stat, HTY_p = stats.ttest_ind(df.loc[df['Home Win'], 'Home Total Yds'], df.loc[df['Home Loss'], 'Home Total Yds'], equal_var=False)\n",
    "print('Home Total Yards t-statistic: ' + str(HTY_t_stat))\n",
    "print('Home Total Yards p-value: ' + str(HTY_p))"
   ]
  },
  {
   "cell_type": "markdown",
   "metadata": {},
   "source": [
    "** Because of how low the p-values are for Home Rushing Yards and Home Total Yards, we can reject the null hypothesis and say that both have an impact on a Home Team's chance of winning. However, because of how high the p-value is for Home Passing Yards, we can accept the null hypothesis and say that it does not have an impact on a Home Team's chance of winning.**"
   ]
  },
  {
   "cell_type": "code",
   "execution_count": 25,
   "metadata": {
    "collapsed": false
   },
   "outputs": [
    {
     "name": "stdout",
     "output_type": "stream",
     "text": [
      "r: 0.0332237989546\n",
      "p-value: 0.384936055995\n"
     ]
    }
   ],
   "source": [
    "# Running a Pearson Correlation test between Road Total Yards and Home Total Yards\n",
    "r, p = stats.pearsonr(df['Road Total Yds'], df['Home Total Yds'])\n",
    "print('r: ' + str(r))\n",
    "print('p-value: ' + str(p))"
   ]
  },
  {
   "cell_type": "markdown",
   "metadata": {},
   "source": [
    "** Because of how high the p-value is, we can say the relationship between Road Total Yards and Home Total Yards is not statistically significant and also that the correlation between them is not equal to 0. Since an increase in Road Total Yards is not predictive of Home Total Yards, this negates the idea of a shootout.**"
   ]
  },
  {
   "cell_type": "code",
   "execution_count": 26,
   "metadata": {
    "collapsed": false
   },
   "outputs": [
    {
     "name": "stdout",
     "output_type": "stream",
     "text": [
      "Average amount of Road Points in Road Win: 27.0406779661\n",
      "Average amount of Road Points in Road Loss: 16.6675257732\n",
      "Road Points t-statistic: 17.3265225416\n",
      "Road Points p-value: 2.23599858203e-55\n",
      "Average amount of Home Points in Home Win: 28.5706940874\n",
      "Average amount of Home Points in Home Loss: 16.9220338983\n",
      "Home Points t-statistic: 18.6748510633\n",
      "Home Points p-value: 8.08943267606e-63\n"
     ]
    }
   ],
   "source": [
    "# Comparing t-tests for Road Points with Road Win and Home Points with Home Win\n",
    "print('Average amount of Road Points in Road Win: ' + str(df.loc[df['Road Win'], 'Road Points'].mean()))\n",
    "print('Average amount of Road Points in Road Loss: ' + str(df.loc[df['Road Loss'], 'Road Points'].mean()))\n",
    "\n",
    "RP_t_stat, RP_p = stats.ttest_ind(df.loc[df['Road Win'], 'Road Points'], df.loc[df['Road Loss'], 'Road Points'], equal_var=False)\n",
    "print('Road Points t-statistic: ' + str(RP_t_stat))\n",
    "print('Road Points p-value: ' + str(RP_p))\n",
    "\n",
    "print('Average amount of Home Points in Home Win: ' + str(df.loc[df['Home Win'], 'Home Points'].mean()))\n",
    "print('Average amount of Home Points in Home Loss: ' + str(df.loc[df['Home Loss'], 'Home Points'].mean()))\n",
    "\n",
    "HP_t_stat, HP_p = stats.ttest_ind(df.loc[df['Home Win'], 'Home Points'], df.loc[df['Home Loss'], 'Home Points'], equal_var=False)\n",
    "print('Home Points t-statistic: ' + str(HP_t_stat))\n",
    "print('Home Points p-value: ' + str(HP_p))"
   ]
  },
  {
   "cell_type": "markdown",
   "metadata": {},
   "source": [
    "** Because of how low the p-value is for Road Points, we can reject the null hypothesis and say it does have an impact on a Road Team's chance of winning. Also, because of how low the p-value is for Home Points, we can reject the null hypothesis and say it does have an impact on a Home Team's chance of winning.**"
   ]
  },
  {
   "cell_type": "code",
   "execution_count": 27,
   "metadata": {
    "collapsed": false
   },
   "outputs": [
    {
     "name": "stdout",
     "output_type": "stream",
     "text": [
      "r: -0.0231055999376\n",
      "p-value: 0.545744131302\n"
     ]
    }
   ],
   "source": [
    "# Running a Pearson Correlation test between Road Points and Home Points\n",
    "r, p = stats.pearsonr(df['Road Points'], df['Home Points'])\n",
    "print('r: ' + str(r))\n",
    "print('p-value: ' + str(p))"
   ]
  },
  {
   "cell_type": "markdown",
   "metadata": {},
   "source": [
    "** Because of how high the p-value is, we can say the relationship between Road Points and Home Points is not statistically significant and also that the correlation between them is not equal to 0. Since an increase in Road Points is not predictive of Home Points, this negates the idea of a shootout.**"
   ]
  },
  {
   "cell_type": "code",
   "execution_count": 28,
   "metadata": {
    "collapsed": false
   },
   "outputs": [
    {
     "name": "stdout",
     "output_type": "stream",
     "text": [
      "Road Win            False  True \n",
      "Road INTs Given Up              \n",
      "0                     122    188\n",
      "1                     146     83\n",
      "2                      86     21\n",
      "3                      26      3\n",
      "4                       8      0\n",
      "5                       2      0\n",
      "6                       1      0\n",
      "chi-squared: 88.407798681\n",
      "p-value: 6.48671361548e-17\n",
      "Home Win            False  True \n",
      "Road INTs Given Up              \n",
      "0                     189    121\n",
      "1                      83    146\n",
      "2                      22     85\n",
      "3                       3     26\n",
      "4                       0      8\n",
      "5                       0      2\n",
      "6                       0      1\n",
      "chi-squared: 87.8242321727\n",
      "p-value: 8.57279795263e-17\n"
     ]
    }
   ],
   "source": [
    "# Running a chi-squared test for Road Interceptions Given Up and Road Win as well as Home Win\n",
    "RIGU_RW_CT = pd.crosstab(df['Road INTs Given Up'], df['Road Win'])\n",
    "print(RIGU_RW_CT)\n",
    "chi, p, d_f, e_f = stats.chi2_contingency(RIGU_RW_CT)\n",
    "print('chi-squared: ' + str(chi))\n",
    "print('p-value: ' + str(p))\n",
    "\n",
    "RIGU_HW_CT = pd.crosstab(df['Road INTs Given Up'], df['Home Win'])\n",
    "print(RIGU_HW_CT)\n",
    "chi, p, d_f, e_f = stats.chi2_contingency(RIGU_HW_CT)\n",
    "print('chi-squared: ' + str(chi))\n",
    "print('p-value: ' + str(p))"
   ]
  },
  {
   "cell_type": "markdown",
   "metadata": {},
   "source": [
    "** Because of how low the p-values are, we can reject the null hypothesis and say Road INTs Given Up does have an impact on Road and Home Teams' chances of winning.**"
   ]
  },
  {
   "cell_type": "code",
   "execution_count": 29,
   "metadata": {
    "collapsed": false
   },
   "outputs": [
    {
     "name": "stdout",
     "output_type": "stream",
     "text": [
      "Road Win            False  True \n",
      "Road INTs Given Up              \n",
      "False                 268    271\n",
      "True                  123     24\n",
      "chi-squared for higher than median: 52.9431741666\n",
      "p-value for higher than median: 3.43339107785e-13\n",
      "Road Win            False  True \n",
      "Road INTs Given Up              \n",
      "False                 269    107\n",
      "True                  122    188\n",
      "chi-squared for lower than median: 70.5143907561\n",
      "p-value for lower than median: 4.56921179914e-17\n",
      "Home Win            False  True \n",
      "Road INTs Given Up              \n",
      "False                 272    267\n",
      "True                   25    122\n",
      "chi-squared for higher than median: 51.3081834942\n",
      "p-value for higher than median: 7.8945851331e-13\n",
      "Home Win            False  True \n",
      "Road INTs Given Up              \n",
      "False                 108    268\n",
      "True                  189    121\n",
      "chi-squared for lower than median: 70.6498419603\n",
      "p-value for lower than median: 4.26601880014e-17\n"
     ]
    }
   ],
   "source": [
    "# Running a chi-squared test for Road Interceptions Given Up and Road Win as well as Home Win with Filters\n",
    "RIGU_RW_CT_HMD = pd.crosstab(df['Road INTs Given Up'] > df['Road INTs Given Up'].median(), df['Road Win'])\n",
    "print(RIGU_RW_CT_HMD)\n",
    "chi, p, d_f, e_f = stats.chi2_contingency(RIGU_RW_CT_HMD)\n",
    "print('chi-squared for higher than median: ' + str(chi))\n",
    "print('p-value for higher than median: ' + str(p))\n",
    "\n",
    "RIGU_RW_CT_LMD = pd.crosstab(df['Road INTs Given Up'] < df['Road INTs Given Up'].median(), df['Road Win'])\n",
    "print(RIGU_RW_CT_LMD)\n",
    "chi, p, d_f, e_f = stats.chi2_contingency(RIGU_RW_CT_LMD)\n",
    "print('chi-squared for lower than median: ' + str(chi))\n",
    "print('p-value for lower than median: ' + str(p))\n",
    "\n",
    "RIGU_HW_CT_HMD = pd.crosstab(df['Road INTs Given Up'] > df['Road INTs Given Up'].median(), df['Home Win'])\n",
    "print(RIGU_HW_CT_HMD)\n",
    "chi, p, d_f, e_f = stats.chi2_contingency(RIGU_HW_CT_HMD)\n",
    "print('chi-squared for higher than median: ' + str(chi))\n",
    "print('p-value for higher than median: ' + str(p))\n",
    "\n",
    "RIGU_HW_CT_LMD = pd.crosstab(df['Road INTs Given Up'] < df['Road INTs Given Up'].median(), df['Home Win'])\n",
    "print(RIGU_HW_CT_LMD)\n",
    "chi, p, d_f, e_f = stats.chi2_contingency(RIGU_HW_CT_LMD)\n",
    "print('chi-squared for lower than median: ' + str(chi))\n",
    "print('p-value for lower than median: ' + str(p))"
   ]
  },
  {
   "cell_type": "markdown",
   "metadata": {},
   "source": [
    "** When filtering Road INTs Given Up by its median, we still see low p-values that further emphasize how the stat does impact Road and Home Teams' chances of winning.**"
   ]
  },
  {
   "cell_type": "code",
   "execution_count": 30,
   "metadata": {
    "collapsed": false
   },
   "outputs": [
    {
     "name": "stdout",
     "output_type": "stream",
     "text": [
      "Average amount of Road Interceptions Given Up in Road Win: 0.454237288136\n",
      "Average amount of Road Interceptions Given Up in Road Loss: 1.14175257732\n",
      "t-statistic: -10.3567733931\n",
      "p-value: 2.12777729225e-23\n",
      "Average amount of Road Interceptions Given Up in Home Win: 1.13624678663\n",
      "Average amount of Road Interceptions Given Up in Home Loss: 0.457627118644\n",
      "t-statistic: 10.2075811303\n",
      "p-value: 7.956909854e-23\n"
     ]
    }
   ],
   "source": [
    "# Running a t-test for Road Interceptions Given Up and Road Win as well as Home Win\n",
    "print('Average amount of Road Interceptions Given Up in Road Win: ' + str(df.loc[df['Road Win'], 'Road INTs Given Up'].mean()))\n",
    "print('Average amount of Road Interceptions Given Up in Road Loss: ' + str(df.loc[df['Road Loss'], 'Road INTs Given Up'].mean()))\n",
    "\n",
    "RIGU_RW_t_stat, RIGU_RW_p = stats.ttest_ind(df.loc[df['Road Win'], 'Road INTs Given Up'], df.loc[df['Road Loss'], 'Road INTs Given Up'], equal_var=False)\n",
    "print('t-statistic: ' + str(RIGU_RW_t_stat))\n",
    "print('p-value: ' + str(RIGU_RW_p))\n",
    "\n",
    "print('Average amount of Road Interceptions Given Up in Home Win: ' + str(df.loc[df['Home Win'], 'Road INTs Given Up'].mean()))\n",
    "print('Average amount of Road Interceptions Given Up in Home Loss: ' + str(df.loc[df['Home Loss'], 'Road INTs Given Up'].mean()))\n",
    "\n",
    "RIGU_HW_t_stat, RIGU_HW_p = stats.ttest_ind(df.loc[df['Home Win'], 'Road INTs Given Up'], df.loc[df['Home Loss'], 'Road INTs Given Up'], equal_var=False)\n",
    "print('t-statistic: ' + str(RIGU_HW_t_stat))\n",
    "print('p-value: ' + str(RIGU_HW_p))"
   ]
  },
  {
   "cell_type": "markdown",
   "metadata": {},
   "source": [
    "** When running a t-test, we still find low p-values for Road INTs Given Up meaning it does impact Road and Home Teams' chances of winning.**"
   ]
  },
  {
   "cell_type": "code",
   "execution_count": 31,
   "metadata": {
    "collapsed": false
   },
   "outputs": [
    {
     "name": "stdout",
     "output_type": "stream",
     "text": [
      "Home Win            False  True \n",
      "Home INTs Given Up              \n",
      "0                      90    223\n",
      "1                     112    126\n",
      "2                      60     37\n",
      "3                      28      3\n",
      "4                       4      0\n",
      "5                       3      0\n",
      "chi-squared: 79.0361329916\n",
      "p-value: 1.33492559869e-15\n",
      "Road Win            False  True \n",
      "Home INTs Given Up              \n",
      "0                     223     90\n",
      "1                     128    110\n",
      "2                      37     60\n",
      "3                       3     28\n",
      "4                       0      4\n",
      "5                       0      3\n",
      "chi-squared: 78.5954047829\n",
      "p-value: 1.65047294309e-15\n"
     ]
    }
   ],
   "source": [
    "# Running a chi-squared test for Home Interceptions Given Up and Home Win as well as Road Win\n",
    "HIGU_HW_CT = pd.crosstab(df['Home INTs Given Up'], df['Home Win'])\n",
    "print(HIGU_HW_CT)\n",
    "chi, p, d_f, e_f = stats.chi2_contingency(HIGU_HW_CT)\n",
    "print('chi-squared: ' + str(chi))\n",
    "print('p-value: ' + str(p))\n",
    "\n",
    "HIGU_RW_CT = pd.crosstab(df['Home INTs Given Up'], df['Road Win'])\n",
    "print(HIGU_RW_CT)\n",
    "chi, p, d_f, e_f = stats.chi2_contingency(HIGU_RW_CT)\n",
    "print('chi-squared: ' + str(chi))\n",
    "print('p-value: ' + str(p))"
   ]
  },
  {
   "cell_type": "markdown",
   "metadata": {},
   "source": [
    "** Because of how low the p-values are, we can reject the null hypothesis and say Home INTs Given Up does have an impact on Road and Home Teams' chances of winning.**"
   ]
  },
  {
   "cell_type": "code",
   "execution_count": 32,
   "metadata": {
    "collapsed": false
   },
   "outputs": [
    {
     "name": "stdout",
     "output_type": "stream",
     "text": [
      "Home Win            False  True \n",
      "Home INTs Given Up              \n",
      "False                 202    349\n",
      "True                   95     40\n",
      "chi-squared for higher than median: 48.8260029885\n",
      "p-value for higher than median: 2.79706794002e-12\n",
      "Home Win            False  True \n",
      "Home INTs Given Up              \n",
      "False                 207    166\n",
      "True                   90    223\n",
      "chi-squared for lower than median: 48.4912323603\n",
      "p-value for lower than median: 3.31768848974e-12\n",
      "Road Win            False  True \n",
      "Home INTs Given Up              \n",
      "False                 351    200\n",
      "True                   40     95\n",
      "chi-squared for higher than median: 49.9792203033\n",
      "p-value for higher than median: 1.55382816728e-12\n",
      "Road Win            False  True \n",
      "Home INTs Given Up              \n",
      "False                 168    205\n",
      "True                  223     90\n",
      "chi-squared for lower than median: 46.6208681453\n",
      "p-value for lower than median: 8.61380475515e-12\n"
     ]
    }
   ],
   "source": [
    "# Running a chi-squared test for Home Interceptions Given Up and Home Win as well as Road Win with Filters\n",
    "HIGU_HW_CT_HMD = pd.crosstab(df['Home INTs Given Up'] > df['Home INTs Given Up'].median(), df['Home Win'])\n",
    "print(HIGU_HW_CT_HMD)\n",
    "chi, p, d_f, e_f = stats.chi2_contingency(HIGU_HW_CT_HMD)\n",
    "print('chi-squared for higher than median: ' + str(chi))\n",
    "print('p-value for higher than median: ' + str(p))\n",
    "\n",
    "HIGU_HW_CT_LMD = pd.crosstab(df['Home INTs Given Up'] < df['Home INTs Given Up'].median(), df['Home Win'])\n",
    "print(HIGU_HW_CT_LMD)\n",
    "chi, p, d_f, e_f = stats.chi2_contingency(HIGU_HW_CT_LMD)\n",
    "print('chi-squared for lower than median: ' + str(chi))\n",
    "print('p-value for lower than median: ' + str(p))\n",
    "\n",
    "HIGU_RW_CT_HMD = pd.crosstab(df['Home INTs Given Up'] > df['Home INTs Given Up'].median(), df['Road Win'])\n",
    "print(HIGU_RW_CT_HMD)\n",
    "chi, p, d_f, e_f = stats.chi2_contingency(HIGU_RW_CT_HMD)\n",
    "print('chi-squared for higher than median: ' + str(chi))\n",
    "print('p-value for higher than median: ' + str(p))\n",
    "\n",
    "HIGU_RW_CT_LMD = pd.crosstab(df['Home INTs Given Up'] < df['Home INTs Given Up'].median(), df['Road Win'])\n",
    "print(HIGU_RW_CT_LMD)\n",
    "chi, p, d_f, e_f = stats.chi2_contingency(HIGU_RW_CT_LMD)\n",
    "print('chi-squared for lower than median: ' + str(chi))\n",
    "print('p-value for lower than median: ' + str(p))"
   ]
  },
  {
   "cell_type": "markdown",
   "metadata": {},
   "source": [
    "** When filtering Home INTs Given Up by its median, we still see low p-values that further emphasize how the stat does impact Road and Home Teams' chances of winning.**"
   ]
  },
  {
   "cell_type": "code",
   "execution_count": 33,
   "metadata": {
    "collapsed": false
   },
   "outputs": [
    {
     "name": "stdout",
     "output_type": "stream",
     "text": [
      "Average amount of Home Interceptions Given Up in Home Win: 0.537275064267\n",
      "Average amount of Home Interceptions Given Up in Home Loss: 1.17288135593\n",
      "t-statistic: -8.87723695429\n",
      "p-value: 1.39537123409e-17\n",
      "Average amount of Home Interceptions Given Up in Road Win: 1.16949152542\n",
      "Average amount of Home Interceptions Given Up in Road Loss: 0.538659793814\n",
      "t-statistic: 8.79340658064\n",
      "p-value: 2.66006294187e-17\n"
     ]
    }
   ],
   "source": [
    "# Running a t-test for Home Interceptions Given Up and Home Win as well as Road Win\n",
    "print('Average amount of Home Interceptions Given Up in Home Win: ' + str(df.loc[df['Home Win'], 'Home INTs Given Up'].mean()))\n",
    "print('Average amount of Home Interceptions Given Up in Home Loss: ' + str(df.loc[df['Home Loss'], 'Home INTs Given Up'].mean()))\n",
    "\n",
    "HIGU_HW_t_stat, HIGU_HW_p = stats.ttest_ind(df.loc[df['Home Win'], 'Home INTs Given Up'], df.loc[df['Home Loss'], 'Home INTs Given Up'], equal_var=False)\n",
    "print('t-statistic: ' + str(HIGU_HW_t_stat))\n",
    "print('p-value: ' + str(HIGU_HW_p))\n",
    "\n",
    "print('Average amount of Home Interceptions Given Up in Road Win: ' + str(df.loc[df['Road Win'], 'Home INTs Given Up'].mean()))\n",
    "print('Average amount of Home Interceptions Given Up in Road Loss: ' + str(df.loc[df['Road Loss'], 'Home INTs Given Up'].mean()))\n",
    "\n",
    "HIGU_RW_t_stat, HIGU_RW_p = stats.ttest_ind(df.loc[df['Road Win'], 'Home INTs Given Up'], df.loc[df['Road Loss'], 'Home INTs Given Up'], equal_var=False)\n",
    "print('t-statistic: ' + str(HIGU_RW_t_stat))\n",
    "print('p-value: ' + str(HIGU_RW_p))"
   ]
  },
  {
   "cell_type": "markdown",
   "metadata": {},
   "source": [
    "** When running a t-test, we still find low p-values for Home INTs Given Up meaning it does impact Road and Home Teams' chances of winning.**"
   ]
  },
  {
   "cell_type": "code",
   "execution_count": 34,
   "metadata": {
    "collapsed": false
   },
   "outputs": [
    {
     "name": "stdout",
     "output_type": "stream",
     "text": [
      "r: -0.125220129564\n",
      "p-value: 0.00101376165285\n"
     ]
    }
   ],
   "source": [
    "# Running a Pearson Correlation test between Road Interceptions Given Up and Home Interceptions Given Up\n",
    "r, p = stats.pearsonr(df['Road INTs Given Up'], df['Home INTs Given Up'])\n",
    "print('r: ' + str(r))\n",
    "print('p-value: ' + str(p))"
   ]
  },
  {
   "cell_type": "markdown",
   "metadata": {},
   "source": [
    "** Because of how low the p-value is, we can say the relationship between Road INTs Given Up and Home INTs Given Up is statistically significant and also they have a negative correlation around -0.13. Since an increase in Road INTs Given Up is predictive of Home INTs Given Up, this strengthens the idea of a sloppy game.**"
   ]
  },
  {
   "cell_type": "code",
   "execution_count": 35,
   "metadata": {
    "collapsed": false
   },
   "outputs": [
    {
     "name": "stdout",
     "output_type": "stream",
     "text": [
      "Road Win           False  True \n",
      "Road Fumbles Lost              \n",
      "0                    202    199\n",
      "1                    125     79\n",
      "2                     45     15\n",
      "3                     15      2\n",
      "4                      4      0\n",
      "chi-squared: 26.4191511677\n",
      "p-value: 2.60456573094e-05\n",
      "Home Win           False  True \n",
      "Road Fumbles Lost              \n",
      "0                    201    200\n",
      "1                     79    125\n",
      "2                     15     45\n",
      "3                      2     15\n",
      "4                      0      4\n",
      "chi-squared: 27.4721324576\n",
      "p-value: 1.59545220479e-05\n"
     ]
    }
   ],
   "source": [
    "# Running a chi-squared test for Road Fumbles Lost and Road Win as well as Home Win\n",
    "RFL_RW_CT = pd.crosstab(df['Road Fumbles Lost'], df['Road Win'])\n",
    "print(RFL_RW_CT)\n",
    "chi, p, d_f, e_f = stats.chi2_contingency(RFL_RW_CT)\n",
    "print('chi-squared: ' + str(chi))\n",
    "print('p-value: ' + str(p))\n",
    "\n",
    "RFL_HW_CT = pd.crosstab(df['Road Fumbles Lost'], df['Home Win'])\n",
    "print(RFL_HW_CT)\n",
    "chi, p, d_f, e_f = stats.chi2_contingency(RFL_HW_CT)\n",
    "print('chi-squared: ' + str(chi))\n",
    "print('p-value: ' + str(p))"
   ]
  },
  {
   "cell_type": "markdown",
   "metadata": {},
   "source": [
    "** Because of how low the p-values are, we can reject the null hypothesis and say Road Fumbles Lost does have an impact on Road and Home Teams' chances of winning.**"
   ]
  },
  {
   "cell_type": "code",
   "execution_count": 36,
   "metadata": {
    "collapsed": false
   },
   "outputs": [
    {
     "name": "stdout",
     "output_type": "stream",
     "text": [
      "Road Win           False  True \n",
      "Road Fumbles Lost              \n",
      "False                202    199\n",
      "True                 189     96\n",
      "chi-squared for higher than median: 16.6294084935\n",
      "p-value for higher than median: 4.54409471309e-05\n",
      "Road Win           False  True \n",
      "Road Fumbles Lost              \n",
      "False                391    295\n",
      "chi-squared for lower than median: 0.0\n",
      "p-value for lower than median: 1.0\n",
      "Home Win           False  True \n",
      "Road Fumbles Lost              \n",
      "False                201    200\n",
      "True                  96    189\n",
      "chi-squared for higher than median: 17.6780045376\n",
      "p-value for higher than median: 2.61634588443e-05\n",
      "Home Win           False  True \n",
      "Road Fumbles Lost              \n",
      "False                297    389\n",
      "chi-squared for lower than median: 0.0\n",
      "p-value for lower than median: 1.0\n"
     ]
    }
   ],
   "source": [
    "# Running a chi-squared test for Road Fumbles Lost and Road Win as well as Home Win with Filters\n",
    "RFL_RW_CT_HMD = pd.crosstab(df['Road Fumbles Lost'] > df['Road Fumbles Lost'].median(), df['Road Win'])\n",
    "print(RFL_RW_CT_HMD)\n",
    "chi, p, d_f, e_f = stats.chi2_contingency(RFL_RW_CT_HMD)\n",
    "print('chi-squared for higher than median: ' + str(chi))\n",
    "print('p-value for higher than median: ' + str(p))\n",
    "\n",
    "RFL_RW_CT_LMD = pd.crosstab(df['Road Fumbles Lost'] < df['Road Fumbles Lost'].median(), df['Road Win'])\n",
    "print(RFL_RW_CT_LMD)\n",
    "chi, p, d_f, e_f = stats.chi2_contingency(RFL_RW_CT_LMD)\n",
    "print('chi-squared for lower than median: ' + str(chi))\n",
    "print('p-value for lower than median: ' + str(p))\n",
    "\n",
    "RFL_HW_CT_HMD = pd.crosstab(df['Road Fumbles Lost'] > df['Road Fumbles Lost'].median(), df['Home Win'])\n",
    "print(RFL_HW_CT_HMD)\n",
    "chi, p, d_f, e_f = stats.chi2_contingency(RFL_HW_CT_HMD)\n",
    "print('chi-squared for higher than median: ' + str(chi))\n",
    "print('p-value for higher than median: ' + str(p))\n",
    "\n",
    "RFL_HW_CT_LMD = pd.crosstab(df['Road Fumbles Lost'] < df['Road Fumbles Lost'].median(), df['Home Win'])\n",
    "print(RFL_HW_CT_LMD)\n",
    "chi, p, d_f, e_f = stats.chi2_contingency(RFL_HW_CT_LMD)\n",
    "print('chi-squared for lower than median: ' + str(chi))\n",
    "print('p-value for lower than median: ' + str(p))"
   ]
  },
  {
   "cell_type": "markdown",
   "metadata": {},
   "source": [
    "** When filtering Road Fumbles Lost by its median, we still see low p-values above the median but high p-values beneath the median. This may be because of how often teams lose a fumble. If the Road Team does not lose a fumble or only lose 1, Road Fumbles Lost may not actually have an impact on Road and Home Teams' chances of winning.**"
   ]
  },
  {
   "cell_type": "code",
   "execution_count": 37,
   "metadata": {
    "collapsed": false
   },
   "outputs": [
    {
     "name": "stdout",
     "output_type": "stream",
     "text": [
      "Average amount of Road Fumbles Lost in Road Win: 0.389830508475\n",
      "Average amount of Road Fumbles Lost in Road Loss: 0.711340206186\n",
      "t-statistic: -5.56121875227\n",
      "p-value: 3.86158653215e-08\n",
      "Average amount of Road Fumbles Lost in Home Win: 0.709511568123\n",
      "Average amount of Road Fumbles Lost in Home Loss: 0.389830508475\n",
      "t-statistic: 5.53554633057\n",
      "p-value: 4.44056752728e-08\n"
     ]
    }
   ],
   "source": [
    "# Running a t-test for Road Fumbles Lost and Road Win as well as Home Win\n",
    "print('Average amount of Road Fumbles Lost in Road Win: ' + str(df.loc[df['Road Win'], 'Road Fumbles Lost'].mean()))\n",
    "print('Average amount of Road Fumbles Lost in Road Loss: ' + str(df.loc[df['Road Loss'], 'Road Fumbles Lost'].mean()))\n",
    "\n",
    "RFL_RW_t_stat, RFL_RW_p = stats.ttest_ind(df.loc[df['Road Win'], 'Road Fumbles Lost'], df.loc[df['Road Loss'], 'Road Fumbles Lost'], equal_var=False)\n",
    "print('t-statistic: ' + str(RFL_RW_t_stat))\n",
    "print('p-value: ' + str(RFL_RW_p))\n",
    "\n",
    "print('Average amount of Road Fumbles Lost in Home Win: ' + str(df.loc[df['Home Win'], 'Road Fumbles Lost'].mean()))\n",
    "print('Average amount of Road Fumbles Lost in Home Loss: ' + str(df.loc[df['Home Loss'], 'Road Fumbles Lost'].mean()))\n",
    "\n",
    "RFL_HW_t_stat, RFL_HW_p = stats.ttest_ind(df.loc[df['Home Win'], 'Road Fumbles Lost'], df.loc[df['Home Loss'], 'Road Fumbles Lost'], equal_var=False)\n",
    "print('t-statistic: ' + str(RFL_HW_t_stat))\n",
    "print('p-value: ' + str(RFL_HW_p))"
   ]
  },
  {
   "cell_type": "markdown",
   "metadata": {},
   "source": [
    "** When running a t-test, we still find low p-values for Road Fumbles Lost meaning it does impact Road and Home Teams' chances of winning.**"
   ]
  },
  {
   "cell_type": "code",
   "execution_count": 38,
   "metadata": {
    "collapsed": false
   },
   "outputs": [
    {
     "name": "stdout",
     "output_type": "stream",
     "text": [
      "Home Win           False  True \n",
      "Home Fumbles Lost              \n",
      "0                    141    259\n",
      "1                    110    101\n",
      "2                     33     24\n",
      "3                     13      5\n",
      "chi-squared: 28.3420537918\n",
      "p-value: 3.07851315177e-06\n",
      "Road Win           False  True \n",
      "Home Fumbles Lost              \n",
      "0                    260    140\n",
      "1                    102    109\n",
      "2                     24     33\n",
      "3                      5     13\n",
      "chi-squared: 28.3292237059\n",
      "p-value: 3.09766898508e-06\n"
     ]
    }
   ],
   "source": [
    "# Running a chi-squared test for Home Fumbles Lost and Home Win as well as Road Win\n",
    "HFL_HW_CT = pd.crosstab(df['Home Fumbles Lost'], df['Home Win'])\n",
    "print(HFL_HW_CT)\n",
    "chi, p, d_f, e_f = stats.chi2_contingency(HFL_HW_CT)\n",
    "print('chi-squared: ' + str(chi))\n",
    "print('p-value: ' + str(p))\n",
    "\n",
    "HFL_RW_CT = pd.crosstab(df['Home Fumbles Lost'], df['Road Win'])\n",
    "print(HFL_RW_CT)\n",
    "chi, p, d_f, e_f = stats.chi2_contingency(HFL_RW_CT)\n",
    "print('chi-squared: ' + str(chi))\n",
    "print('p-value: ' + str(p))"
   ]
  },
  {
   "cell_type": "markdown",
   "metadata": {},
   "source": [
    "** Because of how low the p-values are, we can reject the null hypothesis and say Home Fumbles Lost does have an impact on Road and Home Teams' chances of winning.**"
   ]
  },
  {
   "cell_type": "code",
   "execution_count": 39,
   "metadata": {
    "collapsed": false
   },
   "outputs": [
    {
     "name": "stdout",
     "output_type": "stream",
     "text": [
      "Home Win           False  True \n",
      "Home Fumbles Lost              \n",
      "False                141    259\n",
      "True                 156    130\n",
      "chi-squared for higher than median: 24.5104601275\n",
      "p-value for higher than median: 7.39075140189e-07\n",
      "Home Win           False  True \n",
      "Home Fumbles Lost              \n",
      "False                297    389\n",
      "chi-squared for lower than median: 0.0\n",
      "p-value for lower than median: 1.0\n",
      "Road Win           False  True \n",
      "Home Fumbles Lost              \n",
      "False                260    140\n",
      "True                 131    155\n",
      "chi-squared for higher than median: 24.2935041526\n",
      "p-value for higher than median: 8.27175457717e-07\n",
      "Road Win           False  True \n",
      "Home Fumbles Lost              \n",
      "False                391    295\n",
      "chi-squared for lower than median: 0.0\n",
      "p-value for lower than median: 1.0\n"
     ]
    }
   ],
   "source": [
    "# Running a chi-squared test for Home Fumbles Lost and Home Win as well as Road Win with Filters\n",
    "HFL_HW_CT_HMD = pd.crosstab(df['Home Fumbles Lost'] > df['Home Fumbles Lost'].median(), df['Home Win'])\n",
    "print(HFL_HW_CT_HMD)\n",
    "chi, p, d_f, e_f = stats.chi2_contingency(HFL_HW_CT_HMD)\n",
    "print('chi-squared for higher than median: ' + str(chi))\n",
    "print('p-value for higher than median: ' + str(p))\n",
    "\n",
    "HFL_HW_CT_LMD = pd.crosstab(df['Home Fumbles Lost'] < df['Home Fumbles Lost'].median(), df['Home Win'])\n",
    "print(HFL_HW_CT_LMD)\n",
    "chi, p, d_f, e_f = stats.chi2_contingency(HFL_HW_CT_LMD)\n",
    "print('chi-squared for lower than median: ' + str(chi))\n",
    "print('p-value for lower than median: ' + str(p))\n",
    "\n",
    "HFL_RW_CT_HMD = pd.crosstab(df['Home Fumbles Lost'] > df['Home Fumbles Lost'].median(), df['Road Win'])\n",
    "print(HFL_RW_CT_HMD)\n",
    "chi, p, d_f, e_f = stats.chi2_contingency(HFL_RW_CT_HMD)\n",
    "print('chi-squared for higher than median: ' + str(chi))\n",
    "print('p-value for higher than median: ' + str(p))\n",
    "\n",
    "HFL_RW_CT_LMD = pd.crosstab(df['Home Fumbles Lost'] < df['Home Fumbles Lost'].median(), df['Road Win'])\n",
    "print(HFL_RW_CT_LMD)\n",
    "chi, p, d_f, e_f = stats.chi2_contingency(HFL_RW_CT_LMD)\n",
    "print('chi-squared for lower than median: ' + str(chi))\n",
    "print('p-value for lower than median: ' + str(p))"
   ]
  },
  {
   "cell_type": "markdown",
   "metadata": {},
   "source": [
    "** When filtering Home Fumbles Lost by its median, we still see low p-values above the median but high p-values beneath the median. This may be because of how often teams lose a fumble. If the Home Team does not lose a fumble or only lose 1, Home Fumbles Lost may not actually have an impact on Road and Home Teams' chances of winning.**"
   ]
  },
  {
   "cell_type": "code",
   "execution_count": 40,
   "metadata": {
    "collapsed": false
   },
   "outputs": [
    {
     "name": "stdout",
     "output_type": "stream",
     "text": [
      "Average amount of Home Fumbles Lost in Home Win: 0.421593830334\n",
      "Average amount of Home Fumbles Lost in Home Loss: 0.725423728814\n",
      "t-statistic: -5.14810888421\n",
      "p-value: 3.66467571815e-07\n",
      "Average amount of Home Fumbles Lost in Road Win: 0.725423728814\n",
      "Average amount of Home Fumbles Lost in Road Loss: 0.420103092784\n",
      "t-statistic: 5.17063359721\n",
      "p-value: 3.26659517426e-07\n"
     ]
    }
   ],
   "source": [
    "# Running a t-test for Home Fumbles Lost and Home Win as well as Road Win\n",
    "print('Average amount of Home Fumbles Lost in Home Win: ' + str(df.loc[df['Home Win'], 'Home Fumbles Lost'].mean()))\n",
    "print('Average amount of Home Fumbles Lost in Home Loss: ' + str(df.loc[df['Home Loss'], 'Home Fumbles Lost'].mean()))\n",
    "\n",
    "HFL_HW_t_stat, HFL_HW_p = stats.ttest_ind(df.loc[df['Home Win'], 'Home Fumbles Lost'], df.loc[df['Home Loss'], 'Home Fumbles Lost'], equal_var=False)\n",
    "print('t-statistic: ' + str(HFL_HW_t_stat))\n",
    "print('p-value: ' + str(HFL_HW_p))\n",
    "\n",
    "print('Average amount of Home Fumbles Lost in Road Win: ' + str(df.loc[df['Road Win'], 'Home Fumbles Lost'].mean()))\n",
    "print('Average amount of Home Fumbles Lost in Road Loss: ' + str(df.loc[df['Road Loss'], 'Home Fumbles Lost'].mean()))\n",
    "\n",
    "HFL_RW_t_stat, HFL_RW_p = stats.ttest_ind(df.loc[df['Road Win'], 'Home Fumbles Lost'], df.loc[df['Road Loss'], 'Home Fumbles Lost'], equal_var=False)\n",
    "print('t-statistic: ' + str(HFL_RW_t_stat))\n",
    "print('p-value: ' + str(HFL_RW_p))"
   ]
  },
  {
   "cell_type": "markdown",
   "metadata": {},
   "source": [
    "** When running a t-test, we still find low p-values for Home Fumbles Lost meaning it does impact Road and Home Teams' chances of winning.**"
   ]
  },
  {
   "cell_type": "code",
   "execution_count": 41,
   "metadata": {
    "collapsed": false
   },
   "outputs": [
    {
     "name": "stdout",
     "output_type": "stream",
     "text": [
      "r: -0.0579855201606\n",
      "p-value: 0.129205917656\n"
     ]
    }
   ],
   "source": [
    "# Running a Pearson Correlation test between Road Fumbles Lost and Home Fumbles Lost\n",
    "r, p = stats.pearsonr(df['Road Fumbles Lost'], df['Home Fumbles Lost'])\n",
    "print('r: ' + str(r))\n",
    "print('p-value: ' + str(p))"
   ]
  },
  {
   "cell_type": "markdown",
   "metadata": {},
   "source": [
    "** Because of how high the p-value is, we can say the relationship between Road Fumbles Lost and Home Fumbles Lost is not statistically significant and also that the correlation between them is not equal to 0. Since an increase in Road Fumbles Lost is not predictive of Home Fumbles Lost, this negates the idea of a sloppy game.**"
   ]
  }
 ],
 "metadata": {
  "kernelspec": {
   "display_name": "Python 2",
   "language": "python",
   "name": "python2"
  },
  "language_info": {
   "codemirror_mode": {
    "name": "ipython",
    "version": 2
   },
   "file_extension": ".py",
   "mimetype": "text/x-python",
   "name": "python",
   "nbconvert_exporter": "python",
   "pygments_lexer": "ipython2",
   "version": "2.7.11"
  }
 },
 "nbformat": 4,
 "nbformat_minor": 0
}
