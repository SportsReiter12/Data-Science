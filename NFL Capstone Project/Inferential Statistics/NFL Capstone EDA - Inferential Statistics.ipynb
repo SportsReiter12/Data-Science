{
 "cells": [
  {
   "cell_type": "code",
   "execution_count": 1,
   "metadata": {
    "collapsed": true
   },
   "outputs": [],
   "source": [
    "# Importing necessary packages\n",
    "%matplotlib inline\n",
    "import pandas as pd\n",
    "import numpy as np\n",
    "import matplotlib.pyplot as plt\n",
    "import seaborn as sns\n",
    "from scipy import stats\n",
    "from scipy.stats import chisquare"
   ]
  },
  {
   "cell_type": "code",
   "execution_count": 2,
   "metadata": {
    "collapsed": false
   },
   "outputs": [
    {
     "data": {
      "text/html": [
       "<div>\n",
       "<table border=\"1\" class=\"dataframe\">\n",
       "  <thead>\n",
       "    <tr style=\"text-align: right;\">\n",
       "      <th></th>\n",
       "      <th>Date</th>\n",
       "      <th>Home Field Goal Attempts</th>\n",
       "      <th>Home First Downs</th>\n",
       "      <th>Home Fourth Down Attempts</th>\n",
       "      <th>Home Fourth Down Successes</th>\n",
       "      <th>Home Fumble TDs</th>\n",
       "      <th>Home Fumbles</th>\n",
       "      <th>Home Fumbles Lost</th>\n",
       "      <th>Home Fumbles Recovered</th>\n",
       "      <th>Home Goal To Go Attempts</th>\n",
       "      <th>...</th>\n",
       "      <th>Road Time of Possession</th>\n",
       "      <th>Road Total TDs</th>\n",
       "      <th>Road Total Yds</th>\n",
       "      <th>Road Touchbacks</th>\n",
       "      <th>Road Two Point Conversion Attempts</th>\n",
       "      <th>Road Two Point Conversion Successes</th>\n",
       "      <th>Road Win</th>\n",
       "      <th>Road Wins</th>\n",
       "      <th>Season</th>\n",
       "      <th>Week Number</th>\n",
       "    </tr>\n",
       "  </thead>\n",
       "  <tbody>\n",
       "    <tr>\n",
       "      <th>0</th>\n",
       "      <td>on December 20, 2015</td>\n",
       "      <td>1</td>\n",
       "      <td>19</td>\n",
       "      <td>2</td>\n",
       "      <td>0</td>\n",
       "      <td>0</td>\n",
       "      <td>2</td>\n",
       "      <td>2</td>\n",
       "      <td>0</td>\n",
       "      <td>0</td>\n",
       "      <td>...</td>\n",
       "      <td>2248</td>\n",
       "      <td>5</td>\n",
       "      <td>506</td>\n",
       "      <td>3</td>\n",
       "      <td>0</td>\n",
       "      <td>0</td>\n",
       "      <td>True</td>\n",
       "      <td>1</td>\n",
       "      <td>nfl-2015-2016</td>\n",
       "      <td>15</td>\n",
       "    </tr>\n",
       "    <tr>\n",
       "      <th>1</th>\n",
       "      <td>on November 29, 2015</td>\n",
       "      <td>2</td>\n",
       "      <td>17</td>\n",
       "      <td>2</td>\n",
       "      <td>1</td>\n",
       "      <td>0</td>\n",
       "      <td>2</td>\n",
       "      <td>1</td>\n",
       "      <td>0</td>\n",
       "      <td>0</td>\n",
       "      <td>...</td>\n",
       "      <td>2247</td>\n",
       "      <td>2</td>\n",
       "      <td>350</td>\n",
       "      <td>1</td>\n",
       "      <td>0</td>\n",
       "      <td>0</td>\n",
       "      <td>True</td>\n",
       "      <td>1</td>\n",
       "      <td>nfl-2015-2016</td>\n",
       "      <td>12</td>\n",
       "    </tr>\n",
       "    <tr>\n",
       "      <th>2</th>\n",
       "      <td>on December 27, 2015</td>\n",
       "      <td>1</td>\n",
       "      <td>19</td>\n",
       "      <td>0</td>\n",
       "      <td>0</td>\n",
       "      <td>2</td>\n",
       "      <td>2</td>\n",
       "      <td>1</td>\n",
       "      <td>3</td>\n",
       "      <td>3</td>\n",
       "      <td>...</td>\n",
       "      <td>1784</td>\n",
       "      <td>1</td>\n",
       "      <td>265</td>\n",
       "      <td>0</td>\n",
       "      <td>1</td>\n",
       "      <td>1</td>\n",
       "      <td>False</td>\n",
       "      <td>0</td>\n",
       "      <td>nfl-2015-2016</td>\n",
       "      <td>16</td>\n",
       "    </tr>\n",
       "    <tr>\n",
       "      <th>3</th>\n",
       "      <td>on November 22, 2015</td>\n",
       "      <td>2</td>\n",
       "      <td>21</td>\n",
       "      <td>0</td>\n",
       "      <td>0</td>\n",
       "      <td>0</td>\n",
       "      <td>2</td>\n",
       "      <td>0</td>\n",
       "      <td>1</td>\n",
       "      <td>1</td>\n",
       "      <td>...</td>\n",
       "      <td>1875</td>\n",
       "      <td>4</td>\n",
       "      <td>415</td>\n",
       "      <td>3</td>\n",
       "      <td>0</td>\n",
       "      <td>0</td>\n",
       "      <td>False</td>\n",
       "      <td>0</td>\n",
       "      <td>nfl-2015-2016</td>\n",
       "      <td>11</td>\n",
       "    </tr>\n",
       "    <tr>\n",
       "      <th>4</th>\n",
       "      <td>on January  3, 2016</td>\n",
       "      <td>1</td>\n",
       "      <td>16</td>\n",
       "      <td>1</td>\n",
       "      <td>0</td>\n",
       "      <td>0</td>\n",
       "      <td>0</td>\n",
       "      <td>0</td>\n",
       "      <td>0</td>\n",
       "      <td>0</td>\n",
       "      <td>...</td>\n",
       "      <td>2197</td>\n",
       "      <td>4</td>\n",
       "      <td>382</td>\n",
       "      <td>7</td>\n",
       "      <td>0</td>\n",
       "      <td>0</td>\n",
       "      <td>True</td>\n",
       "      <td>1</td>\n",
       "      <td>nfl-2015-2016</td>\n",
       "      <td>17</td>\n",
       "    </tr>\n",
       "  </tbody>\n",
       "</table>\n",
       "<p>5 rows × 118 columns</p>\n",
       "</div>"
      ],
      "text/plain": [
       "                   Date  Home Field Goal Attempts  Home First Downs  \\\n",
       "0  on December 20, 2015                         1                19   \n",
       "1  on November 29, 2015                         2                17   \n",
       "2  on December 27, 2015                         1                19   \n",
       "3  on November 22, 2015                         2                21   \n",
       "4   on January  3, 2016                         1                16   \n",
       "\n",
       "   Home Fourth Down Attempts  Home Fourth Down Successes  Home Fumble TDs  \\\n",
       "0                          2                           0                0   \n",
       "1                          2                           1                0   \n",
       "2                          0                           0                2   \n",
       "3                          0                           0                0   \n",
       "4                          1                           0                0   \n",
       "\n",
       "   Home Fumbles  Home Fumbles Lost  Home Fumbles Recovered  \\\n",
       "0             2                  2                       0   \n",
       "1             2                  1                       0   \n",
       "2             2                  1                       3   \n",
       "3             2                  0                       1   \n",
       "4             0                  0                       0   \n",
       "\n",
       "   Home Goal To Go Attempts     ...       Road Time of Possession  \\\n",
       "0                         0     ...                          2248   \n",
       "1                         0     ...                          2247   \n",
       "2                         3     ...                          1784   \n",
       "3                         1     ...                          1875   \n",
       "4                         0     ...                          2197   \n",
       "\n",
       "   Road Total TDs  Road Total Yds  Road Touchbacks  \\\n",
       "0               5             506                3   \n",
       "1               2             350                1   \n",
       "2               1             265                0   \n",
       "3               4             415                3   \n",
       "4               4             382                7   \n",
       "\n",
       "   Road Two Point Conversion Attempts  Road Two Point Conversion Successes  \\\n",
       "0                                   0                                    0   \n",
       "1                                   0                                    0   \n",
       "2                                   1                                    1   \n",
       "3                                   0                                    0   \n",
       "4                                   0                                    0   \n",
       "\n",
       "   Road Win  Road Wins         Season  Week Number  \n",
       "0      True          1  nfl-2015-2016           15  \n",
       "1      True          1  nfl-2015-2016           12  \n",
       "2     False          0  nfl-2015-2016           16  \n",
       "3     False          0  nfl-2015-2016           11  \n",
       "4      True          1  nfl-2015-2016           17  \n",
       "\n",
       "[5 rows x 118 columns]"
      ]
     },
     "execution_count": 2,
     "metadata": {},
     "output_type": "execute_result"
    }
   ],
   "source": [
    "# Uploading DataFrame and inspecting its contents\n",
    "df = pd.DataFrame()\n",
    "df = pd.read_csv('/Users/dwreiter/Desktop/Work/Springboard/NFL Capstone Project/Data Wrangling/nfl_df.csv', delimiter='\\t', index_col=0)\n",
    "df.head()"
   ]
  },
  {
   "cell_type": "markdown",
   "metadata": {},
   "source": [
    "** For each test below:\n",
    "<br>\n",
    "Ho = Statistic has no impact on a team's chance of winning\n",
    "<br>\n",
    "Ha = Statistic has an impact on a team's chance of winning\n",
    "<br>\n",
    "α = 0.05**"
   ]
  },
  {
   "cell_type": "code",
   "execution_count": 3,
   "metadata": {
    "collapsed": false
   },
   "outputs": [
    {
     "name": "stdout",
     "output_type": "stream",
     "text": [
      "t-statistic: 17.2698667801\n",
      "p-value: 5.89954574468e-55\n"
     ]
    }
   ],
   "source": [
    "# Running a t-test for Road Rushing Attempts and Road Win\n",
    "t_stat, p = stats.ttest_ind(df.loc[df['Road Win'],'Road Rushing Atts'], df.loc[df['Road Loss'], 'Road Rushing Atts'], equal_var=False)\n",
    "print('t-statistic: ' + str(t_stat))\n",
    "print('p-value: ' + str(p))"
   ]
  },
  {
   "cell_type": "markdown",
   "metadata": {},
   "source": [
    "** Because of how low the p-value is, we can reject the null hypothesis and say Road Rushing Attempts does have an impact on a Road Team's chance of winning.**"
   ]
  },
  {
   "cell_type": "code",
   "execution_count": 4,
   "metadata": {
    "collapsed": false
   },
   "outputs": [
    {
     "name": "stdout",
     "output_type": "stream",
     "text": [
      "t-statistic: 11.5380986752\n",
      "p-value: 4.16229517181e-28\n"
     ]
    }
   ],
   "source": [
    "# Running a t-test for Road Time of Possession and Road Win\n",
    "t_stat, p = stats.ttest_ind(df.loc[df['Road Win'], 'Road Time of Possession'], df.loc[df['Road Loss'], 'Road Time of Possession'], equal_var=False)\n",
    "print('t-statistic: ' + str(t_stat))\n",
    "print('p-value: ' + str(p))"
   ]
  },
  {
   "cell_type": "markdown",
   "metadata": {},
   "source": [
    "** Because of how low the p-value is, we can reject the null hypothesis and say Road Time of Possession does have an impact on a Road Team's chance of winning.**"
   ]
  },
  {
   "cell_type": "code",
   "execution_count": 5,
   "metadata": {
    "collapsed": false
   },
   "outputs": [
    {
     "name": "stdout",
     "output_type": "stream",
     "text": [
      "chi-squared: 28.7972496537\n",
      "p-value: 0.150740999025\n"
     ]
    }
   ],
   "source": [
    "# Running a chi-squared test for Road Passing First Downs and Road Win\n",
    "RPFD_RW_CT = pd.crosstab(df['Road Passing First Downs'], df['Road Win'])\n",
    "chi, p, d_f, e_f = stats.chi2_contingency(RPFD_RW_CT)\n",
    "print('chi-squared: ' + str(chi))\n",
    "print('p-value: ' + str(p))"
   ]
  },
  {
   "cell_type": "markdown",
   "metadata": {},
   "source": [
    "** Because of how high the p-value is, we can accept the null hypothesis and say Road Passing First Downs does not have an impact on a Road Team's chance of winning.**"
   ]
  },
  {
   "cell_type": "code",
   "execution_count": 6,
   "metadata": {
    "collapsed": false
   },
   "outputs": [
    {
     "name": "stdout",
     "output_type": "stream",
     "text": [
      "chi-squared: 103.677721227\n",
      "p-value: 2.44684267008e-06\n"
     ]
    }
   ],
   "source": [
    "# Running a chi-squared test for Road Passing Attempts and Home Win\n",
    "RPA_HW_CT = pd.crosstab(df['Road Passing Atts'], df['Home Win'])\n",
    "chi, p, d_f, e_f = stats.chi2_contingency(RPA_HW_CT)\n",
    "print('chi-squared: ' + str(chi))\n",
    "print('p-value: ' + str(p))"
   ]
  },
  {
   "cell_type": "markdown",
   "metadata": {},
   "source": [
    "** Because of how low the p-value is, we can reject the null hypothesis and say Road Passing Attempts does have an impact on a Home Team's chance of winning.**"
   ]
  },
  {
   "cell_type": "code",
   "execution_count": 7,
   "metadata": {
    "collapsed": false
   },
   "outputs": [
    {
     "name": "stdout",
     "output_type": "stream",
     "text": [
      "chi-squared: 57.3482266227\n",
      "p-value: 4.33405906973e-09\n"
     ]
    }
   ],
   "source": [
    "# Running a chi-squared test for Road Sacks Given Up and Home Win\n",
    "RSGU_HW_CT = pd.crosstab(df['Road Sacks Given Up'], df['Home Win'])\n",
    "chi, p, d_f, e_f = stats.chi2_contingency(RSGU_HW_CT)\n",
    "print('chi-squared: ' + str(chi))\n",
    "print('p-value: ' + str(p))"
   ]
  },
  {
   "cell_type": "markdown",
   "metadata": {},
   "source": [
    "** Because of how low the p-value is, we can reject the null hypothesis and say Road Sacks Given Up does have an impact on a Home Team's chance of winning.**"
   ]
  },
  {
   "cell_type": "code",
   "execution_count": 8,
   "metadata": {
    "collapsed": false
   },
   "outputs": [
    {
     "name": "stdout",
     "output_type": "stream",
     "text": [
      "chi-squared: 19.8662285319\n",
      "p-value: 4.85403927745e-05\n"
     ]
    }
   ],
   "source": [
    "# Running a chi-squared test for Home Interception Touchdowns and Home Win\n",
    "HITD_HW_CT = pd.crosstab(df['Home INT TDs'], df['Home Win'])\n",
    "chi, p, d_f, e_f = stats.chi2_contingency(HITD_HW_CT)\n",
    "print('chi-squared: ' + str(chi))\n",
    "print('p-value: ' + str(p))"
   ]
  },
  {
   "cell_type": "markdown",
   "metadata": {},
   "source": [
    "** Because of how low the p-value is, we can reject the null hypothesis and say Home INT TDs does have an impact on a Home Team's chance of winning.**"
   ]
  },
  {
   "cell_type": "code",
   "execution_count": 9,
   "metadata": {
    "collapsed": false
   },
   "outputs": [
    {
     "name": "stdout",
     "output_type": "stream",
     "text": [
      "chi-squared: 54.0936640619\n",
      "p-value: 2.00495339211e-10\n"
     ]
    }
   ],
   "source": [
    "# Running a chi-squared test for Home Goal To Go Successes and Home Win\n",
    "HGTGS_HW_CT = pd.crosstab(df['Home Goal To Go Successes'], df['Home Win'])\n",
    "chi, p, d_f, e_f = stats.chi2_contingency(HGTGS_HW_CT)\n",
    "print('chi-squared: ' + str(chi))\n",
    "print('p-value: ' + str(p))"
   ]
  },
  {
   "cell_type": "markdown",
   "metadata": {},
   "source": [
    "** Because of how low the p-value is, we can reject the null hypothesis and say Home Goal To Go Successes does have an impact on a Home Team's chance of winning.**"
   ]
  },
  {
   "cell_type": "code",
   "execution_count": 10,
   "metadata": {
    "collapsed": false
   },
   "outputs": [
    {
     "name": "stdout",
     "output_type": "stream",
     "text": [
      "chi-squared: 21.6040833409\n",
      "p-value: 0.000240264746781\n"
     ]
    }
   ],
   "source": [
    "# Running a chi-squared test for Road Fourth Down Successes and Home Win\n",
    "RFDS_HW_CT = pd.crosstab(df['Road Fourth Down Successes'], df['Home Win'])\n",
    "chi, p, d_f, e_f = stats.chi2_contingency(RFDS_HW_CT)\n",
    "print('chi-squared: ' + str(chi))\n",
    "print('p-value: ' + str(p))"
   ]
  },
  {
   "cell_type": "markdown",
   "metadata": {},
   "source": [
    "** Because of how low the p-value is, we can reject the null hypothesis and say Road Fourth Down Successes does have an impact on a Home Team's chance of winning.**"
   ]
  },
  {
   "cell_type": "code",
   "execution_count": 11,
   "metadata": {
    "collapsed": false
   },
   "outputs": [
    {
     "name": "stdout",
     "output_type": "stream",
     "text": [
      "Roading Rushing Yards t-statistic: 9.19537876987\n",
      "Road Rushing Yards p-value: 6.56489564669e-19\n",
      "Roading Passing Yards t-statistic: 1.2575033784\n",
      "Road Passing Yards p-value: 0.209031049196\n",
      "Road Total Yards t-statistic: 6.74881320859\n",
      "Road Total Yards p-value: 3.34810154221e-11\n"
     ]
    }
   ],
   "source": [
    "# Comparing t-tests for Road Rushing Yards, Road Passing Yards and Road Total Yards with Road Win\n",
    "RRY_t_stat, RRY_p = stats.ttest_ind(df.loc[df['Road Win'],'Road Rushing Yds'], df.loc[df['Road Loss'], 'Road Rushing Yds'], equal_var=False)\n",
    "print('Roading Rushing Yards t-statistic: ' + str(RRY_t_stat))\n",
    "print('Road Rushing Yards p-value: ' + str(RRY_p))\n",
    "\n",
    "RPY_t_stat, RPY_p = stats.ttest_ind(df.loc[df['Road Win'],'Road Passing Yds'], df.loc[df['Road Loss'], 'Road Passing Yds'], equal_var=False)\n",
    "print('Roading Passing Yards t-statistic: ' + str(RPY_t_stat))\n",
    "print('Road Passing Yards p-value: ' + str(RPY_p))\n",
    "\n",
    "RTY_t_stat, RTY_p = stats.ttest_ind(df.loc[df['Road Win'],'Road Total Yds'], df.loc[df['Road Loss'], 'Road Total Yds'], equal_var=False)\n",
    "print('Road Total Yards t-statistic: ' + str(RTY_t_stat))\n",
    "print('Road Total Yards p-value: ' + str(RTY_p))"
   ]
  },
  {
   "cell_type": "markdown",
   "metadata": {},
   "source": [
    "** Because of how low the p-values are for Road Rushing Yards and Road Total Yards, we can reject the null hypothesis and say that both have an impact on a Road Team's chance of winning. However, because of how high p-value is for Road Passing Yards, we can accept the null hypothesis and say that it does not have an impact on a Road Team's chance of winning.**"
   ]
  },
  {
   "cell_type": "code",
   "execution_count": 12,
   "metadata": {
    "collapsed": false
   },
   "outputs": [
    {
     "name": "stdout",
     "output_type": "stream",
     "text": [
      "Home Rushing Yards t-statistic: 10.3404950095\n",
      "Home Rushing Yards p-value: 2.21865803101e-23\n",
      "Home Passing Yards t-statistic: 1.13272589041\n",
      "Home Passing Yards p-value: 0.257748779813\n",
      "Home Total Yards t-statistic: 7.6370938345\n",
      "Home Total Yards p-value: 8.12502710132e-14\n"
     ]
    }
   ],
   "source": [
    "# Comparing t-tests for Home Rushing Yards, Home Passing Yards and Home Total Yards with Home Win\n",
    "HRY_t_stat, HRY_p = stats.ttest_ind(df.loc[df['Home Win'],'Home Rushing Yds'], df.loc[df['Home Loss'], 'Home Rushing Yds'], equal_var=False)\n",
    "print('Home Rushing Yards t-statistic: ' + str(HRY_t_stat))\n",
    "print('Home Rushing Yards p-value: ' + str(HRY_p))\n",
    "\n",
    "HPY_t_stat, HPY_p = stats.ttest_ind(df.loc[df['Home Win'],'Home Passing Yds'], df.loc[df['Home Loss'], 'Home Passing Yds'], equal_var=False)\n",
    "print('Home Passing Yards t-statistic: ' + str(HPY_t_stat))\n",
    "print('Home Passing Yards p-value: ' + str(HPY_p))\n",
    "\n",
    "HTY_t_stat, HTY_p = stats.ttest_ind(df.loc[df['Home Win'],'Home Total Yds'], df.loc[df['Home Loss'], 'Home Total Yds'], equal_var=False)\n",
    "print('Home Total Yards t-statistic: ' + str(HTY_t_stat))\n",
    "print('Home Total Yards p-value: ' + str(HTY_p))"
   ]
  },
  {
   "cell_type": "markdown",
   "metadata": {},
   "source": [
    "** Because of how low the p-values are for Home Rushing Yards and Home Total Yards, we can reject the null hypothesis and say that both have an impact on a Home Team's chance of winning. However, because of how high p-value is for Home Passing Yards, we can accept the null hypothesis and say that it does not have an impact on a Home Team's chance of winning.**"
   ]
  },
  {
   "cell_type": "code",
   "execution_count": 13,
   "metadata": {
    "collapsed": false
   },
   "outputs": [
    {
     "name": "stdout",
     "output_type": "stream",
     "text": [
      "r: 0.0332237989546\n",
      "p-value: 0.384936055995\n"
     ]
    }
   ],
   "source": [
    "# Running a Pearson Correlation test between Road Total Yards and Home Total Yards\n",
    "r, p = stats.pearsonr(df['Road Total Yds'], df['Home Total Yds'])\n",
    "print('r: ' + str(r))\n",
    "print('p-value: ' + str(p))"
   ]
  },
  {
   "cell_type": "markdown",
   "metadata": {},
   "source": [
    "** With a correlation coefficient around 0.03, we can see that there is a slight positive correlation between the two statistics but it is very minimal. Also, because of how high the p-value is, we can say the relationship between Road Total Yards and Home Total Yards is not statistically significant.**"
   ]
  },
  {
   "cell_type": "code",
   "execution_count": 14,
   "metadata": {
    "collapsed": false
   },
   "outputs": [
    {
     "name": "stdout",
     "output_type": "stream",
     "text": [
      "Road Points t-statistic: 17.3265225416\n",
      "Road Points p-value: 2.23599858203e-55\n",
      "Home Points t-statistic: 18.6748510633\n",
      "Home Points p-value: 8.08943267606e-63\n"
     ]
    }
   ],
   "source": [
    "# Comparing t-tests for Road Points with Road Win and Home Points with Home Win\n",
    "RP_t_stat, RP_p = stats.ttest_ind(df.loc[df['Road Win'],'Road Points'], df.loc[df['Road Loss'], 'Road Points'], equal_var=False)\n",
    "print('Road Points t-statistic: ' + str(RP_t_stat))\n",
    "print('Road Points p-value: ' + str(RP_p))\n",
    "\n",
    "HP_t_stat, HP_p = stats.ttest_ind(df.loc[df['Home Win'],'Home Points'], df.loc[df['Home Loss'], 'Home Points'], equal_var=False)\n",
    "print('Home Points t-statistic: ' + str(HP_t_stat))\n",
    "print('Home Points p-value: ' + str(HP_p))"
   ]
  },
  {
   "cell_type": "markdown",
   "metadata": {},
   "source": [
    "** Because of how low the p-value is for Road Points, we can reject the null hypothesis and say it does have an impact on a Road Team's chance of winning. Also, because of how low the p-value is for Home Points, we can reject the null hypothesis and say it does have an impact on a Home Team's chance of winning.**"
   ]
  },
  {
   "cell_type": "code",
   "execution_count": 15,
   "metadata": {
    "collapsed": false
   },
   "outputs": [
    {
     "name": "stdout",
     "output_type": "stream",
     "text": [
      "r: -0.0231055999376\n",
      "p-value: 0.545744131302\n"
     ]
    }
   ],
   "source": [
    "# Running a Pearson Correlation test between Road Points and Home Points\n",
    "r, p = stats.pearsonr(df['Road Points'], df['Home Points'])\n",
    "print('r: ' + str(r))\n",
    "print('p-value: ' + str(p))"
   ]
  },
  {
   "cell_type": "markdown",
   "metadata": {},
   "source": [
    "** With a correlation coefficient around -0.02, we can see that there is a slight negative correlation between the two statistics but it is very minimal. Also, because of how high the p-value is, we can say the relationship between Road Points and Home Points is not statistically significant.**"
   ]
  }
 ],
 "metadata": {
  "kernelspec": {
   "display_name": "Python 2",
   "language": "python",
   "name": "python2"
  },
  "language_info": {
   "codemirror_mode": {
    "name": "ipython",
    "version": 2
   },
   "file_extension": ".py",
   "mimetype": "text/x-python",
   "name": "python",
   "nbconvert_exporter": "python",
   "pygments_lexer": "ipython2",
   "version": "2.7.11"
  }
 },
 "nbformat": 4,
 "nbformat_minor": 0
}
