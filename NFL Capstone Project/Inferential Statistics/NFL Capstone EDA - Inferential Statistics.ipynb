{
 "cells": [
  {
   "cell_type": "code",
   "execution_count": 1,
   "metadata": {
    "collapsed": true
   },
   "outputs": [],
   "source": [
    "# Win, Loss, Total Yardage = t-test\n",
    "# Road Team Yardage vs Home Team Yardage = Correlation\n",
    "# Number of First Downs = Chi-Squared Test (like 1 vs 1 or 2 vs 2)\n",
    "# Can also zoom in on plots I find interesting (like Road Points > 40 vs Home Win)"
   ]
  },
  {
   "cell_type": "code",
   "execution_count": 2,
   "metadata": {
    "collapsed": true
   },
   "outputs": [],
   "source": [
    "# Importing necessary packages\n",
    "%matplotlib inline\n",
    "import pandas as pd\n",
    "import numpy as np\n",
    "import matplotlib.pyplot as plt\n",
    "import seaborn as sns\n",
    "from scipy import stats\n",
    "from scipy.stats import chisquare"
   ]
  },
  {
   "cell_type": "code",
   "execution_count": 3,
   "metadata": {
    "collapsed": false
   },
   "outputs": [
    {
     "data": {
      "text/html": [
       "<div>\n",
       "<table border=\"1\" class=\"dataframe\">\n",
       "  <thead>\n",
       "    <tr style=\"text-align: right;\">\n",
       "      <th></th>\n",
       "      <th>Date</th>\n",
       "      <th>Home Field Goal Attempts</th>\n",
       "      <th>Home First Downs</th>\n",
       "      <th>Home Fourth Down Attempts</th>\n",
       "      <th>Home Fourth Down Successes</th>\n",
       "      <th>Home Fumble TDs</th>\n",
       "      <th>Home Fumbles</th>\n",
       "      <th>Home Fumbles Lost</th>\n",
       "      <th>Home Fumbles Recovered</th>\n",
       "      <th>Home Goal To Go Attempts</th>\n",
       "      <th>...</th>\n",
       "      <th>Road Time of Possession</th>\n",
       "      <th>Road Total TDs</th>\n",
       "      <th>Road Total Yds</th>\n",
       "      <th>Road Touchbacks</th>\n",
       "      <th>Road Two Point Conversion Attempts</th>\n",
       "      <th>Road Two Point Conversion Successes</th>\n",
       "      <th>Road Win</th>\n",
       "      <th>Road Wins</th>\n",
       "      <th>Season</th>\n",
       "      <th>Week Number</th>\n",
       "    </tr>\n",
       "  </thead>\n",
       "  <tbody>\n",
       "    <tr>\n",
       "      <th>0</th>\n",
       "      <td>on December 20, 2015</td>\n",
       "      <td>1</td>\n",
       "      <td>19</td>\n",
       "      <td>2</td>\n",
       "      <td>0</td>\n",
       "      <td>0</td>\n",
       "      <td>2</td>\n",
       "      <td>2</td>\n",
       "      <td>0</td>\n",
       "      <td>0</td>\n",
       "      <td>...</td>\n",
       "      <td>2248</td>\n",
       "      <td>5</td>\n",
       "      <td>506</td>\n",
       "      <td>3</td>\n",
       "      <td>0</td>\n",
       "      <td>0</td>\n",
       "      <td>True</td>\n",
       "      <td>1</td>\n",
       "      <td>nfl-2015-2016</td>\n",
       "      <td>15</td>\n",
       "    </tr>\n",
       "    <tr>\n",
       "      <th>1</th>\n",
       "      <td>on November 29, 2015</td>\n",
       "      <td>2</td>\n",
       "      <td>17</td>\n",
       "      <td>2</td>\n",
       "      <td>1</td>\n",
       "      <td>0</td>\n",
       "      <td>2</td>\n",
       "      <td>1</td>\n",
       "      <td>0</td>\n",
       "      <td>0</td>\n",
       "      <td>...</td>\n",
       "      <td>2247</td>\n",
       "      <td>2</td>\n",
       "      <td>350</td>\n",
       "      <td>1</td>\n",
       "      <td>0</td>\n",
       "      <td>0</td>\n",
       "      <td>True</td>\n",
       "      <td>1</td>\n",
       "      <td>nfl-2015-2016</td>\n",
       "      <td>12</td>\n",
       "    </tr>\n",
       "    <tr>\n",
       "      <th>2</th>\n",
       "      <td>on December 27, 2015</td>\n",
       "      <td>1</td>\n",
       "      <td>19</td>\n",
       "      <td>0</td>\n",
       "      <td>0</td>\n",
       "      <td>2</td>\n",
       "      <td>2</td>\n",
       "      <td>1</td>\n",
       "      <td>3</td>\n",
       "      <td>3</td>\n",
       "      <td>...</td>\n",
       "      <td>1784</td>\n",
       "      <td>1</td>\n",
       "      <td>265</td>\n",
       "      <td>0</td>\n",
       "      <td>1</td>\n",
       "      <td>1</td>\n",
       "      <td>False</td>\n",
       "      <td>0</td>\n",
       "      <td>nfl-2015-2016</td>\n",
       "      <td>16</td>\n",
       "    </tr>\n",
       "    <tr>\n",
       "      <th>3</th>\n",
       "      <td>on November 22, 2015</td>\n",
       "      <td>2</td>\n",
       "      <td>21</td>\n",
       "      <td>0</td>\n",
       "      <td>0</td>\n",
       "      <td>0</td>\n",
       "      <td>2</td>\n",
       "      <td>0</td>\n",
       "      <td>1</td>\n",
       "      <td>1</td>\n",
       "      <td>...</td>\n",
       "      <td>1875</td>\n",
       "      <td>4</td>\n",
       "      <td>415</td>\n",
       "      <td>3</td>\n",
       "      <td>0</td>\n",
       "      <td>0</td>\n",
       "      <td>False</td>\n",
       "      <td>0</td>\n",
       "      <td>nfl-2015-2016</td>\n",
       "      <td>11</td>\n",
       "    </tr>\n",
       "    <tr>\n",
       "      <th>4</th>\n",
       "      <td>on January  3, 2016</td>\n",
       "      <td>1</td>\n",
       "      <td>16</td>\n",
       "      <td>1</td>\n",
       "      <td>0</td>\n",
       "      <td>0</td>\n",
       "      <td>0</td>\n",
       "      <td>0</td>\n",
       "      <td>0</td>\n",
       "      <td>0</td>\n",
       "      <td>...</td>\n",
       "      <td>2197</td>\n",
       "      <td>4</td>\n",
       "      <td>382</td>\n",
       "      <td>7</td>\n",
       "      <td>0</td>\n",
       "      <td>0</td>\n",
       "      <td>True</td>\n",
       "      <td>1</td>\n",
       "      <td>nfl-2015-2016</td>\n",
       "      <td>17</td>\n",
       "    </tr>\n",
       "  </tbody>\n",
       "</table>\n",
       "<p>5 rows × 118 columns</p>\n",
       "</div>"
      ],
      "text/plain": [
       "                   Date  Home Field Goal Attempts  Home First Downs  \\\n",
       "0  on December 20, 2015                         1                19   \n",
       "1  on November 29, 2015                         2                17   \n",
       "2  on December 27, 2015                         1                19   \n",
       "3  on November 22, 2015                         2                21   \n",
       "4   on January  3, 2016                         1                16   \n",
       "\n",
       "   Home Fourth Down Attempts  Home Fourth Down Successes  Home Fumble TDs  \\\n",
       "0                          2                           0                0   \n",
       "1                          2                           1                0   \n",
       "2                          0                           0                2   \n",
       "3                          0                           0                0   \n",
       "4                          1                           0                0   \n",
       "\n",
       "   Home Fumbles  Home Fumbles Lost  Home Fumbles Recovered  \\\n",
       "0             2                  2                       0   \n",
       "1             2                  1                       0   \n",
       "2             2                  1                       3   \n",
       "3             2                  0                       1   \n",
       "4             0                  0                       0   \n",
       "\n",
       "   Home Goal To Go Attempts     ...       Road Time of Possession  \\\n",
       "0                         0     ...                          2248   \n",
       "1                         0     ...                          2247   \n",
       "2                         3     ...                          1784   \n",
       "3                         1     ...                          1875   \n",
       "4                         0     ...                          2197   \n",
       "\n",
       "   Road Total TDs  Road Total Yds  Road Touchbacks  \\\n",
       "0               5             506                3   \n",
       "1               2             350                1   \n",
       "2               1             265                0   \n",
       "3               4             415                3   \n",
       "4               4             382                7   \n",
       "\n",
       "   Road Two Point Conversion Attempts  Road Two Point Conversion Successes  \\\n",
       "0                                   0                                    0   \n",
       "1                                   0                                    0   \n",
       "2                                   1                                    1   \n",
       "3                                   0                                    0   \n",
       "4                                   0                                    0   \n",
       "\n",
       "   Road Win  Road Wins         Season  Week Number  \n",
       "0      True          1  nfl-2015-2016           15  \n",
       "1      True          1  nfl-2015-2016           12  \n",
       "2     False          0  nfl-2015-2016           16  \n",
       "3     False          0  nfl-2015-2016           11  \n",
       "4      True          1  nfl-2015-2016           17  \n",
       "\n",
       "[5 rows x 118 columns]"
      ]
     },
     "execution_count": 3,
     "metadata": {},
     "output_type": "execute_result"
    }
   ],
   "source": [
    "# Uploading DataFrame and inspecting its contents\n",
    "df = pd.DataFrame()\n",
    "df = pd.read_csv('/Users/dwreiter/Desktop/Work/Springboard/NFL Capstone Project/Data Wrangling/nfl_df.csv', delimiter='\\t', index_col=0)\n",
    "df.head()"
   ]
  },
  {
   "cell_type": "markdown",
   "metadata": {},
   "source": [
    "** For each test below:\n",
    "<br>\n",
    "Ho = No statistical significance for the statistics\n",
    "<br>\n",
    "Ha = There is statistical significance for the statistics\n",
    "<br>\n",
    "α = 0.05**"
   ]
  },
  {
   "cell_type": "code",
   "execution_count": 4,
   "metadata": {
    "collapsed": false
   },
   "outputs": [
    {
     "name": "stdout",
     "output_type": "stream",
     "text": [
      "t-statistic: 88.7517607662\n",
      "p-value: 0.0\n"
     ]
    }
   ],
   "source": [
    "# Running a t-test for Road Rushing Attempts and Road Win\n",
    "t_stat, p = stats.ttest_ind(df['Road Rushing Atts'], df['Road Win'], equal_var=False)\n",
    "print('t-statistic: ' + str(t_stat))\n",
    "print('p-value: ' + str(p))"
   ]
  },
  {
   "cell_type": "markdown",
   "metadata": {},
   "source": [
    "** Because of how high the t-statistic is and how low the p-value is, we can say the relationship between Road Rushing Attempts and Road Win is statistically significant.**"
   ]
  },
  {
   "cell_type": "code",
   "execution_count": 5,
   "metadata": {
    "collapsed": false
   },
   "outputs": [
    {
     "name": "stdout",
     "output_type": "stream",
     "text": [
      "t-statistic: 176.282060849\n",
      "p-value: 0.0\n"
     ]
    }
   ],
   "source": [
    "# Running a t-test for Road Time of Possession and Road Win\n",
    "t_stat, p = stats.ttest_ind(df['Road Time of Possession'], df['Road Win'], equal_var=False)\n",
    "print('t-statistic: ' + str(t_stat))\n",
    "print('p-value: ' + str(p))"
   ]
  },
  {
   "cell_type": "markdown",
   "metadata": {},
   "source": [
    "** Because of how high the t-statistic is and how low the p-value is, we can say the relationship between Road Time of Possession and Road Win is statistically significant.**"
   ]
  },
  {
   "cell_type": "code",
   "execution_count": 6,
   "metadata": {
    "collapsed": false
   },
   "outputs": [
    {
     "name": "stdout",
     "output_type": "stream",
     "text": [
      "chi-squared: 850.821459227\n",
      "p-value: 1.45767800553e-05\n"
     ]
    }
   ],
   "source": [
    "# Running a chi-squared test for Road Passing First Downs\n",
    "chi, p = chisquare(df['Road Passing First Downs'])\n",
    "print('chi-squared: ' + str(chi))\n",
    "print('p-value: ' + str(p))"
   ]
  },
  {
   "cell_type": "markdown",
   "metadata": {},
   "source": [
    "** Since the chi square test statistic is so large, the observed data does not fit very well with the expected data. Also, because of how low the p-value is, we can say Road Passing First Downs is statistically significant.**"
   ]
  },
  {
   "cell_type": "code",
   "execution_count": 7,
   "metadata": {
    "collapsed": false
   },
   "outputs": [
    {
     "name": "stdout",
     "output_type": "stream",
     "text": [
      "r: 0.323643745113\n",
      "p-value: 3.42514138104e-18\n"
     ]
    }
   ],
   "source": [
    "# Running a Pearson Correlation test between Road Passing Attempts and Home Win\n",
    "r, p = stats.pearsonr(df['Road Passing Atts'], df['Home Win'])\n",
    "print('r: ' + str(r))\n",
    "print('p-value: ' + str(p))"
   ]
  },
  {
   "cell_type": "markdown",
   "metadata": {},
   "source": [
    "** With a correlation coefficient around 0.32, we can see that there is a positive correlation between the two statistics. Also, because of how low the p-value is, we can say the relationship between Road Passing Attempts and Home Win is statistically significant.**"
   ]
  },
  {
   "cell_type": "code",
   "execution_count": 8,
   "metadata": {
    "collapsed": false
   },
   "outputs": [
    {
     "name": "stdout",
     "output_type": "stream",
     "text": [
      "r: 0.286271328157\n",
      "p-value: 2.09281916348e-14\n"
     ]
    }
   ],
   "source": [
    "# Running a Pearson Correlation test between Road Sacks Given Up and Home Win\n",
    "r, p = stats.pearsonr(df['Road Sacks Given Up'], df['Home Win'])\n",
    "print('r: ' + str(r))\n",
    "print('p-value: ' + str(p))"
   ]
  },
  {
   "cell_type": "markdown",
   "metadata": {},
   "source": [
    "** With a correlation coefficient around 0.28, we can see that there is a positive correlation between the two statistics. Also, because of how low the p-value is, we can say the relationship between Road Sacks Given Up and Home Win is statistically significant.**"
   ]
  },
  {
   "cell_type": "code",
   "execution_count": 9,
   "metadata": {
    "collapsed": false
   },
   "outputs": [
    {
     "name": "stdout",
     "output_type": "stream",
     "text": [
      "chi-squared: 708.222222222\n",
      "p-value: 0.261604045877\n"
     ]
    }
   ],
   "source": [
    "# Running a chi-squared test for Home Interception Touchdowns\n",
    "chi, p = chisquare(df['Home INT TDs'])\n",
    "print('chi-squared: ' + str(chi))\n",
    "print('p-value: ' + str(p))"
   ]
  },
  {
   "cell_type": "markdown",
   "metadata": {},
   "source": [
    "** Since the chi square test statistic is so large, the observed data does not fit very well with the expected data. Also, because of how high the p-value is, we can say Home Interception Touchdowns are not statistically significant.**"
   ]
  },
  {
   "cell_type": "code",
   "execution_count": 10,
   "metadata": {
    "collapsed": false
   },
   "outputs": [
    {
     "name": "stdout",
     "output_type": "stream",
     "text": [
      "chi-squared: 623.012239902\n",
      "p-value: 0.956361978046\n"
     ]
    }
   ],
   "source": [
    "# Running a chi-squared test for Home Goal To Go Successes\n",
    "chi, p = chisquare(df['Home Goal To Go Successes'])\n",
    "print('chi-squared: ' + str(chi))\n",
    "print('p-value: ' + str(p))"
   ]
  },
  {
   "cell_type": "markdown",
   "metadata": {},
   "source": [
    "** Since the chi square test statistic is so large, the observed data does not fit very well with the expected data. Also, because of how high the p-value is, we can say Home Goal To Go Successes are not statistically significant.**"
   ]
  },
  {
   "cell_type": "code",
   "execution_count": 11,
   "metadata": {
    "collapsed": false
   },
   "outputs": [
    {
     "name": "stdout",
     "output_type": "stream",
     "text": [
      "r: 0.175760301673\n",
      "p-value: 3.6364618467e-06\n"
     ]
    }
   ],
   "source": [
    "# Running a Pearson Correlation test between Road Fourth Down Successes and Home Win\n",
    "r, p = stats.pearsonr(df['Road Fourth Down Successes'], df['Home Win'])\n",
    "print('r: ' + str(r))\n",
    "print('p-value: ' + str(p))"
   ]
  },
  {
   "cell_type": "markdown",
   "metadata": {},
   "source": [
    "** With a correlation coefficient around 0.18, we can see that there is a positive correlation between the two statistics though it is not strong. Also, because of how low the p-value is, we can say the relationship between Road Fourth Down Successes and Home Win is statistically significant.**"
   ]
  },
  {
   "cell_type": "code",
   "execution_count": 12,
   "metadata": {
    "collapsed": false
   },
   "outputs": [
    {
     "name": "stdout",
     "output_type": "stream",
     "text": [
      "Roading Rushing Yards t-statistic: 57.3264826946\n",
      "Road Rushing Yards p-value: 1.21600792783e-263\n",
      "Roading Passing Yards t-statistic: 87.136648215\n",
      "Road Passing Yards p-value: 0.0\n",
      "Road Total Yards t-statistic: 114.702632707\n",
      "Road Total Yards p-value: 0.0\n"
     ]
    }
   ],
   "source": [
    "# Comparing t-tests for Road Rushing Yards, Road Passing Yards and Road Total Yards with Road Win\n",
    "RRY_t_stat, RRY_p = stats.ttest_ind(df['Road Rushing Yds'], df['Road Win'], equal_var=False)\n",
    "print('Roading Rushing Yards t-statistic: ' + str(RRY_t_stat))\n",
    "print('Road Rushing Yards p-value: ' + str(RRY_p))\n",
    "\n",
    "RPY_t_stat, RPY_p = stats.ttest_ind(df['Road Passing Yds'], df['Road Win'], equal_var=False)\n",
    "print('Roading Passing Yards t-statistic: ' + str(RPY_t_stat))\n",
    "print('Road Passing Yards p-value: ' + str(RPY_p))\n",
    "\n",
    "RTY_t_stat, RTY_p = stats.ttest_ind(df['Road Total Yds'], df['Road Win'], equal_var=False)\n",
    "print('Road Total Yards t-statistic: ' + str(RTY_t_stat))\n",
    "print('Road Total Yards p-value: ' + str(RTY_p))"
   ]
  },
  {
   "cell_type": "markdown",
   "metadata": {},
   "source": [
    "** Because of how high the t-statistics are and how low the p-values are, we can say the relationships Road Win has with Road Rushing Yards, Road Passing Yards and Road Total Yards are all statistically significant.**"
   ]
  },
  {
   "cell_type": "code",
   "execution_count": 13,
   "metadata": {
    "collapsed": false
   },
   "outputs": [
    {
     "name": "stdout",
     "output_type": "stream",
     "text": [
      "Home Rushing Yards t-statistic: 60.7241748919\n",
      "Home Rushing Yards p-value: 5.85964008458e-278\n",
      "Home Passing Yards t-statistic: 94.4070597077\n",
      "Home Passing Yards p-value: 0.0\n",
      "Home Total Yards t-statistic: 130.26846444\n",
      "Home Total Yards p-value: 0.0\n"
     ]
    }
   ],
   "source": [
    "# Comparing t-tests for Home Rushing Yards, Home Passing Yards and Home Total Yards with Home Win\n",
    "HRY_t_stat, HRY_p = stats.ttest_ind(df['Home Rushing Yds'], df['Home Win'], equal_var=False)\n",
    "print('Home Rushing Yards t-statistic: ' + str(HRY_t_stat))\n",
    "print('Home Rushing Yards p-value: ' + str(HRY_p))\n",
    "\n",
    "HPY_t_stat, HPY_p = stats.ttest_ind(df['Home Passing Yds'], df['Home Win'], equal_var=False)\n",
    "print('Home Passing Yards t-statistic: ' + str(HPY_t_stat))\n",
    "print('Home Passing Yards p-value: ' + str(HPY_p))\n",
    "\n",
    "HTY_t_stat, HTY_p = stats.ttest_ind(df['Home Total Yds'], df['Home Win'], equal_var=False)\n",
    "print('Home Total Yards t-statistic: ' + str(HTY_t_stat))\n",
    "print('Home Total Yards p-value: ' + str(HTY_p))"
   ]
  },
  {
   "cell_type": "markdown",
   "metadata": {},
   "source": [
    "** Because of how high the t-statistics are and how low the p-values are, we can say the relationships Home Win has with Home Rushing Yards, Home Passing Yards and Home Total Yards are all statistically significant.**"
   ]
  },
  {
   "cell_type": "code",
   "execution_count": 14,
   "metadata": {
    "collapsed": false
   },
   "outputs": [
    {
     "name": "stdout",
     "output_type": "stream",
     "text": [
      "r: 0.0332237989546\n",
      "p-value: 0.384936055995\n"
     ]
    }
   ],
   "source": [
    "# Running a Pearson Correlation test between Road Total Yards and Home Total Yards\n",
    "r, p = stats.pearsonr(df['Road Total Yds'], df['Home Total Yds'])\n",
    "print('r: ' + str(r))\n",
    "print('p-value: ' + str(p))"
   ]
  },
  {
   "cell_type": "markdown",
   "metadata": {},
   "source": [
    "** With a correlation coefficient around 0.03, we can see that there is a slight positive correlation between the two statistics but it is very minimal. Also, because of how high the p-value is, we can say the relationship between Road Total Yards and Home Total Yards is not statistically significant.**"
   ]
  }
 ],
 "metadata": {
  "kernelspec": {
   "display_name": "Python 2",
   "language": "python",
   "name": "python2"
  },
  "language_info": {
   "codemirror_mode": {
    "name": "ipython",
    "version": 2
   },
   "file_extension": ".py",
   "mimetype": "text/x-python",
   "name": "python",
   "nbconvert_exporter": "python",
   "pygments_lexer": "ipython2",
   "version": "2.7.11"
  }
 },
 "nbformat": 4,
 "nbformat_minor": 0
}
