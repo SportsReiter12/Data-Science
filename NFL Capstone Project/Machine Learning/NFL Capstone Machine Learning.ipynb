{
 "cells": [
  {
   "cell_type": "code",
   "execution_count": null,
   "metadata": {
    "collapsed": true
   },
   "outputs": [],
   "source": [
    "# Find features with most importance"
   ]
  },
  {
   "cell_type": "code",
   "execution_count": 1,
   "metadata": {
    "collapsed": true
   },
   "outputs": [],
   "source": [
    "# Importing necessary packages\n",
    "%matplotlib inline\n",
    "import numpy as np\n",
    "import pandas as pd\n",
    "import matplotlib.pyplot as plt\n",
    "import seaborn as sns\n",
    "sns.set(rc={'figure.figsize':(11.7,8.27)})\n",
    "from sklearn.model_selection import train_test_split, GridSearchCV, cross_val_score\n",
    "from sklearn.linear_model import LogisticRegression, Lasso\n",
    "from sklearn.metrics import mean_squared_error, log_loss\n",
    "from sklearn import metrics\n",
    "from sklearn.ensemble import RandomForestClassifier"
   ]
  },
  {
   "cell_type": "code",
   "execution_count": 2,
   "metadata": {
    "collapsed": false
   },
   "outputs": [
    {
     "data": {
      "text/html": [
       "<div>\n",
       "<table border=\"1\" class=\"dataframe\">\n",
       "  <thead>\n",
       "    <tr style=\"text-align: right;\">\n",
       "      <th></th>\n",
       "      <th>Date</th>\n",
       "      <th>Home Field Goal Attempts</th>\n",
       "      <th>Home First Downs</th>\n",
       "      <th>Home Fourth Down Attempts</th>\n",
       "      <th>Home Fourth Down Successes</th>\n",
       "      <th>Home Fumble TDs</th>\n",
       "      <th>Home Fumbles</th>\n",
       "      <th>Home Fumbles Lost</th>\n",
       "      <th>Home Fumbles Recovered</th>\n",
       "      <th>Home Goal To Go Attempts</th>\n",
       "      <th>...</th>\n",
       "      <th>Road Time of Possession</th>\n",
       "      <th>Road Total TDs</th>\n",
       "      <th>Road Total Yds</th>\n",
       "      <th>Road Touchbacks</th>\n",
       "      <th>Road Two Point Conversion Attempts</th>\n",
       "      <th>Road Two Point Conversion Successes</th>\n",
       "      <th>Road Win</th>\n",
       "      <th>Road Wins</th>\n",
       "      <th>Season</th>\n",
       "      <th>Week Number</th>\n",
       "    </tr>\n",
       "  </thead>\n",
       "  <tbody>\n",
       "    <tr>\n",
       "      <th>0</th>\n",
       "      <td>on December 20, 2015</td>\n",
       "      <td>1</td>\n",
       "      <td>19</td>\n",
       "      <td>2</td>\n",
       "      <td>0</td>\n",
       "      <td>0</td>\n",
       "      <td>2</td>\n",
       "      <td>2</td>\n",
       "      <td>0</td>\n",
       "      <td>0</td>\n",
       "      <td>...</td>\n",
       "      <td>2248</td>\n",
       "      <td>5</td>\n",
       "      <td>506</td>\n",
       "      <td>3</td>\n",
       "      <td>0</td>\n",
       "      <td>0</td>\n",
       "      <td>True</td>\n",
       "      <td>1</td>\n",
       "      <td>nfl-2015-2016</td>\n",
       "      <td>15</td>\n",
       "    </tr>\n",
       "    <tr>\n",
       "      <th>1</th>\n",
       "      <td>on November 29, 2015</td>\n",
       "      <td>2</td>\n",
       "      <td>17</td>\n",
       "      <td>2</td>\n",
       "      <td>1</td>\n",
       "      <td>0</td>\n",
       "      <td>2</td>\n",
       "      <td>1</td>\n",
       "      <td>0</td>\n",
       "      <td>0</td>\n",
       "      <td>...</td>\n",
       "      <td>2247</td>\n",
       "      <td>2</td>\n",
       "      <td>350</td>\n",
       "      <td>1</td>\n",
       "      <td>0</td>\n",
       "      <td>0</td>\n",
       "      <td>True</td>\n",
       "      <td>1</td>\n",
       "      <td>nfl-2015-2016</td>\n",
       "      <td>12</td>\n",
       "    </tr>\n",
       "    <tr>\n",
       "      <th>2</th>\n",
       "      <td>on December 27, 2015</td>\n",
       "      <td>1</td>\n",
       "      <td>19</td>\n",
       "      <td>0</td>\n",
       "      <td>0</td>\n",
       "      <td>2</td>\n",
       "      <td>2</td>\n",
       "      <td>1</td>\n",
       "      <td>3</td>\n",
       "      <td>3</td>\n",
       "      <td>...</td>\n",
       "      <td>1784</td>\n",
       "      <td>1</td>\n",
       "      <td>265</td>\n",
       "      <td>0</td>\n",
       "      <td>1</td>\n",
       "      <td>1</td>\n",
       "      <td>False</td>\n",
       "      <td>0</td>\n",
       "      <td>nfl-2015-2016</td>\n",
       "      <td>16</td>\n",
       "    </tr>\n",
       "    <tr>\n",
       "      <th>3</th>\n",
       "      <td>on November 22, 2015</td>\n",
       "      <td>2</td>\n",
       "      <td>21</td>\n",
       "      <td>0</td>\n",
       "      <td>0</td>\n",
       "      <td>0</td>\n",
       "      <td>2</td>\n",
       "      <td>0</td>\n",
       "      <td>1</td>\n",
       "      <td>1</td>\n",
       "      <td>...</td>\n",
       "      <td>1875</td>\n",
       "      <td>4</td>\n",
       "      <td>415</td>\n",
       "      <td>3</td>\n",
       "      <td>0</td>\n",
       "      <td>0</td>\n",
       "      <td>False</td>\n",
       "      <td>0</td>\n",
       "      <td>nfl-2015-2016</td>\n",
       "      <td>11</td>\n",
       "    </tr>\n",
       "    <tr>\n",
       "      <th>4</th>\n",
       "      <td>on January  3, 2016</td>\n",
       "      <td>1</td>\n",
       "      <td>16</td>\n",
       "      <td>1</td>\n",
       "      <td>0</td>\n",
       "      <td>0</td>\n",
       "      <td>0</td>\n",
       "      <td>0</td>\n",
       "      <td>0</td>\n",
       "      <td>0</td>\n",
       "      <td>...</td>\n",
       "      <td>2197</td>\n",
       "      <td>4</td>\n",
       "      <td>382</td>\n",
       "      <td>7</td>\n",
       "      <td>0</td>\n",
       "      <td>0</td>\n",
       "      <td>True</td>\n",
       "      <td>1</td>\n",
       "      <td>nfl-2015-2016</td>\n",
       "      <td>17</td>\n",
       "    </tr>\n",
       "  </tbody>\n",
       "</table>\n",
       "<p>5 rows × 118 columns</p>\n",
       "</div>"
      ],
      "text/plain": [
       "                   Date  Home Field Goal Attempts  Home First Downs  \\\n",
       "0  on December 20, 2015                         1                19   \n",
       "1  on November 29, 2015                         2                17   \n",
       "2  on December 27, 2015                         1                19   \n",
       "3  on November 22, 2015                         2                21   \n",
       "4   on January  3, 2016                         1                16   \n",
       "\n",
       "   Home Fourth Down Attempts  Home Fourth Down Successes  Home Fumble TDs  \\\n",
       "0                          2                           0                0   \n",
       "1                          2                           1                0   \n",
       "2                          0                           0                2   \n",
       "3                          0                           0                0   \n",
       "4                          1                           0                0   \n",
       "\n",
       "   Home Fumbles  Home Fumbles Lost  Home Fumbles Recovered  \\\n",
       "0             2                  2                       0   \n",
       "1             2                  1                       0   \n",
       "2             2                  1                       3   \n",
       "3             2                  0                       1   \n",
       "4             0                  0                       0   \n",
       "\n",
       "   Home Goal To Go Attempts     ...       Road Time of Possession  \\\n",
       "0                         0     ...                          2248   \n",
       "1                         0     ...                          2247   \n",
       "2                         3     ...                          1784   \n",
       "3                         1     ...                          1875   \n",
       "4                         0     ...                          2197   \n",
       "\n",
       "   Road Total TDs  Road Total Yds  Road Touchbacks  \\\n",
       "0               5             506                3   \n",
       "1               2             350                1   \n",
       "2               1             265                0   \n",
       "3               4             415                3   \n",
       "4               4             382                7   \n",
       "\n",
       "   Road Two Point Conversion Attempts  Road Two Point Conversion Successes  \\\n",
       "0                                   0                                    0   \n",
       "1                                   0                                    0   \n",
       "2                                   1                                    1   \n",
       "3                                   0                                    0   \n",
       "4                                   0                                    0   \n",
       "\n",
       "   Road Win  Road Wins         Season  Week Number  \n",
       "0      True          1  nfl-2015-2016           15  \n",
       "1      True          1  nfl-2015-2016           12  \n",
       "2     False          0  nfl-2015-2016           16  \n",
       "3     False          0  nfl-2015-2016           11  \n",
       "4      True          1  nfl-2015-2016           17  \n",
       "\n",
       "[5 rows x 118 columns]"
      ]
     },
     "execution_count": 2,
     "metadata": {},
     "output_type": "execute_result"
    }
   ],
   "source": [
    "# Uploading DataFrame and inspecting its contents\n",
    "df = pd.DataFrame()\n",
    "df = pd.read_csv('/Users/dwreiter/Desktop/Work/Springboard/NFL Capstone Project/Data Wrangling/nfl_df.csv', delimiter='\\t', index_col=0)\n",
    "df.head()"
   ]
  },
  {
   "cell_type": "code",
   "execution_count": 3,
   "metadata": {
    "collapsed": false
   },
   "outputs": [],
   "source": [
    "# Setting X and y for Road Teams with X having just statistics, y being Road Win\n",
    "RW_X = df.drop(['Season', 'Week Number', 'Date', 'Name of Winning Team', 'Name of Losing Team', 'Name of Tying Teams', 'Road Team Name', 'Home Team Name', 'Road Win', 'Road Loss', 'Road Tie', 'Road Wins', 'Road Losses', 'Road Ties', 'Home Win', 'Home Loss', 'Home Tie', 'Home Wins', 'Home Losses', 'Home Ties', 'Road Points', 'Home Points'], axis=1)\n",
    "RW_y = df['Road Win']\n",
    "\n",
    "# Splitting the data into Train and Test\n",
    "RW_X_train, RW_X_test, RW_y_train, RW_y_test = train_test_split(RW_X, RW_y, test_size = 0.2, random_state=42, stratify=RW_y)"
   ]
  },
  {
   "cell_type": "code",
   "execution_count": 4,
   "metadata": {
    "collapsed": false
   },
   "outputs": [],
   "source": [
    "# Setting up parameter C\n",
    "c_space = np.logspace(-5, 8, 5)\n",
    "RW_param_grid = {'C': c_space}\n",
    "\n",
    "# Setting up Logistic Regression Model\n",
    "RW_logreg = LogisticRegression()\n",
    "\n",
    "# Using GridSearchCV to help avoid overfitting\n",
    "RW_CV = GridSearchCV(RW_logreg, RW_param_grid, cv=5)"
   ]
  },
  {
   "cell_type": "code",
   "execution_count": 5,
   "metadata": {
    "collapsed": false
   },
   "outputs": [
    {
     "name": "stdout",
     "output_type": "stream",
     "text": [
      "Best Parameter for Road Win Model: {'C': 100000000.0}\n",
      "Best Score for Road Win Model: 0.923357664234\n"
     ]
    }
   ],
   "source": [
    "# Fitting Training Data to model and finding best parameter as well as score\n",
    "RW_CV.fit(RW_X_train, RW_y_train)\n",
    "print('Best Parameter for Road Win Model: ' + str(RW_CV.best_params_))\n",
    "print('Best Score for Road Win Model: ' + str(RW_CV.best_score_))"
   ]
  },
  {
   "cell_type": "code",
   "execution_count": 6,
   "metadata": {
    "collapsed": false
   },
   "outputs": [
    {
     "name": "stdout",
     "output_type": "stream",
     "text": [
      "R squared: 0.963768115942\n",
      "Root Mean Squared Error: 0.190346746907\n"
     ]
    },
    {
     "name": "stderr",
     "output_type": "stream",
     "text": [
      "/Users/dwreiter/miniconda2/envs/tutorial/lib/python2.7/site-packages/sklearn/metrics/regression.py:239: DeprecationWarning: numpy boolean subtract, the `-` operator, is deprecated, use the bitwise_xor, the `^` operator, or the logical_xor function instead.\n",
      "  output_errors = np.average((y_true - y_pred) ** 2, axis=0,\n"
     ]
    }
   ],
   "source": [
    "# Setting up prediction based on testing data for X\n",
    "RW_y_pred = RW_CV.predict(RW_X_test)\n",
    "\n",
    "# Printing R Squared\n",
    "R2_RW = RW_CV.score(RW_X_test, RW_y_test)\n",
    "print('R squared: ' + str(R2_RW))\n",
    "\n",
    "# Computing and printing Means Squared Error\n",
    "RW_rmse = np.sqrt(mean_squared_error(RW_y_test, RW_y_pred))\n",
    "print('Root Mean Squared Error: ' + str(RW_rmse))"
   ]
  },
  {
   "cell_type": "code",
   "execution_count": 7,
   "metadata": {
    "collapsed": false
   },
   "outputs": [
    {
     "name": "stdout",
     "output_type": "stream",
     "text": [
      "Accuracy Score: 0.963768115942\n",
      "[[76  3]\n",
      " [ 2 57]]\n",
      "             precision    recall  f1-score   support\n",
      "\n",
      "      False       0.97      0.96      0.97        79\n",
      "       True       0.95      0.97      0.96        59\n",
      "\n",
      "avg / total       0.96      0.96      0.96       138\n",
      "\n"
     ]
    }
   ],
   "source": [
    "# Calculating the Accuracy Score as well as printing the Confusion Matrix and Classification Report\n",
    "RW_score = metrics.accuracy_score(RW_y_test, RW_y_pred)\n",
    "\n",
    "RW_CM = metrics.confusion_matrix(RW_y_test, RW_y_pred)\n",
    "\n",
    "RW_CR = metrics.classification_report(RW_y_test, RW_y_pred)\n",
    "\n",
    "print('Accuracy Score: ' + str(RW_score))\n",
    "print(RW_CM)\n",
    "print(RW_CR)"
   ]
  },
  {
   "cell_type": "code",
   "execution_count": 126,
   "metadata": {
    "collapsed": false
   },
   "outputs": [
    {
     "data": {
      "text/plain": [
       "[array([  1.11133358e+00,  -5.63544279e-02,   4.19148815e-01,\n",
       "         -1.33156450e+00,  -8.29733131e-01,   1.54912614e+00,\n",
       "          2.75951769e-01,   4.59610406e-01,  -7.41258139e-01,\n",
       "          2.79803329e-02,  -1.24625493e+00,  -1.52626717e+00,\n",
       "          9.96427789e-01,  -1.35037960e+00,   5.02125793e-02,\n",
       "          1.67441312e+00,  -1.08904644e+00,  -5.02308232e+00,\n",
       "          4.83412554e-01,  -2.49622622e-01,   2.78116612e-01,\n",
       "         -2.37229771e+00,  -1.90343053e-02,   1.79567096e-01,\n",
       "         -1.06928563e+00,   7.95062494e-02,   2.10995423e-01,\n",
       "         -2.15831238e-03,  -9.37168718e-01,  -4.22914338e-01,\n",
       "          3.89051056e-01,   9.33896786e-01,  -2.55300397e-01,\n",
       "         -2.63912329e-01,   7.34814593e-01,  -1.67992528e+00,\n",
       "         -5.25011914e-02,  -3.08976628e-02,   6.50404030e-01,\n",
       "          6.56943140e-01,   4.74193762e-01,  -1.41432303e+00,\n",
       "          1.24025809e-02,  -7.34347692e+00,  -7.15354967e-02,\n",
       "         -1.76279800e+00,   5.04870252e-01,  -3.32778358e+00,\n",
       "         -1.56350885e+00,  -9.31044135e-02,  -2.27815301e+00,\n",
       "          6.91092712e-01,   7.93907710e-01,  -8.10907881e-01,\n",
       "         -4.33299839e+00,   9.06616156e-01,  -1.75721554e-01,\n",
       "          1.00921985e+00,   3.56823165e+00,   9.96427789e-01,\n",
       "         -1.52626717e+00,   3.22889894e-03,  -2.97660631e-03,\n",
       "         -1.75155447e+00,  -6.26658451e-02,   4.16194369e+00,\n",
       "         -2.54520931e-01,   1.28464320e-03,   5.01520654e-01,\n",
       "          1.56607336e+00,   2.76572505e-02,   1.62587518e-01,\n",
       "         -5.52429720e-01,  -7.45221761e-02,  -1.05503226e+00,\n",
       "          4.51947915e-02,  -1.27345888e+00,   1.90865162e-01,\n",
       "          5.75478863e-02,  -3.35153715e-01,   1.76999692e+00,\n",
       "          4.00863393e-01,  -4.21953471e-02,   1.77144775e+00,\n",
       "          3.13083293e-03,  -1.93702475e-01,   4.85622473e-01,\n",
       "          1.02889960e+00,  -5.12892022e-01,   3.97820567e-02,\n",
       "          2.36341319e-03,   6.98646968e+00,   3.07880834e-02,\n",
       "          2.25400668e+00,   8.89417481e-01,   1.56686749e+00])]"
      ]
     },
     "execution_count": 126,
     "metadata": {},
     "output_type": "execute_result"
    }
   ],
   "source": [
    "# Testing stuff\n",
    "RW_feature_imp = list(RW_CV.best_estimator_.coef_)\n",
    "RW_feature_imp"
   ]
  },
  {
   "cell_type": "code",
   "execution_count": 125,
   "metadata": {
    "collapsed": false
   },
   "outputs": [
    {
     "ename": "Exception",
     "evalue": "Data must be 1-dimensional",
     "output_type": "error",
     "traceback": [
      "\u001b[0;31m---------------------------------------------------------------------------\u001b[0m",
      "\u001b[0;31mException\u001b[0m                                 Traceback (most recent call last)",
      "\u001b[0;32m<ipython-input-125-bbe7caa2cad4>\u001b[0m in \u001b[0;36m<module>\u001b[0;34m()\u001b[0m\n\u001b[1;32m      1\u001b[0m \u001b[0;31m# Calculating Feature Importance\u001b[0m\u001b[0;34m\u001b[0m\u001b[0;34m\u001b[0m\u001b[0m\n\u001b[0;32m----> 2\u001b[0;31m \u001b[0mRW_feature_imp\u001b[0m \u001b[0;34m=\u001b[0m \u001b[0mpd\u001b[0m\u001b[0;34m.\u001b[0m\u001b[0mSeries\u001b[0m\u001b[0;34m(\u001b[0m\u001b[0mRW_CV\u001b[0m\u001b[0;34m.\u001b[0m\u001b[0mbest_estimator_\u001b[0m\u001b[0;34m.\u001b[0m\u001b[0mcoef_\u001b[0m\u001b[0;34m,\u001b[0m \u001b[0mindex\u001b[0m\u001b[0;34m=\u001b[0m\u001b[0mRW_X\u001b[0m\u001b[0;34m.\u001b[0m\u001b[0mcolumns\u001b[0m\u001b[0;34m)\u001b[0m\u001b[0;34m.\u001b[0m\u001b[0msort_values\u001b[0m\u001b[0;34m(\u001b[0m\u001b[0mascending\u001b[0m\u001b[0;34m=\u001b[0m\u001b[0mFalse\u001b[0m\u001b[0;34m)\u001b[0m\u001b[0;34m\u001b[0m\u001b[0m\n\u001b[0m\u001b[1;32m      3\u001b[0m \u001b[0mRW_feature_imp\u001b[0m\u001b[0;34m\u001b[0m\u001b[0m\n",
      "\u001b[0;32m/Users/dwreiter/miniconda2/envs/tutorial/lib/python2.7/site-packages/pandas/core/series.pyc\u001b[0m in \u001b[0;36m__init__\u001b[0;34m(self, data, index, dtype, name, copy, fastpath)\u001b[0m\n\u001b[1;32m    223\u001b[0m             \u001b[0;32melse\u001b[0m\u001b[0;34m:\u001b[0m\u001b[0;34m\u001b[0m\u001b[0m\n\u001b[1;32m    224\u001b[0m                 data = _sanitize_array(data, index, dtype, copy,\n\u001b[0;32m--> 225\u001b[0;31m                                        raise_cast_failure=True)\n\u001b[0m\u001b[1;32m    226\u001b[0m \u001b[0;34m\u001b[0m\u001b[0m\n\u001b[1;32m    227\u001b[0m                 \u001b[0mdata\u001b[0m \u001b[0;34m=\u001b[0m \u001b[0mSingleBlockManager\u001b[0m\u001b[0;34m(\u001b[0m\u001b[0mdata\u001b[0m\u001b[0;34m,\u001b[0m \u001b[0mindex\u001b[0m\u001b[0;34m,\u001b[0m \u001b[0mfastpath\u001b[0m\u001b[0;34m=\u001b[0m\u001b[0mTrue\u001b[0m\u001b[0;34m)\u001b[0m\u001b[0;34m\u001b[0m\u001b[0m\n",
      "\u001b[0;32m/Users/dwreiter/miniconda2/envs/tutorial/lib/python2.7/site-packages/pandas/core/series.pyc\u001b[0m in \u001b[0;36m_sanitize_array\u001b[0;34m(data, index, dtype, copy, raise_cast_failure)\u001b[0m\n\u001b[1;32m   2883\u001b[0m     \u001b[0;32melif\u001b[0m \u001b[0msubarr\u001b[0m\u001b[0;34m.\u001b[0m\u001b[0mndim\u001b[0m \u001b[0;34m>\u001b[0m \u001b[0;36m1\u001b[0m\u001b[0;34m:\u001b[0m\u001b[0;34m\u001b[0m\u001b[0m\n\u001b[1;32m   2884\u001b[0m         \u001b[0;32mif\u001b[0m \u001b[0misinstance\u001b[0m\u001b[0;34m(\u001b[0m\u001b[0mdata\u001b[0m\u001b[0;34m,\u001b[0m \u001b[0mnp\u001b[0m\u001b[0;34m.\u001b[0m\u001b[0mndarray\u001b[0m\u001b[0;34m)\u001b[0m\u001b[0;34m:\u001b[0m\u001b[0;34m\u001b[0m\u001b[0m\n\u001b[0;32m-> 2885\u001b[0;31m             \u001b[0;32mraise\u001b[0m \u001b[0mException\u001b[0m\u001b[0;34m(\u001b[0m\u001b[0;34m'Data must be 1-dimensional'\u001b[0m\u001b[0;34m)\u001b[0m\u001b[0;34m\u001b[0m\u001b[0m\n\u001b[0m\u001b[1;32m   2886\u001b[0m         \u001b[0;32melse\u001b[0m\u001b[0;34m:\u001b[0m\u001b[0;34m\u001b[0m\u001b[0m\n\u001b[1;32m   2887\u001b[0m             \u001b[0msubarr\u001b[0m \u001b[0;34m=\u001b[0m \u001b[0m_asarray_tuplesafe\u001b[0m\u001b[0;34m(\u001b[0m\u001b[0mdata\u001b[0m\u001b[0;34m,\u001b[0m \u001b[0mdtype\u001b[0m\u001b[0;34m=\u001b[0m\u001b[0mdtype\u001b[0m\u001b[0;34m)\u001b[0m\u001b[0;34m\u001b[0m\u001b[0m\n",
      "\u001b[0;31mException\u001b[0m: Data must be 1-dimensional"
     ]
    }
   ],
   "source": [
    "# Calculating Feature Importance\n",
    "# Trying to figure out\n",
    "RW_feature_imp = pd.Series(RW_CV.best_estimator_.coef_, index=RW_X.columns).sort_values(ascending=False)\n",
    "RW_feature_imp"
   ]
  },
  {
   "cell_type": "code",
   "execution_count": 8,
   "metadata": {
    "collapsed": false
   },
   "outputs": [
    {
     "name": "stdout",
     "output_type": "stream",
     "text": [
      "Log Loss: 1.2514223244\n"
     ]
    }
   ],
   "source": [
    "# Computing Log Loss\n",
    "RW_LL = log_loss(RW_y_test, RW_y_pred)\n",
    "print('Log Loss: ' + str(RW_LL))"
   ]
  },
  {
   "cell_type": "code",
   "execution_count": 9,
   "metadata": {
    "collapsed": false
   },
   "outputs": [
    {
     "name": "stdout",
     "output_type": "stream",
     "text": [
      "Accuracy Score: 0.920289855072\n"
     ]
    }
   ],
   "source": [
    "# Setting up a Random Forest Classifier followed by fitting and predicting on the data\n",
    "RW_rf = RandomForestClassifier(n_estimators=1000, random_state=42)\n",
    "\n",
    "RW_rf.fit(RW_X_train, RW_y_train)\n",
    "\n",
    "RW_rf_pred = RW_rf.predict(RW_X_test)\n",
    "\n",
    "RW_rf_score = metrics.accuracy_score(RW_y_test, RW_rf_pred)\n",
    "print('Accuracy Score: ' + str(RW_rf_score))"
   ]
  },
  {
   "cell_type": "code",
   "execution_count": 10,
   "metadata": {
    "collapsed": false
   },
   "outputs": [
    {
     "name": "stdout",
     "output_type": "stream",
     "text": [
      "[[74  5]\n",
      " [ 6 53]]\n",
      "             precision    recall  f1-score   support\n",
      "\n",
      "      False       0.93      0.94      0.93        79\n",
      "       True       0.91      0.90      0.91        59\n",
      "\n",
      "avg / total       0.92      0.92      0.92       138\n",
      "\n"
     ]
    }
   ],
   "source": [
    "# Printing out the Confusion Matrix and Classification Report for the Random Forest Classifier\n",
    "RW_rf_CM = metrics.confusion_matrix(RW_y_test, RW_rf_pred)\n",
    "RW_rf_CR = metrics.classification_report(RW_y_test, RW_rf_pred)\n",
    "\n",
    "print(RW_rf_CM)\n",
    "print(RW_rf_CR)"
   ]
  },
  {
   "cell_type": "code",
   "execution_count": 11,
   "metadata": {
    "collapsed": false
   },
   "outputs": [
    {
     "data": {
      "text/plain": [
       "Home Rushing Atts                      0.076156\n",
       "Home Kickoffs                          0.072109\n",
       "Road Rushing Atts                      0.060304\n",
       "Home Total TDs                         0.041304\n",
       "Road Kickoffs                          0.040220\n",
       "Road Total TDs                         0.036758\n",
       "Road Time of Possession                0.027263\n",
       "Home Time of Possession                0.026704\n",
       "Home Touchbacks                        0.026371\n",
       "Road Passing Atts                      0.021767\n",
       "Home Rushing Yds                       0.021335\n",
       "Road Fourth Down Attempts              0.018913\n",
       "Home Passing Atts                      0.018577\n",
       "Road Rushing Yds                       0.017287\n",
       "Home Fourth Down Attempts              0.015819\n",
       "Home Total Yds                         0.014841\n",
       "Road Red Zone Successes                0.012887\n",
       "Home Kickoff Return Yds                0.012577\n",
       "Road Red Zone Attempts                 0.012294\n",
       "Road Sack Yds Given Up                 0.012130\n",
       "Road Total Yds                         0.011287\n",
       "Road Touchbacks                        0.010976\n",
       "Home INTs                              0.010739\n",
       "Home Red Zone Attempts                 0.010675\n",
       "Road INTs Given Up                     0.009826\n",
       "Home Made Field Goals                  0.009454\n",
       "Home Red Zone Successes                0.009334\n",
       "Road First Downs                       0.009258\n",
       "Home Passing Yds                       0.009210\n",
       "Road Kickoff Return Yds                0.009091\n",
       "                                         ...   \n",
       "Road Goal To Go Successes              0.004601\n",
       "Home Punts                             0.004461\n",
       "Road Punt Returns                      0.004174\n",
       "Home Punt Returns                      0.004108\n",
       "Road Field Goal Attempts               0.003936\n",
       "Road Rushing TDs                       0.003912\n",
       "Home Penalty First Downs               0.003840\n",
       "Road Fumbles Lost                      0.003774\n",
       "Home Rushing TDs                       0.003700\n",
       "Road Penalty First Downs               0.003685\n",
       "Home Goal To Go Attempts               0.003643\n",
       "Home Fourth Down Successes             0.002819\n",
       "Home Fumbles Lost                      0.002649\n",
       "Home INT TDs                           0.002597\n",
       "Road Fourth Down Successes             0.002325\n",
       "Road Two Point Conversion Attempts     0.001594\n",
       "Road Fumbles Recovered                 0.001426\n",
       "Home Fumbles Recovered                 0.001311\n",
       "Road INT TDs                           0.001274\n",
       "Home Two Point Conversion Attempts     0.001209\n",
       "Road Fumble TDs                        0.001005\n",
       "Home Fumble TDs                        0.000852\n",
       "Road Two Point Conversion Successes    0.000818\n",
       "Road Punt Return TDs                   0.000777\n",
       "Road Safeties                          0.000760\n",
       "Home Two Point Conversion Successes    0.000725\n",
       "Home Kickoff Return TDs                0.000350\n",
       "Home Punt Return TDs                   0.000319\n",
       "Home Safeties                          0.000260\n",
       "Road Kickoff Return TDs                0.000144\n",
       "dtype: float64"
      ]
     },
     "execution_count": 11,
     "metadata": {},
     "output_type": "execute_result"
    }
   ],
   "source": [
    "# Calculating Feature Importance from Random Forest Classifier\n",
    "RW_rf_feature_imp = pd.Series(RW_rf.feature_importances_, index=RW_X.columns).sort_values(ascending=False)\n",
    "RW_rf_feature_imp"
   ]
  },
  {
   "cell_type": "code",
   "execution_count": 12,
   "metadata": {
    "collapsed": false
   },
   "outputs": [
    {
     "name": "stdout",
     "output_type": "stream",
     "text": [
      "Log Loss: 2.75311984298\n"
     ]
    }
   ],
   "source": [
    "# Computing Log Loss for the Random Forest Classifier\n",
    "RW_rf_LL = log_loss(RW_y_test, RW_rf_pred)\n",
    "print('Log Loss: ' + str(RW_rf_LL))"
   ]
  },
  {
   "cell_type": "code",
   "execution_count": 13,
   "metadata": {
    "collapsed": true
   },
   "outputs": [],
   "source": [
    "# Setting X and y for Home Teams with X having just statistics, y being Home Win\n",
    "HW_X = df.drop(['Season', 'Week Number', 'Date', 'Name of Winning Team', 'Name of Losing Team', 'Name of Tying Teams', 'Road Team Name', 'Home Team Name', 'Road Win', 'Road Loss', 'Road Tie', 'Road Wins', 'Road Losses', 'Road Ties', 'Home Win', 'Home Loss', 'Home Tie', 'Home Wins', 'Home Losses', 'Home Ties', 'Road Points', 'Home Points'], axis=1)\n",
    "HW_y = df['Home Win']\n",
    "\n",
    "# Splitting the data into Train and Test\n",
    "HW_X_train, HW_X_test, HW_y_train, HW_y_test = train_test_split(HW_X, HW_y, test_size = 0.2, random_state=42, stratify=HW_y)"
   ]
  },
  {
   "cell_type": "code",
   "execution_count": 14,
   "metadata": {
    "collapsed": true
   },
   "outputs": [],
   "source": [
    "# Setting up parameter C\n",
    "c_space = np.logspace(-5, 8, 15)\n",
    "HW_param_grid = {'C': c_space}\n",
    "\n",
    "# Setting up Logistic Regression Model\n",
    "HW_logreg = LogisticRegression()\n",
    "\n",
    "# Using GridSearchCV to help avoid overfitting\n",
    "HW_CV = GridSearchCV(HW_logreg, HW_param_grid, cv=5)"
   ]
  },
  {
   "cell_type": "code",
   "execution_count": 15,
   "metadata": {
    "collapsed": false
   },
   "outputs": [
    {
     "name": "stdout",
     "output_type": "stream",
     "text": [
      "Best Parameter for Home Win Model: {'C': 0.43939705607607948}\n",
      "Best Score for Home Win Model: 0.932481751825\n"
     ]
    }
   ],
   "source": [
    "# Fitting Training Data to model and finding best parameter as well as score\n",
    "HW_CV.fit(HW_X_train, HW_y_train)\n",
    "print('Best Parameter for Home Win Model: ' + str(HW_CV.best_params_))\n",
    "print('Best Score for Home Win Model: ' + str(HW_CV.best_score_))"
   ]
  },
  {
   "cell_type": "code",
   "execution_count": 16,
   "metadata": {
    "collapsed": false
   },
   "outputs": [
    {
     "name": "stdout",
     "output_type": "stream",
     "text": [
      "R squared: 0.913043478261\n",
      "Root Mean Squared Error: 0.29488391231\n"
     ]
    },
    {
     "name": "stderr",
     "output_type": "stream",
     "text": [
      "/Users/dwreiter/miniconda2/envs/tutorial/lib/python2.7/site-packages/sklearn/metrics/regression.py:239: DeprecationWarning: numpy boolean subtract, the `-` operator, is deprecated, use the bitwise_xor, the `^` operator, or the logical_xor function instead.\n",
      "  output_errors = np.average((y_true - y_pred) ** 2, axis=0,\n"
     ]
    }
   ],
   "source": [
    "# Setting up prediction based on testing data for X\n",
    "HW_y_pred = HW_CV.predict(HW_X_test)\n",
    "\n",
    "# Printing R Squared\n",
    "R2_HW = HW_CV.score(HW_X_test, HW_y_test)\n",
    "print('R squared: ' + str(R2_HW))\n",
    "\n",
    "# Computing and printing Means Squared Error\n",
    "HW_rmse = np.sqrt(mean_squared_error(HW_y_test, HW_y_pred))\n",
    "print('Root Mean Squared Error: ' + str(HW_rmse))"
   ]
  },
  {
   "cell_type": "code",
   "execution_count": 17,
   "metadata": {
    "collapsed": false
   },
   "outputs": [
    {
     "name": "stdout",
     "output_type": "stream",
     "text": [
      "Accuracy Score: 0.913043478261\n",
      "[[55  5]\n",
      " [ 7 71]]\n",
      "             precision    recall  f1-score   support\n",
      "\n",
      "      False       0.89      0.92      0.90        60\n",
      "       True       0.93      0.91      0.92        78\n",
      "\n",
      "avg / total       0.91      0.91      0.91       138\n",
      "\n"
     ]
    }
   ],
   "source": [
    "# Calculating the Accuracy Score as well as printing the Confusion Matrix and Classification Report\n",
    "HW_score = metrics.accuracy_score(HW_y_test, HW_y_pred)\n",
    "\n",
    "HW_CM = metrics.confusion_matrix(HW_y_test, HW_y_pred)\n",
    "\n",
    "HW_CR = metrics.classification_report(HW_y_test, HW_y_pred)\n",
    "\n",
    "print('Accuracy Score: ' + str(HW_score))\n",
    "print(HW_CM)\n",
    "print(HW_CR)"
   ]
  },
  {
   "cell_type": "code",
   "execution_count": 90,
   "metadata": {
    "collapsed": false
   },
   "outputs": [
    {
     "data": {
      "text/plain": [
       "Road Two Point Conversion Successes    LogisticRegression(C=0.43939705607607948, clas...\n",
       "Road Two Point Conversion Attempts     LogisticRegression(C=0.43939705607607948, clas...\n",
       "Home Penalty Yards                     LogisticRegression(C=0.43939705607607948, clas...\n",
       "Home Punt Return TDs                   LogisticRegression(C=0.43939705607607948, clas...\n",
       "Home Punt Return Yds                   LogisticRegression(C=0.43939705607607948, clas...\n",
       "Home Punt Returns                      LogisticRegression(C=0.43939705607607948, clas...\n",
       "Home Punting Net Yards                 LogisticRegression(C=0.43939705607607948, clas...\n",
       "Home Punts                             LogisticRegression(C=0.43939705607607948, clas...\n",
       "Home Red Zone Attempts                 LogisticRegression(C=0.43939705607607948, clas...\n",
       "Home Red Zone Successes                LogisticRegression(C=0.43939705607607948, clas...\n",
       "Home Rushing Atts                      LogisticRegression(C=0.43939705607607948, clas...\n",
       "Home Rushing First Downs               LogisticRegression(C=0.43939705607607948, clas...\n",
       "Home Rushing TDs                       LogisticRegression(C=0.43939705607607948, clas...\n",
       "Home Rushing Yds                       LogisticRegression(C=0.43939705607607948, clas...\n",
       "Home Sack Yds Given Up                 LogisticRegression(C=0.43939705607607948, clas...\n",
       "Home Sacks Given Up                    LogisticRegression(C=0.43939705607607948, clas...\n",
       "Home Safeties                          LogisticRegression(C=0.43939705607607948, clas...\n",
       "Home Third Down Attempts               LogisticRegression(C=0.43939705607607948, clas...\n",
       "Home Third Down Successes              LogisticRegression(C=0.43939705607607948, clas...\n",
       "Home Time of Possession                LogisticRegression(C=0.43939705607607948, clas...\n",
       "Home Total TDs                         LogisticRegression(C=0.43939705607607948, clas...\n",
       "Home Total Yds                         LogisticRegression(C=0.43939705607607948, clas...\n",
       "Home Touchbacks                        LogisticRegression(C=0.43939705607607948, clas...\n",
       "Home Penalty First Downs               LogisticRegression(C=0.43939705607607948, clas...\n",
       "Home Penalties                         LogisticRegression(C=0.43939705607607948, clas...\n",
       "Home Passing Yds                       LogisticRegression(C=0.43939705607607948, clas...\n",
       "Home INT TDs                           LogisticRegression(C=0.43939705607607948, clas...\n",
       "Home First Downs                       LogisticRegression(C=0.43939705607607948, clas...\n",
       "Home Fourth Down Attempts              LogisticRegression(C=0.43939705607607948, clas...\n",
       "Home Fourth Down Successes             LogisticRegression(C=0.43939705607607948, clas...\n",
       "                                                             ...                        \n",
       "Road Third Down Successes              LogisticRegression(C=0.43939705607607948, clas...\n",
       "Road Time of Possession                LogisticRegression(C=0.43939705607607948, clas...\n",
       "Road Total TDs                         LogisticRegression(C=0.43939705607607948, clas...\n",
       "Road Total Yds                         LogisticRegression(C=0.43939705607607948, clas...\n",
       "Road Touchbacks                        LogisticRegression(C=0.43939705607607948, clas...\n",
       "Road Penalty Yards                     LogisticRegression(C=0.43939705607607948, clas...\n",
       "Road Penalties                         LogisticRegression(C=0.43939705607607948, clas...\n",
       "Road First Downs                       LogisticRegression(C=0.43939705607607948, clas...\n",
       "Road INTs                              LogisticRegression(C=0.43939705607607948, clas...\n",
       "Road Fourth Down Attempts              LogisticRegression(C=0.43939705607607948, clas...\n",
       "Road Fourth Down Successes             LogisticRegression(C=0.43939705607607948, clas...\n",
       "Road Fumble TDs                        LogisticRegression(C=0.43939705607607948, clas...\n",
       "Road Fumbles                           LogisticRegression(C=0.43939705607607948, clas...\n",
       "Road Fumbles Lost                      LogisticRegression(C=0.43939705607607948, clas...\n",
       "Road Fumbles Recovered                 LogisticRegression(C=0.43939705607607948, clas...\n",
       "Road Goal To Go Attempts               LogisticRegression(C=0.43939705607607948, clas...\n",
       "Road Goal To Go Successes              LogisticRegression(C=0.43939705607607948, clas...\n",
       "Road INT TDs                           LogisticRegression(C=0.43939705607607948, clas...\n",
       "Road INTs Given Up                     LogisticRegression(C=0.43939705607607948, clas...\n",
       "Road Passing Yds                       LogisticRegression(C=0.43939705607607948, clas...\n",
       "Road Kickoff Return TDs                LogisticRegression(C=0.43939705607607948, clas...\n",
       "Road Kickoff Return Yds                LogisticRegression(C=0.43939705607607948, clas...\n",
       "Road Kickoff Returns                   LogisticRegression(C=0.43939705607607948, clas...\n",
       "Road Kickoffs                          LogisticRegression(C=0.43939705607607948, clas...\n",
       "Road Made Field Goals                  LogisticRegression(C=0.43939705607607948, clas...\n",
       "Road Passing Atts                      LogisticRegression(C=0.43939705607607948, clas...\n",
       "Road Passing Completions               LogisticRegression(C=0.43939705607607948, clas...\n",
       "Road Passing First Downs               LogisticRegression(C=0.43939705607607948, clas...\n",
       "Road Passing TDs                       LogisticRegression(C=0.43939705607607948, clas...\n",
       "Home Field Goal Attempts               LogisticRegression(C=0.43939705607607948, clas...\n",
       "dtype: object"
      ]
     },
     "execution_count": 90,
     "metadata": {},
     "output_type": "execute_result"
    }
   ],
   "source": [
    "# Calculating Feature Importance\n",
    "# Trying to figure out\n",
    "HW_feature_imp = pd.Series(HW_CV.best_estimator_, index=HW_X.columns).sort_values(ascending=False)\n",
    "HW_feature_imp"
   ]
  },
  {
   "cell_type": "code",
   "execution_count": 18,
   "metadata": {
    "collapsed": false
   },
   "outputs": [
    {
     "name": "stdout",
     "output_type": "stream",
     "text": [
      "Log Loss: 3.00340083135\n"
     ]
    }
   ],
   "source": [
    "# Computing Log Loss\n",
    "HW_LL = log_loss(HW_y_test, HW_y_pred)\n",
    "print('Log Loss: ' + str(HW_LL))"
   ]
  },
  {
   "cell_type": "code",
   "execution_count": 19,
   "metadata": {
    "collapsed": false
   },
   "outputs": [
    {
     "name": "stdout",
     "output_type": "stream",
     "text": [
      "Accuracy Score: 0.855072463768\n"
     ]
    }
   ],
   "source": [
    "# Setting up a Random Forest Classifier followed by fitting and predicting on the data\n",
    "HW_rf = RandomForestClassifier(n_estimators=1000, random_state=42)\n",
    "\n",
    "HW_rf.fit(HW_X_train, HW_y_train)\n",
    "\n",
    "HW_rf_pred = HW_rf.predict(HW_X_test)\n",
    "\n",
    "HW_rf_score = metrics.accuracy_score(HW_y_test, HW_rf_pred)\n",
    "print('Accuracy Score: ' + str(HW_rf_score))"
   ]
  },
  {
   "cell_type": "code",
   "execution_count": 20,
   "metadata": {
    "collapsed": false
   },
   "outputs": [
    {
     "name": "stdout",
     "output_type": "stream",
     "text": [
      "[[49 11]\n",
      " [ 9 69]]\n",
      "             precision    recall  f1-score   support\n",
      "\n",
      "      False       0.84      0.82      0.83        60\n",
      "       True       0.86      0.88      0.87        78\n",
      "\n",
      "avg / total       0.85      0.86      0.85       138\n",
      "\n"
     ]
    }
   ],
   "source": [
    "# Printing out the Confusion Matrix and Classification Report for the Random Forest Classifier\n",
    "HW_rf_CM = metrics.confusion_matrix(HW_y_test, HW_rf_pred)\n",
    "HW_rf_CR = metrics.classification_report(HW_y_test, HW_rf_pred)\n",
    "\n",
    "print(HW_rf_CM)\n",
    "print(HW_rf_CR)"
   ]
  },
  {
   "cell_type": "code",
   "execution_count": 21,
   "metadata": {
    "collapsed": false
   },
   "outputs": [
    {
     "data": {
      "text/plain": [
       "Home Kickoffs                          0.073179\n",
       "Home Rushing Atts                      0.072761\n",
       "Road Rushing Atts                      0.066187\n",
       "Home Total TDs                         0.042324\n",
       "Road Kickoffs                          0.040742\n",
       "Road Total TDs                         0.033353\n",
       "Home Touchbacks                        0.028027\n",
       "Home Time of Possession                0.027929\n",
       "Road Time of Possession                0.024564\n",
       "Home Passing Atts                      0.023526\n",
       "Home Fourth Down Attempts              0.020352\n",
       "Road Passing Atts                      0.020352\n",
       "Road Fourth Down Attempts              0.016468\n",
       "Road Rushing Yds                       0.016070\n",
       "Home Rushing Yds                       0.015986\n",
       "Road Sack Yds Given Up                 0.014141\n",
       "Home Total Yds                         0.012402\n",
       "Road Red Zone Attempts                 0.011925\n",
       "Road Total Yds                         0.011892\n",
       "Home INTs                              0.011747\n",
       "Home Sack Yds Given Up                 0.010925\n",
       "Road Rushing First Downs               0.010838\n",
       "Road Red Zone Successes                0.010662\n",
       "Road INTs Given Up                     0.010641\n",
       "Home Kickoff Return Yds                0.010305\n",
       "Home Sacks Given Up                    0.009857\n",
       "Road Touchbacks                        0.009768\n",
       "Home Red Zone Successes                0.009485\n",
       "Home Punt Return Yds                   0.009114\n",
       "Road First Downs                       0.008943\n",
       "                                         ...   \n",
       "Home Goal To Go Successes              0.004681\n",
       "Home Punt Returns                      0.004669\n",
       "Home Goal To Go Attempts               0.004537\n",
       "Road Field Goal Attempts               0.004212\n",
       "Home Punts                             0.004199\n",
       "Home Fumbles                           0.004155\n",
       "Home Penalty First Downs               0.003837\n",
       "Road Fumbles Lost                      0.003837\n",
       "Road Rushing TDs                       0.003822\n",
       "Road Penalty First Downs               0.003664\n",
       "Road Punt Returns                      0.003125\n",
       "Home Fourth Down Successes             0.002930\n",
       "Home Fumbles Lost                      0.002742\n",
       "Home INT TDs                           0.002117\n",
       "Road Fourth Down Successes             0.002049\n",
       "Home Two Point Conversion Attempts     0.002039\n",
       "Road Two Point Conversion Attempts     0.001733\n",
       "Road INT TDs                           0.001302\n",
       "Home Fumbles Recovered                 0.001005\n",
       "Road Fumbles Recovered                 0.000848\n",
       "Road Fumble TDs                        0.000819\n",
       "Home Two Point Conversion Successes    0.000779\n",
       "Road Punt Return TDs                   0.000755\n",
       "Home Fumble TDs                        0.000684\n",
       "Road Safeties                          0.000587\n",
       "Road Two Point Conversion Successes    0.000551\n",
       "Home Punt Return TDs                   0.000443\n",
       "Home Safeties                          0.000332\n",
       "Home Kickoff Return TDs                0.000259\n",
       "Road Kickoff Return TDs                0.000233\n",
       "dtype: float64"
      ]
     },
     "execution_count": 21,
     "metadata": {},
     "output_type": "execute_result"
    }
   ],
   "source": [
    "# Calculating Feature Importance from Random Forest Classifier\n",
    "HW_rf_feature_imp = pd.Series(HW_rf.feature_importances_, index=HW_X.columns).sort_values(ascending=False)\n",
    "HW_rf_feature_imp"
   ]
  },
  {
   "cell_type": "code",
   "execution_count": 22,
   "metadata": {
    "collapsed": false
   },
   "outputs": [
    {
     "name": "stdout",
     "output_type": "stream",
     "text": [
      "Log Loss: 5.00568350341\n"
     ]
    }
   ],
   "source": [
    "# Computing Log Loss for the Random Forest Classifier\n",
    "HW_rf_LL = log_loss(HW_y_test, HW_rf_pred)\n",
    "print('Log Loss: ' + str(HW_rf_LL))"
   ]
  }
 ],
 "metadata": {
  "kernelspec": {
   "display_name": "Python 2",
   "language": "python",
   "name": "python2"
  },
  "language_info": {
   "codemirror_mode": {
    "name": "ipython",
    "version": 2
   },
   "file_extension": ".py",
   "mimetype": "text/x-python",
   "name": "python",
   "nbconvert_exporter": "python",
   "pygments_lexer": "ipython2",
   "version": "2.7.11"
  }
 },
 "nbformat": 4,
 "nbformat_minor": 0
}
