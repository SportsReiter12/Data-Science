{
 "cells": [
  {
   "cell_type": "code",
   "execution_count": null,
   "metadata": {
    "collapsed": true
   },
   "outputs": [],
   "source": [
    "# Machine Learning Stuff\n",
    "# X = Matrix, each row would be game, each column would be different feature (just drop columns I don't want in), y = Road Win\n",
    "# Logistic Regression Model would be preferrable\n",
    "# Train Test Split\n",
    "# Use GridSearchCV, 5 or 10"
   ]
  },
  {
   "cell_type": "code",
   "execution_count": 1,
   "metadata": {
    "collapsed": true
   },
   "outputs": [],
   "source": [
    "# Importing necessary packages\n",
    "import numpy as np\n",
    "import pandas as pd\n",
    "from sklearn.model_selection import train_test_split, GridSearchCV\n",
    "from sklearn.linear_model import LogisticRegression\n",
    "from sklearn.metrics import mean_squared_error"
   ]
  },
  {
   "cell_type": "code",
   "execution_count": 2,
   "metadata": {
    "collapsed": false
   },
   "outputs": [
    {
     "data": {
      "text/html": [
       "<div>\n",
       "<table border=\"1\" class=\"dataframe\">\n",
       "  <thead>\n",
       "    <tr style=\"text-align: right;\">\n",
       "      <th></th>\n",
       "      <th>Date</th>\n",
       "      <th>Home Field Goal Attempts</th>\n",
       "      <th>Home First Downs</th>\n",
       "      <th>Home Fourth Down Attempts</th>\n",
       "      <th>Home Fourth Down Successes</th>\n",
       "      <th>Home Fumble TDs</th>\n",
       "      <th>Home Fumbles</th>\n",
       "      <th>Home Fumbles Lost</th>\n",
       "      <th>Home Fumbles Recovered</th>\n",
       "      <th>Home Goal To Go Attempts</th>\n",
       "      <th>...</th>\n",
       "      <th>Road Time of Possession</th>\n",
       "      <th>Road Total TDs</th>\n",
       "      <th>Road Total Yds</th>\n",
       "      <th>Road Touchbacks</th>\n",
       "      <th>Road Two Point Conversion Attempts</th>\n",
       "      <th>Road Two Point Conversion Successes</th>\n",
       "      <th>Road Win</th>\n",
       "      <th>Road Wins</th>\n",
       "      <th>Season</th>\n",
       "      <th>Week Number</th>\n",
       "    </tr>\n",
       "  </thead>\n",
       "  <tbody>\n",
       "    <tr>\n",
       "      <th>0</th>\n",
       "      <td>on December 20, 2015</td>\n",
       "      <td>1</td>\n",
       "      <td>19</td>\n",
       "      <td>2</td>\n",
       "      <td>0</td>\n",
       "      <td>0</td>\n",
       "      <td>2</td>\n",
       "      <td>2</td>\n",
       "      <td>0</td>\n",
       "      <td>0</td>\n",
       "      <td>...</td>\n",
       "      <td>2248</td>\n",
       "      <td>5</td>\n",
       "      <td>506</td>\n",
       "      <td>3</td>\n",
       "      <td>0</td>\n",
       "      <td>0</td>\n",
       "      <td>True</td>\n",
       "      <td>1</td>\n",
       "      <td>nfl-2015-2016</td>\n",
       "      <td>15</td>\n",
       "    </tr>\n",
       "    <tr>\n",
       "      <th>1</th>\n",
       "      <td>on November 29, 2015</td>\n",
       "      <td>2</td>\n",
       "      <td>17</td>\n",
       "      <td>2</td>\n",
       "      <td>1</td>\n",
       "      <td>0</td>\n",
       "      <td>2</td>\n",
       "      <td>1</td>\n",
       "      <td>0</td>\n",
       "      <td>0</td>\n",
       "      <td>...</td>\n",
       "      <td>2247</td>\n",
       "      <td>2</td>\n",
       "      <td>350</td>\n",
       "      <td>1</td>\n",
       "      <td>0</td>\n",
       "      <td>0</td>\n",
       "      <td>True</td>\n",
       "      <td>1</td>\n",
       "      <td>nfl-2015-2016</td>\n",
       "      <td>12</td>\n",
       "    </tr>\n",
       "    <tr>\n",
       "      <th>2</th>\n",
       "      <td>on December 27, 2015</td>\n",
       "      <td>1</td>\n",
       "      <td>19</td>\n",
       "      <td>0</td>\n",
       "      <td>0</td>\n",
       "      <td>2</td>\n",
       "      <td>2</td>\n",
       "      <td>1</td>\n",
       "      <td>3</td>\n",
       "      <td>3</td>\n",
       "      <td>...</td>\n",
       "      <td>1784</td>\n",
       "      <td>1</td>\n",
       "      <td>265</td>\n",
       "      <td>0</td>\n",
       "      <td>1</td>\n",
       "      <td>1</td>\n",
       "      <td>False</td>\n",
       "      <td>0</td>\n",
       "      <td>nfl-2015-2016</td>\n",
       "      <td>16</td>\n",
       "    </tr>\n",
       "    <tr>\n",
       "      <th>3</th>\n",
       "      <td>on November 22, 2015</td>\n",
       "      <td>2</td>\n",
       "      <td>21</td>\n",
       "      <td>0</td>\n",
       "      <td>0</td>\n",
       "      <td>0</td>\n",
       "      <td>2</td>\n",
       "      <td>0</td>\n",
       "      <td>1</td>\n",
       "      <td>1</td>\n",
       "      <td>...</td>\n",
       "      <td>1875</td>\n",
       "      <td>4</td>\n",
       "      <td>415</td>\n",
       "      <td>3</td>\n",
       "      <td>0</td>\n",
       "      <td>0</td>\n",
       "      <td>False</td>\n",
       "      <td>0</td>\n",
       "      <td>nfl-2015-2016</td>\n",
       "      <td>11</td>\n",
       "    </tr>\n",
       "    <tr>\n",
       "      <th>4</th>\n",
       "      <td>on January  3, 2016</td>\n",
       "      <td>1</td>\n",
       "      <td>16</td>\n",
       "      <td>1</td>\n",
       "      <td>0</td>\n",
       "      <td>0</td>\n",
       "      <td>0</td>\n",
       "      <td>0</td>\n",
       "      <td>0</td>\n",
       "      <td>0</td>\n",
       "      <td>...</td>\n",
       "      <td>2197</td>\n",
       "      <td>4</td>\n",
       "      <td>382</td>\n",
       "      <td>7</td>\n",
       "      <td>0</td>\n",
       "      <td>0</td>\n",
       "      <td>True</td>\n",
       "      <td>1</td>\n",
       "      <td>nfl-2015-2016</td>\n",
       "      <td>17</td>\n",
       "    </tr>\n",
       "  </tbody>\n",
       "</table>\n",
       "<p>5 rows × 118 columns</p>\n",
       "</div>"
      ],
      "text/plain": [
       "                   Date  Home Field Goal Attempts  Home First Downs  \\\n",
       "0  on December 20, 2015                         1                19   \n",
       "1  on November 29, 2015                         2                17   \n",
       "2  on December 27, 2015                         1                19   \n",
       "3  on November 22, 2015                         2                21   \n",
       "4   on January  3, 2016                         1                16   \n",
       "\n",
       "   Home Fourth Down Attempts  Home Fourth Down Successes  Home Fumble TDs  \\\n",
       "0                          2                           0                0   \n",
       "1                          2                           1                0   \n",
       "2                          0                           0                2   \n",
       "3                          0                           0                0   \n",
       "4                          1                           0                0   \n",
       "\n",
       "   Home Fumbles  Home Fumbles Lost  Home Fumbles Recovered  \\\n",
       "0             2                  2                       0   \n",
       "1             2                  1                       0   \n",
       "2             2                  1                       3   \n",
       "3             2                  0                       1   \n",
       "4             0                  0                       0   \n",
       "\n",
       "   Home Goal To Go Attempts     ...       Road Time of Possession  \\\n",
       "0                         0     ...                          2248   \n",
       "1                         0     ...                          2247   \n",
       "2                         3     ...                          1784   \n",
       "3                         1     ...                          1875   \n",
       "4                         0     ...                          2197   \n",
       "\n",
       "   Road Total TDs  Road Total Yds  Road Touchbacks  \\\n",
       "0               5             506                3   \n",
       "1               2             350                1   \n",
       "2               1             265                0   \n",
       "3               4             415                3   \n",
       "4               4             382                7   \n",
       "\n",
       "   Road Two Point Conversion Attempts  Road Two Point Conversion Successes  \\\n",
       "0                                   0                                    0   \n",
       "1                                   0                                    0   \n",
       "2                                   1                                    1   \n",
       "3                                   0                                    0   \n",
       "4                                   0                                    0   \n",
       "\n",
       "   Road Win  Road Wins         Season  Week Number  \n",
       "0      True          1  nfl-2015-2016           15  \n",
       "1      True          1  nfl-2015-2016           12  \n",
       "2     False          0  nfl-2015-2016           16  \n",
       "3     False          0  nfl-2015-2016           11  \n",
       "4      True          1  nfl-2015-2016           17  \n",
       "\n",
       "[5 rows x 118 columns]"
      ]
     },
     "execution_count": 2,
     "metadata": {},
     "output_type": "execute_result"
    }
   ],
   "source": [
    "# Uploading DataFrame and inspecting its contents\n",
    "df = pd.DataFrame()\n",
    "df = pd.read_csv('/Users/dwreiter/Desktop/Work/Springboard/NFL Capstone Project/Data Wrangling/nfl_df.csv', delimiter='\\t', index_col=0)\n",
    "df.head()"
   ]
  },
  {
   "cell_type": "code",
   "execution_count": 3,
   "metadata": {
    "collapsed": false
   },
   "outputs": [],
   "source": [
    "# Setting X and y for Road Teams with X having just statistics, y being Road Win\n",
    "RW_X = df.drop(['Season', 'Week Number', 'Date', 'Name of Winning Team', 'Name of Losing Team', 'Name of Tying Teams', 'Road Team Name', 'Home Team Name', 'Road Win', 'Road Loss', 'Road Tie', 'Road Wins', 'Road Losses', 'Road Ties', 'Home Win', 'Home Loss', 'Home Tie', 'Home Wins', 'Home Losses', 'Home Ties'], axis=1).values\n",
    "RW_y = df['Road Win'].values\n",
    "\n",
    "# Splitting the data into Train and Test\n",
    "RW_X_train, RW_X_test, RW_y_train, RW_y_test = train_test_split(RW_X, RW_y, test_size = 0.2, random_state=42, stratify=RW_y)"
   ]
  },
  {
   "cell_type": "code",
   "execution_count": 4,
   "metadata": {
    "collapsed": false
   },
   "outputs": [],
   "source": [
    "# Setting up parameter C\n",
    "c_space = np.logspace(-5, 8, 15)\n",
    "RW_param_grid = {'C': c_space}\n",
    "\n",
    "# Setting up Logistic Regression Model\n",
    "RW_logreg = LogisticRegression()\n",
    "\n",
    "# Using GridSearchCV to help avoid overfitting\n",
    "RW_CV = GridSearchCV(RW_logreg, RW_param_grid, cv=5)"
   ]
  },
  {
   "cell_type": "code",
   "execution_count": 5,
   "metadata": {
    "collapsed": false
   },
   "outputs": [
    {
     "name": "stdout",
     "output_type": "stream",
     "text": [
      "Best Parameter for Road Win Model: {'C': 0.051794746792312128}\n",
      "Best Score for Road Win Model: 0.974452554745\n"
     ]
    }
   ],
   "source": [
    "# Fitting Training Data to model and finding best parameter as well as score\n",
    "RW_CV.fit(RW_X_train, RW_y_train)\n",
    "print('Best Parameter for Road Win Model: ' + str(RW_CV.best_params_))\n",
    "print('Best Score for Road Win Model: ' + str(RW_CV.best_score_))"
   ]
  },
  {
   "cell_type": "code",
   "execution_count": 6,
   "metadata": {
    "collapsed": false
   },
   "outputs": [
    {
     "name": "stdout",
     "output_type": "stream",
     "text": [
      "R squared: 0.978260869565\n",
      "Root Mean Squared Error: 0.147441956155\n"
     ]
    },
    {
     "name": "stderr",
     "output_type": "stream",
     "text": [
      "/Users/dwreiter/miniconda2/envs/tutorial/lib/python2.7/site-packages/sklearn/metrics/regression.py:239: DeprecationWarning: numpy boolean subtract, the `-` operator, is deprecated, use the bitwise_xor, the `^` operator, or the logical_xor function instead.\n",
      "  output_errors = np.average((y_true - y_pred) ** 2, axis=0,\n"
     ]
    }
   ],
   "source": [
    "# Setting up prediction based on testing data for X\n",
    "RW_y_pred = RW_CV.predict(RW_X_test)\n",
    "\n",
    "# Printing R Squared\n",
    "print('R squared: ' + str(RW_CV.score(RW_X_test, RW_y_test)))\n",
    "\n",
    "# Computing and printing Means Squared Error\n",
    "RW_rmse = np.sqrt(mean_squared_error(RW_y_test, RW_y_pred))\n",
    "print('Root Mean Squared Error: ' + str(RW_rmse))"
   ]
  },
  {
   "cell_type": "code",
   "execution_count": 10,
   "metadata": {
    "collapsed": true
   },
   "outputs": [],
   "source": [
    "# Setting X and y for Home Teams with X having just statistics, y being Home Win\n",
    "HW_X = df.drop(['Season', 'Week Number', 'Date', 'Name of Winning Team', 'Name of Losing Team', 'Name of Tying Teams', 'Road Team Name', 'Home Team Name', 'Road Win', 'Road Loss', 'Road Tie', 'Road Wins', 'Road Losses', 'Road Ties', 'Home Win', 'Home Loss', 'Home Tie', 'Home Wins', 'Home Losses', 'Home Ties'], axis=1).values\n",
    "HW_y = df['Home Win'].values\n",
    "\n",
    "# Splitting the data into Train and Test\n",
    "HW_X_train, HW_X_test, HW_y_train, HW_y_test = train_test_split(HW_X, HW_y, test_size = 0.2, random_state=42, stratify=HW_y)"
   ]
  },
  {
   "cell_type": "code",
   "execution_count": 11,
   "metadata": {
    "collapsed": true
   },
   "outputs": [],
   "source": [
    "# Setting up parameter C\n",
    "c_space = np.logspace(-5, 8, 15)\n",
    "HW_param_grid = {'C': c_space}\n",
    "\n",
    "# Setting up Logistic Regression Model\n",
    "HW_logreg = LogisticRegression()\n",
    "\n",
    "# Using GridSearchCV to help avoid overfitting\n",
    "HW_CV = GridSearchCV(HW_logreg, HW_param_grid, cv=5)"
   ]
  },
  {
   "cell_type": "code",
   "execution_count": 12,
   "metadata": {
    "collapsed": false
   },
   "outputs": [
    {
     "name": "stdout",
     "output_type": "stream",
     "text": [
      "Best Parameter for Home Win Model: {'C': 19306.977288832535}\n",
      "Best Score for Home Win Model: 0.978102189781\n"
     ]
    }
   ],
   "source": [
    "# Fitting Training Data to model and finding best parameter as well as score\n",
    "HW_CV.fit(HW_X_train, HW_y_train)\n",
    "print('Best Parameter for Home Win Model: ' + str(HW_CV.best_params_))\n",
    "print('Best Score for Home Win Model: ' + str(HW_CV.best_score_))"
   ]
  },
  {
   "cell_type": "code",
   "execution_count": 13,
   "metadata": {
    "collapsed": false
   },
   "outputs": [
    {
     "name": "stdout",
     "output_type": "stream",
     "text": [
      "R squared: 0.985507246377\n",
      "Root Mean Squared Error: 0.120385853086\n"
     ]
    },
    {
     "name": "stderr",
     "output_type": "stream",
     "text": [
      "/Users/dwreiter/miniconda2/envs/tutorial/lib/python2.7/site-packages/sklearn/metrics/regression.py:239: DeprecationWarning: numpy boolean subtract, the `-` operator, is deprecated, use the bitwise_xor, the `^` operator, or the logical_xor function instead.\n",
      "  output_errors = np.average((y_true - y_pred) ** 2, axis=0,\n"
     ]
    }
   ],
   "source": [
    "# Setting up prediction based on testing data for X\n",
    "HW_y_pred = HW_CV.predict(HW_X_test)\n",
    "\n",
    "# Printing R Squared\n",
    "print('R squared: ' + str(HW_CV.score(HW_X_test, HW_y_test)))\n",
    "\n",
    "# Computing and printing Means Squared Error\n",
    "HW_rmse = np.sqrt(mean_squared_error(HW_y_test, HW_y_pred))\n",
    "print('Root Mean Squared Error: ' + str(HW_rmse))"
   ]
  }
 ],
 "metadata": {
  "kernelspec": {
   "display_name": "Python 2",
   "language": "python",
   "name": "python2"
  },
  "language_info": {
   "codemirror_mode": {
    "name": "ipython",
    "version": 2
   },
   "file_extension": ".py",
   "mimetype": "text/x-python",
   "name": "python",
   "nbconvert_exporter": "python",
   "pygments_lexer": "ipython2",
   "version": "2.7.11"
  }
 },
 "nbformat": 4,
 "nbformat_minor": 0
}
